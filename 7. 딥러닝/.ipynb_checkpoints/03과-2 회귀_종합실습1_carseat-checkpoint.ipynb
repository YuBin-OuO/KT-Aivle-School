{
 "cells": [
  {
   "cell_type": "markdown",
   "metadata": {
    "id": "cVB9pY-v8uv5"
   },
   "source": [
    "# 회귀_종합실습1_carseat"
   ]
  },
  {
   "cell_type": "markdown",
   "metadata": {
    "id": "BSFMLw3YI-gh"
   },
   "source": [
    "## 1.환경준비"
   ]
  },
  {
   "cell_type": "markdown",
   "metadata": {
    "id": "98K82DAxvX6I"
   },
   "source": [
    "### (1) 라이브러리 로딩"
   ]
  },
  {
   "cell_type": "code",
   "execution_count": null,
   "metadata": {
    "id": "g8Y5OJ-II-gu"
   },
   "outputs": [],
   "source": [
    "import pandas as pd\n",
    "import numpy as np\n",
    "import matplotlib.pyplot as plt\n",
    "import seaborn as sns\n",
    "\n",
    "from sklearn.model_selection import train_test_split\n",
    "from sklearn.metrics import *\n",
    "from sklearn.preprocessing import MinMaxScaler\n",
    "\n",
    "from keras.models import Sequential\n",
    "from keras.layers import Dense\n",
    "from keras.backend import clear_session\n",
    "from keras.optimizers import Adam"
   ]
  },
  {
   "cell_type": "markdown",
   "metadata": {
    "id": "wdhjxFBs1jck"
   },
   "source": [
    "* 학습곡선 그래프 함수 만들기"
   ]
  },
  {
   "cell_type": "code",
   "execution_count": null,
   "metadata": {
    "id": "td3NsznP1lka"
   },
   "outputs": [],
   "source": [
    "def dl_history_plot(history):\n",
    "    plt.figure(figsize=(10,6))\n",
    "    plt.plot(history['loss'], label='train_err', marker = '.')\n",
    "    plt.plot(history['val_loss'], label='val_err', marker = '.')\n",
    "\n",
    "    plt.ylabel('Loss')\n",
    "    plt.xlabel('Epoch')\n",
    "    plt.legend()\n",
    "    plt.grid()\n",
    "    plt.show()"
   ]
  },
  {
   "cell_type": "markdown",
   "metadata": {
    "id": "6wuqykgvviCc"
   },
   "source": [
    "### (2) 데이터로딩"
   ]
  },
  {
   "cell_type": "code",
   "execution_count": null,
   "metadata": {
    "id": "wbN2b33xcYvv"
   },
   "outputs": [],
   "source": [
    "path = 'https://raw.githubusercontent.com/DA4BAM/dataset/master/Carseats.csv'\n",
    "data = pd.read_csv(path)\n",
    "data.head()"
   ]
  },
  {
   "cell_type": "markdown",
   "metadata": {
    "id": "zYKHwYHatC4k"
   },
   "source": [
    "|\t변수명\t|\t설명\t|\t구분\t|\n",
    "|\t----\t|\t----\t|\t----\t|\n",
    "|\tSales \t|\t 각 지역 판매량(단위 : 1000개)\t|\tTarget\t|\n",
    "|\tCompPrice \t|\t지역별 경쟁사 판매가격(달러)\t|\tfeature\t|\n",
    "|\tIncome \t|\t가구당 평균 소득액(1000달러)\t|\tfeature\t|\n",
    "|\tAdvertising \t|\t 각 지역, 회사의 광고 예산(1000달러)\t|\tfeature\t|\n",
    "|\tPopulation \t|\t 지역 인구수(단위 : 1000명)\t|\tfeature\t|\n",
    "|\tPrice \t|\t 자사 지역별 판매가격(달러)\t|\tfeature\t|\n",
    "|\tShelveLoc \t|\t 진열상태(범주 : Bad, Medium, Good)\t|\tfeature\t|\n",
    "|\tAge \t|\t 지역 인구의 평균 연령\t|\tfeature\t|\n",
    "|\tEducation \t|\t 교육수준(범주 : 10~18)\t|\tfeature\t|\n",
    "|\tUrban \t|\t 매장이 도심에 있는지 여부(범주 : Yes, No)\t|\tfeature\t|\n",
    "|\tUS \t|\t 매장이 미국에 있는지 여부(범주 : Yes, No)\t|\tfeature\t|\n"
   ]
  },
  {
   "cell_type": "markdown",
   "metadata": {
    "id": "oICMvjzJJKbn"
   },
   "source": [
    "## 2.데이터 준비"
   ]
  },
  {
   "cell_type": "markdown",
   "metadata": {
    "id": "y9Q6jR6OZjUk"
   },
   "source": [
    "### (1) 데이터 준비"
   ]
  },
  {
   "cell_type": "code",
   "execution_count": null,
   "metadata": {
    "id": "FA-PnUpcLqXN"
   },
   "outputs": [],
   "source": [
    "target = 'Sales'\n",
    "x = data.drop(target, axis=1)\n",
    "y = data.loc[:, target]"
   ]
  },
  {
   "cell_type": "markdown",
   "metadata": {
    "id": "nOF9fSLQugGf"
   },
   "source": [
    "### (2) 가변수화"
   ]
  },
  {
   "cell_type": "code",
   "execution_count": null,
   "metadata": {
    "id": "JXG5cAFRyqjU"
   },
   "outputs": [],
   "source": [
    "cat_cols = ['ShelveLoc', 'Education', 'US', 'Urban']\n",
    "x = pd.get_dummies(x, columns = cat_cols, drop_first = True)"
   ]
  },
  {
   "cell_type": "markdown",
   "metadata": {
    "id": "KsGGC-a4vpar"
   },
   "source": [
    "### (3) 데이터분할"
   ]
  },
  {
   "cell_type": "code",
   "execution_count": null,
   "metadata": {
    "id": "7ilUcIlvvrqR"
   },
   "outputs": [],
   "source": [
    "x_train, x_val, y_train, y_val = train_test_split(x, y, test_size=.2, random_state = 20)"
   ]
  },
  {
   "cell_type": "markdown",
   "metadata": {
    "id": "MXUC5Yi3um81"
   },
   "source": [
    "### (4) Scaling"
   ]
  },
  {
   "cell_type": "code",
   "execution_count": null,
   "metadata": {
    "id": "9bly3GLif1eP"
   },
   "outputs": [],
   "source": [
    "scaler = MinMaxScaler()\n",
    "x_train = scaler.fit_transform(x_train)\n",
    "x_val = scaler.transform(x_val)"
   ]
  },
  {
   "cell_type": "markdown",
   "metadata": {
    "id": "or87og8ocYvw"
   },
   "source": [
    "## 3.모델링\n",
    "\n",
    "* 히든레이어를 추가한 모델 두 개 이상을 생성한 후\n",
    "* 성능을 비교하시오.\n",
    "* 성능을 높이기 위해서 조절할 것들\n",
    "    * 히든레이어 수\n",
    "    * 히든레이어 노드수\n",
    "    * epochs 수\n",
    "    * learning_rate : 0.1 ~ 0.0001 사이에서 조정(예 Adam(learning_rate = 0.01))\n"
   ]
  },
  {
   "cell_type": "markdown",
   "metadata": {
    "id": "0C3BHe_d1suj"
   },
   "source": [
    "### (1) 모델1"
   ]
  },
  {
   "cell_type": "markdown",
   "metadata": {
    "id": "MZQ1GyB7vONX"
   },
   "source": [
    "* 모델 설계\n",
    "    * 일단 먼저 손으로 구조를 그려본 후\n",
    "    * 코드로 옮겨 봅시다."
   ]
  },
  {
   "cell_type": "code",
   "execution_count": null,
   "metadata": {
    "id": "fRAnQdBEDrCM"
   },
   "outputs": [],
   "source": []
  },
  {
   "cell_type": "code",
   "execution_count": null,
   "metadata": {
    "id": "siwyHvr1rmAM"
   },
   "outputs": [],
   "source": []
  },
  {
   "cell_type": "markdown",
   "metadata": {
    "id": "Sg5XlbcW0w2y"
   },
   "source": [
    "* 컴파일 + 학습"
   ]
  },
  {
   "cell_type": "code",
   "execution_count": null,
   "metadata": {
    "id": "iEZWr_jNwCpr"
   },
   "outputs": [],
   "source": []
  },
  {
   "cell_type": "markdown",
   "metadata": {
    "id": "6iLA8c2p00M6"
   },
   "source": [
    "* 학습곡선"
   ]
  },
  {
   "cell_type": "code",
   "execution_count": null,
   "metadata": {
    "id": "T9plSoBwwCh8"
   },
   "outputs": [],
   "source": []
  },
  {
   "cell_type": "markdown",
   "metadata": {
    "id": "hVa3Z88902gU"
   },
   "source": [
    "* 검증"
   ]
  },
  {
   "cell_type": "code",
   "execution_count": null,
   "metadata": {
    "id": "PTzZV-_DwCY3"
   },
   "outputs": [],
   "source": []
  },
  {
   "cell_type": "markdown",
   "metadata": {
    "id": "2S4Bukgz2EJy"
   },
   "source": [
    "### (2) 모델2"
   ]
  },
  {
   "cell_type": "markdown",
   "metadata": {
    "id": "xvHNAHE82EJz"
   },
   "source": [
    "* 모델 설계\n",
    "    * 일단 먼저 손으로 구조를 그려본 후\n",
    "    * 코드로 옮겨 봅시다."
   ]
  },
  {
   "cell_type": "code",
   "execution_count": null,
   "metadata": {
    "id": "aw4tMHrU2EJz"
   },
   "outputs": [],
   "source": []
  },
  {
   "cell_type": "markdown",
   "metadata": {
    "id": "sIHyxvkQ2EJz"
   },
   "source": [
    "* 컴파일 + 학습"
   ]
  },
  {
   "cell_type": "code",
   "execution_count": null,
   "metadata": {
    "id": "otMjNy8_2EJz"
   },
   "outputs": [],
   "source": []
  },
  {
   "cell_type": "markdown",
   "metadata": {
    "id": "MeI5tI2o2EJz"
   },
   "source": [
    "* 학습곡선"
   ]
  },
  {
   "cell_type": "code",
   "execution_count": null,
   "metadata": {
    "id": "L1QtsDLf2EJz"
   },
   "outputs": [],
   "source": []
  },
  {
   "cell_type": "markdown",
   "metadata": {
    "id": "5iBe6i1d2EJ0"
   },
   "source": [
    "* 검증"
   ]
  },
  {
   "cell_type": "code",
   "execution_count": null,
   "metadata": {
    "id": "POTQyyuW2EJ0"
   },
   "outputs": [],
   "source": []
  },
  {
   "cell_type": "markdown",
   "metadata": {
    "id": "F-gjdyri4M6H"
   },
   "source": [
    "## 4.추가 실험1\n",
    "\n",
    "* Hidden Layer 1개\n",
    "    * 노드 : 2, 5, 10, 20, 30, 40, 50, 60, 70, 80, 90, 100, 110, 120, 130, 140, 150\n",
    "* 모델링 코드를 함수로 생성\n",
    "    * 입력 : 노드 수\n",
    "    * 출력(return) : validation 성능(MAE)\n",
    "* for loop로 반복 실행\n",
    "\n",
    "\n"
   ]
  },
  {
   "cell_type": "markdown",
   "metadata": {
    "id": "yT2jzDOg4M6I"
   },
   "source": [
    "### (1) 모델링 함수 생성"
   ]
  },
  {
   "cell_type": "code",
   "execution_count": null,
   "metadata": {
    "id": "xPjFUjJP4uqe"
   },
   "outputs": [],
   "source": [
    "def modeling_test1(node) :\n",
    "\n",
    "    # 노드 수를 입력 받아 모델 선언\n",
    "    clear_session()\n",
    "    model = Sequential([Dense(node ,input_shape = (nfeatures,)  , activation = 'relu' ),\n",
    "                        Dense(1) ] )\n",
    "\n",
    "    model.compile(optimizer=Adam(learning_rate = 0.01), loss = 'mse')\n",
    "    model.fit(x_train, y_train, epochs = 50, verbose = False)\n",
    "\n",
    "    pred = model.predict(x_val)\n",
    "    mae = mean_absolute_error(y_val, pred)\n",
    "\n",
    "    # mae 결과 return\n",
    "    return mae"
   ]
  },
  {
   "cell_type": "markdown",
   "metadata": {
    "id": "H0egbeGK5UKU"
   },
   "source": [
    "### (2) 반복실행"
   ]
  },
  {
   "cell_type": "code",
   "execution_count": null,
   "metadata": {
    "id": "sdpUtk8R5UKV"
   },
   "outputs": [],
   "source": [
    "nodes = [2, 5, 10, 20, 30, 40, 50, 60, 70, 80, 90, 100, 110, 120, 130, 140, 150]\n",
    "result = []\n",
    "for n in nodes :\n",
    "    result.append(modeling_test1(n))"
   ]
  },
  {
   "cell_type": "code",
   "execution_count": null,
   "metadata": {
    "id": "L5rTuldA5-13"
   },
   "outputs": [],
   "source": [
    "plt.plot(nodes, result)\n",
    "plt.grid()\n",
    "plt.show()"
   ]
  },
  {
   "cell_type": "markdown",
   "metadata": {
    "id": "QZNYTNbN7Dks"
   },
   "source": [
    "## 5.추가 실험2\n",
    "\n",
    "* Hidden Layer 수 : 1,2,3,4,5,6,7,8,9,10\n",
    "    * 각 레이어의 노드 수 : 10개\n",
    "* 함수 생성\n",
    "    * 입력 : 레이어 수\n",
    "    * 출력(return) : validation 성능(MAE)\n",
    "* for loop로 반복 실행\n",
    "\n",
    "\n"
   ]
  },
  {
   "cell_type": "markdown",
   "metadata": {
    "id": "kGIiuzrv7Dkt"
   },
   "source": [
    "### (1) 모델링 함수 생성"
   ]
  },
  {
   "cell_type": "code",
   "execution_count": null,
   "metadata": {
    "id": "s1WkZDnP7Dkt"
   },
   "outputs": [],
   "source": [
    "def modeling_test2(layer) :\n",
    "\n",
    "    # 레이어 리스트 만들기\n",
    "    # 레이어 수 만큼 리스트에 레이어 추가\n",
    "\n",
    "    clear_session()\n",
    "\n",
    "    # 첫번째 레이어는 input_shape가 필요.\n",
    "    layer_list = [Dense(10 ,input_shape = (nfeatures,)  , activation = 'relu' )]\n",
    "\n",
    "    # 주어진 레이어 수에 맞게 레이어 추가\n",
    "    for i in range(2, layer) :  # 첫번째 레이어, 아웃풋 레이어는 명시적으로 추가하므로 2부터 시작\n",
    "        layer_list.append(Dense(10 , activation = 'relu' ))\n",
    "\n",
    "    # Output Layer 추가하고 모델 선언\n",
    "    layer_list.append(Dense(1))\n",
    "    model = Sequential(layer_list)\n",
    "\n",
    "    # 레이어 잘 추가된 건지 확인하기 위해 summary 출력\n",
    "    print(model.summary())\n",
    "\n",
    "    model.compile(optimizer=Adam(learning_rate = 0.01), loss = 'mse')\n",
    "    model.fit(x_train, y_train, epochs = 50, verbose = False)\n",
    "\n",
    "    pred = model.predict(x_val)\n",
    "    mae = mean_absolute_error(y_val, pred)\n",
    "\n",
    "    return mae\n"
   ]
  },
  {
   "cell_type": "markdown",
   "metadata": {
    "id": "4lTS_ghY7Dku"
   },
   "source": [
    "### (2) 반복실행"
   ]
  },
  {
   "cell_type": "code",
   "execution_count": null,
   "metadata": {
    "id": "emEJLgu_7Dku"
   },
   "outputs": [],
   "source": [
    "layers = list(range(1,11))\n",
    "result = []\n",
    "for l in layers :\n",
    "    result.append(modeling_test2(l))"
   ]
  },
  {
   "cell_type": "code",
   "execution_count": null,
   "metadata": {
    "id": "ivZXjapc8pf-"
   },
   "outputs": [],
   "source": [
    "plt.plot(layers, result)\n",
    "plt.grid()\n",
    "plt.show()"
   ]
  },
  {
   "cell_type": "code",
   "execution_count": null,
   "metadata": {
    "id": "UJ0_XVw99EXS"
   },
   "outputs": [],
   "source": []
  }
 ],
 "metadata": {
  "accelerator": "GPU",
  "colab": {
   "gpuType": "T4",
   "provenance": [],
   "toc_visible": true
  },
  "kernelspec": {
   "display_name": "Python 3 (ipykernel)",
   "language": "python",
   "name": "python3"
  },
  "language_info": {
   "codemirror_mode": {
    "name": "ipython",
    "version": 3
   },
   "file_extension": ".py",
   "mimetype": "text/x-python",
   "name": "python",
   "nbconvert_exporter": "python",
   "pygments_lexer": "ipython3",
   "version": "3.11.5"
  }
 },
 "nbformat": 4,
 "nbformat_minor": 1
}
