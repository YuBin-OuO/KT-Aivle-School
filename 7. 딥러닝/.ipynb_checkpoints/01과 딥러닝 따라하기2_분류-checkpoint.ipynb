{
 "cells": [
  {
   "cell_type": "markdown",
   "metadata": {
    "id": "cVB9pY-v8uv5"
   },
   "source": [
    "# 딥러닝 따라하기2_분류"
   ]
  },
  {
   "cell_type": "markdown",
   "metadata": {
    "id": "qTa9LlwZD_aa"
   },
   "source": [
    "# 1.환경준비"
   ]
  },
  {
   "cell_type": "markdown",
   "metadata": {
    "id": "gIN5d51gtker"
   },
   "source": [
    "* 라이브러리 Import"
   ]
  },
  {
   "cell_type": "code",
   "execution_count": null,
   "metadata": {
    "id": "GVvCef6A8uv6"
   },
   "outputs": [],
   "source": [
    "import pandas as pd\n",
    "import numpy as np\n",
    "import matplotlib.pyplot as plt\n",
    "import seaborn as sns\n",
    "\n",
    "from sklearn.model_selection import train_test_split\n",
    "from sklearn.metrics import *\n",
    "from sklearn.preprocessing import StandardScaler, MinMaxScaler"
   ]
  },
  {
   "cell_type": "markdown",
   "metadata": {
    "id": "xNHblz45tf7h"
   },
   "source": [
    "# 2.Classification : 대학원 지원"
   ]
  },
  {
   "cell_type": "markdown",
   "metadata": {
    "id": "1As5KNyCtf7h"
   },
   "source": [
    "## (1) 데이터 전처리"
   ]
  },
  {
   "cell_type": "markdown",
   "metadata": {
    "id": "xOiMn8v_tf7i"
   },
   "source": [
    "### 1) 데이터 준비"
   ]
  },
  {
   "cell_type": "code",
   "execution_count": null,
   "metadata": {
    "id": "1yN4tTO4tf7i"
   },
   "outputs": [],
   "source": [
    "path = \"https://raw.githubusercontent.com/DA4BAM/dataset/master/Graduate_apply.csv\"\n",
    "data = pd.read_csv(path)\n",
    "data.head()"
   ]
  },
  {
   "cell_type": "code",
   "execution_count": null,
   "metadata": {
    "id": "pjG9HJ_Ntf7k"
   },
   "outputs": [],
   "source": [
    "target = 'admit'\n",
    "x = data.drop(target, axis=1)\n",
    "y = data.loc[:, target]"
   ]
  },
  {
   "cell_type": "markdown",
   "metadata": {
    "id": "kGEMXx63ACTk"
   },
   "source": [
    "### 2) 가변수화"
   ]
  },
  {
   "cell_type": "code",
   "execution_count": null,
   "metadata": {
    "id": "ebzjnN3HACTk"
   },
   "outputs": [],
   "source": []
  },
  {
   "cell_type": "markdown",
   "metadata": {
    "id": "gszP21XiACTl"
   },
   "source": [
    "### 3) 데이터분할"
   ]
  },
  {
   "cell_type": "code",
   "execution_count": null,
   "metadata": {
    "id": "4CZMCBAiACTl"
   },
   "outputs": [],
   "source": [
    "x_train, x_val, y_train, y_val = train_test_split(x, y, test_size=.2, random_state = 20)"
   ]
  },
  {
   "cell_type": "markdown",
   "metadata": {
    "id": "jc90gdCM3nA2"
   },
   "source": [
    "## (2) 머신러닝 모델링 : 로지스틱회귀"
   ]
  },
  {
   "cell_type": "code",
   "execution_count": null,
   "metadata": {
    "id": "zP0SPh7_3tYs"
   },
   "outputs": [],
   "source": [
    "# 필요한 알고리즘을 불러 옵시다.\n",
    "from sklearn.linear_model import LogisticRegression"
   ]
  },
  {
   "cell_type": "markdown",
   "metadata": {
    "id": "jDGENRQc3tYs"
   },
   "source": [
    "### 1) 모델 선언"
   ]
  },
  {
   "cell_type": "code",
   "execution_count": null,
   "metadata": {
    "id": "5tCakaBT3tYt"
   },
   "outputs": [],
   "source": []
  },
  {
   "cell_type": "markdown",
   "metadata": {
    "id": "O8EeL3gr3tYt"
   },
   "source": [
    "### 2) 학습"
   ]
  },
  {
   "cell_type": "code",
   "execution_count": null,
   "metadata": {
    "id": "Rur783bq3tYt"
   },
   "outputs": [],
   "source": []
  },
  {
   "cell_type": "markdown",
   "metadata": {
    "id": "HGiTU0nC3tYt"
   },
   "source": [
    "### 3) 예측"
   ]
  },
  {
   "cell_type": "code",
   "execution_count": null,
   "metadata": {
    "id": "NbAPjz573tYu"
   },
   "outputs": [],
   "source": []
  },
  {
   "cell_type": "markdown",
   "metadata": {
    "id": "t5nu2q1g3tYu"
   },
   "source": [
    "### 4) 검증\n",
    "만든 모델은 얼마나 정확한지 검증해 봅시다.\n",
    "\n"
   ]
  },
  {
   "cell_type": "code",
   "execution_count": null,
   "metadata": {
    "id": "h1fTpM9C3tYu"
   },
   "outputs": [],
   "source": [
    "print(confusion_matrix(y_val, pred))\n",
    "print('-'*50)\n",
    "print(classification_report(y_val, pred))"
   ]
  },
  {
   "cell_type": "markdown",
   "metadata": {
    "id": "0hr6Mw43ACTl"
   },
   "source": [
    "## (3) 딥러닝 모델링\n",
    "* 필요한 함수들 불러오기\n",
    "* 모델 선언\n",
    "* 학습\n",
    "* 예측\n",
    "* 성능 검증"
   ]
  },
  {
   "cell_type": "markdown",
   "metadata": {
    "id": "bapfkW69ACTl"
   },
   "source": [
    "### 1) 전처리 : Scaling"
   ]
  },
  {
   "cell_type": "code",
   "execution_count": null,
   "metadata": {
    "id": "HbInKfpeACTl"
   },
   "outputs": [],
   "source": [
    "scaler = MinMaxScaler()\n",
    "x_train = scaler.fit_transform(x_train)\n",
    "x_val = scaler.transform(x_val)"
   ]
  },
  {
   "cell_type": "markdown",
   "metadata": {
    "id": "g86x3Xaz4iuG"
   },
   "source": [
    "### 2) 필요한 함수 불러오기"
   ]
  },
  {
   "cell_type": "code",
   "execution_count": null,
   "metadata": {
    "id": "QxTMUjNbs8wy"
   },
   "outputs": [],
   "source": [
    "from keras.models import Sequential\n",
    "from keras.layers import Dense\n",
    "from keras.backend import clear_session"
   ]
  },
  {
   "cell_type": "markdown",
   "metadata": {
    "id": "9wwe7yoJs8wy"
   },
   "source": [
    "### 3) 모델 선언"
   ]
  },
  {
   "cell_type": "code",
   "execution_count": null,
   "metadata": {
    "id": "OwOaHkchs8wy"
   },
   "outputs": [],
   "source": [
    "nfeatures = x_train.shape[1] #num of columns\n",
    "nfeatures"
   ]
  },
  {
   "cell_type": "code",
   "execution_count": null,
   "metadata": {
    "id": "LfOjKFbas8wy"
   },
   "outputs": [],
   "source": [
    "# 메모리 정리\n",
    "clear_session()\n",
    "\n",
    "# Sequential 타입 모델 선언\n",
    "model = Sequential([ Dense(1, input_shape = (nfeatures,), activation = 'sigmoid' ) ])\n",
    "\n",
    "# 모델요약\n",
    "model.summary()"
   ]
  },
  {
   "cell_type": "code",
   "execution_count": null,
   "metadata": {
    "id": "cR7Eg-Tqs8wz"
   },
   "outputs": [],
   "source": [
    "# 컴파일\n",
    "model.compile(optimizer='adam', loss= 'binary_crossentropy')"
   ]
  },
  {
   "cell_type": "markdown",
   "metadata": {
    "id": "a9hIveveACTm"
   },
   "source": [
    "### 4) 학습"
   ]
  },
  {
   "cell_type": "code",
   "execution_count": null,
   "metadata": {
    "id": "-DsX55GHACTm"
   },
   "outputs": [],
   "source": [
    "model.fit(x_train, y_train)"
   ]
  },
  {
   "cell_type": "markdown",
   "metadata": {
    "id": "eS44yA1aACTm"
   },
   "source": [
    "### 5) 예측"
   ]
  },
  {
   "cell_type": "code",
   "execution_count": null,
   "metadata": {
    "id": "Kp4TS6SSACTm"
   },
   "outputs": [],
   "source": [
    "pred = model.predict(x_val)\n",
    "pred = np.where(pred>= 0.5, 1, 0)"
   ]
  },
  {
   "cell_type": "markdown",
   "metadata": {
    "id": "cMKh4WaXACTm"
   },
   "source": [
    "### 6) 검증\n",
    "만든 모델은 얼마나 정확한지 검증해 봅시다.\n",
    "\n"
   ]
  },
  {
   "cell_type": "code",
   "execution_count": null,
   "metadata": {
    "id": "PsVIG7fuACTn"
   },
   "outputs": [],
   "source": [
    "print(confusion_matrix(y_val, pred))\n",
    "print('-'*50)\n",
    "print(classification_report(y_val, pred))"
   ]
  },
  {
   "cell_type": "markdown",
   "metadata": {
    "id": "_Lw2IoZF0-DI"
   },
   "source": [
    "# 3.Classification : mobile"
   ]
  },
  {
   "cell_type": "markdown",
   "metadata": {
    "id": "8PNvAH2dhexy"
   },
   "source": [
    "## (1) 데이터 전처리"
   ]
  },
  {
   "cell_type": "markdown",
   "metadata": {
    "id": "_MXSZswzhexy"
   },
   "source": [
    "### 1) 데이터 준비"
   ]
  },
  {
   "cell_type": "code",
   "execution_count": null,
   "metadata": {
    "id": "gi9R8umohexy"
   },
   "outputs": [],
   "source": [
    "path = \"https://raw.githubusercontent.com/DA4BAM/dataset/master/mobile_churn_simple.csv\"\n",
    "data = pd.read_csv(path)\n",
    "data['CHURN'] = data['CHURN'].map({'STAY':0, 'LEAVE':1})\n",
    "data.head()"
   ]
  },
  {
   "cell_type": "markdown",
   "metadata": {
    "id": "LyY0YygNhexy"
   },
   "source": [
    "|\t구분\t|\t변수 명\t|\t내용\t|\ttype\t|\t비고\t|\n",
    "|\t----\t|\t----\t|\t----\t|\t----\t|\t----\t|\n",
    "|\t**Target**\t|\t**CHURN**\t|\t이탈여부\t|\t범주\t| 0,1\t|\n",
    "|\tfeature\t|\tINCOME\t|\t소득수준(달러)\t|\t숫자\t|\t\t|\n",
    "|\tfeature\t|\tOVERAGE\t|\t월평균 초과사용시간(분)\t|\t숫자\t| |\n",
    "|\tfeature\t|\tLEFTOVER\t|\t월평균 잔여시간(%)\t|\t숫자\t| \t|\n",
    "|\tfeature\t|\tHOUSE\t|\t집가격(달러)\t|\t숫자\t|\t|\n",
    "|\tfeature\t|\tHANDSET_PRICE\t|\t휴대폰가격(달러)\t|\t숫자\t|\t\t|\n",
    "|\tfeature\t|\tOVER_15MINS_CALLS_PER_MONTH\t|\t월평균 장기통화 횟수\t|\t숫자\t| \t\t|\n",
    "|\tfeature\t|\tAVERAGE_CALL_DURATION\t|\t평균통화시간(분)\t|\t숫자\t|\t\t|"
   ]
  },
  {
   "cell_type": "code",
   "execution_count": null,
   "metadata": {
    "id": "U5_90TWnhexz"
   },
   "outputs": [],
   "source": [
    "target = 'CHURN'\n",
    "x = data.drop(target, axis=1)\n",
    "y = data.loc[:, target]"
   ]
  },
  {
   "cell_type": "markdown",
   "metadata": {
    "id": "2QR31_bT_4hc"
   },
   "source": [
    "### 2) 가변수화"
   ]
  },
  {
   "cell_type": "markdown",
   "metadata": {
    "id": "99xejj7o_4hd"
   },
   "source": [
    "### 3) 데이터분할"
   ]
  },
  {
   "cell_type": "code",
   "execution_count": null,
   "metadata": {
    "id": "oLYaz7aB_4hd"
   },
   "outputs": [],
   "source": [
    "x_train, x_val, y_train, y_val = train_test_split(x, y, test_size=.2, random_state = 20)"
   ]
  },
  {
   "cell_type": "markdown",
   "metadata": {
    "id": "3XP5EnT6_4he"
   },
   "source": [
    "### 4) Scaling"
   ]
  },
  {
   "cell_type": "code",
   "execution_count": null,
   "metadata": {
    "id": "JVy95x_9_4he"
   },
   "outputs": [],
   "source": [
    "scaler = MinMaxScaler()\n",
    "x_train = scaler.fit_transform(x_train)\n",
    "x_val = scaler.transform(x_val)"
   ]
  },
  {
   "cell_type": "markdown",
   "metadata": {
    "id": "5LYSAibW_4he"
   },
   "source": [
    "## (2) 모델링\n",
    "* 필요한 함수들 불러오기\n",
    "* 모델 선언\n",
    "* 학습\n",
    "* 예측\n",
    "* 성능 검증"
   ]
  },
  {
   "cell_type": "code",
   "execution_count": null,
   "metadata": {
    "id": "02fjpkHc_4he"
   },
   "outputs": [],
   "source": [
    "from keras.models import Sequential\n",
    "from keras.layers import Dense\n",
    "from keras.backend import clear_session"
   ]
  },
  {
   "cell_type": "markdown",
   "metadata": {
    "id": "pQffGzAX_4hf"
   },
   "source": [
    "### 1) 모델 선언"
   ]
  },
  {
   "cell_type": "code",
   "execution_count": null,
   "metadata": {
    "id": "2vI9G4WzHRWw"
   },
   "outputs": [],
   "source": [
    "nfeatures = x_train.shape[1] #num of columns\n",
    "nfeatures"
   ]
  },
  {
   "cell_type": "code",
   "execution_count": null,
   "metadata": {
    "id": "oBdyJ70oHRWx"
   },
   "outputs": [],
   "source": [
    "# 메모리 정리\n",
    "\n",
    "\n",
    "# Sequential 타입 모델 선언\n",
    "model = Sequential(    )\n",
    "\n",
    "# 모델요약\n",
    "model.su"
   ]
  },
  {
   "cell_type": "code",
   "execution_count": null,
   "metadata": {
    "id": "A4rHz8-OHRWx"
   },
   "outputs": [],
   "source": [
    "# 컴파일\n",
    "model.c"
   ]
  },
  {
   "cell_type": "markdown",
   "metadata": {
    "id": "MzrknF3H_4hg"
   },
   "source": [
    "### 2) 학습"
   ]
  },
  {
   "cell_type": "code",
   "execution_count": null,
   "metadata": {
    "id": "al2F22Y9_4hg"
   },
   "outputs": [],
   "source": []
  },
  {
   "cell_type": "markdown",
   "metadata": {
    "id": "Fe-Gy5Wr_4hg"
   },
   "source": [
    "### 3) 예측"
   ]
  },
  {
   "cell_type": "code",
   "execution_count": null,
   "metadata": {
    "id": "Fj6bbLHLfvnc"
   },
   "outputs": [],
   "source": []
  },
  {
   "cell_type": "code",
   "execution_count": null,
   "metadata": {
    "id": "2f66Kq7F_4hg"
   },
   "outputs": [],
   "source": []
  },
  {
   "cell_type": "markdown",
   "metadata": {
    "id": "vM351tST_4hg"
   },
   "source": [
    "### 4) 검증\n",
    "만든 모델은 얼마나 정확한지 검증해 봅시다.\n",
    "\n"
   ]
  },
  {
   "cell_type": "code",
   "execution_count": null,
   "metadata": {
    "id": "7L59QQS8zFXD"
   },
   "outputs": [],
   "source": []
  }
 ],
 "metadata": {
  "colab": {
   "provenance": [],
   "toc_visible": true
  },
  "kernelspec": {
   "display_name": "Python 3 (ipykernel)",
   "language": "python",
   "name": "python3"
  }
 },
 "nbformat": 4,
 "nbformat_minor": 1
}
