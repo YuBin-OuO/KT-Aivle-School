{
 "cells": [
  {
   "cell_type": "markdown",
   "metadata": {
    "id": "cVB9pY-v8uv5"
   },
   "source": [
    "# 종합실습2_1 따릉이\n",
    "\n",
    "* 지금까지 배운 것을 총 복습 합니다.\n",
    "* Data : 서울 공유 자전거\n",
    "* 문제 : 2시간 후의 수요를 예측하고자 한다."
   ]
  },
  {
   "cell_type": "markdown",
   "metadata": {
    "id": "wxRsRRwbEQ2K"
   },
   "source": [
    "* OO시에서 에이블러 여러분에게 의뢰가 들어왔습니다.\n",
    "* **공유 자전거 운영팀**에서는 공유자전거가 부족한 지역과 남는 지역에 대해서 판단하기 원합니다. \n",
    "* 2시간 전에 **공유자전거 수요량**을 예측할 수 있다면, 이동시켜서 남거나 부족한 문제를 해결할수 있다고 합니다."
   ]
  },
  {
   "cell_type": "markdown",
   "metadata": {
    "id": "0wuYJKZHjA3d"
   },
   "source": [
    "![](https://cf.creatrip.com/original/blog/7376/kw69f1cy6ehvmmu9enuubth31zw5i7a7.jpg?d=1200&q=80&f=webp)"
   ]
  },
  {
   "cell_type": "markdown",
   "metadata": {
    "id": "gIN5d51gtker"
   },
   "source": [
    "## 1.환경준비"
   ]
  },
  {
   "cell_type": "markdown",
   "metadata": {
    "id": "98K82DAxvX6I"
   },
   "source": [
    "### (1) 라이브러리 로딩"
   ]
  },
  {
   "cell_type": "code",
   "execution_count": null,
   "metadata": {
    "id": "qUG9ltiWCJXr"
   },
   "outputs": [],
   "source": [
    "import pandas as pd\n",
    "import numpy as np\n",
    "import matplotlib.pyplot as plt\n",
    "import seaborn as sns\n",
    "\n",
    "from sklearn.model_selection import train_test_split\n",
    "from sklearn.metrics import *\n",
    "from sklearn.preprocessing import MinMaxScaler\n",
    "\n",
    "from keras.models import Sequential\n",
    "from keras.layers import Dense\n",
    "from keras.backend import clear_session\n",
    "from keras.optimizers import Adam"
   ]
  },
  {
   "cell_type": "markdown",
   "metadata": {
    "id": "_h70-6MP7wtO"
   },
   "source": [
    "* 함수 만들기"
   ]
  },
  {
   "cell_type": "code",
   "execution_count": null,
   "metadata": {
    "id": "JWswaopv7yBI"
   },
   "outputs": [],
   "source": [
    "# 학습곡선 함수\n",
    "def dl_history_plot(history):\n",
    "    plt.figure(figsize=(10,6))\n",
    "    plt.plot(history['loss'], label='train_err', marker = '.')\n",
    "    plt.plot(history['val_loss'], label='val_err', marker = '.')\n",
    "\n",
    "    plt.ylabel('Loss')\n",
    "    plt.xlabel('Epoch')\n",
    "    plt.legend()\n",
    "    plt.grid()\n",
    "    plt.show()"
   ]
  },
  {
   "cell_type": "markdown",
   "metadata": {
    "id": "6wuqykgvviCc"
   },
   "source": [
    "### (2) 데이터로딩"
   ]
  },
  {
   "cell_type": "code",
   "execution_count": null,
   "metadata": {
    "id": "qMTdLPzcCNMw"
   },
   "outputs": [],
   "source": [
    "path = 'https://raw.githubusercontent.com/DA4BAM/dataset/master/SeoulBikeData2.csv'\n",
    "data = pd.read_csv(path)\n",
    "data['DateTime'] = pd.to_datetime(data['DateTime'])\n",
    "data.drop(['Visibility','Solar'], axis = 1, inplace = True)\n",
    "data.head(10)"
   ]
  },
  {
   "cell_type": "markdown",
   "metadata": {
    "id": "KlLNUHaiCNMx"
   },
   "source": [
    "**변수설명**  \n",
    "\n",
    "* DateTime : year-month-day hh:mi:ss\n",
    "* Count : 시간대별 수요량\n",
    "* Temperature : 온도(섭씨)\n",
    "* Humidity : 습도(%)\n",
    "* WindSpeed : 풍속(m/s)\n",
    "* Rainfall - mm\n",
    "* Snowfall - cm\n",
    "* Seasons - Winter, Spring, Summer, Autumn\n",
    "* Holiday - Holiday / No holiday\n",
    "* FuncDay - Yes / No\n"
   ]
  },
  {
   "cell_type": "code",
   "execution_count": null,
   "metadata": {
    "id": "lFXgAj2LCNMx"
   },
   "outputs": [],
   "source": [
    "# 데이터 기간은 다음과 같습니다.\n",
    "data.DateTime.min(), data.DateTime.max()"
   ]
  },
  {
   "cell_type": "code",
   "execution_count": null,
   "metadata": {
    "id": "C4-T9iXgUDHi"
   },
   "outputs": [],
   "source": [
    "# 14일 동안의 수요량을 살펴 봅시다.\n",
    "temp = data[:24*14]\n",
    "plt.figure(figsize = (20,8))\n",
    "plt.plot('DateTime', 'Count', data = temp)\n",
    "plt.grid()\n",
    "plt.show()"
   ]
  },
  {
   "cell_type": "markdown",
   "metadata": {
    "id": "oICMvjzJJKbn"
   },
   "source": [
    "## 2.데이터 준비"
   ]
  },
  {
   "cell_type": "markdown",
   "metadata": {
    "id": "JPHI1HbYDCIA"
   },
   "source": [
    "### (1) y 만들기 \n",
    "* 2시간 이후의 수요량을 예측해야 합니다."
   ]
  },
  {
   "cell_type": "code",
   "execution_count": null,
   "metadata": {
    "id": "hfoEWmeBDEVN"
   },
   "outputs": [],
   "source": [
    "data['y'] = data['Count'].shift(-2)\n",
    "data.head()"
   ]
  },
  {
   "cell_type": "code",
   "execution_count": null,
   "metadata": {
    "id": "_AtGGeXVD7UV"
   },
   "outputs": [],
   "source": [
    "# 2칸을 앞당겼기 때문에 하위 2행의 y값에 NaN이 표시되어 있습니다.\n",
    "data.tail()"
   ]
  },
  {
   "cell_type": "code",
   "execution_count": null,
   "metadata": {
    "id": "KGNDCu-xEC26"
   },
   "outputs": [],
   "source": [
    "# 하위 2행은 삭제합니다.\n",
    "# 하위 2행 제외하고 다시 붓기\n",
    "data = data.iloc[:-2]"
   ]
  },
  {
   "cell_type": "markdown",
   "metadata": {
    "id": "y9Q6jR6OZjUk"
   },
   "source": [
    "### (2) 데이터 정리\n",
    "* 불필요한 변수 제거 : DateTime\n",
    "* x, y  나누기"
   ]
  },
  {
   "cell_type": "code",
   "execution_count": null,
   "metadata": {
    "id": "FA-PnUpcLqXN"
   },
   "outputs": [],
   "source": [
    "target = 'y'\n",
    "x = data.drop(target, axis = 1)\n",
    "y = data.loc[:, target]"
   ]
  },
  {
   "cell_type": "code",
   "execution_count": null,
   "metadata": {
    "id": "bgm5ZCxYFTe8"
   },
   "outputs": [],
   "source": [
    "# 날짜 데이터 제거\n",
    "x.drop('DateTime', axis = 1, inplace = True)\n",
    "x.head()"
   ]
  },
  {
   "cell_type": "markdown",
   "metadata": {
    "id": "mp_5volyuaA1"
   },
   "source": [
    "### (3) NaN 조치"
   ]
  },
  {
   "cell_type": "markdown",
   "metadata": {
    "id": "nOF9fSLQugGf"
   },
   "source": [
    "### (4) 가변수화"
   ]
  },
  {
   "cell_type": "code",
   "execution_count": null,
   "metadata": {
    "id": "UTCgncMWFuc2"
   },
   "outputs": [],
   "source": [
    "cat_cols = ['Seasons','Holiday','FuncDay']\n",
    "x = pd.get_dummies(x, columns = cat_cols, drop_first = True)"
   ]
  },
  {
   "cell_type": "markdown",
   "metadata": {
    "id": "KsGGC-a4vpar"
   },
   "source": [
    "### (5) 데이터분할 : train : val\n",
    "\n",
    "* 시계열 데이터이므로 시간의 흐름에 맞게 분할합시다.\n",
    "    * 뒤에서 30일 : validaiton\n",
    "    * 나머지 : train\n",
    "    * 30일 : 시간단위 데이터이므로 24 * 30\n",
    "* train_test_split : shuffle(뒤섞기) 옵션을 False로 하면 저장된 순서대로 자릅니다!\n"
   ]
  },
  {
   "cell_type": "code",
   "execution_count": null,
   "metadata": {
    "id": "7ilUcIlvvrqR"
   },
   "outputs": [],
   "source": [
    "i = 30 * 24\n",
    "x_train, x_val, y_train, y_val = train_test_split(x, y, test_size = i, shuffle = False)"
   ]
  },
  {
   "cell_type": "code",
   "execution_count": null,
   "metadata": {
    "id": "U1iieWFWTX-v"
   },
   "outputs": [],
   "source": [
    "plt.figure(figsize = (20,8))\n",
    "plt.plot(y_val)\n",
    "plt.grid()\n",
    "plt.show()"
   ]
  },
  {
   "cell_type": "markdown",
   "metadata": {
    "id": "MXUC5Yi3um81"
   },
   "source": [
    "### (8) Scaling"
   ]
  },
  {
   "cell_type": "code",
   "execution_count": null,
   "metadata": {
    "id": "9bly3GLif1eP"
   },
   "outputs": [],
   "source": [
    "scaler = MinMaxScaler()\n",
    "x_train = scaler.fit_transform(x_train)\n",
    "x_val = scaler.transform(x_val)"
   ]
  },
  {
   "cell_type": "markdown",
   "metadata": {
    "id": "or87og8ocYvw"
   },
   "source": [
    "## 3.모델링\n",
    "\n",
    "* 히든레이어를 추가한 모델 두 개 이상을 생성한 후\n",
    "* 성능을 비교하시오.\n",
    "* 성능을 높이기 위해서 조절할 것들\n",
    "    * 히든레이어 수\n",
    "    * 히든레이어 노드수\n",
    "    * epochs 수\n",
    "    * learning_rate : 0.1 ~ 0.0001 사이에서 조정(예 Adam(learning_rate = 0.01))\n"
   ]
  },
  {
   "cell_type": "markdown",
   "metadata": {
    "id": "VRBJvWcfUkTg"
   },
   "source": [
    "### (1) 모델1"
   ]
  },
  {
   "cell_type": "code",
   "execution_count": null,
   "metadata": {
    "id": "S_n1NBJoT_KK"
   },
   "outputs": [],
   "source": []
  },
  {
   "cell_type": "code",
   "execution_count": null,
   "metadata": {
    "id": "amoQ7ZWuwBR9"
   },
   "outputs": [],
   "source": []
  },
  {
   "cell_type": "code",
   "execution_count": null,
   "metadata": {
    "id": "BvcPZowkfHHi"
   },
   "outputs": [],
   "source": []
  },
  {
   "cell_type": "code",
   "execution_count": null,
   "metadata": {
    "id": "pmQdhogmfHFA"
   },
   "outputs": [],
   "source": []
  },
  {
   "cell_type": "code",
   "execution_count": null,
   "metadata": {
    "id": "AQ3uLMiEfHCO"
   },
   "outputs": [],
   "source": []
  },
  {
   "cell_type": "code",
   "execution_count": null,
   "metadata": {
    "id": "ntKVBMaRT_EV"
   },
   "outputs": [],
   "source": []
  },
  {
   "cell_type": "markdown",
   "metadata": {
    "id": "XXfKR3KUWF_p"
   },
   "source": [
    "### (2) 모델2"
   ]
  },
  {
   "cell_type": "code",
   "execution_count": null,
   "metadata": {
    "id": "bIDCbxqUfJCn"
   },
   "outputs": [],
   "source": []
  },
  {
   "cell_type": "code",
   "execution_count": null,
   "metadata": {
    "id": "7lFzQ4MefJCn"
   },
   "outputs": [],
   "source": []
  },
  {
   "cell_type": "code",
   "execution_count": null,
   "metadata": {
    "id": "khQ3g_I2fJCn"
   },
   "outputs": [],
   "source": []
  },
  {
   "cell_type": "code",
   "execution_count": null,
   "metadata": {
    "id": "JNc84cE8fJCn"
   },
   "outputs": [],
   "source": []
  },
  {
   "cell_type": "code",
   "execution_count": null,
   "metadata": {
    "id": "kAt-UHXBfJCn"
   },
   "outputs": [],
   "source": []
  },
  {
   "cell_type": "code",
   "execution_count": null,
   "metadata": {
    "id": "dXtYlLFYfJCn"
   },
   "outputs": [],
   "source": []
  },
  {
   "cell_type": "code",
   "execution_count": null,
   "metadata": {
    "id": "PVvWrMvUT--O"
   },
   "outputs": [],
   "source": []
  },
  {
   "cell_type": "markdown",
   "metadata": {
    "id": "9kfWw5WA6_Cx"
   },
   "source": [
    "## 4.무엇을 더 해볼 수 있을까요?"
   ]
  },
  {
   "cell_type": "code",
   "execution_count": null,
   "metadata": {
    "id": "2dCyDgV5T-7D"
   },
   "outputs": [],
   "source": []
  },
  {
   "cell_type": "code",
   "execution_count": null,
   "metadata": {
    "id": "I7zwA7qwT-3i"
   },
   "outputs": [],
   "source": []
  }
 ],
 "metadata": {
  "colab": {
   "provenance": []
  },
  "kernelspec": {
   "display_name": "Python 3 (ipykernel)",
   "language": "python",
   "name": "python3"
  },
  "language_info": {
   "codemirror_mode": {
    "name": "ipython",
    "version": 3
   },
   "file_extension": ".py",
   "mimetype": "text/x-python",
   "name": "python",
   "nbconvert_exporter": "python",
   "pygments_lexer": "ipython3",
   "version": "3.11.5"
  }
 },
 "nbformat": 4,
 "nbformat_minor": 1
}
