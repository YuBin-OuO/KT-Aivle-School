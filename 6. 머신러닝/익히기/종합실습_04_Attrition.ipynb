{
 "cells": [
  {
   "cell_type": "markdown",
   "metadata": {
    "id": "y1J78TFSRrSA"
   },
   "source": [
    "<center><img src='https://raw.githubusercontent.com/Jangrae/img/master/ml_python.png' width=600/></center>"
   ]
  },
  {
   "cell_type": "markdown",
   "metadata": {
    "id": "Us_Mg_xto9NX"
   },
   "source": [
    "<img src = \"https://github.com/Jangrae/img/blob/master/attrition.png?raw=true\" width=800 align=\"left\"/>"
   ]
  },
  {
   "cell_type": "markdown",
   "metadata": {
    "id": "elUlK1gCJHGh"
   },
   "source": [
    "# 실습 내용\n",
    "\n",
    "- 다양한 알고리즘으로 모델을 만들고 성능을 예측합니다.\n",
    "- 성능이 좋을 것으로 판단된 모델의 성능을 튜닝합니다.\n",
    "- 튜닝된 모델의 성능을 평가합니다."
   ]
  },
  {
   "cell_type": "markdown",
   "metadata": {
    "id": "IciCQGJy5PO-"
   },
   "source": [
    "# 1.환경 준비\n",
    "\n",
    "- 기본 라이브러리와 대상 데이터를 가져와 이후 과정을 준비합니다."
   ]
  },
  {
   "cell_type": "code",
   "execution_count": null,
   "metadata": {
    "id": "jB0l6oqDsG8B"
   },
   "outputs": [],
   "source": [
    "# 라이브러리 불러오기\n",
    "import numpy as np\n",
    "import pandas as pd\n",
    "import matplotlib.pyplot as plt\n",
    "import seaborn as sns\n",
    "import warnings\n",
    "\n",
    "warnings.filterwarnings(action='ignore')\n",
    "%config InlineBackend.figure_format = 'retina'"
   ]
  },
  {
   "cell_type": "code",
   "execution_count": null,
   "metadata": {
    "id": "PXqyu_0LsG8C"
   },
   "outputs": [],
   "source": [
    "# 데이터 불러오기\n",
    "path = 'https://raw.githubusercontent.com/jangrae/csv/master/Attrition_simple2.csv'\n",
    "data = pd.read_csv(path)"
   ]
  },
  {
   "cell_type": "markdown",
   "metadata": {
    "id": "hDHOQrUbNGSK"
   },
   "source": [
    "# 2.데이터 이해\n",
    "\n",
    "- 분석할 데이터를 충분히 이해할 수 있도록 다양한 탐색 과정을 수행합니다."
   ]
  },
  {
   "cell_type": "code",
   "execution_count": null,
   "metadata": {
    "id": "Z1ahypi3irLz"
   },
   "outputs": [],
   "source": [
    "# 데이터 살펴보기\n",
    "data.head()"
   ]
  },
  {
   "cell_type": "markdown",
   "metadata": {
    "id": "nKlc1-nIo9Na"
   },
   "source": [
    "**데이터 설명**\n",
    "\n",
    "- Attrition: 이직 여부 (1: 이직, 0: 잔류)\n",
    "- Age: 나이\n",
    "- DistanceFromHome: 집-직장 거리 (단위: 마일)\n",
    "- EmployeeNumber: 사번\n",
    "- Gender: 성별 (Male, Female)\n",
    "- JobSatisfaction: 직무 만족도(1: Low, 2: Medium, 3: High, 4: Very High)\n",
    "- MaritalStatus: 결혼 상태 (Single, Married, Divorced)\n",
    "- MonthlyIncome: 월급 (단위: 달러)\n",
    "- OverTime: 야근 여부 (Yes, No)\n",
    "- PercentSalaryHike: 전년 대비 급여 인상율(단위: %)\n",
    "- TotalWorkingYears: 총 경력 연수"
   ]
  },
  {
   "cell_type": "code",
   "execution_count": null,
   "metadata": {
    "id": "HGHlgWSwtSYh"
   },
   "outputs": [],
   "source": [
    "# 기술통계 확인\n",
    "data.describe()"
   ]
  },
  {
   "cell_type": "markdown",
   "metadata": {
    "id": "xyfvv8VLTvgu",
    "tags": []
   },
   "source": [
    "# 3.데이터 준비\n",
    "\n",
    "- 전처리 과정을 통해 머신러닝 알고리즘에 사용할 수 있는 형태의 데이터를 준비합니다."
   ]
  },
  {
   "cell_type": "markdown",
   "metadata": {
    "id": "sUbr_0Poo9Nb"
   },
   "source": [
    "**1) 변수 제거**\n",
    "\n",
    "- 제거 대상 변수: EmployeeNumber"
   ]
  },
  {
   "cell_type": "code",
   "execution_count": null,
   "metadata": {
    "id": "e8sKMGodo9Nb"
   },
   "outputs": [],
   "source": [
    "# 제거 대상: EmployeeNumber\n",
    "\n",
    "\n",
    "# 변수 제거\n",
    "\n",
    "\n",
    "# 확인\n"
   ]
  },
  {
   "cell_type": "markdown",
   "metadata": {
    "id": "BE_0rwxPdErC"
   },
   "source": [
    "**2) x, y 분리**"
   ]
  },
  {
   "cell_type": "code",
   "execution_count": null,
   "metadata": {
    "id": "Ops0CDL2dEDe"
   },
   "outputs": [],
   "source": [
    "# target 확인\n",
    "\n",
    "\n",
    "# 데이터 분리\n",
    "\n"
   ]
  },
  {
   "cell_type": "markdown",
   "metadata": {
    "id": "FmptGbWLBHn5"
   },
   "source": [
    "**3) 가변수화**"
   ]
  },
  {
   "cell_type": "code",
   "execution_count": null,
   "metadata": {
    "id": "CDnjJtWVfGyx"
   },
   "outputs": [],
   "source": [
    "# 가변수화 대상: Gender, JobSatisfaction, MaritalStatus, OverTime\n",
    "\n",
    "\n",
    "# 가변수화\n",
    "\n",
    "\n",
    "# 확인\n"
   ]
  },
  {
   "cell_type": "markdown",
   "metadata": {
    "id": "CIZn6GJhTPQy"
   },
   "source": [
    "**4) 학습용, 평가용 데이터 분리**"
   ]
  },
  {
   "cell_type": "code",
   "execution_count": null,
   "metadata": {
    "id": "PktSAf43CpOB"
   },
   "outputs": [],
   "source": [
    "# 모듈 불러오기\n",
    "\n",
    "\n",
    "# 데이터 분리\n"
   ]
  },
  {
   "cell_type": "markdown",
   "metadata": {
    "id": "3flw-FxfTMAs"
   },
   "source": [
    "**5) 정규화**"
   ]
  },
  {
   "cell_type": "code",
   "execution_count": null,
   "metadata": {
    "id": "yr7ohkRzCpr4"
   },
   "outputs": [],
   "source": [
    "# 모듈 불러오기\n",
    "\n",
    "\n",
    "# 정규화\n",
    "\n",
    "\n",
    "\n"
   ]
  },
  {
   "cell_type": "markdown",
   "metadata": {
    "id": "BYr1vtpd8uw4",
    "tags": []
   },
   "source": [
    "# 4.성능 예측\n",
    "\n",
    "- 여러 알고리즘으로 모델을 만들고 K-Fold CV로 성능을 예측합니다.\n",
    "- 하이퍼파라미터를 설정하지 않고 진행합니다.\n",
    "- 각 모델의 성능 정보를 수집해 마지막에 비교합니다."
   ]
  },
  {
   "cell_type": "code",
   "execution_count": null,
   "metadata": {
    "id": "OKVwF93Vo9Nc"
   },
   "outputs": [],
   "source": [
    "# xgboost 설치\n",
    "# !pip install xgboost"
   ]
  },
  {
   "cell_type": "code",
   "execution_count": null,
   "metadata": {
    "id": "KmGlf_mfo9Nc"
   },
   "outputs": [],
   "source": [
    "# lightgbm 설치\n",
    "# !pip install lightgbm"
   ]
  },
  {
   "cell_type": "markdown",
   "metadata": {
    "id": "gLd8gMxoo9Nc"
   },
   "source": [
    "- 이후 사용할 함수를 모두 불러옵니다."
   ]
  },
  {
   "cell_type": "code",
   "execution_count": null,
   "metadata": {
    "id": "3eqE7D2To9Nc"
   },
   "outputs": [],
   "source": [
    "# 불러오기\n",
    "\n",
    "\n",
    "\n",
    "\n",
    "\n",
    "\n",
    "\n"
   ]
  },
  {
   "cell_type": "markdown",
   "metadata": {
    "id": "9pqwajKFyK4F"
   },
   "source": [
    "**1) KNN**\n",
    "\n",
    "- KNN 알고리즘으로 모델링하고 K-Fold CV로 성능을 검증합니다."
   ]
  },
  {
   "cell_type": "code",
   "execution_count": null,
   "metadata": {
    "id": "ziotuce6yK4G"
   },
   "outputs": [],
   "source": [
    "# 선언하기\n"
   ]
  },
  {
   "cell_type": "code",
   "execution_count": null,
   "metadata": {
    "id": "J-zashLGyK4H"
   },
   "outputs": [],
   "source": [
    "# 성능예측\n"
   ]
  },
  {
   "cell_type": "code",
   "execution_count": null,
   "metadata": {
    "id": "AQHV4BsTo9Nc"
   },
   "outputs": [],
   "source": [
    "# 결과확인\n"
   ]
  },
  {
   "cell_type": "code",
   "execution_count": null,
   "metadata": {
    "id": "2KMvCx_-yK4H"
   },
   "outputs": [],
   "source": [
    "# 결과수집\n",
    "\n"
   ]
  },
  {
   "cell_type": "markdown",
   "metadata": {
    "id": "_2Dzy1phyWRM"
   },
   "source": [
    "**2) Decision Tree**\n",
    "\n",
    "- Decision Tree 알고리즘으로 모델링하고 K-Fold CV로 성능을 검증합니다."
   ]
  },
  {
   "cell_type": "code",
   "execution_count": null,
   "metadata": {
    "id": "u_eFC5zRo9Nd"
   },
   "outputs": [],
   "source": [
    "# 선언하기\n"
   ]
  },
  {
   "cell_type": "code",
   "execution_count": null,
   "metadata": {
    "id": "q4H1_nGLo9Nd"
   },
   "outputs": [],
   "source": [
    "# 성능예측\n"
   ]
  },
  {
   "cell_type": "code",
   "execution_count": null,
   "metadata": {
    "id": "ZTXrAhgho9Nd"
   },
   "outputs": [],
   "source": [
    "# 결과확인\n"
   ]
  },
  {
   "cell_type": "code",
   "execution_count": null,
   "metadata": {
    "id": "YzWNI-qvo9Nd"
   },
   "outputs": [],
   "source": [
    "# 결과수집\n"
   ]
  },
  {
   "cell_type": "markdown",
   "metadata": {
    "id": "KMq0_2V2o9Nd"
   },
   "source": [
    "**3) Logistic Regression**\n",
    "\n",
    "- Logistic Regression 알고리즘으로 모델링하고 K-Fold CV로 성능을 검증합니다."
   ]
  },
  {
   "cell_type": "code",
   "execution_count": null,
   "metadata": {
    "id": "HD240ScVo9Nd"
   },
   "outputs": [],
   "source": [
    "# 선언하기\n"
   ]
  },
  {
   "cell_type": "code",
   "execution_count": null,
   "metadata": {
    "id": "aiC9D44ko9Nd"
   },
   "outputs": [],
   "source": [
    "# 성능예측\n"
   ]
  },
  {
   "cell_type": "code",
   "execution_count": null,
   "metadata": {
    "id": "SdebkaDno9Nh"
   },
   "outputs": [],
   "source": [
    "# 결과확인\n"
   ]
  },
  {
   "cell_type": "code",
   "execution_count": null,
   "metadata": {
    "id": "ZB_9-JwYo9Nh"
   },
   "outputs": [],
   "source": [
    "# 결과수집\n"
   ]
  },
  {
   "cell_type": "markdown",
   "metadata": {
    "id": "b0crO5W_ygXk"
   },
   "source": [
    "**4) Random Forest**\n",
    "\n",
    "- Random Forest 알고리즘으로 모델링하고 K-Fold CV로 성능을 검증합니다."
   ]
  },
  {
   "cell_type": "code",
   "execution_count": null,
   "metadata": {
    "id": "bB_1VRy2o9Ni"
   },
   "outputs": [],
   "source": [
    "# 선언하기\n"
   ]
  },
  {
   "cell_type": "code",
   "execution_count": null,
   "metadata": {
    "id": "6EyMNMrPo9Ni"
   },
   "outputs": [],
   "source": [
    "# 성능예측\n"
   ]
  },
  {
   "cell_type": "code",
   "execution_count": null,
   "metadata": {
    "id": "ojnqPgx2o9Ni"
   },
   "outputs": [],
   "source": [
    "# 결과확인\n"
   ]
  },
  {
   "cell_type": "code",
   "execution_count": null,
   "metadata": {
    "id": "-o76V8HBo9Ni"
   },
   "outputs": [],
   "source": [
    "# 결과수집\n"
   ]
  },
  {
   "cell_type": "markdown",
   "metadata": {
    "id": "OfBvePtkys70"
   },
   "source": [
    "**5) XGBoost**\n",
    "\n",
    "- XGBoost 알고리즘으로 모델링하고 K-Fold CV로 성능을 검증합니다."
   ]
  },
  {
   "cell_type": "code",
   "execution_count": null,
   "metadata": {
    "id": "45bG-5Cbo9Ni"
   },
   "outputs": [],
   "source": [
    "# 선언하기\n"
   ]
  },
  {
   "cell_type": "code",
   "execution_count": null,
   "metadata": {
    "id": "iqyWI99lo9Ni"
   },
   "outputs": [],
   "source": [
    "# 성능예측\n"
   ]
  },
  {
   "cell_type": "code",
   "execution_count": null,
   "metadata": {
    "id": "aw0z4lyJo9Ni"
   },
   "outputs": [],
   "source": [
    "# 결과확인\n"
   ]
  },
  {
   "cell_type": "code",
   "execution_count": null,
   "metadata": {
    "id": "vqTznzrwo9Ni"
   },
   "outputs": [],
   "source": [
    "# 결과수집\n"
   ]
  },
  {
   "cell_type": "markdown",
   "metadata": {
    "id": "hNks7MGlo9Ni"
   },
   "source": [
    "**6) LightGBM**\n",
    "\n",
    "- LightGBM 알고리즘으로 모델링하고 K-Fold CV로 성능을 검증합니다."
   ]
  },
  {
   "cell_type": "code",
   "execution_count": null,
   "metadata": {
    "id": "AIX82H80o9Nj"
   },
   "outputs": [],
   "source": [
    "# 선언하기\n"
   ]
  },
  {
   "cell_type": "code",
   "execution_count": null,
   "metadata": {
    "id": "ZttD30oeo9Nj"
   },
   "outputs": [],
   "source": [
    "# 성능예측\n"
   ]
  },
  {
   "cell_type": "code",
   "execution_count": null,
   "metadata": {
    "id": "jowVO2peo9Nj"
   },
   "outputs": [],
   "source": [
    "# 결과확인\n"
   ]
  },
  {
   "cell_type": "code",
   "execution_count": null,
   "metadata": {
    "id": "dOdh1txfo9Nj"
   },
   "outputs": [],
   "source": [
    "# 결과수집\n"
   ]
  },
  {
   "cell_type": "markdown",
   "metadata": {
    "id": "uMtwtFXqo9Nk"
   },
   "source": [
    "# 5.결과 확인\n",
    "\n",
    "- 예측된 각 모델의 성능을 비교합니다."
   ]
  },
  {
   "cell_type": "code",
   "execution_count": null,
   "metadata": {
    "id": "OCYQNksmo9Nk"
   },
   "outputs": [],
   "source": [
    "# 성능 비교\n",
    "print('=' * 40)\n",
    "for m_name, score in result.items():\n",
    "    print(m_name, score.round(3))\n",
    "print('=' * 40)"
   ]
  },
  {
   "cell_type": "code",
   "execution_count": null,
   "metadata": {
    "id": "raDzr-X3o9Nk"
   },
   "outputs": [],
   "source": [
    "# 성능 시각화 비교\n",
    "plt.barh(list(result.keys()), result.values())\n",
    "plt.show()"
   ]
  },
  {
   "cell_type": "markdown",
   "metadata": {
    "id": "LEejH2lFo9Nk"
   },
   "source": [
    "# 6.성능 튜닝\n",
    "\n",
    "- 위에서 성능이 가장 좋을 것으로 예측된 모델을 튜닝합니다.\n",
    "- 본 실습에서는 Random Forest 모델 성능을 튜닝합니다."
   ]
  },
  {
   "cell_type": "code",
   "execution_count": null,
   "metadata": {
    "id": "uehrDYRvo9Nk"
   },
   "outputs": [],
   "source": [
    "# 기본 모델 선언\n",
    "\n",
    "\n",
    "# 파라미터 지정\n",
    "  # max_depth: range(1, 21)\n",
    "\n",
    "\n",
    "# 모델 선언\n",
    "\n",
    "\n",
    "\n"
   ]
  },
  {
   "cell_type": "code",
   "execution_count": null,
   "metadata": {
    "id": "5B2Joe8Bo9Nk"
   },
   "outputs": [],
   "source": [
    "# 학습하기(많은 시간이 소요될 수 있음)\n"
   ]
  },
  {
   "cell_type": "code",
   "execution_count": null,
   "metadata": {
    "id": "icLultkjo9Nl"
   },
   "outputs": [],
   "source": [
    "# 최적 파라미터, 예측 최고 성능\n",
    "\n"
   ]
  },
  {
   "cell_type": "code",
   "execution_count": null,
   "metadata": {
    "id": "8NgLSUnuo9Nl"
   },
   "outputs": [],
   "source": [
    "# 변수 중요도 시각화\n",
    "\n",
    "\n"
   ]
  },
  {
   "cell_type": "markdown",
   "metadata": {
    "id": "Ld6ZYEQjo9Nl"
   },
   "source": [
    "# 7.성능 평가\n",
    "\n",
    "- 최적 파라미터로 학습된 모델에 대해 최종 성능 평가를 진행합니다."
   ]
  },
  {
   "cell_type": "code",
   "execution_count": null,
   "metadata": {
    "id": "C4-59ss7o9Nl"
   },
   "outputs": [],
   "source": [
    "# 예측하기\n"
   ]
  },
  {
   "cell_type": "code",
   "execution_count": null,
   "metadata": {
    "id": "X9bNm4wpo9Nl"
   },
   "outputs": [],
   "source": [
    "# 성능평가\n",
    "\n"
   ]
  }
 ],
 "metadata": {
  "colab": {
   "provenance": []
  },
  "kernelspec": {
   "display_name": "Python 3 (ipykernel)",
   "language": "python",
   "name": "python3"
  },
  "language_info": {
   "codemirror_mode": {
    "name": "ipython",
    "version": 3
   },
   "file_extension": ".py",
   "mimetype": "text/x-python",
   "name": "python",
   "nbconvert_exporter": "python",
   "pygments_lexer": "ipython3",
   "version": "3.11.5"
  }
 },
 "nbformat": 4,
 "nbformat_minor": 4
}
