{
 "cells": [
  {
   "cell_type": "markdown",
   "metadata": {
    "id": "GNVBI7zVGFSZ"
   },
   "source": [
    "# **조건문과 반복문**\n",
    "\n",
    "* 데이터분석 및 모델링을 수행하다보면 데이터 처리 절차(흐름)을 제어해야 하는 경우가 종종 발생됩니다.\n",
    "    * 조건에 따라 다르게 처리\n",
    "    * 조건에 충족될 때까지 반복 처리\n",
    "* 이를 위해 조건문과 반복문 기초를 배웁니다."
   ]
  },
  {
   "cell_type": "markdown",
   "metadata": {
    "id": "UJBSC5odGFSd"
   },
   "source": [
    "## **1.Bool 연산자**\n",
    "\n",
    "* bool 연산자\n",
    "    * 주어진 조건을 평가하여 참 또는 거짓의 결과를 반환하는 연산자\n",
    "    * 결과 : True / False\n",
    "* 비교 연산자(조건문)\n",
    "    * ==  같은가?\n",
    "    * !=  같지 않은가?\n",
    "* 논리 연산자\n",
    "    * and : 양쪽이 둘 다 참일 때만 참.\n",
    "    * or : 둘 중 하나만 참 이어도 참.\n",
    "    * not : 논리 값의 반대."
   ]
  },
  {
   "cell_type": "code",
   "execution_count": 2,
   "metadata": {
    "id": "uyL1xzM73q5g",
    "tags": []
   },
   "outputs": [
    {
     "name": "stdout",
     "output_type": "stream",
     "text": [
      "False\n",
      "True\n"
     ]
    }
   ],
   "source": [
    "# 'a' 와 'A' 가 같은가?\n",
    "print('a' == 'A')\n",
    "\n",
    "# 'a' 와 'A' 가 같지 않은가?\n",
    "print('a' != 'A')"
   ]
  },
  {
   "cell_type": "code",
   "execution_count": 3,
   "metadata": {
    "id": "x5H5FjBaGFSf",
    "tags": []
   },
   "outputs": [
    {
     "name": "stdout",
     "output_type": "stream",
     "text": [
      "True\n"
     ]
    }
   ],
   "source": [
    "# 'a' 와 'A' 가 같거나, 10과 10.0 이 같은지 비교\n",
    "print(('a' == 'A') or (10 == 10.0))"
   ]
  },
  {
   "cell_type": "code",
   "execution_count": 4,
   "metadata": {
    "id": "aSsDIKwhGFSh",
    "tags": []
   },
   "outputs": [
    {
     "name": "stdout",
     "output_type": "stream",
     "text": [
      "False\n"
     ]
    }
   ],
   "source": [
    "# 20과 20.0이 같고, '123'이 '일이삼'과 같은지 비교\n",
    "print((20 == 20.0) and ('123' == '일이삼'))"
   ]
  },
  {
   "cell_type": "markdown",
   "metadata": {
    "id": "GX16vIeO3q5l"
   },
   "source": [
    "## **2.조건제어(if문)**"
   ]
  },
  {
   "cell_type": "markdown",
   "metadata": {
    "id": "m6o2myG_3q5l"
   },
   "source": [
    "### **(1) if**\n",
    "\n",
    ">if 조건문1 :  \n",
    ">____코드1\n",
    "\n",
    "* 조건문1이 True이면,\n",
    "* 코드1 실행(아니면, 그냥 넘어 감.)"
   ]
  },
  {
   "cell_type": "code",
   "execution_count": null,
   "metadata": {
    "id": "KLY9JJOc3q5m"
   },
   "outputs": [],
   "source": [
    "score = 100\n",
    "if (score >= 90):\n",
    "    print('pass')"
   ]
  },
  {
   "cell_type": "markdown",
   "metadata": {
    "id": "hV0UhuiQ3q5m"
   },
   "source": [
    "### **(2) if ~ else**\n",
    "\n",
    ">if 조건문1 :  \n",
    ">____코드1  \n",
    ">else :  \n",
    ">____코드2\n",
    "\n",
    "* 조건문1이 True이면,\n",
    "* 코드1 실행,\n",
    "* 아니면, 코드2 실행"
   ]
  },
  {
   "cell_type": "code",
   "execution_count": null,
   "metadata": {
    "id": "hJccRppa3q5n"
   },
   "outputs": [],
   "source": [
    "score = 50\n",
    "if (score >= 90):\n",
    "    print('pass')\n",
    "else :\n",
    "    print('fail')"
   ]
  },
  {
   "cell_type": "markdown",
   "metadata": {
    "id": "Rnh2lE0g3q5n"
   },
   "source": [
    "### **(3) if ~ elif ~ else**\n",
    "\n",
    ">**if** 조건문1 :  \n",
    ">____코드1  \n",
    ">elif 조건문2 :    \n",
    ">____코드2  \n",
    ">else :  \n",
    ">____코드3\n",
    "\n",
    "* 조건문1이 True이면,\n",
    "* 코드1 실행\n",
    "* 아니면, 또 조건문2가 True이면,\n",
    "* 코드2 실행\n",
    "* 아니면, 코드3 실행"
   ]
  },
  {
   "cell_type": "code",
   "execution_count": null,
   "metadata": {
    "id": "lKd0ZQ5Z3q5n"
   },
   "outputs": [],
   "source": [
    "score = 50\n",
    "if score >= 90 :\n",
    "    print('A')\n",
    "elif score >= 80 :\n",
    "    print('B')\n",
    "else :\n",
    "    print('C')"
   ]
  },
  {
   "cell_type": "markdown",
   "metadata": {
    "id": "nhg-es0l3q5n"
   },
   "source": [
    "<img src='https://raw.githubusercontent.com/jangrae/img/master/practice_01.png' width=120 align=\"left\"/>"
   ]
  },
  {
   "cell_type": "markdown",
   "metadata": {
    "id": "SDW3byJh3q5o"
   },
   "source": [
    "[문1] math, korean, history에 임의의 점수를 각각 저장하고, 다음의 조건에 맞게 출력하시오.\n",
    "\n",
    "* 각 점수중 하나라도 70 미만이면 'fail'\n",
    "* 아니면, 'pass'"
   ]
  },
  {
   "cell_type": "code",
   "execution_count": 17,
   "metadata": {
    "id": "qQzf2omt3q5o",
    "tags": []
   },
   "outputs": [
    {
     "name": "stdout",
     "output_type": "stream",
     "text": [
      "fail\n",
      "fail\n"
     ]
    }
   ],
   "source": [
    "math = 65\n",
    "korean = 90\n",
    "history = 100\n",
    "# math, korean, history = 65, 90, 100\n",
    "\n",
    "if (math < 70) or (korean < 70) or (history < 70): # or: | / and: &\n",
    "    print('fail')\n",
    "else:\n",
    "    print('pass')\n",
    "    \n",
    "if any([math < 70, korean < 70, history < 70]):\n",
    "    print('fail')\n",
    "else:\n",
    "    print('pass')"
   ]
  },
  {
   "cell_type": "markdown",
   "metadata": {
    "id": "Vm_8Anz33q5o"
   },
   "source": [
    "[문2] math, korean, history에 임의의 점수를 각각 저장하고, 다음의 조건에 맞게 출력하시오.\n",
    "* 각 점수중 하나라도 70 미만이거나, 평균이 75 이하이면 'fail'\n",
    "* 아니면, 'pass'\n"
   ]
  },
  {
   "cell_type": "code",
   "execution_count": 13,
   "metadata": {
    "id": "WXa3LChJ3q5o",
    "tags": []
   },
   "outputs": [
    {
     "name": "stdout",
     "output_type": "stream",
     "text": [
      "fail\n"
     ]
    }
   ],
   "source": [
    "math = 65\n",
    "korean = 90\n",
    "history = 100\n",
    "# math, korean, history = 65, 90, 100\n",
    "average = (math+korean+history)/3\n",
    "\n",
    "if ((math < 70) or (korean < 70) or (history < 70)) or (average <= 75):\n",
    "    print('fail')\n",
    "else:\n",
    "    print('pass')"
   ]
  },
  {
   "cell_type": "markdown",
   "metadata": {
    "id": "IpMA6Foo3q5o"
   },
   "source": [
    "## **3.반복제어**\n"
   ]
  },
  {
   "cell_type": "markdown",
   "metadata": {
    "id": "JDlRJAjs3q5p"
   },
   "source": [
    "### **(1) for loop**\n",
    "\n",
    "* 문법\n",
    "> for 변수 in range() :  \n",
    "> ____코드"
   ]
  },
  {
   "cell_type": "markdown",
   "metadata": {
    "id": "uUMXdWsT3q5p"
   },
   "source": [
    "* 실행 절차\n",
    "    * ① 변수 in range() : 데이터 목록(여기서는 range()의 결과)으로 부터 값을 하나씩 꺼내서 변수 i에 담아\n",
    "    * ② 코드를 실행하고\n",
    "    * ③ ①~②반복 (데이터 목록의 다음 값을 변수에 담고 코드실행)  "
   ]
  },
  {
   "cell_type": "markdown",
   "metadata": {
    "id": "6XERZdlc3q5s"
   },
   "source": [
    "* 반복문 종료 조건\n",
    "    * 데이터 목록 첫번째 값부터, 마지막까지 반복한 후에 종료\n",
    "    * 반복문 안에서 break 구문을 만나면 종료"
   ]
  },
  {
   "cell_type": "code",
   "execution_count": 18,
   "metadata": {
    "id": "4A1p-vhl3q5s",
    "tags": []
   },
   "outputs": [
    {
     "name": "stdout",
     "output_type": "stream",
     "text": [
      "0\n",
      "1\n",
      "2\n",
      "3\n",
      "4\n"
     ]
    }
   ],
   "source": [
    "for i in range(5) :\n",
    "    print(i)"
   ]
  },
  {
   "cell_type": "code",
   "execution_count": 19,
   "metadata": {
    "id": "ujfwB6g43q5t",
    "tags": []
   },
   "outputs": [
    {
     "name": "stdout",
     "output_type": "stream",
     "text": [
      "0\n",
      "1\n",
      "2\n",
      "3\n",
      "4\n"
     ]
    }
   ],
   "source": [
    "for i in [0,1,2,3,4] :\n",
    "    print(i)"
   ]
  },
  {
   "cell_type": "code",
   "execution_count": 22,
   "metadata": {
    "id": "_05QSEKA3q5t",
    "tags": []
   },
   "outputs": [
    {
     "name": "stdout",
     "output_type": "stream",
     "text": [
      "5050\n"
     ]
    }
   ],
   "source": [
    "# 1부터 100까지 자연수를 모두 더하기\n",
    "total = 0\n",
    "for i in range(1, 101) :\n",
    "    total += i\n",
    "\n",
    "print(total)"
   ]
  },
  {
   "cell_type": "markdown",
   "metadata": {
    "id": "6aABKjcD3q5t"
   },
   "source": [
    "* **코드**를 n 번 반복시킬때"
   ]
  },
  {
   "cell_type": "code",
   "execution_count": 23,
   "metadata": {
    "id": "pw9_a32F3q5u",
    "tags": []
   },
   "outputs": [
    {
     "name": "stdout",
     "output_type": "stream",
     "text": [
      "32\n",
      "79\n",
      "84\n",
      "85\n",
      "25\n",
      "88\n",
      "2\n",
      "87\n",
      "80\n",
      "41\n"
     ]
    }
   ],
   "source": [
    "import random\n",
    "\n",
    "n = 10\n",
    "for i in range(n) :\n",
    "    rdnum = random.randint(0, 100)  # 0~100 사이 정수 중 랜덤으로 추출\n",
    "    print(rdnum)"
   ]
  },
  {
   "cell_type": "markdown",
   "metadata": {
    "id": "yFke6c3y3q5u"
   },
   "source": [
    "<img src='https://raw.githubusercontent.com/jangrae/img/master/practice_01.png' width=120 align=\"left\"/>"
   ]
  },
  {
   "cell_type": "markdown",
   "metadata": {
    "id": "ncTHC5qB3q5u"
   },
   "source": [
    "[문1] 1부터 100까지 홀수만 더하기"
   ]
  },
  {
   "cell_type": "code",
   "execution_count": 28,
   "metadata": {
    "id": "SkSvcT9w3q5u",
    "tags": []
   },
   "outputs": [
    {
     "name": "stdout",
     "output_type": "stream",
     "text": [
      "2500\n"
     ]
    }
   ],
   "source": [
    "sum = 0\n",
    "for i in range(100):\n",
    "    if i%2!=0:\n",
    "        sum+=i\n",
    "\n",
    "print(sum)\n",
    "\n",
    "# for i in range(1, 100, 2):\n",
    "#     sum += i"
   ]
  },
  {
   "cell_type": "markdown",
   "metadata": {
    "id": "XWDHTiqw3q5u"
   },
   "source": [
    "[문2] 다음의 모양을 출력해 봅시다.  \n",
    "\\#  \n",
    "\\**   \n",
    "\\###   \n",
    "\\****   \n",
    "\\#####   "
   ]
  },
  {
   "cell_type": "code",
   "execution_count": 29,
   "metadata": {
    "id": "suZvyUEP3q5u",
    "tags": []
   },
   "outputs": [
    {
     "name": "stdout",
     "output_type": "stream",
     "text": [
      "#\n",
      "**\n",
      "###\n",
      "****\n",
      "#####\n"
     ]
    }
   ],
   "source": [
    "for i in range(1, 6):\n",
    "    if i%2==1:\n",
    "        print('#' * i)\n",
    "    else:\n",
    "        print('*' * i)"
   ]
  },
  {
   "cell_type": "markdown",
   "metadata": {
    "id": "3N8yAgVa3q5v"
   },
   "source": [
    "### **(2) while loop**\n",
    "\n",
    "* 문법\n",
    "> while 조건문 :  \n",
    "> ____코드  \n",
    "> ____조건변경문\n"
   ]
  },
  {
   "cell_type": "markdown",
   "metadata": {
    "id": "kEc42DMq3q5v"
   },
   "source": [
    "* 실행 절차\n",
    "    * ① 조건문이 참이면,\n",
    "    * ② 코드를 실행하고\n",
    "    * ③ 조건을 변경한 후,\n",
    "    * ④ ① ~ ③ 반복 실행"
   ]
  },
  {
   "cell_type": "markdown",
   "metadata": {
    "id": "DCGOx_y_3q5v"
   },
   "source": [
    "* 반복문 종료 조건\n",
    "    * ① 조건문이 참이 아니면 반복문 종료\n",
    "    * 반복문 안에서 break 구문을 만나면 종료"
   ]
  },
  {
   "cell_type": "code",
   "execution_count": 30,
   "metadata": {
    "id": "LM6TaQ7c3q5v",
    "tags": []
   },
   "outputs": [
    {
     "name": "stdout",
     "output_type": "stream",
     "text": [
      "0\n",
      "1\n",
      "2\n",
      "3\n",
      "4\n",
      "5\n"
     ]
    }
   ],
   "source": [
    "# 0에서 5까지 1씩 증가시켜가면서 값을 출력\n",
    "i = 0\n",
    "\n",
    "while i <= 5 :\n",
    "    print(i)\n",
    "    i += 1"
   ]
  },
  {
   "cell_type": "markdown",
   "metadata": {
    "id": "CK0Gmtts3q5v"
   },
   "source": [
    "* while의 쓸모"
   ]
  },
  {
   "cell_type": "code",
   "execution_count": 32,
   "metadata": {
    "id": "NAj5qmb53q5v",
    "tags": []
   },
   "outputs": [
    {
     "name": "stdin",
     "output_type": "stream",
     "text": [
      "암호를 입력하시오. Pass\n",
      "암호를 입력하시오. pass\n"
     ]
    },
    {
     "name": "stdout",
     "output_type": "stream",
     "text": [
      "Welcome~!\n"
     ]
    }
   ],
   "source": [
    "while True :\n",
    "    a = input('암호를 입력하시오.')\n",
    "    if a == 'pass' :\n",
    "        print('Welcome~!')\n",
    "        break"
   ]
  },
  {
   "cell_type": "markdown",
   "metadata": {
    "id": "p-0ExD3u3q5v"
   },
   "source": [
    "<img src='https://raw.githubusercontent.com/jangrae/img/master/practice_01.png' width=120 align=\"left\"/>"
   ]
  },
  {
   "cell_type": "markdown",
   "metadata": {
    "id": "K9qxzP9R3q5v"
   },
   "source": [
    "[문1] 1부터 100까지 홀수만 더하기"
   ]
  },
  {
   "cell_type": "code",
   "execution_count": 7,
   "metadata": {
    "id": "WH1J8p4U3q53",
    "tags": []
   },
   "outputs": [
    {
     "name": "stdout",
     "output_type": "stream",
     "text": [
      "2500\n"
     ]
    }
   ],
   "source": [
    "i = 0\n",
    "sum = 0\n",
    "\n",
    "while i<=100:\n",
    "    if i%2!=0:\n",
    "        sum += i\n",
    "    i+=1\n",
    "    \n",
    "print(sum)"
   ]
  },
  {
   "cell_type": "markdown",
   "metadata": {
    "id": "iRxZKvmu3q54"
   },
   "source": [
    "## **4.복습문제**"
   ]
  },
  {
   "cell_type": "markdown",
   "metadata": {
    "id": "nJhfY3AI3q54"
   },
   "source": [
    "1. -2에서 -10까지 1씩 감소시킨 값을 출력하시오.(range)"
   ]
  },
  {
   "cell_type": "code",
   "execution_count": 10,
   "metadata": {
    "id": "ToRR6TIc3q54",
    "tags": []
   },
   "outputs": [
    {
     "name": "stdout",
     "output_type": "stream",
     "text": [
      "-2\n",
      "-3\n",
      "-4\n",
      "-5\n",
      "-6\n",
      "-7\n",
      "-8\n",
      "-9\n",
      "-10\n"
     ]
    }
   ],
   "source": [
    "for i in range(-2, -11, -1):\n",
    "    print(i)"
   ]
  },
  {
   "cell_type": "markdown",
   "metadata": {
    "id": "-DQkgzRi3q54"
   },
   "source": [
    "2. 변수 age에 임의의 나이를 저장하고, 다음 조건에 맞게 출력하시오.\n",
    "* 나이가 10보다 작으면, '10세 미만'\n",
    "* 20보다 작으면, '10대'\n",
    "* 30보다 작으면, '20대'\n",
    "* 40보다 작으면, '30대'\n",
    "* 50보다 작으면, '40대'\n",
    "* 아니면, '50대 이상'"
   ]
  },
  {
   "cell_type": "code",
   "execution_count": 11,
   "metadata": {
    "id": "xy3i9yvP3q54",
    "tags": []
   },
   "outputs": [
    {
     "name": "stdout",
     "output_type": "stream",
     "text": [
      "20대\n"
     ]
    }
   ],
   "source": [
    "age=22\n",
    "if age <10:\n",
    "    print('10대 미만')\n",
    "elif age <20:\n",
    "    print('10대')\n",
    "elif age <30:\n",
    "    print('20대')\n",
    "elif age <40:\n",
    "    print('30대')\n",
    "elif age <50:\n",
    "    print('40대')\n",
    "else:\n",
    "    print('50대 이상')"
   ]
  },
  {
   "cell_type": "markdown",
   "metadata": {
    "id": "yhAI4X043q54"
   },
   "source": [
    "3. 1부터 500까지 12의 배수만 더하기"
   ]
  },
  {
   "cell_type": "code",
   "execution_count": 12,
   "metadata": {
    "id": "CmzQdyHz3q54",
    "tags": []
   },
   "outputs": [
    {
     "name": "stdout",
     "output_type": "stream",
     "text": [
      "10332\n"
     ]
    }
   ],
   "source": [
    "sum = 0\n",
    "\n",
    "for i in range(1, 501):\n",
    "    if i%12==0:\n",
    "        sum+=i\n",
    "print(sum)"
   ]
  },
  {
   "cell_type": "markdown",
   "metadata": {
    "id": "Qj_Z4rzE3q54"
   },
   "source": [
    "4. 피보나치 수열(Fibonacci numbers) 생성기를 만들어 봅시다.\n",
    "* 피보나치 수열이란\n",
    "    * 첫째 및 둘째 항이 1이며 그 뒤의 모든 항은 바로 앞 두 항의 합인 수열  \n",
    "    * 피보나치 수열 : https://ko.wikipedia.org/wiki/%ED%94%BC%EB%B3%B4%EB%82%98%EC%B9%98_%EC%88%98\n",
    "\n",
    "* 수열의 길이를 지정하면\n",
    "* 피보나치 수열이 리스트로 출력되도록 합니다.\n",
    "    * n = 9\n",
    "    * 출력 : [1, 1, 2, 3, 5, 8, 13, 21, 34]"
   ]
  },
  {
   "cell_type": "code",
   "execution_count": 48,
   "metadata": {
    "id": "I3sEaYsV3q54",
    "tags": []
   },
   "outputs": [
    {
     "name": "stdin",
     "output_type": "stream",
     "text": [
      "n = 9\n"
     ]
    },
    {
     "name": "stdout",
     "output_type": "stream",
     "text": [
      "[1, 1, 2, 3, 5, 8, 13, 21, 34]\n"
     ]
    }
   ],
   "source": [
    "fib=[1, 1]\n",
    "n = input ('n =')\n",
    "for i in range(2, int(n)):\n",
    "    fib.insert(i, fib[i-2] + fib[i-1])\n",
    "print(fib)"
   ]
  },
  {
   "cell_type": "markdown",
   "metadata": {
    "id": "qFRWPgqg3q55"
   },
   "source": [
    "5. 1부터 100까지 수 중, 소수(prime number)를 제외한 모든 수를 출력하시오.  \n",
    "> 4,6,8,9,10,12,14,15,.....100\n",
    "\n",
    "* 소수(prime number)는 1과 자신의 수 로만 나눠지는 수 입니다.\n",
    "* 힌트 : for loop를 중첩해서 수행해야 합니다."
   ]
  },
  {
   "cell_type": "code",
   "execution_count": 52,
   "metadata": {
    "tags": []
   },
   "outputs": [
    {
     "name": "stdout",
     "output_type": "stream",
     "text": [
      "4\n",
      "6\n",
      "8\n",
      "9\n",
      "10\n",
      "12\n",
      "14\n",
      "15\n",
      "16\n",
      "18\n",
      "20\n",
      "21\n",
      "22\n",
      "24\n",
      "25\n",
      "26\n",
      "27\n",
      "28\n",
      "30\n",
      "32\n",
      "33\n",
      "34\n",
      "35\n",
      "36\n",
      "38\n",
      "39\n",
      "40\n",
      "42\n",
      "44\n",
      "45\n",
      "46\n",
      "48\n",
      "49\n",
      "50\n",
      "51\n",
      "52\n",
      "54\n",
      "55\n",
      "56\n",
      "57\n",
      "58\n",
      "60\n",
      "62\n",
      "63\n",
      "64\n",
      "65\n",
      "66\n",
      "68\n",
      "69\n",
      "70\n",
      "72\n",
      "74\n",
      "75\n",
      "76\n",
      "77\n",
      "78\n",
      "80\n",
      "81\n",
      "82\n",
      "84\n",
      "85\n",
      "86\n",
      "87\n",
      "88\n",
      "90\n",
      "91\n",
      "92\n",
      "93\n",
      "94\n",
      "95\n",
      "96\n",
      "98\n",
      "99\n",
      "100\n"
     ]
    }
   ],
   "source": [
    "for i in range(1, 101):\n",
    "    cd=0\n",
    "    for a in range(1, i+1):\n",
    "        if i%a == 0:\n",
    "            cd+=1\n",
    "    if cd>2:\n",
    "        print(i)"
   ]
  },
  {
   "cell_type": "code",
   "execution_count": null,
   "metadata": {},
   "outputs": [],
   "source": []
  }
 ],
 "metadata": {
  "colab": {
   "provenance": [],
   "toc_visible": true
  },
  "kernelspec": {
   "display_name": "Python 3 (ipykernel)",
   "language": "python",
   "name": "python3"
  },
  "language_info": {
   "codemirror_mode": {
    "name": "ipython",
    "version": 3
   },
   "file_extension": ".py",
   "mimetype": "text/x-python",
   "name": "python",
   "nbconvert_exporter": "python",
   "pygments_lexer": "ipython3",
   "version": "3.11.5"
  }
 },
 "nbformat": 4,
 "nbformat_minor": 4
}
