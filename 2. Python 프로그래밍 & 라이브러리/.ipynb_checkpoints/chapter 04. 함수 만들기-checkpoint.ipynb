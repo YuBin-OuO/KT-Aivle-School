{
 "cells": [
  {
   "cell_type": "markdown",
   "id": "103bbbb3",
   "metadata": {},
   "source": [
    "# **함수 생성 및 활용**"
   ]
  },
  {
   "cell_type": "markdown",
   "id": "e6062223",
   "metadata": {},
   "source": [
    "## **1.input(입력 매개변수)**"
   ]
  },
  {
   "cell_type": "markdown",
   "id": "109bbc64-a4b8-4501-ad9c-b5c2a305b23a",
   "metadata": {},
   "source": [
    "* 무작정 만들기"
   ]
  },
  {
   "cell_type": "code",
   "execution_count": 3,
   "id": "03258b2e",
   "metadata": {
    "tags": []
   },
   "outputs": [
    {
     "name": "stdout",
     "output_type": "stream",
     "text": [
      "Hello, Python World~!\n"
     ]
    }
   ],
   "source": [
    "def hello_world() :\n",
    "    print('Hello, Python World~!')\n",
    "    \n",
    "hello_world()"
   ]
  },
  {
   "cell_type": "markdown",
   "id": "faa6e0b7-cdd2-4804-bccb-2fa5831b79c7",
   "metadata": {},
   "source": [
    "* 여러 개의 입력매개변수 사용하기"
   ]
  },
  {
   "cell_type": "code",
   "execution_count": 44,
   "id": "fe138102",
   "metadata": {
    "tags": []
   },
   "outputs": [
    {
     "name": "stdout",
     "output_type": "stream",
     "text": [
      "Hello Han ~~~\n",
      "HELLO Han ~!!!\n",
      "HELLO Han ~!!!\n",
      "Hello Han ~~~\n",
      "Hello Han ~~~\n"
     ]
    }
   ],
   "source": [
    "def hello(name, loud = 1) :\n",
    "    if loud == 1 :\n",
    "        print('HELLO ' + name + ' ~!!!')\n",
    "    else :\n",
    "        print('Hello ' + name + ' ~~~')\n",
    "\n",
    "hello(name = 'Han', loud = 0) # 매개변수 이름과 입력값\n",
    "hello(name = 'Han')           # 기본값 지정 매개변수 생략\n",
    "hello('Han')                  # 기본값 지정 매개변수 생략\n",
    "hello('Han',0)                # 입력매개변수 이름 생략\n",
    "hello(loud = 0, name = 'Han') # 입력값 순서 바꾸기"
   ]
  },
  {
   "cell_type": "markdown",
   "id": "5dbd8173-a19a-42fd-9908-1c469663ecd2",
   "metadata": {},
   "source": [
    "* *입력매개변수\n",
    "    * 입력값의 갯수를 제한하지 않고 받고자 할 때 사용\n",
    "    * 입력된 데이터 타입은 tuple "
   ]
  },
  {
   "cell_type": "code",
   "execution_count": 6,
   "id": "73eb072f-362d-469c-930f-dfc69767a9e1",
   "metadata": {
    "tags": []
   },
   "outputs": [
    {
     "name": "stdout",
     "output_type": "stream",
     "text": [
      "(1, 2, 3) <class 'tuple'>\n",
      "(2, 4, 6, 8, 10) <class 'tuple'>\n"
     ]
    }
   ],
   "source": [
    "def numbers(*nums) :\n",
    "    print(nums, type(nums))\n",
    "    \n",
    "numbers(1, 2, 3)\n",
    "numbers(2, 4, 6, 8, 10)"
   ]
  },
  {
   "cell_type": "markdown",
   "id": "f2257d57-7da4-4e29-bdb6-ead2faeb6f63",
   "metadata": {},
   "source": [
    "<img src='https://raw.githubusercontent.com/jangrae/img/master/practice_01.png' width=120 align=\"left\"/>"
   ]
  },
  {
   "cell_type": "markdown",
   "id": "a10eb9dd-9360-4248-b36b-847ad3eae3df",
   "metadata": {},
   "source": [
    "[문1] 여러 개의 숫자를 입력받아 평균을 계산하여 출력(print)하시오."
   ]
  },
  {
   "cell_type": "code",
   "execution_count": 17,
   "id": "ccfa4262-33d4-48dd-8f98-6175ed645b9b",
   "metadata": {
    "tags": []
   },
   "outputs": [
    {
     "name": "stdout",
     "output_type": "stream",
     "text": [
      "2.0\n"
     ]
    }
   ],
   "source": [
    "def get_mean(*nums):\n",
    "    mean = sum(nums) / len(nums)\n",
    "    return mean\n",
    "    \n",
    "result = get_mean(1, 2, 3)\n",
    "print(result)"
   ]
  },
  {
   "cell_type": "markdown",
   "id": "237600a1",
   "metadata": {},
   "source": [
    "## **2.output**\n",
    "\n",
    "* 함수의 결과를 출력하는 방법 두가지\n",
    "    * print : 화면에 출력만 수행\n",
    "    * return : 화면 출력 + 함수 외부로 결과 반환(진짜 output)\n",
    "        * 결과를 별도 변수에 저장하면, 화면 출력은 생략됨\n",
    "        * 함수는 return을 만나면 종료됨"
   ]
  },
  {
   "cell_type": "markdown",
   "id": "b6752533-9a41-402b-911f-c7079277896c",
   "metadata": {},
   "source": [
    "### **(1) print vs. return**"
   ]
  },
  {
   "cell_type": "code",
   "execution_count": 28,
   "id": "131c774c",
   "metadata": {
    "tags": []
   },
   "outputs": [
    {
     "name": "stdout",
     "output_type": "stream",
     "text": [
      "(1, 2, 3)\n"
     ]
    }
   ],
   "source": [
    "def numbers1(*nums) :\n",
    "    print(nums)\n",
    "\n",
    "numbers1(1, 2, 3)"
   ]
  },
  {
   "cell_type": "code",
   "execution_count": 30,
   "id": "e5036b57",
   "metadata": {
    "tags": []
   },
   "outputs": [
    {
     "data": {
      "text/plain": [
       "(1, 2, 3)"
      ]
     },
     "execution_count": 30,
     "metadata": {},
     "output_type": "execute_result"
    }
   ],
   "source": [
    "def numbers2(*nums) : \n",
    "    return nums\n",
    "\n",
    "numbers2(1, 2, 3)"
   ]
  },
  {
   "cell_type": "code",
   "execution_count": 31,
   "id": "130cf51c",
   "metadata": {
    "tags": []
   },
   "outputs": [
    {
     "name": "stdout",
     "output_type": "stream",
     "text": [
      "(1, 2, 3)\n",
      "None\n",
      "--------------------\n",
      "(1, 2, 3)\n"
     ]
    }
   ],
   "source": [
    "# 함수 출력 : print\n",
    "a1 = numbers1(1, 2, 3)\n",
    "print(a1)\n",
    "\n",
    "print('-'*20)\n",
    "\n",
    "# 함수 출력 : return\n",
    "a2 = numbers2(1, 2, 3)\n",
    "print(a2)"
   ]
  },
  {
   "cell_type": "markdown",
   "id": "eb7438df-6d41-4cbe-a92c-60d4c0e0a520",
   "metadata": {},
   "source": [
    "### **(2) 여러 개 output**"
   ]
  },
  {
   "cell_type": "code",
   "execution_count": 34,
   "id": "c8a2ed8c",
   "metadata": {
    "tags": []
   },
   "outputs": [
    {
     "name": "stdout",
     "output_type": "stream",
     "text": [
      "15 50\n",
      "(15, 50)\n"
     ]
    }
   ],
   "source": [
    "def calculator(a, b) :\n",
    "    summ = a + b\n",
    "    mult = a * b\n",
    "    return summ, mult\n",
    "\n",
    "r1, r2 = calculator(10, 5)\n",
    "r3 = calculator(10, 5)\n",
    "print(r1, r2)\n",
    "print(r3)"
   ]
  },
  {
   "cell_type": "markdown",
   "id": "07fd0a24-a673-4259-9739-783ad88b2800",
   "metadata": {},
   "source": [
    "* 결과값 둘 중 하나만 필요하다면..."
   ]
  },
  {
   "cell_type": "code",
   "execution_count": 36,
   "id": "9aada59d",
   "metadata": {
    "tags": []
   },
   "outputs": [
    {
     "data": {
      "text/plain": [
       "15"
      ]
     },
     "execution_count": 36,
     "metadata": {},
     "output_type": "execute_result"
    }
   ],
   "source": [
    "r1, _ = calculator(10, 5)\n",
    "r1"
   ]
  },
  {
   "cell_type": "markdown",
   "id": "ae67deb2-d8b4-42a3-87ff-b76d88c89d7a",
   "metadata": {},
   "source": [
    "<img src='https://raw.githubusercontent.com/jangrae/img/master/practice_01.png' width=120 align=\"left\"/>"
   ]
  },
  {
   "cell_type": "markdown",
   "id": "465e40c2-1735-4a9f-b9d8-c5ae1b2e4fde",
   "metadata": {},
   "source": [
    "[문1] 여러 개의 숫자를 입력받아 합계와 평균을 계산하여 출력(return)하시오."
   ]
  },
  {
   "cell_type": "code",
   "execution_count": 57,
   "id": "13b898ef-1c03-409c-8f4c-e1bd975b1b41",
   "metadata": {
    "tags": []
   },
   "outputs": [],
   "source": [
    "def calculator(*nums) :\n",
    "    summ = sum(nums)\n",
    "    mean = summ/len(nums)\n",
    "    return summ, mean"
   ]
  },
  {
   "cell_type": "markdown",
   "id": "7ecea226-598a-42f6-b959-0500456517ee",
   "metadata": {},
   "source": [
    "[문2] 1번 문제에서 생성한 함수를 사용하시오.\n",
    "* 두 개 변수로 결과를 저장하고 출력\n",
    "* 평균만 결과를 저장해서 출력(합계는 저장하지 않음)"
   ]
  },
  {
   "cell_type": "code",
   "execution_count": 58,
   "id": "6314c2fa-1d39-4511-901b-d4b26199ac24",
   "metadata": {
    "tags": []
   },
   "outputs": [
    {
     "name": "stdout",
     "output_type": "stream",
     "text": [
      "10\n",
      "2.5\n"
     ]
    }
   ],
   "source": [
    "r1, r2 = calculator(1, 2, 3, 4)\n",
    "print(r1)\n",
    "print(r2)"
   ]
  },
  {
   "cell_type": "code",
   "execution_count": 59,
   "id": "710e3b9d-9ac3-4b85-99a9-5fc5a7dd9cf5",
   "metadata": {
    "tags": []
   },
   "outputs": [
    {
     "data": {
      "text/plain": [
       "2.5"
      ]
     },
     "execution_count": 59,
     "metadata": {},
     "output_type": "execute_result"
    }
   ],
   "source": [
    "_, r2 = calculator(1, 2, 3, 4)\n",
    "r2"
   ]
  },
  {
   "cell_type": "code",
   "execution_count": 69,
   "id": "0343239b-e0ba-4a6a-b862-080aac33a92f",
   "metadata": {
    "tags": []
   },
   "outputs": [
    {
     "name": "stdout",
     "output_type": "stream",
     "text": [
      "<class 'tuple'>\n",
      "2.5\n"
     ]
    }
   ],
   "source": [
    "r = calculator(1, 2, 3, 4)[1]\n",
    "\n",
    "print(type(calculator(1, 2, 3, 4)))\n",
    "print(r)"
   ]
  },
  {
   "cell_type": "markdown",
   "id": "1036835d",
   "metadata": {},
   "source": [
    "## **3.예외처리**\n",
    "* 이 내용은 함수 개발시 필요한 부분이지만, 이번 과정에서는 다루지 않겠습니다."
   ]
  },
  {
   "cell_type": "markdown",
   "id": "7f9bfeeb-06c1-4b72-9004-abff05e9131f",
   "metadata": {},
   "source": [
    "* 아래 코드는 오류가 발생됩니다.\n",
    "    * 파이썬 오류 메시지 ==> very long\n",
    "    * 오류 메시지 : 제일 마지막\n",
    "    * 나머지 : 오류가 난 지점 설명\n"
   ]
  },
  {
   "cell_type": "code",
   "execution_count": 65,
   "id": "e72c0041",
   "metadata": {
    "tags": []
   },
   "outputs": [
    {
     "ename": "ZeroDivisionError",
     "evalue": "division by zero",
     "output_type": "error",
     "traceback": [
      "\u001b[1;31m---------------------------------------------------------------------------\u001b[0m",
      "\u001b[1;31mZeroDivisionError\u001b[0m                         Traceback (most recent call last)",
      "Cell \u001b[1;32mIn[65], line 5\u001b[0m\n\u001b[0;32m      2\u001b[0m     result \u001b[38;5;241m=\u001b[39m a \u001b[38;5;241m/\u001b[39m b\n\u001b[0;32m      3\u001b[0m     \u001b[38;5;28;01mreturn\u001b[39;00m result\n\u001b[1;32m----> 5\u001b[0m divide(\u001b[38;5;241m10\u001b[39m, \u001b[38;5;241m0\u001b[39m)\n",
      "Cell \u001b[1;32mIn[65], line 2\u001b[0m, in \u001b[0;36mdivide\u001b[1;34m(a, b)\u001b[0m\n\u001b[0;32m      1\u001b[0m \u001b[38;5;28;01mdef\u001b[39;00m \u001b[38;5;21mdivide\u001b[39m(a, b) :\n\u001b[1;32m----> 2\u001b[0m     result \u001b[38;5;241m=\u001b[39m a \u001b[38;5;241m/\u001b[39m b\n\u001b[0;32m      3\u001b[0m     \u001b[38;5;28;01mreturn\u001b[39;00m result\n",
      "\u001b[1;31mZeroDivisionError\u001b[0m: division by zero"
     ]
    }
   ],
   "source": [
    "def divide(a, b) :\n",
    "    result = a / b\n",
    "    return result\n",
    "\n",
    "divide(10, 0)"
   ]
  },
  {
   "cell_type": "markdown",
   "id": "a86332b6-8d7a-4328-978d-994b360a67e5",
   "metadata": {},
   "source": [
    "### **(1) 입력값에 대한 예외처리**"
   ]
  },
  {
   "cell_type": "markdown",
   "id": "3faf52ae-95f4-4359-afae-c61084e0c831",
   "metadata": {},
   "source": [
    "* 입력값에 대한 예외 처리 필요"
   ]
  },
  {
   "cell_type": "code",
   "execution_count": null,
   "id": "c51d3b4f",
   "metadata": {},
   "outputs": [],
   "source": [
    "def divide(a, b) :\n",
    "    if b == 0 :\n",
    "        print('나누는 값이 0이 될 수 없습니다.')\n",
    "    else: \n",
    "        result = a / b\n",
    "        return result\n",
    "\n",
    "divide(10, 0)"
   ]
  },
  {
   "cell_type": "markdown",
   "id": "ac4ac2bc-69b2-423a-ae5a-3c743563eb62",
   "metadata": {},
   "source": [
    "* 입력값의 타입에 대한 확인이 필요할 수 있습니다.\n",
    "    * 정수 : int\n",
    "    * 실수 : float\n",
    "    * 문자열 : str\n",
    "    * 리스트 : list\n",
    "    * 딕셔너리 : dict"
   ]
  },
  {
   "cell_type": "code",
   "execution_count": 66,
   "id": "52757adc-f177-49e1-b00d-1ba982edb794",
   "metadata": {
    "tags": []
   },
   "outputs": [
    {
     "data": {
      "text/plain": [
       "True"
      ]
     },
     "execution_count": 66,
     "metadata": {},
     "output_type": "execute_result"
    }
   ],
   "source": [
    "a = 1\n",
    "type(a) == int"
   ]
  },
  {
   "cell_type": "code",
   "execution_count": 67,
   "id": "7e418238-1861-47b6-a1a6-100c89c2aa5b",
   "metadata": {
    "tags": []
   },
   "outputs": [
    {
     "data": {
      "text/plain": [
       "True"
      ]
     },
     "execution_count": 67,
     "metadata": {},
     "output_type": "execute_result"
    }
   ],
   "source": [
    "b = [1,2,3]\n",
    "type(b) == list"
   ]
  },
  {
   "cell_type": "code",
   "execution_count": 68,
   "id": "f831552a-20c0-4ee3-ae97-96d504ac629e",
   "metadata": {
    "tags": []
   },
   "outputs": [
    {
     "data": {
      "text/plain": [
       "True"
      ]
     },
     "execution_count": 68,
     "metadata": {},
     "output_type": "execute_result"
    }
   ],
   "source": [
    "c = {'a':1, 'b': [1,2,3]}\n",
    "type(c) == dict"
   ]
  },
  {
   "cell_type": "markdown",
   "id": "3cea5d01-83a8-45a1-8b23-90a94a1aedc1",
   "metadata": {},
   "source": [
    "### **(2) 오류에 대한 일반 처리(try, except)**\n",
    "\n",
    "* try :\n",
    "    * 오류를 감지하고자 하는 코드 블럭\n",
    "* except :\n",
    "    * 발생된 오류를 처리"
   ]
  },
  {
   "cell_type": "markdown",
   "id": "9b72db81-703c-4097-bb5c-e17c71dd53fc",
   "metadata": {},
   "source": [
    "#### **1) 특정오류**"
   ]
  },
  {
   "cell_type": "code",
   "execution_count": 70,
   "id": "ab74e1f9-aff2-4023-a4ad-b09bb9cc7631",
   "metadata": {
    "tags": []
   },
   "outputs": [
    {
     "name": "stdout",
     "output_type": "stream",
     "text": [
      "정수로 변환할 수 없는 문자열입니다.\n"
     ]
    }
   ],
   "source": [
    "try:\n",
    "    num_str = \"abc\"\n",
    "    num = int(num_str)\n",
    "    \n",
    "except ValueError:\n",
    "    print(\"정수로 변환할 수 없는 문자열입니다.\")"
   ]
  },
  {
   "cell_type": "code",
   "execution_count": 71,
   "id": "02076f4c-a6fd-4ad9-8655-2575eef16541",
   "metadata": {
    "tags": []
   },
   "outputs": [
    {
     "name": "stdout",
     "output_type": "stream",
     "text": [
      "0으로 나눌수 없습니다.\n"
     ]
    }
   ],
   "source": [
    "def divide(a, b) :\n",
    "    try :\n",
    "        result = a / b\n",
    "        return result\n",
    "    \n",
    "    except ZeroDivisionError:\n",
    "        print(\"0으로 나눌수 없습니다.\")\n",
    "        \n",
    "divide(10, 0)"
   ]
  },
  {
   "cell_type": "markdown",
   "id": "a2bf5ea0-d1fe-498d-ab4b-4340194fb06d",
   "metadata": {},
   "source": [
    "#### **2) 오류 전체**"
   ]
  },
  {
   "cell_type": "code",
   "execution_count": null,
   "id": "cae84e1c-9295-4761-a9a3-24a404b5e40a",
   "metadata": {},
   "outputs": [],
   "source": [
    "def divide(a, b) :\n",
    "    try :\n",
    "        result = a / b\n",
    "        return result\n",
    "    \n",
    "    except Exception as e:\n",
    "        print(\"오류가 발생하였습니다:\", e)\n",
    "        \n",
    "divide(10, 0)"
   ]
  },
  {
   "cell_type": "markdown",
   "id": "c301b9e3-3265-478e-856b-221b41c8ebdd",
   "metadata": {},
   "source": [
    "<img src='https://raw.githubusercontent.com/jangrae/img/master/practice_01.png' width=120 align=\"left\"/>"
   ]
  },
  {
   "cell_type": "markdown",
   "id": "78656731-d400-4d00-9e7a-7547f9da2c1a",
   "metadata": {},
   "source": [
    "[문1] 여러 개의 숫자를 입력받아 합계와 평균을 계산하여 출력(return)하는 함수에 대해 입력값에 대한 예외처리를 수행하시오.\n",
    "* 모든 입력값이 정수인지 점검하고, \n",
    "* 아닌 경우 \"모든 숫자를 정수로 입력해주세요.\" 출력"
   ]
  },
  {
   "cell_type": "code",
   "execution_count": 93,
   "id": "e43409a2-69a3-4d7b-83a6-72ee163b0629",
   "metadata": {
    "tags": []
   },
   "outputs": [
    {
     "name": "stdout",
     "output_type": "stream",
     "text": [
      "모든 숫자를 정수로 입력해주세요.\n"
     ]
    },
    {
     "data": {
      "text/plain": [
       "(12, 3.0)"
      ]
     },
     "execution_count": 93,
     "metadata": {},
     "output_type": "execute_result"
    }
   ],
   "source": [
    "def calc(*nums):\n",
    "    if all(type(i) == int for i in nums):\n",
    "        summ = sum(nums)\n",
    "        avg = summ / len(nums)\n",
    "        return summ, avg\n",
    "    else:\n",
    "        print('모든 숫자를 정수로 입력해주세요.')\n",
    "        return\n",
    "\n",
    "calc(1, 6, 2, 3.1)\n",
    "calc(1, 6, 2, 3)"
   ]
  },
  {
   "cell_type": "markdown",
   "id": "e65ad869-a48a-40bf-bcee-d8026bd970b6",
   "metadata": {},
   "source": [
    "## **4.복습문제**"
   ]
  },
  {
   "cell_type": "markdown",
   "id": "68727610-e323-4f6a-ae99-fa1d8e1c9ea3",
   "metadata": {},
   "source": [
    "1. 기념일 계산기를 만듭시다.  \n",
    "* 입력 : 특별한 날(year, month, day)\n",
    "    * 입력한 year, month, day 가 날짜 형식이 맞는지 점검하고 날짜 형식으로 반환하는 함수는 제공됩니다.(date_check)\n",
    "    * 입력한 날짜가 오늘 이후 이면 안됩니다.\n",
    "* 처리 : 입력한 날로부터 오늘이 몇일째인지 계산\n",
    "    * 오늘 날짜 : datetime.now()\n",
    "    * 두 날짜의 차이를 일(day)로 표시 : (날짜 - 날짜).days\n",
    "* 출력 : \"오늘은 OOO일째 입니다!\""
   ]
  },
  {
   "cell_type": "code",
   "execution_count": 166,
   "id": "7a630362-6617-4a81-98bb-5f355eba677e",
   "metadata": {
    "tags": []
   },
   "outputs": [],
   "source": [
    "from datetime import datetime\n",
    "def date_check(year, month, day):\n",
    "    try:\n",
    "        year = int(year)\n",
    "        month = int(month)\n",
    "        day = int(day)\n",
    "\n",
    "        date = datetime(year, month, day)\n",
    "        return date\n",
    "    \n",
    "    except ValueError as e:\n",
    "        print(\"올바른 날짜 형식으로 입력해주세요.\")\n",
    "        return None\n",
    "    \n",
    "def anniversary(year, month, day):\n",
    "    dday = (datetime.now() - date_check(year, month, day)).days\n",
    "    if dday>=0:\n",
    "        print('오늘은 {}일째 입니다!'.format(dday))\n",
    "    else:\n",
    "        print('오늘 이후 날짜를 입력하면 안 됩니다.')\n",
    "    "
   ]
  },
  {
   "cell_type": "code",
   "execution_count": 167,
   "id": "ce531c4b-6174-4f30-a47c-664a3dad5fe7",
   "metadata": {
    "tags": []
   },
   "outputs": [
    {
     "name": "stdout",
     "output_type": "stream",
     "text": [
      "올바른 날짜 형식으로 입력해주세요.\n"
     ]
    },
    {
     "ename": "TypeError",
     "evalue": "unsupported operand type(s) for -: 'datetime.datetime' and 'NoneType'",
     "output_type": "error",
     "traceback": [
      "\u001b[1;31m---------------------------------------------------------------------------\u001b[0m",
      "\u001b[1;31mTypeError\u001b[0m                                 Traceback (most recent call last)",
      "Cell \u001b[1;32mIn[167], line 1\u001b[0m\n\u001b[1;32m----> 1\u001b[0m anniversary(\u001b[38;5;241m2024\u001b[39m, \u001b[38;5;241m2\u001b[39m, \u001b[38;5;124m'\u001b[39m\u001b[38;5;124ma\u001b[39m\u001b[38;5;124m'\u001b[39m)\n",
      "Cell \u001b[1;32mIn[166], line 16\u001b[0m, in \u001b[0;36manniversary\u001b[1;34m(year, month, day)\u001b[0m\n\u001b[0;32m     15\u001b[0m \u001b[38;5;28;01mdef\u001b[39;00m \u001b[38;5;21manniversary\u001b[39m(year, month, day):\n\u001b[1;32m---> 16\u001b[0m     dday \u001b[38;5;241m=\u001b[39m (datetime\u001b[38;5;241m.\u001b[39mnow() \u001b[38;5;241m-\u001b[39m date_check(year, month, day))\u001b[38;5;241m.\u001b[39mdays\n\u001b[0;32m     17\u001b[0m     \u001b[38;5;28;01mif\u001b[39;00m dday\u001b[38;5;241m>\u001b[39m\u001b[38;5;241m=\u001b[39m\u001b[38;5;241m0\u001b[39m:\n\u001b[0;32m     18\u001b[0m         \u001b[38;5;28mprint\u001b[39m(\u001b[38;5;124m'\u001b[39m\u001b[38;5;124m오늘은 \u001b[39m\u001b[38;5;132;01m{}\u001b[39;00m\u001b[38;5;124m일째 입니다!\u001b[39m\u001b[38;5;124m'\u001b[39m\u001b[38;5;241m.\u001b[39mformat(dday))\n",
      "\u001b[1;31mTypeError\u001b[0m: unsupported operand type(s) for -: 'datetime.datetime' and 'NoneType'"
     ]
    }
   ],
   "source": [
    "anniversary(2024, 2, 'a')"
   ]
  },
  {
   "cell_type": "code",
   "execution_count": null,
   "id": "b5ff9823-c39a-405d-8704-a99161ccc39d",
   "metadata": {
    "tags": []
   },
   "outputs": [],
   "source": []
  },
  {
   "cell_type": "code",
   "execution_count": null,
   "id": "9f4b8e85-6671-4f83-9dd5-45adf1c3c22f",
   "metadata": {},
   "outputs": [],
   "source": []
  }
 ],
 "metadata": {
  "kernelspec": {
   "display_name": "Python 3 (ipykernel)",
   "language": "python",
   "name": "python3"
  },
  "language_info": {
   "codemirror_mode": {
    "name": "ipython",
    "version": 3
   },
   "file_extension": ".py",
   "mimetype": "text/x-python",
   "name": "python",
   "nbconvert_exporter": "python",
   "pygments_lexer": "ipython3",
   "version": "3.11.5"
  }
 },
 "nbformat": 4,
 "nbformat_minor": 5
}
