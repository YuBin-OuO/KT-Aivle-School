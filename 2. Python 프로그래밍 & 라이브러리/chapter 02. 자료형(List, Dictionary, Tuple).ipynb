{
 "cells": [
  {
   "cell_type": "markdown",
   "id": "f4f897f4",
   "metadata": {
    "id": "f4f897f4"
   },
   "source": [
    "# **자료형(List, Dictionary, Tuple)**\n",
    "\n",
    "* 여러 값을 한꺼번에 저장하고 관리하기 위한 자료형에 대해 배웁니다.\n",
    "* 각 자료형에 대해 3가지를 배웁니다.\n",
    "    * 생성 : 어떻게 만드는지\n",
    "    * 조회 : 어떻게 데이터를 가져다 사용하는지\n",
    "    * 수정 : 어떻게 추가, 변경, 삭제 하는지."
   ]
  },
  {
   "cell_type": "markdown",
   "id": "7b0425a0-ee39-4013-b816-e05a87a14a49",
   "metadata": {
    "id": "7b0425a0-ee39-4013-b816-e05a87a14a49"
   },
   "source": [
    "## **1.리스트(list)**"
   ]
  },
  {
   "cell_type": "markdown",
   "id": "32779570",
   "metadata": {
    "id": "32779570"
   },
   "source": [
    "### **(1) 리스트 생성**\n",
    "\n",
    "* 대괄호 […, …, …, …, … ] 로 선언\n",
    "    * List_a = [ 1, 2, 3, 4, 5 ]"
   ]
  },
  {
   "cell_type": "markdown",
   "id": "bbd6bdb1-a8b6-49a2-bf81-fabb6639630d",
   "metadata": {
    "id": "bbd6bdb1-a8b6-49a2-bf81-fabb6639630d",
    "tags": []
   },
   "source": [
    "#### **1) 기본 생성**"
   ]
  },
  {
   "cell_type": "code",
   "execution_count": 13,
   "id": "060a7ef0",
   "metadata": {
    "id": "060a7ef0",
    "tags": []
   },
   "outputs": [
    {
     "name": "stdout",
     "output_type": "stream",
     "text": [
      "[1, 2, 3, 4, 5]\n",
      "['a', 'b', 'c', 'd', 'e']\n"
     ]
    }
   ],
   "source": [
    "# 리스트 생성하기\n",
    "list_a = [ 1, 2, 3, 4, 5 ]\n",
    "list_b = ['a','b','c','d','e']\n",
    "\n",
    "# 전체 조회\n",
    "print(list_a)\n",
    "print(list_b)"
   ]
  },
  {
   "cell_type": "code",
   "execution_count": 14,
   "id": "c06eb743-9f35-4b53-a42a-17bcf4950a43",
   "metadata": {
    "tags": []
   },
   "outputs": [
    {
     "data": {
      "text/plain": [
       "['a', 'b', 'c', 'd', 'e']"
      ]
     },
     "execution_count": 14,
     "metadata": {},
     "output_type": "execute_result"
    }
   ],
   "source": [
    "list_a\n",
    "list_b"
   ]
  },
  {
   "cell_type": "code",
   "execution_count": 15,
   "id": "60969e59-3907-4367-ad3f-2123c4ece6a3",
   "metadata": {
    "tags": []
   },
   "outputs": [
    {
     "data": {
      "text/plain": [
       "[1, 2, 3, 4, 5]"
      ]
     },
     "metadata": {},
     "output_type": "display_data"
    },
    {
     "data": {
      "text/plain": [
       "['a', 'b', 'c', 'd', 'e']"
      ]
     },
     "metadata": {},
     "output_type": "display_data"
    }
   ],
   "source": [
    "display(list_a)\n",
    "display(list_b)"
   ]
  },
  {
   "cell_type": "markdown",
   "id": "3ccaf1b0-c9e3-4c53-b126-5d2db528370a",
   "metadata": {
    "id": "3ccaf1b0-c9e3-4c53-b126-5d2db528370a"
   },
   "source": [
    "* print문\n",
    "    * 코드셀 안에서 화면에 결과를 출력하기 위해서 사용\n",
    "    * 출력할 결과가 1개이면 생략 가능\n",
    "    * 여러 개이면 반드시 print 문 사용해야 함\n",
    "* 대체가능한 함수 : display()"
   ]
  },
  {
   "cell_type": "markdown",
   "id": "3b9bac7b-5144-4467-a3f5-2e8e41dd5d83",
   "metadata": {
    "id": "3b9bac7b-5144-4467-a3f5-2e8e41dd5d83"
   },
   "source": [
    "#### **2) range 함수**\n",
    "* range 함수는 자주 사용됩니다.\n",
    "    * 순차 증가값(등차행렬)으로 리스트 생성시\n",
    "* 문법 : range(시작값, 끝값, 증가값)\n",
    "    * 시작값 생략 --> 0부터 시작\n",
    "    * 증가값 생략 --> 1씩 증가\n",
    "    * 끝값 : 포함 안됨, 이전까지"
   ]
  },
  {
   "cell_type": "code",
   "execution_count": 7,
   "id": "60762159-87c2-4c30-a414-15fa9c1b8224",
   "metadata": {
    "id": "60762159-87c2-4c30-a414-15fa9c1b8224",
    "tags": []
   },
   "outputs": [
    {
     "data": {
      "text/plain": [
       "range(1, 12, 2)"
      ]
     },
     "execution_count": 7,
     "metadata": {},
     "output_type": "execute_result"
    }
   ],
   "source": [
    "# 1부터 11까지, 2씩 증가하는 값으로 리스트 생성\n",
    "range(1, 12, 2)"
   ]
  },
  {
   "cell_type": "code",
   "execution_count": 8,
   "id": "a6413f46-87e5-4645-9b33-d09c1dae88d6",
   "metadata": {
    "id": "a6413f46-87e5-4645-9b33-d09c1dae88d6",
    "tags": []
   },
   "outputs": [
    {
     "data": {
      "text/plain": [
       "[1, 3, 5, 7, 9, 11]"
      ]
     },
     "execution_count": 8,
     "metadata": {},
     "output_type": "execute_result"
    }
   ],
   "source": [
    "list(range(1, 12, 2))"
   ]
  },
  {
   "cell_type": "markdown",
   "id": "44739d1e-de4b-4cab-9592-d9558ddf3a73",
   "metadata": {
    "id": "44739d1e-de4b-4cab-9592-d9558ddf3a73"
   },
   "source": [
    "#### **3) 리스트 안의 리스트**\n",
    "\n",
    "* 리스트 안에 리스트를 포함시킬 수 있습니다.\n",
    "    * 1차원 리스트 안의 1차원 리스트를 포함시켜서, 2차원 리스트를 생성"
   ]
  },
  {
   "cell_type": "code",
   "execution_count": null,
   "id": "9b35e90a",
   "metadata": {
    "id": "9b35e90a"
   },
   "outputs": [],
   "source": [
    "list_d = [1, 2, 3]\n",
    "list_e = [list_d, 4, 5]\n",
    "print(list_e)"
   ]
  },
  {
   "cell_type": "markdown",
   "id": "9d45d67a-6fa9-4c88-991c-682a6f531cb6",
   "metadata": {
    "id": "9d45d67a-6fa9-4c88-991c-682a6f531cb6"
   },
   "source": [
    "<img src='https://raw.githubusercontent.com/jangrae/img/master/practice_01.png' width=120 align=\"left\"/>"
   ]
  },
  {
   "cell_type": "markdown",
   "id": "26db1f02-b156-406c-aafa-c7c480b21e10",
   "metadata": {
    "id": "26db1f02-b156-406c-aafa-c7c480b21e10"
   },
   "source": [
    "[문1] 50부터 0 전까지 4씩 감소시킨 값을 리스트로 저장하고 출력하시오."
   ]
  },
  {
   "cell_type": "code",
   "execution_count": 23,
   "id": "1d0685ad-a72c-4ee3-8340-ea5738382df1",
   "metadata": {
    "id": "1d0685ad-a72c-4ee3-8340-ea5738382df1",
    "tags": []
   },
   "outputs": [
    {
     "data": {
      "text/plain": [
       "[50, 46, 42, 38, 34, 30, 26, 22, 18, 14, 10, 6, 2]"
      ]
     },
     "execution_count": 23,
     "metadata": {},
     "output_type": "execute_result"
    }
   ],
   "source": [
    "list(range(50, 0, -4))"
   ]
  },
  {
   "cell_type": "markdown",
   "id": "415e0083",
   "metadata": {
    "id": "415e0083"
   },
   "source": [
    "### **(2) 리스트 조회**"
   ]
  },
  {
   "cell_type": "markdown",
   "id": "93821149-2924-4aa0-942e-795beb834b3e",
   "metadata": {
    "id": "93821149-2924-4aa0-942e-795beb834b3e"
   },
   "source": [
    "#### **1) 인덱스 값으로 조회**\n",
    "* 인덱스 : 0부터 시작\n",
    "* 인덱스의 끝에서부터 셀 때 : -1, -2, -3, ..."
   ]
  },
  {
   "cell_type": "code",
   "execution_count": null,
   "id": "66a0e92f",
   "metadata": {
    "id": "66a0e92f"
   },
   "outputs": [],
   "source": [
    "a = [23, 3, 16, 45, 11]\n",
    "print(a[0], a[3])\n",
    "print(a[-1], a[-3])"
   ]
  },
  {
   "cell_type": "markdown",
   "id": "83a4a49e-321d-4faa-b71d-7794c5eb6cca",
   "metadata": {
    "id": "83a4a49e-321d-4faa-b71d-7794c5eb6cca"
   },
   "source": [
    "#### **2) 인덱스 범위 조회(슬라이싱)**\n",
    "* 리스트[시작인덱스:끝인덱스]\n",
    "    * 시작인덱스 부터 **끝 인덱스 전까지**\n",
    "    * 시작인덱스 생략 ==> 처음부터\n",
    "    * 끝인덱스 생략 ==> 끝까지"
   ]
  },
  {
   "cell_type": "code",
   "execution_count": 24,
   "id": "90ab75d3",
   "metadata": {
    "id": "90ab75d3",
    "tags": []
   },
   "outputs": [
    {
     "name": "stdout",
     "output_type": "stream",
     "text": [
      "[23, 3, 16]\n",
      "[23, 3, 16]\n"
     ]
    }
   ],
   "source": [
    "a = [23, 3, 16, 45, 11]\n",
    "\n",
    "print(a[0:3])\n",
    "# 또는\n",
    "print(a[:3])"
   ]
  },
  {
   "cell_type": "code",
   "execution_count": 27,
   "id": "a1dba84a",
   "metadata": {
    "id": "a1dba84a",
    "tags": []
   },
   "outputs": [
    {
     "name": "stdout",
     "output_type": "stream",
     "text": [
      "[16, 45, 11]\n",
      "[16, 45, 11]\n",
      "[16, 45, 11]\n"
     ]
    }
   ],
   "source": [
    "print(a[2:5]) # 5 인덱스는 없지만 써도 됨\n",
    "print(a[2:])\n",
    "print(a[-3:])"
   ]
  },
  {
   "cell_type": "markdown",
   "id": "19cbd489-160f-4192-8326-7a1ff2173e3c",
   "metadata": {
    "id": "19cbd489-160f-4192-8326-7a1ff2173e3c"
   },
   "source": [
    "<img src='https://raw.githubusercontent.com/jangrae/img/master/practice_01.png' width=120 align=\"left\"/>"
   ]
  },
  {
   "cell_type": "markdown",
   "id": "b5e705b1-1e18-456a-bd94-60d496ee157d",
   "metadata": {
    "id": "b5e705b1-1e18-456a-bd94-60d496ee157d"
   },
   "source": [
    "[문1] 다음 항목들로 리스트 '한글'를 생성하시오\n",
    "* '가','나','다','라','마','바','사'"
   ]
  },
  {
   "cell_type": "code",
   "execution_count": 30,
   "id": "ecaa1ccc-e261-4abc-80c6-997bde1f4286",
   "metadata": {
    "id": "ecaa1ccc-e261-4abc-80c6-997bde1f4286",
    "tags": []
   },
   "outputs": [],
   "source": [
    "한글 = ['가', '나','다','라','마','바','사']"
   ]
  },
  {
   "cell_type": "markdown",
   "id": "71cfe608-7e6d-4584-80eb-647a3b9ee20a",
   "metadata": {
    "id": "71cfe608-7e6d-4584-80eb-647a3b9ee20a"
   },
   "source": [
    "[문2] 다음을 출력하시오.\n",
    "* '라'\n",
    "* ['가','나',다']\n",
    "* ['바','사']"
   ]
  },
  {
   "cell_type": "code",
   "execution_count": 32,
   "id": "cf743fd6-f20f-4ce6-9508-5bbe1f251100",
   "metadata": {
    "id": "cf743fd6-f20f-4ce6-9508-5bbe1f251100",
    "tags": []
   },
   "outputs": [
    {
     "name": "stdout",
     "output_type": "stream",
     "text": [
      "라\n",
      "['가', '나', '다']\n",
      "['바', '사']\n"
     ]
    }
   ],
   "source": [
    "print(한글[3])\n",
    "print(한글[:3])\n",
    "print(한글[-2:])"
   ]
  },
  {
   "cell_type": "markdown",
   "id": "fc048fc3",
   "metadata": {
    "id": "fc048fc3"
   },
   "source": [
    "### **(3) 리스트 수정**"
   ]
  },
  {
   "cell_type": "markdown",
   "id": "93d847e3-f6c7-4b0a-b8fe-9118d164b15c",
   "metadata": {
    "id": "93d847e3-f6c7-4b0a-b8fe-9118d164b15c"
   },
   "source": [
    "#### **1) 값 추가**\n",
    "* 값을 추가하는 두가지 방법\n",
    "    * ① .append()\n",
    "    * ② 리스트 + [추가할 값] : 리스트1 + 리스트2 = 합쳐진 리스트"
   ]
  },
  {
   "cell_type": "code",
   "execution_count": 98,
   "id": "24ec8803",
   "metadata": {
    "id": "24ec8803",
    "tags": []
   },
   "outputs": [
    {
     "name": "stdout",
     "output_type": "stream",
     "text": [
      "[23, 3, 16, 45, 11, 99]\n"
     ]
    }
   ],
   "source": [
    "a = [23, 3, 16, 45, 11]\n",
    "\n",
    "a.append(99)\n",
    "print(a)"
   ]
  },
  {
   "cell_type": "code",
   "execution_count": 105,
   "id": "ff826916",
   "metadata": {
    "id": "ff826916",
    "tags": []
   },
   "outputs": [
    {
     "name": "stdout",
     "output_type": "stream",
     "text": [
      "[23, 3, 16, 45, 11, 99]\n"
     ]
    },
    {
     "data": {
      "text/plain": [
       "int"
      ]
     },
     "execution_count": 105,
     "metadata": {},
     "output_type": "execute_result"
    }
   ],
   "source": [
    "a = [23, 3, 16, 45, 11]\n",
    "\n",
    "a = a + [99]\n",
    "print(a)"
   ]
  },
  {
   "cell_type": "markdown",
   "id": "fcecab44-fcd8-40bf-912c-ddddfcdf9ca9",
   "metadata": {
    "id": "fcecab44-fcd8-40bf-912c-ddddfcdf9ca9"
   },
   "source": [
    "#### **2) 값 수정**\n",
    "* 인덱스로 해당 값을 조회하고 그 자리에 수정\n",
    "    * a[2] = 34"
   ]
  },
  {
   "cell_type": "code",
   "execution_count": 35,
   "id": "768d3baf-69ba-4dd1-ab0d-61485868cf00",
   "metadata": {
    "id": "768d3baf-69ba-4dd1-ab0d-61485868cf00",
    "tags": []
   },
   "outputs": [
    {
     "name": "stdout",
     "output_type": "stream",
     "text": [
      "[23, 3, 34, 45, 11]\n"
     ]
    }
   ],
   "source": [
    "a = [23, 3, 16, 45, 11]\n",
    "\n",
    "a[2] = 34\n",
    "print(a)"
   ]
  },
  {
   "cell_type": "markdown",
   "id": "60723d75-247d-4a87-8ec7-54986d940e38",
   "metadata": {
    "id": "60723d75-247d-4a87-8ec7-54986d940e38"
   },
   "source": [
    "#### **3) 값 삭제**\n",
    "* 인덱스로 조회한 대상을 삭제 : del a[2]"
   ]
  },
  {
   "cell_type": "code",
   "execution_count": 36,
   "id": "748f0e6e-3633-4b45-910f-0bfb1a8e5e27",
   "metadata": {
    "id": "748f0e6e-3633-4b45-910f-0bfb1a8e5e27",
    "tags": []
   },
   "outputs": [
    {
     "name": "stdout",
     "output_type": "stream",
     "text": [
      "[23, 3, 45, 11]\n"
     ]
    }
   ],
   "source": [
    "a = [23, 3, 16, 45, 11]\n",
    "\n",
    "del a[2]\n",
    "print(a)"
   ]
  },
  {
   "cell_type": "markdown",
   "id": "da7203b6-2f22-4078-b839-ea9d9df3bf80",
   "metadata": {
    "id": "da7203b6-2f22-4078-b839-ea9d9df3bf80"
   },
   "source": [
    "* 특정 값을 찾아서 삭제 :\n",
    "    * 리스트.remove(값)"
   ]
  },
  {
   "cell_type": "code",
   "execution_count": 37,
   "id": "afdafb45-a109-4c2a-b314-e30f8b6c50d0",
   "metadata": {
    "id": "afdafb45-a109-4c2a-b314-e30f8b6c50d0",
    "tags": []
   },
   "outputs": [
    {
     "name": "stdout",
     "output_type": "stream",
     "text": [
      "[23, 3, 16, 11]\n"
     ]
    }
   ],
   "source": [
    "a = [23, 3, 16, 45, 11]\n",
    "\n",
    "a.remove(45)\n",
    "print(a)"
   ]
  },
  {
   "cell_type": "markdown",
   "id": "3916b592-9bec-45fc-959d-b43d33474f66",
   "metadata": {
    "id": "3916b592-9bec-45fc-959d-b43d33474f66"
   },
   "source": [
    "<img src='https://raw.githubusercontent.com/jangrae/img/master/practice_01.png' width=120 align=\"left\"/>"
   ]
  },
  {
   "cell_type": "markdown",
   "id": "cc52d873-1dad-4689-85b7-acb83f09b3df",
   "metadata": {
    "id": "cc52d873-1dad-4689-85b7-acb83f09b3df"
   },
   "source": [
    "[문1] 리스트 list1에 1, 3, 5, 7을, 리스트 list2에 2, 4, 8을 저장하고,\n",
    "list1의 두 번째 값을 list2에 추가하시오.\n"
   ]
  },
  {
   "cell_type": "code",
   "execution_count": 108,
   "id": "8c5829db-04f2-4cb5-a995-edcf6dac5f79",
   "metadata": {
    "id": "8c5829db-04f2-4cb5-a995-edcf6dac5f79",
    "tags": []
   },
   "outputs": [
    {
     "data": {
      "text/plain": [
       "[2, 4, 8, 3]"
      ]
     },
     "execution_count": 108,
     "metadata": {},
     "output_type": "execute_result"
    }
   ],
   "source": [
    "list1 = [1, 3, 5, 7]\n",
    "list2 = [2, 4, 8]\n",
    "list2.append(list1[1])\n",
    "list2"
   ]
  },
  {
   "cell_type": "markdown",
   "id": "c6add7a9-74c6-47a0-a4ca-b681f2c2b84c",
   "metadata": {
    "id": "c6add7a9-74c6-47a0-a4ca-b681f2c2b84c"
   },
   "source": [
    "[문2] 문1의 list2에서 세번째 값을 삭제하시오."
   ]
  },
  {
   "cell_type": "code",
   "execution_count": 109,
   "id": "1367aff9-7254-4ab1-a67b-000c8cabb8a6",
   "metadata": {
    "id": "1367aff9-7254-4ab1-a67b-000c8cabb8a6",
    "tags": []
   },
   "outputs": [
    {
     "data": {
      "text/plain": [
       "[2, 4, 3]"
      ]
     },
     "execution_count": 109,
     "metadata": {},
     "output_type": "execute_result"
    }
   ],
   "source": [
    "list2.remove(8)\n",
    "# del list2[2]\n",
    "list2"
   ]
  },
  {
   "cell_type": "markdown",
   "id": "13dfb787-13e1-423d-89a4-84a61a062b27",
   "metadata": {
    "id": "13dfb787-13e1-423d-89a4-84a61a062b27"
   },
   "source": [
    "[문3] 문2의 list2에서 두번째 값에 10을 곱한 값으로 변경하시오."
   ]
  },
  {
   "cell_type": "code",
   "execution_count": 111,
   "id": "56693283-c993-4857-b1bf-4bbc758191d1",
   "metadata": {
    "id": "56693283-c993-4857-b1bf-4bbc758191d1",
    "tags": []
   },
   "outputs": [
    {
     "data": {
      "text/plain": [
       "[2, 40, 3]"
      ]
     },
     "execution_count": 111,
     "metadata": {},
     "output_type": "execute_result"
    }
   ],
   "source": [
    "list2[1] *= 10\n",
    "list2"
   ]
  },
  {
   "cell_type": "markdown",
   "id": "bb666278-0be9-48d6-95c8-ebd3622028a3",
   "metadata": {
    "id": "bb666278-0be9-48d6-95c8-ebd3622028a3"
   },
   "source": [
    "## **2.딕셔너리(dictionary)**\n",
    "\n",
    "* 하나의 딕셔너리 안에 다양한 형태의 여러 값들을 저장\n",
    "* 여러 자료형들의 묶음"
   ]
  },
  {
   "cell_type": "markdown",
   "id": "512c355c-5162-439d-bc5a-256a5035b3e1",
   "metadata": {
    "id": "512c355c-5162-439d-bc5a-256a5035b3e1"
   },
   "source": [
    "### **(1) 생성**\n",
    "\n",
    "* 중괄호 {} 안에 , key : value 형태로 선언합니다.\n",
    "    * Value : 다양한 형태의 변수\n",
    "    * Key : Value 변수의 이름"
   ]
  },
  {
   "cell_type": "code",
   "execution_count": 115,
   "id": "097f3e0a-6f85-4967-9881-1536b54009ab",
   "metadata": {
    "id": "097f3e0a-6f85-4967-9881-1536b54009ab",
    "tags": []
   },
   "outputs": [
    {
     "name": "stdout",
     "output_type": "stream",
     "text": [
      "{'v1': 32, 'l1': [1, 2, 3], 'd1': {'a': 1, 'b': 2}}\n"
     ]
    }
   ],
   "source": [
    "dict_a = { 'v1' : 32,\n",
    "           'l1' : [1, 2, 3],\n",
    "           'd1' : {'a' : 1, 'b' : 2} }\n",
    "print(dict_a)"
   ]
  },
  {
   "cell_type": "markdown",
   "id": "3907251b-59f0-403f-ba31-ddb54c05d3fe",
   "metadata": {
    "id": "3907251b-59f0-403f-ba31-ddb54c05d3fe"
   },
   "source": [
    "* 딕셔너리 정보 조회\n",
    "    * .keys() : 딕셔너리의 key 만 조회\n",
    "    * .values() : 딕셔너리의 값 만 조회\n",
    "    * .items() : key와 값을 쌍(tuple)으로 조회"
   ]
  },
  {
   "cell_type": "code",
   "execution_count": 116,
   "id": "da052dff-c5bc-494a-804e-b473c08e40af",
   "metadata": {
    "id": "da052dff-c5bc-494a-804e-b473c08e40af",
    "tags": []
   },
   "outputs": [
    {
     "data": {
      "text/plain": [
       "dict_keys(['v1', 'l1', 'd1'])"
      ]
     },
     "execution_count": 116,
     "metadata": {},
     "output_type": "execute_result"
    }
   ],
   "source": [
    "dict_a.keys()"
   ]
  },
  {
   "cell_type": "code",
   "execution_count": 117,
   "id": "b5b1c4a9-9ed9-41db-a496-c34c91be6ed9",
   "metadata": {
    "id": "b5b1c4a9-9ed9-41db-a496-c34c91be6ed9",
    "tags": []
   },
   "outputs": [
    {
     "data": {
      "text/plain": [
       "dict_values([32, [1, 2, 3], {'a': 1, 'b': 2}])"
      ]
     },
     "execution_count": 117,
     "metadata": {},
     "output_type": "execute_result"
    }
   ],
   "source": [
    "dict_a.values()"
   ]
  },
  {
   "cell_type": "code",
   "execution_count": 118,
   "id": "74c0e7a5-779a-4529-a1fd-ffe12138f362",
   "metadata": {
    "id": "74c0e7a5-779a-4529-a1fd-ffe12138f362",
    "tags": []
   },
   "outputs": [
    {
     "data": {
      "text/plain": [
       "dict_items([('v1', 32), ('l1', [1, 2, 3]), ('d1', {'a': 1, 'b': 2})])"
      ]
     },
     "execution_count": 118,
     "metadata": {},
     "output_type": "execute_result"
    }
   ],
   "source": [
    "dict_a.items()"
   ]
  },
  {
   "cell_type": "markdown",
   "id": "8446b8d8-a54c-48ae-9b0c-3793e5c5d859",
   "metadata": {
    "id": "8446b8d8-a54c-48ae-9b0c-3793e5c5d859",
    "tags": []
   },
   "source": [
    "### **(2) 조회**\n",
    "\n",
    "* 조회시 키로 값을 조회\n",
    "    * 딕셔너리[키]"
   ]
  },
  {
   "cell_type": "code",
   "execution_count": 119,
   "id": "aea119cf-ab1c-4a59-9154-a7fdc4d8b980",
   "metadata": {
    "id": "aea119cf-ab1c-4a59-9154-a7fdc4d8b980",
    "tags": []
   },
   "outputs": [
    {
     "name": "stdout",
     "output_type": "stream",
     "text": [
      "32\n",
      "==============================\n",
      "[1, 2, 3]\n",
      "[1, 2]\n",
      "==============================\n",
      "{'a': 1, 'b': 2}\n",
      "1\n"
     ]
    }
   ],
   "source": [
    "dict_a = { 'v1': 32, 'l1': [1,2,3], 'd1': {'a':1, 'b':2}}\n",
    "\n",
    "print( dict_a['v1'])\n",
    "print('=' * 30)\n",
    "\n",
    "print( dict_a['l1'])\n",
    "print( dict_a['l1'][:2])\n",
    "print('=' * 30)\n",
    "\n",
    "print( dict_a['d1'])\n",
    "print( dict_a['d1']['a'])"
   ]
  },
  {
   "cell_type": "markdown",
   "id": "e1c84151-e361-4931-a8ad-8c873873f323",
   "metadata": {
    "id": "e1c84151-e361-4931-a8ad-8c873873f323"
   },
   "source": [
    "### **(3) 수정**"
   ]
  },
  {
   "cell_type": "code",
   "execution_count": 134,
   "id": "8bf856d8-ca74-4676-9a4c-4ff9b6e9ebcd",
   "metadata": {
    "id": "8bf856d8-ca74-4676-9a4c-4ff9b6e9ebcd",
    "tags": []
   },
   "outputs": [],
   "source": [
    "dict_a = { 'v1': 32, 'l1': [1,2,3], 'd1': {'a':1, 'b':2}}"
   ]
  },
  {
   "cell_type": "code",
   "execution_count": 135,
   "id": "ef5f7952-a27c-4c98-83c0-cc905bb2981b",
   "metadata": {
    "id": "ef5f7952-a27c-4c98-83c0-cc905bb2981b",
    "tags": []
   },
   "outputs": [
    {
     "name": "stdout",
     "output_type": "stream",
     "text": [
      "{'v1': 32, 'l1': [1, 2, 3], 'd1': {'a': 1, 'b': 2}, 'v2': 500}\n"
     ]
    }
   ],
   "source": [
    "# 추가\n",
    "dict_a['v2'] = 500\n",
    "print(dict_a)"
   ]
  },
  {
   "cell_type": "code",
   "execution_count": 136,
   "id": "3cea2071-bb5d-4f7b-98d5-6f6878ffc250",
   "metadata": {
    "id": "3cea2071-bb5d-4f7b-98d5-6f6878ffc250",
    "tags": []
   },
   "outputs": [
    {
     "name": "stdout",
     "output_type": "stream",
     "text": [
      "{'v1': 32, 'l1': [1, 2, 3], 'd1': {'a': 1, 'b': 2}, 'v2': 300}\n"
     ]
    }
   ],
   "source": [
    "# 수정\n",
    "dict_a['v2'] = 300\n",
    "print(dict_a)"
   ]
  },
  {
   "cell_type": "code",
   "execution_count": 139,
   "id": "5ef2512c-9a17-4b51-945c-b5bab0bc965a",
   "metadata": {
    "id": "5ef2512c-9a17-4b51-945c-b5bab0bc965a",
    "tags": []
   },
   "outputs": [
    {
     "name": "stdout",
     "output_type": "stream",
     "text": [
      "{'v1': 32, 'l1': [1, 2, 3], 'd1': {'a': 1, 'b': 2}}\n"
     ]
    }
   ],
   "source": [
    "# 삭제\n",
    "del dict_a['v2']\n",
    "print(dict_a)"
   ]
  },
  {
   "cell_type": "markdown",
   "id": "603d5068-7146-4b30-9b24-90c76b6ac1e5",
   "metadata": {
    "id": "603d5068-7146-4b30-9b24-90c76b6ac1e5"
   },
   "source": [
    "<img src='https://raw.githubusercontent.com/jangrae/img/master/practice_01.png' width=120 align=\"left\"/>"
   ]
  },
  {
   "cell_type": "markdown",
   "id": "c94a5e2c-b2b4-4d80-89d0-738814559719",
   "metadata": {
    "id": "c94a5e2c-b2b4-4d80-89d0-738814559719"
   },
   "source": [
    "[문1] 다음 항목으로 딕셔너리를 생성하시오.\n",
    "* dict name : member\n",
    "* key : value\n",
    "    * 'name':['한기영']\n",
    "    * 'age':[49]\n",
    "    * 'gender':['m']"
   ]
  },
  {
   "cell_type": "code",
   "execution_count": 95,
   "id": "4fba1222-c98d-4ea8-b14a-ec9a66a86b45",
   "metadata": {
    "id": "4fba1222-c98d-4ea8-b14a-ec9a66a86b45",
    "tags": []
   },
   "outputs": [
    {
     "data": {
      "text/plain": [
       "{'name': ['한기영'], 'age': [49], 'gender': ['m']}"
      ]
     },
     "execution_count": 95,
     "metadata": {},
     "output_type": "execute_result"
    }
   ],
   "source": [
    "member = {'name':['한기영'], 'age':[49], 'gender':['m']}\n",
    "member"
   ]
  },
  {
   "cell_type": "markdown",
   "id": "a3d7bf4b-5ff4-40fa-9e75-acbd23e8be57",
   "metadata": {
    "id": "a3d7bf4b-5ff4-40fa-9e75-acbd23e8be57"
   },
   "source": [
    "[문2] member 딕셔너리의 key에 맞게 자신의 정보를 추가해 봅시다."
   ]
  },
  {
   "cell_type": "code",
   "execution_count": 96,
   "id": "7cabfe6f-d24e-4c79-910d-d05407d3b008",
   "metadata": {
    "id": "7cabfe6f-d24e-4c79-910d-d05407d3b008",
    "tags": []
   },
   "outputs": [
    {
     "data": {
      "text/plain": [
       "{'name': ['한기영', '조유빈'], 'age': [49, 22], 'gender': ['m', 'f']}"
      ]
     },
     "execution_count": 96,
     "metadata": {},
     "output_type": "execute_result"
    }
   ],
   "source": [
    "member['name'].append('조유빈')\n",
    "member['age'].append(22)\n",
    "member['gender'].append('f')\n",
    "member"
   ]
  },
  {
   "cell_type": "markdown",
   "id": "1ac46f65-daa7-41d2-b85b-eec350046496",
   "metadata": {
    "id": "1ac46f65-daa7-41d2-b85b-eec350046496"
   },
   "source": [
    "[문3] 다음을 조회해 봅시다.\n",
    "* [49, ##]\n",
    "* 49"
   ]
  },
  {
   "cell_type": "code",
   "execution_count": 97,
   "id": "73feceee-77f5-440c-92f2-e1c07ce0054d",
   "metadata": {
    "tags": []
   },
   "outputs": [
    {
     "name": "stdout",
     "output_type": "stream",
     "text": [
      "[49, 22]\n",
      "22\n"
     ]
    }
   ],
   "source": [
    "print(member['age'])\n",
    "print(member['age'][1])"
   ]
  },
  {
   "cell_type": "markdown",
   "id": "6492b849-e4e2-4cdc-99f1-8f1d721432a3",
   "metadata": {
    "id": "6492b849-e4e2-4cdc-99f1-8f1d721432a3"
   },
   "source": [
    "### **(4) [추가]리스트, 딕셔너리로 부터 값 할당하기**"
   ]
  },
  {
   "cell_type": "code",
   "execution_count": 71,
   "id": "de5b9ea0-94df-40e4-930a-c8ae2b435f55",
   "metadata": {
    "id": "de5b9ea0-94df-40e4-930a-c8ae2b435f55",
    "tags": []
   },
   "outputs": [
    {
     "name": "stdout",
     "output_type": "stream",
     "text": [
      "23 3 16\n"
     ]
    }
   ],
   "source": [
    "# 리스트로 부터 값 할당\n",
    "a = [23, 3, 16]\n",
    "\n",
    "a1, a2, a3 = a\n",
    "print(a1, a2, a3)"
   ]
  },
  {
   "cell_type": "code",
   "execution_count": 72,
   "id": "930f4467-4308-4574-af00-0a4e056d89df",
   "metadata": {
    "id": "930f4467-4308-4574-af00-0a4e056d89df",
    "tags": []
   },
   "outputs": [
    {
     "name": "stdout",
     "output_type": "stream",
     "text": [
      "32 [1, 2, 3] {'a': 1, 'b': 2}\n"
     ]
    }
   ],
   "source": [
    "# 딕셔너리로 부터 값 할당\n",
    "dict_a = { 'v1': 32, 'l1': [1,2,3], 'd1': {'a':1, 'b':2}}\n",
    "\n",
    "# 각 값을 할당\n",
    "a1, a2, a3 = dict_a.values()\n",
    "print(a1, a2, a3)"
   ]
  },
  {
   "cell_type": "markdown",
   "id": "b7fa63f5-b072-442b-8baf-1e4ecae7b9f5",
   "metadata": {
    "id": "b7fa63f5-b072-442b-8baf-1e4ecae7b9f5"
   },
   "source": [
    "## **3.튜플(tuple)**\n",
    "\n",
    "* 튜플은 좌표, 순서쌍을 담는 자료형입니다."
   ]
  },
  {
   "cell_type": "code",
   "execution_count": 75,
   "id": "fe2ea39d-905c-4f2c-8feb-e5bd90efb24f",
   "metadata": {
    "id": "fe2ea39d-905c-4f2c-8feb-e5bd90efb24f",
    "tags": []
   },
   "outputs": [
    {
     "data": {
      "text/plain": [
       "(1, 'a')"
      ]
     },
     "execution_count": 75,
     "metadata": {},
     "output_type": "execute_result"
    }
   ],
   "source": [
    "# 소괄호로 선언\n",
    "t = (4,7)\n",
    "t\n",
    "a=(1,'a')\n",
    "a"
   ]
  },
  {
   "cell_type": "code",
   "execution_count": 76,
   "id": "6c80ecc5-0326-4f41-a87d-f51ed3934364",
   "metadata": {
    "id": "6c80ecc5-0326-4f41-a87d-f51ed3934364",
    "tags": []
   },
   "outputs": [
    {
     "name": "stdout",
     "output_type": "stream",
     "text": [
      "4\n",
      "7\n"
     ]
    }
   ],
   "source": [
    "# 조회는 인덱스로\n",
    "print(t[0])\n",
    "print(t[1])"
   ]
  },
  {
   "cell_type": "markdown",
   "id": "0b511e32-9192-494d-b9d4-bc2282c84e0f",
   "metadata": {
    "id": "0b511e32-9192-494d-b9d4-bc2282c84e0f"
   },
   "source": [
    "## **4.복습문제**"
   ]
  },
  {
   "cell_type": "markdown",
   "id": "a55e1952-1f98-4ffc-98a4-719f855d3b39",
   "metadata": {
    "id": "a55e1952-1f98-4ffc-98a4-719f855d3b39"
   },
   "source": [
    "1. 0 ~ 100 사이의 5의 배수로 된 리스트를 생성하고, 리스트 값들(element)의 개수를 구하시오."
   ]
  },
  {
   "cell_type": "code",
   "execution_count": 83,
   "id": "7525f4ea-1258-4bc4-8cbb-f9427bc20737",
   "metadata": {
    "id": "7525f4ea-1258-4bc4-8cbb-f9427bc20737",
    "tags": []
   },
   "outputs": [
    {
     "name": "stdout",
     "output_type": "stream",
     "text": [
      "[5, 10, 15, 20, 25, 30, 35, 40, 45, 50, 55, 60, 65, 70, 75, 80, 85, 90, 95]\n",
      "19\n"
     ]
    }
   ],
   "source": [
    "a = list(range(5, 100, 5))\n",
    "print(a)\n",
    "print(len(a))"
   ]
  },
  {
   "cell_type": "markdown",
   "id": "b2e46ec2-5fd3-4f70-b95f-045f7eab003b",
   "metadata": {
    "id": "b2e46ec2-5fd3-4f70-b95f-045f7eab003b"
   },
   "source": [
    "2. 1번에서 생성한 리스트 중에서 40를 삭제하시오."
   ]
  },
  {
   "cell_type": "code",
   "execution_count": 86,
   "id": "305935aa",
   "metadata": {
    "id": "305935aa",
    "tags": []
   },
   "outputs": [
    {
     "data": {
      "text/plain": [
       "[5, 10, 15, 20, 25, 30, 35, 45, 50, 55, 60, 65, 70, 75, 80, 85, 90, 95]"
      ]
     },
     "execution_count": 86,
     "metadata": {},
     "output_type": "execute_result"
    }
   ],
   "source": [
    "a.remove(40)\n",
    "a"
   ]
  },
  {
   "cell_type": "markdown",
   "id": "ca00e862-7bd3-49c7-a6ab-7fe27f78ec05",
   "metadata": {
    "id": "ca00e862-7bd3-49c7-a6ab-7fe27f78ec05"
   },
   "source": [
    "3. 2번에 이어서, 끝에서 값 3개를 조회하시오."
   ]
  },
  {
   "cell_type": "code",
   "execution_count": 88,
   "id": "916a7991-766e-4028-b43d-5338d9c8a76f",
   "metadata": {
    "id": "916a7991-766e-4028-b43d-5338d9c8a76f",
    "tags": []
   },
   "outputs": [
    {
     "data": {
      "text/plain": [
       "[85, 90, 95]"
      ]
     },
     "execution_count": 88,
     "metadata": {},
     "output_type": "execute_result"
    }
   ],
   "source": [
    "a[-3:]"
   ]
  },
  {
   "cell_type": "markdown",
   "id": "97b1dbdd-32bf-4a08-af82-55752d6f8577",
   "metadata": {
    "id": "97b1dbdd-32bf-4a08-af82-55752d6f8577"
   },
   "source": [
    "4. 다음의 딕셔너리를 생성하시오.\n",
    "* dict name : products\n",
    "* key : value\n",
    "    * 'name':['바나나킥','짱구','초코파이']\n",
    "    * 'price':[2000, 3000, 4500]"
   ]
  },
  {
   "cell_type": "code",
   "execution_count": 90,
   "id": "332188b3-b0d7-41e6-8cd5-500287762af5",
   "metadata": {
    "id": "332188b3-b0d7-41e6-8cd5-500287762af5",
    "tags": []
   },
   "outputs": [
    {
     "data": {
      "text/plain": [
       "{'name': ['바나나킥', '짱구', '초코파이'], 'price': [2000, 3000, 4500]}"
      ]
     },
     "execution_count": 90,
     "metadata": {},
     "output_type": "execute_result"
    }
   ],
   "source": [
    "products = {'name':['바나나킥','짱구','초코파이'],\n",
    "'price':[2000, 3000, 4500]}\n",
    "products"
   ]
  },
  {
   "cell_type": "markdown",
   "id": "d1028ba5-90b5-41f5-b294-b7fee91cef79",
   "metadata": {
    "id": "d1028ba5-90b5-41f5-b294-b7fee91cef79"
   },
   "source": [
    "5. 4번에 이어서, 다음을 추가하시오.\n",
    "* 제조사 : ['농심','삼양','오리온']"
   ]
  },
  {
   "cell_type": "code",
   "execution_count": 91,
   "id": "edec26a9-b54e-4dcc-ab3c-372753ae827c",
   "metadata": {
    "id": "edec26a9-b54e-4dcc-ab3c-372753ae827c",
    "tags": []
   },
   "outputs": [
    {
     "data": {
      "text/plain": [
       "{'name': ['바나나킥', '짱구', '초코파이'],\n",
       " 'price': [2000, 3000, 4500],\n",
       " '제조사': ['농심', '삼양', '오리온']}"
      ]
     },
     "execution_count": 91,
     "metadata": {},
     "output_type": "execute_result"
    }
   ],
   "source": [
    "products['제조사'] = ['농심','삼양','오리온']\n",
    "products"
   ]
  },
  {
   "cell_type": "markdown",
   "id": "3b4c0b7e-2863-4c7b-99c4-828ed8642314",
   "metadata": {
    "id": "3b4c0b7e-2863-4c7b-99c4-828ed8642314"
   },
   "source": [
    "6. 다음의 결과를 얻도록 조회해 봅시다.\n",
    "* 짱구, 3000, 삼양"
   ]
  },
  {
   "cell_type": "code",
   "execution_count": 93,
   "id": "167b3265-0624-49e1-bfb6-49af1880928d",
   "metadata": {
    "id": "167b3265-0624-49e1-bfb6-49af1880928d",
    "tags": []
   },
   "outputs": [
    {
     "name": "stdout",
     "output_type": "stream",
     "text": [
      "짱구\n",
      "3000\n",
      "삼양\n"
     ]
    }
   ],
   "source": [
    "print(products['name'][1])\n",
    "print(products['price'][1])\n",
    "print(products['제조사'][1])"
   ]
  },
  {
   "cell_type": "code",
   "execution_count": null,
   "id": "ca1847da-3a8f-4352-800e-676ea5c542c5",
   "metadata": {
    "id": "ca1847da-3a8f-4352-800e-676ea5c542c5"
   },
   "outputs": [],
   "source": []
  }
 ],
 "metadata": {
  "colab": {
   "provenance": [],
   "toc_visible": true
  },
  "kernelspec": {
   "display_name": "Python 3 (ipykernel)",
   "language": "python",
   "name": "python3"
  },
  "language_info": {
   "codemirror_mode": {
    "name": "ipython",
    "version": 3
   },
   "file_extension": ".py",
   "mimetype": "text/x-python",
   "name": "python",
   "nbconvert_exporter": "python",
   "pygments_lexer": "ipython3",
   "version": "3.11.5"
  }
 },
 "nbformat": 4,
 "nbformat_minor": 5
}
