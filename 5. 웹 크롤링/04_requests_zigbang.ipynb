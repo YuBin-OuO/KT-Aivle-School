{
 "cells": [
  {
   "cell_type": "markdown",
   "id": "democratic-utility",
   "metadata": {
    "id": "democratic-utility"
   },
   "source": [
    "## Zigbang 원룸 매물 데이터 수집"
   ]
  },
  {
   "cell_type": "code",
   "execution_count": 1,
   "id": "minor-irrigation",
   "metadata": {
    "id": "minor-irrigation",
    "tags": []
   },
   "outputs": [],
   "source": [
    "import requests\n",
    "import pandas as pd"
   ]
  },
  {
   "cell_type": "markdown",
   "id": "whole-answer",
   "metadata": {
    "id": "whole-answer"
   },
   "source": [
    "#### Process\n",
    "    - 동이름으로 위도 경도 구하기\n",
    "    - 위도 경도로 geohash 알아내기\n",
    "    - geohash로 매물 아이디 가져오기\n",
    "    - 매물 아이디로 매물 정보 가져오기"
   ]
  },
  {
   "cell_type": "markdown",
   "id": "b17864a3",
   "metadata": {
    "id": "b17864a3"
   },
   "source": [
    "### 1\\. 동이름으로 위도 경도 구하기"
   ]
  },
  {
   "cell_type": "code",
   "execution_count": 38,
   "id": "e_0LGgefNlrN",
   "metadata": {
    "id": "e_0LGgefNlrN",
    "tags": []
   },
   "outputs": [
    {
     "data": {
      "text/plain": [
       "<Response [200]>"
      ]
     },
     "execution_count": 38,
     "metadata": {},
     "output_type": "execute_result"
    }
   ],
   "source": [
    "# url = 'https://apis.zigbang.com/v2/search?leaseYn=N&q=%EB%A7%9D%EC%9B%90%EB%8F%99&serviceType=%EC%9B%90%EB%A3%B8'\n",
    "# url decoder: https://meyerweb.com/eric/tools/dencoder/ 이용해 url 디코딩\n",
    "addr = '망원동'\n",
    "url = f'https://apis.zigbang.com/v2/search?leaseYn=N&q={addr}&serviceType=원룸'\n",
    "\n",
    "response = requests.get(url)\n",
    "response"
   ]
  },
  {
   "cell_type": "code",
   "execution_count": 39,
   "id": "2f665983-fd4f-48ff-bf63-4ed0c58234ba",
   "metadata": {
    "tags": []
   },
   "outputs": [
    {
     "data": {
      "text/plain": [
       "'{\"success\":true,\"code\":\"200\",\"items\":[{\"id\":4002,\"type\":\"address\",\"name\":\"망원동\",\"hint\":\"\",\"description\":\"서울특별시 마포구 망원동\",\"lat\":37.556785583496094,\"lng\":126.9013442993164,\"zoom\":5,\"polygon\":[],\"_score\":null,\"_source\":{\"name_length\":3,\"local1\":\"서울시\",\"local2\":\"마포구\",\"local3\":\"망원동\",\"web_level\":15,\"web_lat\":37.556785583496094,\"web_lng\":126.9013442993164,\"app_level\":15,\"app_lat\":37.556785583496094,\"app_lng\":126.9013442993164,\"법정동코드\":\"1144012300\"},\"zoom_level\":{\"google\":15,\"daum\":4},\"zoom_level_v2\":{\"app\":5,\"web\":4}}],\"next\":null,\"limit\":0}'"
      ]
     },
     "execution_count": 39,
     "metadata": {},
     "output_type": "execute_result"
    }
   ],
   "source": [
    "response.text"
   ]
  },
  {
   "cell_type": "code",
   "execution_count": 40,
   "id": "42c6f491-7f67-4a90-80dc-3ea98482ba9b",
   "metadata": {
    "tags": []
   },
   "outputs": [
    {
     "data": {
      "text/plain": [
       "{'success': True,\n",
       " 'code': '200',\n",
       " 'items': [{'id': 4002,\n",
       "   'type': 'address',\n",
       "   'name': '망원동',\n",
       "   'hint': '',\n",
       "   'description': '서울특별시 마포구 망원동',\n",
       "   'lat': 37.556785583496094,\n",
       "   'lng': 126.9013442993164,\n",
       "   'zoom': 5,\n",
       "   'polygon': [],\n",
       "   '_score': None,\n",
       "   '_source': {'name_length': 3,\n",
       "    'local1': '서울시',\n",
       "    'local2': '마포구',\n",
       "    'local3': '망원동',\n",
       "    'web_level': 15,\n",
       "    'web_lat': 37.556785583496094,\n",
       "    'web_lng': 126.9013442993164,\n",
       "    'app_level': 15,\n",
       "    'app_lat': 37.556785583496094,\n",
       "    'app_lng': 126.9013442993164,\n",
       "    '법정동코드': '1144012300'},\n",
       "   'zoom_level': {'google': 15, 'daum': 4},\n",
       "   'zoom_level_v2': {'app': 5, 'web': 4}}],\n",
       " 'next': None,\n",
       " 'limit': 0}"
      ]
     },
     "execution_count": 40,
     "metadata": {},
     "output_type": "execute_result"
    }
   ],
   "source": [
    "response.json() # 딕셔너리 데이터로 변환"
   ]
  },
  {
   "cell_type": "code",
   "execution_count": 41,
   "id": "ab329c78-243e-4a52-8f85-6f5c87a977c1",
   "metadata": {
    "tags": []
   },
   "outputs": [
    {
     "data": {
      "text/plain": [
       "{'id': 4002,\n",
       " 'type': 'address',\n",
       " 'name': '망원동',\n",
       " 'hint': '',\n",
       " 'description': '서울특별시 마포구 망원동',\n",
       " 'lat': 37.556785583496094,\n",
       " 'lng': 126.9013442993164,\n",
       " 'zoom': 5,\n",
       " 'polygon': [],\n",
       " '_score': None,\n",
       " '_source': {'name_length': 3,\n",
       "  'local1': '서울시',\n",
       "  'local2': '마포구',\n",
       "  'local3': '망원동',\n",
       "  'web_level': 15,\n",
       "  'web_lat': 37.556785583496094,\n",
       "  'web_lng': 126.9013442993164,\n",
       "  'app_level': 15,\n",
       "  'app_lat': 37.556785583496094,\n",
       "  'app_lng': 126.9013442993164,\n",
       "  '법정동코드': '1144012300'},\n",
       " 'zoom_level': {'google': 15, 'daum': 4},\n",
       " 'zoom_level_v2': {'app': 5, 'web': 4}}"
      ]
     },
     "execution_count": 41,
     "metadata": {},
     "output_type": "execute_result"
    }
   ],
   "source": [
    "data = response.json()['items'][0] # 같은 동 이름이 여러개일 수 있으므로 리스트로 표현됨\n",
    "# [0]: 첫번째 값만 가져오겠다!\n",
    "data\n",
    "# 정확하게 하려면 신사동 말고 ㅇㅇ구 신사동 이런식으로 자세히 써줘야 함"
   ]
  },
  {
   "cell_type": "code",
   "execution_count": 42,
   "id": "28f5f285-62d1-4b11-a59b-89f58ab38f3c",
   "metadata": {
    "tags": []
   },
   "outputs": [
    {
     "data": {
      "text/plain": [
       "(37.556785583496094, 126.9013442993164)"
      ]
     },
     "execution_count": 42,
     "metadata": {},
     "output_type": "execute_result"
    }
   ],
   "source": [
    "lat, lng = data['lat'], data['lng']\n",
    "lat, lng"
   ]
  },
  {
   "cell_type": "markdown",
   "id": "13114fd8",
   "metadata": {
    "id": "13114fd8"
   },
   "source": [
    "### 2\\. 위도 경도로 geohash 알아내기"
   ]
  },
  {
   "cell_type": "code",
   "execution_count": 43,
   "id": "122284eb",
   "metadata": {
    "id": "122284eb",
    "tags": []
   },
   "outputs": [
    {
     "name": "stdout",
     "output_type": "stream",
     "text": [
      "Requirement already satisfied: geohash2 in c:\\users\\user\\anaconda3\\lib\\site-packages (1.1)\n",
      "Requirement already satisfied: docutils>=0.3 in c:\\users\\user\\anaconda3\\lib\\site-packages (from geohash2) (0.18.1)\n"
     ]
    }
   ],
   "source": [
    "!pip install geohash2\n",
    "# 위경도를 geohash로 변환해주는 패키지"
   ]
  },
  {
   "cell_type": "code",
   "execution_count": 44,
   "id": "aware-liquid",
   "metadata": {
    "id": "aware-liquid",
    "tags": []
   },
   "outputs": [],
   "source": [
    "import geohash2"
   ]
  },
  {
   "cell_type": "code",
   "execution_count": 45,
   "id": "AnRA2VaUNnFC",
   "metadata": {
    "id": "AnRA2VaUNnFC",
    "tags": []
   },
   "outputs": [
    {
     "data": {
      "text/plain": [
       "'wydjx'"
      ]
     },
     "execution_count": 45,
     "metadata": {},
     "output_type": "execute_result"
    }
   ],
   "source": [
    "geohash = geohash2.encode(lat, lng, precision = 5)\n",
    "# precision: 영역 (숫자가 커질수록 영역의 규모가 작아짐)\n",
    "geohash"
   ]
  },
  {
   "cell_type": "markdown",
   "id": "6df839b9",
   "metadata": {
    "id": "6df839b9"
   },
   "source": [
    "### 3\\. geohash로 매물 아이디 가져오기"
   ]
  },
  {
   "cell_type": "code",
   "execution_count": 46,
   "id": "MrsBsdbeNn1f",
   "metadata": {
    "id": "MrsBsdbeNn1f",
    "tags": []
   },
   "outputs": [
    {
     "data": {
      "text/plain": [
       "<Response [200]>"
      ]
     },
     "execution_count": 46,
     "metadata": {},
     "output_type": "execute_result"
    }
   ],
   "source": [
    "url = f'https://apis.zigbang.com/v2/items/oneroom?geohash={geohash}&depositMin=0&rentMin=0&salesTypes[0]=전세&salesTypes[1]=월세&domain=zigbang&checkAnyItemWithoutFilter=true'\n",
    "# 역시 디코딩해서 한글로 변환한 뒤 넣어줌\n",
    "\n",
    "response = requests.get(url)\n",
    "response"
   ]
  },
  {
   "cell_type": "code",
   "execution_count": 47,
   "id": "9b0ddb25-6aaf-49a1-865d-a9ce0d333cfd",
   "metadata": {
    "tags": []
   },
   "outputs": [
    {
     "data": {
      "text/plain": [
       "'{\"items\":[{\"lat\":37.52957191936743,\"lng\":126.900435212516,\"itemId\":39817840,\"itemBmType\":\"ZIGBANG\"},{\"lat\":37.52955993739013,\"lng\":126.89979844625006,\"itemId\":40042434,\"itemBmType\":\"ZIGBANG\"},{\"lat\":37.52907304257156,\"lng\":126.90042820847293,\"itemId\":40058332,\"itemBmType\":\"ZIGBANG\"},{\"lat\":37.529073'"
      ]
     },
     "execution_count": 47,
     "metadata": {},
     "output_type": "execute_result"
    }
   ],
   "source": [
    "response.text[:300]"
   ]
  },
  {
   "cell_type": "code",
   "execution_count": 48,
   "id": "cb60cbac-7cc1-4389-80b1-5758a520e312",
   "metadata": {
    "tags": []
   },
   "outputs": [
    {
     "data": {
      "text/plain": [
       "[{'lat': 37.52957191936743,\n",
       "  'lng': 126.900435212516,\n",
       "  'itemId': 39817840,\n",
       "  'itemBmType': 'ZIGBANG'},\n",
       " {'lat': 37.52955993739013,\n",
       "  'lng': 126.89979844625006,\n",
       "  'itemId': 40042434,\n",
       "  'itemBmType': 'ZIGBANG'},\n",
       " {'lat': 37.52907304257156,\n",
       "  'lng': 126.90042820847293,\n",
       "  'itemId': 40058332,\n",
       "  'itemBmType': 'ZIGBANG'}]"
      ]
     },
     "execution_count": 48,
     "metadata": {},
     "output_type": "execute_result"
    }
   ],
   "source": [
    "items = response.json()['items']\n",
    "items[:3]"
   ]
  },
  {
   "cell_type": "code",
   "execution_count": 54,
   "id": "d948c003-d3e0-415c-945f-36ed79028a6a",
   "metadata": {
    "tags": []
   },
   "outputs": [
    {
     "data": {
      "text/plain": [
       "(605, [39817840, 40042434, 40058332])"
      ]
     },
     "execution_count": 54,
     "metadata": {},
     "output_type": "execute_result"
    }
   ],
   "source": [
    "items = [item['itemId'] for item in items]\n",
    "len(items), items[:3]"
   ]
  },
  {
   "cell_type": "markdown",
   "id": "a4a38844-81f0-409e-9393-bce8a55a4ac8",
   "metadata": {},
   "source": [
    "items 너무 많을 경우 나눠서 가져와야 함 (사이트에서 막아놓음)"
   ]
  },
  {
   "cell_type": "markdown",
   "id": "37fea52f",
   "metadata": {
    "id": "37fea52f"
   },
   "source": [
    "### 4\\. 매물 아이디로 매물 정보 가져오기"
   ]
  },
  {
   "cell_type": "code",
   "execution_count": 58,
   "id": "OOcvZ6_jNpOq",
   "metadata": {
    "id": "OOcvZ6_jNpOq",
    "tags": []
   },
   "outputs": [],
   "source": [
    "url = 'https://apis.zigbang.com/v2/items/list'\n",
    "# POST 방식\n",
    "params = {\n",
    "    'domain': 'zigbang',\n",
    "    'item_ids': items,\n",
    "}"
   ]
  },
  {
   "attachments": {
    "35da35e8-07db-4606-99da-ee7a0df08041.png": {
     "image/png": "[encoded data removed]"
    }
   },
   "cell_type": "markdown",
   "id": "1297ff72-398a-47fa-9528-03f471b0d301",
   "metadata": {},
   "source": [
    "![image.png](attachment:35da35e8-07db-4606-99da-ee7a0df08041.png)\n",
    "\n",
    "Payload 탭 참고해 params에 넣어줄 데이터들 보기"
   ]
  },
  {
   "cell_type": "code",
   "execution_count": 59,
   "id": "9c204293-de05-4cb8-9306-647205564631",
   "metadata": {
    "tags": []
   },
   "outputs": [
    {
     "data": {
      "text/plain": [
       "<Response [200]>"
      ]
     },
     "execution_count": 59,
     "metadata": {},
     "output_type": "execute_result"
    }
   ],
   "source": [
    "# 한글 없으므로 json.dumps(params) 해줄 필요 X\n",
    "response = requests.post(url, params)\n",
    "response"
   ]
  },
  {
   "cell_type": "code",
   "execution_count": 64,
   "id": "abb3b9a9-2885-4b4e-9719-2482550458d5",
   "metadata": {
    "tags": []
   },
   "outputs": [
    {
     "data": {
      "text/plain": [
       "'{\"items\":[{\"item_id\":39817840,\"section_type\":null,\"images_thumbnail\":\"https://ic.zigbang.com/ic/items/39817840/1.jpg\",\"sales_type\":\"월세\",\"sales_title\":\"월세\",\"deposit\":1000,\"rent\":50,\"size_m2\":19.83,\"공급면적\":{\"m2\":19.83,\"p\":\"6\"},\"전용면적\":{\"m2\":19.83,\"p\":\"6\"},\"계약면적\":null,\"room_type_title\":null,\"floor\":\"2\",\"floor_string\":\"2\",\"building_floor\":\"9\",\"title\":\"당산동에서 이보다 좋은 매물 못찾습니다\",\"is_first_movein\":null,\"room_type\":\"02\",\"status\":true,\"tags\":[\"추천\"],\"service_type\":\"원룸\",\"random_location\":{\"lat\":37.529100299717015,\"lng\":126.89981677937509},\"manage_cost\":\"7\",\"reg_date\":\"2024-02-14T17:10:06+09:00\",\"is_new\":false,\"addressOrigin\":{\"local1\":\"서울시\",\"local2\":\"영등포구\",\"local3\":\"당산동4가\",\"local4\":\"\",\"fullText\":\"서울시 영등포구 당산동4가\",\"localText\":\"영등포구 당산동4가\"},\"action\":{\"isRead\":false,\"readAt\":null,\"isInquired\":false,\"inquiredAt\":null,\"isRewarded\":false,\"rewardedAt\":null,\"isReported\":false,\"reportedAt\":null,\"isChecked\":false,\"checkedAt\":null,\"isZzim\":false},\"contract\":\"\",\"address\":\"영등포구 당산동4가\",\"is_zzim\":false,\"address1\":\"서울시 영등포구 당산동4가\",\"address2\":null,\"address3\":null,\"item_bm_type\":\"ZIGBANG\"},{\"item_id\":40042434,\"section_type\":null,\"images_thumbnail\":\"https://ic.zigbang.com/ic/items/40042434/1.jpg\",\"sales_type\":\"월세\",\"sales_title\":\"월세\",\"deposit\":1000,\"rent\":50,\"size_m2\":22.48,\"공급면적\":{\"m2\":22.48,\"p\":\"6.8\"},\"전용면적\":{\"m2\":22.48,\"p\":\"6.8\"},\"계약면적\":null,\"room_type_title\":null,\"floor\":\"5\",\"floor_string\":\"5\",\"building_floor\":\"9\",\"title\":\"당산역부근 깔끔함 신축급컨디션  일단클릭\",\"is_first_movein\":null,\"room_type\":\"01\",\"status\":true,\"tags\":[\"추천\"],\"service_type\":\"원룸\",\"random_location\":{\"lat\":37.529576502198275,\"lng\":126.89982435075248},\"manage_cost\":\"7\",\"reg_date\":\"2024-03-07T10:52:07+09:00\",\"is_new\":true,\"addressOrigin\":{\"local1\":\"서울시\",\"local2\":\"영등포구\",\"local3\":\"당산동4가\",\"local4\":\"\",\"fullText\":\"서울시 영등포구 당산동4가\",\"localText\":\"영등포구 당산동4가\"},\"action\":{\"isRead\":false,\"readAt\":null,\"isInquired\":false,\"inquiredAt\":null,\"isRewarded\":false,\"rewardedAt\":null,\"isReported\":false,\"reportedAt\":null,\"isChecked\":false,\"checkedAt\":null,\"isZzim\":false},\"'"
      ]
     },
     "execution_count": 64,
     "metadata": {},
     "output_type": "execute_result"
    }
   ],
   "source": [
    "response.text[:2000]"
   ]
  },
  {
   "cell_type": "code",
   "execution_count": 75,
   "id": "858b82e6-2275-4986-b7aa-fb02a83710e7",
   "metadata": {
    "tags": []
   },
   "outputs": [
    {
     "name": "stdout",
     "output_type": "stream",
     "text": [
      "605\n"
     ]
    },
    {
     "data": {
      "text/plain": [
       "[{'item_id': 39817840,\n",
       "  'section_type': None,\n",
       "  'images_thumbnail': 'https://ic.zigbang.com/ic/items/39817840/1.jpg',\n",
       "  'sales_type': '월세',\n",
       "  'sales_title': '월세',\n",
       "  'deposit': 1000,\n",
       "  'rent': 50,\n",
       "  'size_m2': 19.83,\n",
       "  '공급면적': {'m2': 19.83, 'p': '6'},\n",
       "  '전용면적': {'m2': 19.83, 'p': '6'},\n",
       "  '계약면적': None,\n",
       "  'room_type_title': None,\n",
       "  'floor': '2',\n",
       "  'floor_string': '2',\n",
       "  'building_floor': '9',\n",
       "  'title': '당산동에서 이보다 좋은 매물 못찾습니다',\n",
       "  'is_first_movein': None,\n",
       "  'room_type': '02',\n",
       "  'status': True,\n",
       "  'tags': ['추천'],\n",
       "  'service_type': '원룸',\n",
       "  'random_location': {'lat': 37.529100299717015, 'lng': 126.89981677937509},\n",
       "  'manage_cost': '7',\n",
       "  'reg_date': '2024-02-14T17:10:06+09:00',\n",
       "  'is_new': False,\n",
       "  'addressOrigin': {'local1': '서울시',\n",
       "   'local2': '영등포구',\n",
       "   'local3': '당산동4가',\n",
       "   'local4': '',\n",
       "   'fullText': '서울시 영등포구 당산동4가',\n",
       "   'localText': '영등포구 당산동4가'},\n",
       "  'action': {'isRead': False,\n",
       "   'readAt': None,\n",
       "   'isInquired': False,\n",
       "   'inquiredAt': None,\n",
       "   'isRewarded': False,\n",
       "   'rewardedAt': None,\n",
       "   'isReported': False,\n",
       "   'reportedAt': None,\n",
       "   'isChecked': False,\n",
       "   'checkedAt': None,\n",
       "   'isZzim': False},\n",
       "  'contract': '',\n",
       "  'address': '영등포구 당산동4가',\n",
       "  'is_zzim': False,\n",
       "  'address1': '서울시 영등포구 당산동4가',\n",
       "  'address2': None,\n",
       "  'address3': None,\n",
       "  'item_bm_type': 'ZIGBANG'},\n",
       " {'item_id': 40042434,\n",
       "  'section_type': None,\n",
       "  'images_thumbnail': 'https://ic.zigbang.com/ic/items/40042434/1.jpg',\n",
       "  'sales_type': '월세',\n",
       "  'sales_title': '월세',\n",
       "  'deposit': 1000,\n",
       "  'rent': 50,\n",
       "  'size_m2': 22.48,\n",
       "  '공급면적': {'m2': 22.48, 'p': '6.8'},\n",
       "  '전용면적': {'m2': 22.48, 'p': '6.8'},\n",
       "  '계약면적': None,\n",
       "  'room_type_title': None,\n",
       "  'floor': '5',\n",
       "  'floor_string': '5',\n",
       "  'building_floor': '9',\n",
       "  'title': '당산역부근 깔끔함 신축급컨디션  일단클릭',\n",
       "  'is_first_movein': None,\n",
       "  'room_type': '01',\n",
       "  'status': True,\n",
       "  'tags': ['추천'],\n",
       "  'service_type': '원룸',\n",
       "  'random_location': {'lat': 37.529576502198275, 'lng': 126.89982435075248},\n",
       "  'manage_cost': '7',\n",
       "  'reg_date': '2024-03-07T10:52:07+09:00',\n",
       "  'is_new': True,\n",
       "  'addressOrigin': {'local1': '서울시',\n",
       "   'local2': '영등포구',\n",
       "   'local3': '당산동4가',\n",
       "   'local4': '',\n",
       "   'fullText': '서울시 영등포구 당산동4가',\n",
       "   'localText': '영등포구 당산동4가'},\n",
       "  'action': {'isRead': False,\n",
       "   'readAt': None,\n",
       "   'isInquired': False,\n",
       "   'inquiredAt': None,\n",
       "   'isRewarded': False,\n",
       "   'rewardedAt': None,\n",
       "   'isReported': False,\n",
       "   'reportedAt': None,\n",
       "   'isChecked': False,\n",
       "   'checkedAt': None,\n",
       "   'isZzim': False},\n",
       "  'contract': '',\n",
       "  'address': '영등포구 당산동4가',\n",
       "  'is_zzim': False,\n",
       "  'address1': '서울시 영등포구 당산동4가',\n",
       "  'address2': None,\n",
       "  'address3': None,\n",
       "  'item_bm_type': 'ZIGBANG'}]"
      ]
     },
     "execution_count": 75,
     "metadata": {},
     "output_type": "execute_result"
    }
   ],
   "source": [
    "data = response.json()['items']\n",
    "print(len(data))\n",
    "data[:2]"
   ]
  },
  {
   "cell_type": "code",
   "execution_count": 88,
   "id": "513ae039-6f29-449b-805b-6a893c5ecc98",
   "metadata": {
    "tags": []
   },
   "outputs": [],
   "source": [
    "# jupyter 노트북에서 모든 열 출력하게끔 (default = 20개)\n",
    "pd.options.display.max_columns = 40\n",
    "\n",
    "# max_rows의 default는 60개"
   ]
  },
  {
   "cell_type": "code",
   "execution_count": 82,
   "id": "2c95388b-6019-40cb-972b-071745779ccc",
   "metadata": {
    "tags": []
   },
   "outputs": [
    {
     "data": {
      "text/html": [
       "<div>\n",
       "<style scoped>\n",
       "    .dataframe tbody tr th:only-of-type {\n",
       "        vertical-align: middle;\n",
       "    }\n",
       "\n",
       "    .dataframe tbody tr th {\n",
       "        vertical-align: top;\n",
       "    }\n",
       "\n",
       "    .dataframe thead th {\n",
       "        text-align: right;\n",
       "    }\n",
       "</style>\n",
       "<table border=\"1\" class=\"dataframe\">\n",
       "  <thead>\n",
       "    <tr style=\"text-align: right;\">\n",
       "      <th></th>\n",
       "      <th>item_id</th>\n",
       "      <th>section_type</th>\n",
       "      <th>images_thumbnail</th>\n",
       "      <th>sales_type</th>\n",
       "      <th>sales_title</th>\n",
       "      <th>deposit</th>\n",
       "      <th>rent</th>\n",
       "      <th>size_m2</th>\n",
       "      <th>공급면적</th>\n",
       "      <th>전용면적</th>\n",
       "      <th>계약면적</th>\n",
       "      <th>room_type_title</th>\n",
       "      <th>floor</th>\n",
       "      <th>floor_string</th>\n",
       "      <th>building_floor</th>\n",
       "      <th>title</th>\n",
       "      <th>is_first_movein</th>\n",
       "      <th>room_type</th>\n",
       "      <th>status</th>\n",
       "      <th>tags</th>\n",
       "      <th>service_type</th>\n",
       "      <th>random_location</th>\n",
       "      <th>manage_cost</th>\n",
       "      <th>reg_date</th>\n",
       "      <th>is_new</th>\n",
       "      <th>addressOrigin</th>\n",
       "      <th>action</th>\n",
       "      <th>contract</th>\n",
       "      <th>address</th>\n",
       "      <th>is_zzim</th>\n",
       "      <th>address1</th>\n",
       "      <th>address2</th>\n",
       "      <th>address3</th>\n",
       "      <th>item_bm_type</th>\n",
       "      <th>zikim</th>\n",
       "    </tr>\n",
       "  </thead>\n",
       "  <tbody>\n",
       "    <tr>\n",
       "      <th>0</th>\n",
       "      <td>39817840</td>\n",
       "      <td>None</td>\n",
       "      <td>https://ic.zigbang.com/ic/items/39817840/1.jpg</td>\n",
       "      <td>월세</td>\n",
       "      <td>월세</td>\n",
       "      <td>1000</td>\n",
       "      <td>50</td>\n",
       "      <td>19.83</td>\n",
       "      <td>{'m2': 19.83, 'p': '6'}</td>\n",
       "      <td>{'m2': 19.83, 'p': '6'}</td>\n",
       "      <td>None</td>\n",
       "      <td>None</td>\n",
       "      <td>2</td>\n",
       "      <td>2</td>\n",
       "      <td>9</td>\n",
       "      <td>당산동에서 이보다 좋은 매물 못찾습니다</td>\n",
       "      <td>None</td>\n",
       "      <td>02</td>\n",
       "      <td>True</td>\n",
       "      <td>[추천]</td>\n",
       "      <td>원룸</td>\n",
       "      <td>{'lat': 37.529100299717015, 'lng': 126.8998167...</td>\n",
       "      <td>7</td>\n",
       "      <td>2024-02-14T17:10:06+09:00</td>\n",
       "      <td>False</td>\n",
       "      <td>{'local1': '서울시', 'local2': '영등포구', 'local3': ...</td>\n",
       "      <td>{'isRead': False, 'readAt': None, 'isInquired'...</td>\n",
       "      <td></td>\n",
       "      <td>영등포구 당산동4가</td>\n",
       "      <td>False</td>\n",
       "      <td>서울시 영등포구 당산동4가</td>\n",
       "      <td>None</td>\n",
       "      <td>None</td>\n",
       "      <td>ZIGBANG</td>\n",
       "      <td>NaN</td>\n",
       "    </tr>\n",
       "    <tr>\n",
       "      <th>1</th>\n",
       "      <td>40042434</td>\n",
       "      <td>None</td>\n",
       "      <td>https://ic.zigbang.com/ic/items/40042434/1.jpg</td>\n",
       "      <td>월세</td>\n",
       "      <td>월세</td>\n",
       "      <td>1000</td>\n",
       "      <td>50</td>\n",
       "      <td>22.48</td>\n",
       "      <td>{'m2': 22.48, 'p': '6.8'}</td>\n",
       "      <td>{'m2': 22.48, 'p': '6.8'}</td>\n",
       "      <td>None</td>\n",
       "      <td>None</td>\n",
       "      <td>5</td>\n",
       "      <td>5</td>\n",
       "      <td>9</td>\n",
       "      <td>당산역부근 깔끔함 신축급컨디션  일단클릭</td>\n",
       "      <td>None</td>\n",
       "      <td>01</td>\n",
       "      <td>True</td>\n",
       "      <td>[추천]</td>\n",
       "      <td>원룸</td>\n",
       "      <td>{'lat': 37.529576502198275, 'lng': 126.8998243...</td>\n",
       "      <td>7</td>\n",
       "      <td>2024-03-07T10:52:07+09:00</td>\n",
       "      <td>True</td>\n",
       "      <td>{'local1': '서울시', 'local2': '영등포구', 'local3': ...</td>\n",
       "      <td>{'isRead': False, 'readAt': None, 'isInquired'...</td>\n",
       "      <td></td>\n",
       "      <td>영등포구 당산동4가</td>\n",
       "      <td>False</td>\n",
       "      <td>서울시 영등포구 당산동4가</td>\n",
       "      <td>None</td>\n",
       "      <td>None</td>\n",
       "      <td>ZIGBANG</td>\n",
       "      <td>NaN</td>\n",
       "    </tr>\n",
       "  </tbody>\n",
       "</table>\n",
       "</div>"
      ],
      "text/plain": [
       "    item_id section_type                                images_thumbnail  \\\n",
       "0  39817840         None  https://ic.zigbang.com/ic/items/39817840/1.jpg   \n",
       "1  40042434         None  https://ic.zigbang.com/ic/items/40042434/1.jpg   \n",
       "\n",
       "  sales_type sales_title  deposit  rent  size_m2                       공급면적  \\\n",
       "0         월세          월세     1000    50    19.83    {'m2': 19.83, 'p': '6'}   \n",
       "1         월세          월세     1000    50    22.48  {'m2': 22.48, 'p': '6.8'}   \n",
       "\n",
       "                        전용면적  계약면적 room_type_title floor floor_string  \\\n",
       "0    {'m2': 19.83, 'p': '6'}  None            None     2            2   \n",
       "1  {'m2': 22.48, 'p': '6.8'}  None            None     5            5   \n",
       "\n",
       "  building_floor                   title is_first_movein room_type  status  \\\n",
       "0              9   당산동에서 이보다 좋은 매물 못찾습니다            None        02    True   \n",
       "1              9  당산역부근 깔끔함 신축급컨디션  일단클릭            None        01    True   \n",
       "\n",
       "   tags service_type                                    random_location  \\\n",
       "0  [추천]           원룸  {'lat': 37.529100299717015, 'lng': 126.8998167...   \n",
       "1  [추천]           원룸  {'lat': 37.529576502198275, 'lng': 126.8998243...   \n",
       "\n",
       "  manage_cost                   reg_date  is_new  \\\n",
       "0           7  2024-02-14T17:10:06+09:00   False   \n",
       "1           7  2024-03-07T10:52:07+09:00    True   \n",
       "\n",
       "                                       addressOrigin  \\\n",
       "0  {'local1': '서울시', 'local2': '영등포구', 'local3': ...   \n",
       "1  {'local1': '서울시', 'local2': '영등포구', 'local3': ...   \n",
       "\n",
       "                                              action contract     address  \\\n",
       "0  {'isRead': False, 'readAt': None, 'isInquired'...           영등포구 당산동4가   \n",
       "1  {'isRead': False, 'readAt': None, 'isInquired'...           영등포구 당산동4가   \n",
       "\n",
       "   is_zzim        address1 address2 address3 item_bm_type zikim  \n",
       "0    False  서울시 영등포구 당산동4가     None     None      ZIGBANG   NaN  \n",
       "1    False  서울시 영등포구 당산동4가     None     None      ZIGBANG   NaN  "
      ]
     },
     "execution_count": 82,
     "metadata": {},
     "output_type": "execute_result"
    }
   ],
   "source": [
    "df = pd.DataFrame(data)\n",
    "df[:2]"
   ]
  },
  {
   "cell_type": "code",
   "execution_count": 83,
   "id": "57be62db-fc82-4258-9514-afe10b4cc64c",
   "metadata": {
    "tags": []
   },
   "outputs": [
    {
     "data": {
      "text/plain": [
       "Index(['item_id', 'section_type', 'images_thumbnail', 'sales_type',\n",
       "       'sales_title', 'deposit', 'rent', 'size_m2', '공급면적', '전용면적', '계약면적',\n",
       "       'room_type_title', 'floor', 'floor_string', 'building_floor', 'title',\n",
       "       'is_first_movein', 'room_type', 'status', 'tags', 'service_type',\n",
       "       'random_location', 'manage_cost', 'reg_date', 'is_new', 'addressOrigin',\n",
       "       'action', 'contract', 'address', 'is_zzim', 'address1', 'address2',\n",
       "       'address3', 'item_bm_type', 'zikim'],\n",
       "      dtype='object')"
      ]
     },
     "execution_count": 83,
     "metadata": {},
     "output_type": "execute_result"
    }
   ],
   "source": [
    "df.columns"
   ]
  },
  {
   "cell_type": "code",
   "execution_count": 84,
   "id": "4b8185bd-70d5-4fa2-b958-6c93fe01a203",
   "metadata": {
    "tags": []
   },
   "outputs": [],
   "source": [
    "columns = ['item_id', 'deposit', 'rent', 'size_m2', 'title', 'address1']"
   ]
  },
  {
   "cell_type": "code",
   "execution_count": 91,
   "id": "583aec34-5c93-4f2c-a5b2-e5c4f4fb49bb",
   "metadata": {
    "tags": []
   },
   "outputs": [
    {
     "data": {
      "text/html": [
       "<div>\n",
       "<style scoped>\n",
       "    .dataframe tbody tr th:only-of-type {\n",
       "        vertical-align: middle;\n",
       "    }\n",
       "\n",
       "    .dataframe tbody tr th {\n",
       "        vertical-align: top;\n",
       "    }\n",
       "\n",
       "    .dataframe thead th {\n",
       "        text-align: right;\n",
       "    }\n",
       "</style>\n",
       "<table border=\"1\" class=\"dataframe\">\n",
       "  <thead>\n",
       "    <tr style=\"text-align: right;\">\n",
       "      <th></th>\n",
       "      <th>item_id</th>\n",
       "      <th>deposit</th>\n",
       "      <th>rent</th>\n",
       "      <th>size_m2</th>\n",
       "      <th>title</th>\n",
       "      <th>address1</th>\n",
       "    </tr>\n",
       "  </thead>\n",
       "  <tbody>\n",
       "    <tr>\n",
       "      <th>0</th>\n",
       "      <td>39817840</td>\n",
       "      <td>1000</td>\n",
       "      <td>50</td>\n",
       "      <td>19.83</td>\n",
       "      <td>당산동에서 이보다 좋은 매물 못찾습니다</td>\n",
       "      <td>서울시 영등포구 당산동4가</td>\n",
       "    </tr>\n",
       "    <tr>\n",
       "      <th>1</th>\n",
       "      <td>40042434</td>\n",
       "      <td>1000</td>\n",
       "      <td>50</td>\n",
       "      <td>22.48</td>\n",
       "      <td>당산역부근 깔끔함 신축급컨디션  일단클릭</td>\n",
       "      <td>서울시 영등포구 당산동4가</td>\n",
       "    </tr>\n",
       "  </tbody>\n",
       "</table>\n",
       "</div>"
      ],
      "text/plain": [
       "    item_id  deposit  rent  size_m2                   title        address1\n",
       "0  39817840     1000    50    19.83   당산동에서 이보다 좋은 매물 못찾습니다  서울시 영등포구 당산동4가\n",
       "1  40042434     1000    50    22.48  당산역부근 깔끔함 신축급컨디션  일단클릭  서울시 영등포구 당산동4가"
      ]
     },
     "execution_count": 91,
     "metadata": {},
     "output_type": "execute_result"
    }
   ],
   "source": [
    "df = pd.DataFrame(data)[columns]\n",
    "df[:2]"
   ]
  },
  {
   "cell_type": "code",
   "execution_count": 92,
   "id": "128fc27d-aff1-4c83-802a-87a9a5fa4658",
   "metadata": {
    "tags": []
   },
   "outputs": [
    {
     "data": {
      "text/html": [
       "<div>\n",
       "<style scoped>\n",
       "    .dataframe tbody tr th:only-of-type {\n",
       "        vertical-align: middle;\n",
       "    }\n",
       "\n",
       "    .dataframe tbody tr th {\n",
       "        vertical-align: top;\n",
       "    }\n",
       "\n",
       "    .dataframe thead th {\n",
       "        text-align: right;\n",
       "    }\n",
       "</style>\n",
       "<table border=\"1\" class=\"dataframe\">\n",
       "  <thead>\n",
       "    <tr style=\"text-align: right;\">\n",
       "      <th></th>\n",
       "      <th>item_id</th>\n",
       "      <th>deposit</th>\n",
       "      <th>rent</th>\n",
       "      <th>size_m2</th>\n",
       "      <th>title</th>\n",
       "      <th>address1</th>\n",
       "    </tr>\n",
       "  </thead>\n",
       "  <tbody>\n",
       "    <tr>\n",
       "      <th>0</th>\n",
       "      <td>39809114</td>\n",
       "      <td>22800</td>\n",
       "      <td>40</td>\n",
       "      <td>26.68</td>\n",
       "      <td>보증보험가능 투룸 망원동</td>\n",
       "      <td>서울시 마포구 망원동</td>\n",
       "    </tr>\n",
       "    <tr>\n",
       "      <th>1</th>\n",
       "      <td>39809187</td>\n",
       "      <td>22800</td>\n",
       "      <td>40</td>\n",
       "      <td>26.68</td>\n",
       "      <td>보증보험가능 투룸 망원동</td>\n",
       "      <td>서울시 마포구 망원동</td>\n",
       "    </tr>\n",
       "    <tr>\n",
       "      <th>2</th>\n",
       "      <td>39608712</td>\n",
       "      <td>31000</td>\n",
       "      <td>0</td>\n",
       "      <td>29.67</td>\n",
       "      <td>보증보험가능 옵션과 엘리베이터 있는 2룸 전세</td>\n",
       "      <td>서울시 마포구 망원동</td>\n",
       "    </tr>\n",
       "    <tr>\n",
       "      <th>3</th>\n",
       "      <td>39612133</td>\n",
       "      <td>29600</td>\n",
       "      <td>14</td>\n",
       "      <td>29.67</td>\n",
       "      <td>한강변 2년된 신축 보증보험 가입가능한 매물</td>\n",
       "      <td>서울시 마포구 망원동</td>\n",
       "    </tr>\n",
       "    <tr>\n",
       "      <th>4</th>\n",
       "      <td>39874932</td>\n",
       "      <td>29600</td>\n",
       "      <td>14</td>\n",
       "      <td>29.67</td>\n",
       "      <td>HUG버팀목, 보증보험 신축급 투룸</td>\n",
       "      <td>서울시 마포구 망원동</td>\n",
       "    </tr>\n",
       "    <tr>\n",
       "      <th>...</th>\n",
       "      <td>...</td>\n",
       "      <td>...</td>\n",
       "      <td>...</td>\n",
       "      <td>...</td>\n",
       "      <td>...</td>\n",
       "      <td>...</td>\n",
       "    </tr>\n",
       "    <tr>\n",
       "      <th>58</th>\n",
       "      <td>39591216</td>\n",
       "      <td>45000</td>\n",
       "      <td>0</td>\n",
       "      <td>99.20</td>\n",
       "      <td>햇빛 가득한 깔끔한 쓰리룸, 즉시 입주 가능</td>\n",
       "      <td>서울시 마포구 망원동</td>\n",
       "    </tr>\n",
       "    <tr>\n",
       "      <th>59</th>\n",
       "      <td>39677924</td>\n",
       "      <td>41000</td>\n",
       "      <td>10</td>\n",
       "      <td>68.68</td>\n",
       "      <td>구청역세권  망원초근처 채광굿 방3 화2 베란다</td>\n",
       "      <td>서울시 마포구 망원동</td>\n",
       "    </tr>\n",
       "    <tr>\n",
       "      <th>60</th>\n",
       "      <td>40099714</td>\n",
       "      <td>43000</td>\n",
       "      <td>0</td>\n",
       "      <td>68.68</td>\n",
       "      <td>구청역세권  망원초근처 채광굿 방3 화2 베란다</td>\n",
       "      <td>서울시 마포구 망원동</td>\n",
       "    </tr>\n",
       "    <tr>\n",
       "      <th>61</th>\n",
       "      <td>40009046</td>\n",
       "      <td>500</td>\n",
       "      <td>50</td>\n",
       "      <td>13.22</td>\n",
       "      <td>신축급풀옵션마포구청역5분깔끔한방</td>\n",
       "      <td>서울시 마포구 망원동</td>\n",
       "    </tr>\n",
       "    <tr>\n",
       "      <th>62</th>\n",
       "      <td>40089526</td>\n",
       "      <td>200</td>\n",
       "      <td>63</td>\n",
       "      <td>16.53</td>\n",
       "      <td>신축급 깔끔원룸</td>\n",
       "      <td>서울시 마포구 망원동</td>\n",
       "    </tr>\n",
       "  </tbody>\n",
       "</table>\n",
       "<p>63 rows × 6 columns</p>\n",
       "</div>"
      ],
      "text/plain": [
       "     item_id  deposit  rent  size_m2                       title     address1\n",
       "0   39809114    22800    40    26.68               보증보험가능 투룸 망원동  서울시 마포구 망원동\n",
       "1   39809187    22800    40    26.68               보증보험가능 투룸 망원동  서울시 마포구 망원동\n",
       "2   39608712    31000     0    29.67   보증보험가능 옵션과 엘리베이터 있는 2룸 전세  서울시 마포구 망원동\n",
       "3   39612133    29600    14    29.67    한강변 2년된 신축 보증보험 가입가능한 매물  서울시 마포구 망원동\n",
       "4   39874932    29600    14    29.67         HUG버팀목, 보증보험 신축급 투룸  서울시 마포구 망원동\n",
       "..       ...      ...   ...      ...                         ...          ...\n",
       "58  39591216    45000     0    99.20    햇빛 가득한 깔끔한 쓰리룸, 즉시 입주 가능  서울시 마포구 망원동\n",
       "59  39677924    41000    10    68.68  구청역세권  망원초근처 채광굿 방3 화2 베란다  서울시 마포구 망원동\n",
       "60  40099714    43000     0    68.68  구청역세권  망원초근처 채광굿 방3 화2 베란다  서울시 마포구 망원동\n",
       "61  40009046      500    50    13.22           신축급풀옵션마포구청역5분깔끔한방  서울시 마포구 망원동\n",
       "62  40089526      200    63    16.53                    신축급 깔끔원룸  서울시 마포구 망원동\n",
       "\n",
       "[63 rows x 6 columns]"
      ]
     },
     "execution_count": 92,
     "metadata": {},
     "output_type": "execute_result"
    }
   ],
   "source": [
    "df = df[df['address1'].str.contains('망원동')].reset_index(drop=True) # 망원동에 있는 매물만 출력\n",
    "# geohash에 의해 특정 영역에만 포함된다면, 망원동 아니어도 뜨는 경우가 있으므로\n",
    "df"
   ]
  }
 ],
 "metadata": {
  "colab": {
   "provenance": []
  },
  "kernelspec": {
   "display_name": "Python 3 (ipykernel)",
   "language": "python",
   "name": "python3"
  },
  "language_info": {
   "codemirror_mode": {
    "name": "ipython",
    "version": 3
   },
   "file_extension": ".py",
   "mimetype": "text/x-python",
   "name": "python",
   "nbconvert_exporter": "python",
   "pygments_lexer": "ipython3",
   "version": "3.11.5"
  },
  "toc": {
   "base_numbering": 1,
   "nav_menu": {},
   "number_sections": false,
   "sideBar": true,
   "skip_h1_title": false,
   "title_cell": "Table of Contents",
   "title_sidebar": "Contents",
   "toc_cell": false,
   "toc_position": {},
   "toc_section_display": true,
   "toc_window_display": false
  }
 },
 "nbformat": 4,
 "nbformat_minor": 5
}
