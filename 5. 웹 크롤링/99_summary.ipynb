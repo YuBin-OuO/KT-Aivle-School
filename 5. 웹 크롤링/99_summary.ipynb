{
 "cells": [
  {
   "cell_type": "markdown",
   "metadata": {
    "id": "HO8KM8OFj-_0"
   },
   "source": [
    "### 크롤링 정책\n",
    "- robots.txt : 크롤링 정책을 설명한 페이지\n",
    "- 과도한 크롤링으로 서비스에 영향을 주었을때 법적 문제가 있을수 있습니다.\n",
    "- 사람인, 잡코리아 : 2008년 > 2018년\n",
    "- api 사용 > robots.txt > 서비스에 피해가 가지 않는선에서 수집\n",
    "- 서비스 피해\n",
    "    - 지적재산권\n",
    "    - 서비스 과부화\n",
    "    - 데이터 사용표준"
   ]
  },
  {
   "cell_type": "code",
   "execution_count": null,
   "metadata": {
    "id": "HLvKtXCRAi5J"
   },
   "outputs": [],
   "source": [
    "# robots.txt\n",
    "# 웹 서비스에서 제공하는 api 사용이 가장 좋은 방법\n",
    "# sniffing\n",
    "# 동적, 정적 페이지\n",
    "# 개발자도구는 모든 브라우져에서 사용가능"
   ]
  },
  {
   "cell_type": "code",
   "execution_count": null,
   "metadata": {
    "id": "DkyCGO11jvcL"
   },
   "outputs": [],
   "source": [
    "# summary\n",
    "\n",
    "# web : client-server : url\n",
    "# python : requests : request > response\n",
    "# 동적페이지 : URL의 변화 없이 페이지의 데이터를 변환 : json\n",
    "# 정적페이지 : URL을 변환해서 새로운 데이터를 출력 : html\n",
    "\n",
    "# 동적 페이지에서 데이터 수집 절차\n",
    "# 1. 웹서비스분석(개발자도구) : URL\n",
    "# 2. request(url, params, headers) > response(data) : data(json(str))\n",
    "# 3. data(json(str)) > list, dict > DataFrame\n",
    "\n",
    "# API를 이용한 데이터 수집\n",
    "# 1. 어플리케이션 등록 : app_key\n",
    "# 2. api 문서 확인 : url, params, headers\n",
    "# 3. request(url, params, headers(app_key)) > response(data) : data(json(str))\n",
    "# 4. data(json(str)) > list, dict > DataFrame\n",
    "\n",
    "# 정적 페이지에서 데이터 수집 절차\n",
    "# 1. 웹서비스분석(개발자도구) : URL\n",
    "# 2. request(url, params, headers) > response(data) : data(html(str))\n",
    "# 3. data(html(str)) > bs object > css selector > DataFrame"
   ]
  },
  {
   "cell_type": "code",
   "execution_count": null,
   "metadata": {
    "id": "JviQwcIqjyIY"
   },
   "outputs": [],
   "source": [
    "# class Marine\n",
    "# naver stock : index price, exchange rate, correlation coefficient analysis\n",
    "# daum exchange rate : 403 error, headers(user-agent, referer)\n",
    "# naver api : translate\n",
    "# zigbang : requests 3번, geohash"
   ]
  }
 ],
 "metadata": {
  "colab": {
   "authorship_tag": "ABX9TyM/QPUgqpd94E/XgDmuxb7d",
   "provenance": []
  },
  "kernelspec": {
   "display_name": "Python 3 (ipykernel)",
   "language": "python",
   "name": "python3"
  },
  "language_info": {
   "codemirror_mode": {
    "name": "ipython",
    "version": 3
   },
   "file_extension": ".py",
   "mimetype": "text/x-python",
   "name": "python",
   "nbconvert_exporter": "python",
   "pygments_lexer": "ipython3",
   "version": "3.11.5"
  }
 },
 "nbformat": 4,
 "nbformat_minor": 1
}
