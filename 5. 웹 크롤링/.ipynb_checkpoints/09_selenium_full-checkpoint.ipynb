{
 "cells": [
  {
   "cell_type": "markdown",
   "id": "03fff3b4",
   "metadata": {},
   "source": [
    "### selenium\n",
    "- `https://www.selenium.dev`\n",
    "- 자동화를 목적으로 만들어진 다양한 브라우져와 언어를 지원하는 라이브러리\n",
    "- 크롬 브라우져 설치\n",
    "    - 크롬 브라우져 드라이버 다운로드 (크롬 브라우져와 같은 버전)\n",
    "        - https://googlechromelabs.github.io/chrome-for-testing/\n",
    "    - 다운로드한 드라이버 압축 해제\n",
    "    - chromedriver, chromedriver.exe 생성\n",
    "    - windows : 주피터 노트북 파일과 동일한 디렉토리에 chromedriver.exe 파일 업로드\n",
    "    - mac : sudo cp ~/Download/chromedirver /usr/local/bin"
   ]
  },
  {
   "cell_type": "code",
   "execution_count": 2,
   "id": "ff3870a0-d5d2-4768-9d9b-88d5850e2cac",
   "metadata": {
    "tags": []
   },
   "outputs": [],
   "source": [
    "# 환경설정\n",
    "# 1. 크롬 브라우저 설치\n",
    "# 2. 크롬 브라우저 드라이버 설치 (자동화 위한 다리 역할)\n",
    "# 3. Selenium 패키지 설치"
   ]
  },
  {
   "cell_type": "code",
   "execution_count": 1,
   "id": "4b761652",
   "metadata": {
    "tags": []
   },
   "outputs": [],
   "source": [
    "# !pip install selenium"
   ]
  },
  {
   "cell_type": "code",
   "execution_count": 1,
   "id": "2981cd32",
   "metadata": {
    "tags": []
   },
   "outputs": [],
   "source": [
    "# import time\n",
    "import pandas as pd\n",
    "from selenium import webdriver\n",
    "from selenium.webdriver.common.by import By"
   ]
  },
  {
   "cell_type": "code",
   "execution_count": 2,
   "id": "13b07de6",
   "metadata": {
    "tags": []
   },
   "outputs": [],
   "source": [
    "driver = webdriver.Chrome()"
   ]
  },
  {
   "cell_type": "code",
   "execution_count": 3,
   "id": "a786b65d",
   "metadata": {
    "tags": []
   },
   "outputs": [],
   "source": [
    "# 페이지 이동\n",
    "driver.get(\"https://daum.net\")"
   ]
  },
  {
   "cell_type": "code",
   "execution_count": 4,
   "id": "9abf03ba",
   "metadata": {
    "tags": []
   },
   "outputs": [],
   "source": [
    "# 브라우져 사이즈 조절\n",
    "driver.set_window_size(200, 600)"
   ]
  },
  {
   "cell_type": "code",
   "execution_count": 5,
   "id": "c5c67542",
   "metadata": {
    "tags": []
   },
   "outputs": [],
   "source": [
    "# alert 다루기\n",
    "driver.execute_script(\"alert('hello selenium!!!');\") # java script 코드 실행 가능"
   ]
  },
  {
   "cell_type": "code",
   "execution_count": 6,
   "id": "ba153669",
   "metadata": {
    "tags": []
   },
   "outputs": [],
   "source": [
    "alert = driver.switch_to.alert\n",
    "alert.accept() # 확인 버튼 눌러 alert msg 제거"
   ]
  },
  {
   "cell_type": "code",
   "execution_count": 7,
   "id": "1a2b2319",
   "metadata": {
    "tags": []
   },
   "outputs": [],
   "source": [
    "# 팝업 닫기 버튼 클릭\n",
    "driver.find_element(By.CSS_SELECTOR, '.link_close').click()"
   ]
  },
  {
   "cell_type": "code",
   "execution_count": 8,
   "id": "35b8af05",
   "metadata": {
    "tags": []
   },
   "outputs": [],
   "source": [
    "# 브라우져 스크롤 조절\n",
    "driver.execute_script(\"window.scrollTo(200, 300);\")"
   ]
  },
  {
   "cell_type": "code",
   "execution_count": 9,
   "id": "76d5d4b6",
   "metadata": {
    "tags": []
   },
   "outputs": [],
   "source": [
    "# 브라우져 스크롤 조절\n",
    "driver.execute_script(\"window.scrollTo(0, 0);\")"
   ]
  },
  {
   "cell_type": "code",
   "execution_count": 10,
   "id": "b4913d27",
   "metadata": {
    "tags": []
   },
   "outputs": [],
   "source": [
    "# 브라우져 사이즈 조절\n",
    "driver.set_window_size(800, 800)"
   ]
  },
  {
   "cell_type": "code",
   "execution_count": 11,
   "id": "15b83780",
   "metadata": {
    "tags": []
   },
   "outputs": [],
   "source": [
    "# 문자열 입력\n",
    "driver.find_element(By.CSS_SELECTOR, \"#q\").send_keys(\"셀레니움\") # id가 q인 엘리먼트 선택 뒤 입력"
   ]
  },
  {
   "cell_type": "code",
   "execution_count": 12,
   "id": "119f380c",
   "metadata": {
    "tags": []
   },
   "outputs": [],
   "source": [
    "# 문자열 입력\n",
    "driver.find_element(By.CSS_SELECTOR, \"#q\").clear()"
   ]
  },
  {
   "cell_type": "code",
   "execution_count": 13,
   "id": "29abf4ff",
   "metadata": {
    "tags": []
   },
   "outputs": [],
   "source": [
    "# 검색 버튼 클릭\n",
    "driver.find_element(By.CSS_SELECTOR, '.btn_ksearch').click() # 클래스가 btn_ksearch인 엘리먼트 선택해 click event 발생시킴"
   ]
  },
  {
   "cell_type": "code",
   "execution_count": 14,
   "id": "dfa3c68a",
   "metadata": {
    "tags": []
   },
   "outputs": [],
   "source": [
    "# 브라우져 종료\n",
    "driver.quit() # 100mb 넘게 브라우저가 차지하고 있던 메모리 반환. 그냥 x로 끄면 메모리에 남아있으므로"
   ]
  },
  {
   "cell_type": "markdown",
   "id": "c4c13a78",
   "metadata": {},
   "source": [
    "### 텍스트 데이터 가져오기\n",
    "- TED 사이트 : `https://www.ted.com`"
   ]
  },
  {
   "cell_type": "code",
   "execution_count": 15,
   "id": "0eeaf4c8",
   "metadata": {
    "tags": []
   },
   "outputs": [],
   "source": [
    "# 브라우져를 실행하여 테드 사이트 열기\n",
    "driver = webdriver.Chrome()\n",
    "driver.get(\"https://www.ted.com/talks\")\n",
    "\n",
    "# 태그 확인할 땐 열린 드라이버 탭 말고 새로운 탭으로 해야 파이썬과 브라우저 간의 연결이 끊기지 X"
   ]
  },
  {
   "cell_type": "code",
   "execution_count": 16,
   "id": "1123fab3",
   "metadata": {
    "tags": []
   },
   "outputs": [
    {
     "data": {
      "text/plain": [
       "'TED Talks: Discover ideas worth spreading'"
      ]
     },
     "execution_count": 16,
     "metadata": {},
     "output_type": "execute_result"
    }
   ],
   "source": [
    "# CSS Selector를 이용하여 HTML 태그와 태그 사이의 text 데이터 가져오기\n",
    "driver.find_element(By.CSS_SELECTOR, \".text-textPrimary-onLight\").text # select_one과 같은 의미"
   ]
  },
  {
   "cell_type": "code",
   "execution_count": 18,
   "id": "eaed94c4",
   "metadata": {
    "tags": []
   },
   "outputs": [
    {
     "data": {
      "text/plain": [
       "24"
      ]
     },
     "execution_count": 18,
     "metadata": {},
     "output_type": "execute_result"
    }
   ],
   "source": [
    "# 제목 데이터 가져오기\n",
    "selector = '.container > section > .relative > div:nth-child(2) > div > div'\n",
    "contents = driver.find_elements(By.CSS_SELECTOR, selector) # select와 같은 의미\n",
    "len(contents)"
   ]
  },
  {
   "cell_type": "code",
   "execution_count": 20,
   "id": "10ef5bda-c3a0-4d9b-9222-4897138a8a74",
   "metadata": {
    "tags": []
   },
   "outputs": [
    {
     "data": {
      "text/plain": [
       "[<selenium.webdriver.remote.webelement.WebElement (session=\"3b384e00356b4dbc772c935e0b585730\", element=\"f.9A7CAF7F25F8ED0C8D9FF0B9A04944F6.d.A976337F13D59F48F106AACE89D3C697.e.76\")>,\n",
       " <selenium.webdriver.remote.webelement.WebElement (session=\"3b384e00356b4dbc772c935e0b585730\", element=\"f.9A7CAF7F25F8ED0C8D9FF0B9A04944F6.d.A976337F13D59F48F106AACE89D3C697.e.77\")>,\n",
       " <selenium.webdriver.remote.webelement.WebElement (session=\"3b384e00356b4dbc772c935e0b585730\", element=\"f.9A7CAF7F25F8ED0C8D9FF0B9A04944F6.d.A976337F13D59F48F106AACE89D3C697.e.78\")>,\n",
       " <selenium.webdriver.remote.webelement.WebElement (session=\"3b384e00356b4dbc772c935e0b585730\", element=\"f.9A7CAF7F25F8ED0C8D9FF0B9A04944F6.d.A976337F13D59F48F106AACE89D3C697.e.79\")>,\n",
       " <selenium.webdriver.remote.webelement.WebElement (session=\"3b384e00356b4dbc772c935e0b585730\", element=\"f.9A7CAF7F25F8ED0C8D9FF0B9A04944F6.d.A976337F13D59F48F106AACE89D3C697.e.80\")>,\n",
       " <selenium.webdriver.remote.webelement.WebElement (session=\"3b384e00356b4dbc772c935e0b585730\", element=\"f.9A7CAF7F25F8ED0C8D9FF0B9A04944F6.d.A976337F13D59F48F106AACE89D3C697.e.81\")>,\n",
       " <selenium.webdriver.remote.webelement.WebElement (session=\"3b384e00356b4dbc772c935e0b585730\", element=\"f.9A7CAF7F25F8ED0C8D9FF0B9A04944F6.d.A976337F13D59F48F106AACE89D3C697.e.82\")>,\n",
       " <selenium.webdriver.remote.webelement.WebElement (session=\"3b384e00356b4dbc772c935e0b585730\", element=\"f.9A7CAF7F25F8ED0C8D9FF0B9A04944F6.d.A976337F13D59F48F106AACE89D3C697.e.83\")>,\n",
       " <selenium.webdriver.remote.webelement.WebElement (session=\"3b384e00356b4dbc772c935e0b585730\", element=\"f.9A7CAF7F25F8ED0C8D9FF0B9A04944F6.d.A976337F13D59F48F106AACE89D3C697.e.84\")>,\n",
       " <selenium.webdriver.remote.webelement.WebElement (session=\"3b384e00356b4dbc772c935e0b585730\", element=\"f.9A7CAF7F25F8ED0C8D9FF0B9A04944F6.d.A976337F13D59F48F106AACE89D3C697.e.85\")>,\n",
       " <selenium.webdriver.remote.webelement.WebElement (session=\"3b384e00356b4dbc772c935e0b585730\", element=\"f.9A7CAF7F25F8ED0C8D9FF0B9A04944F6.d.A976337F13D59F48F106AACE89D3C697.e.86\")>,\n",
       " <selenium.webdriver.remote.webelement.WebElement (session=\"3b384e00356b4dbc772c935e0b585730\", element=\"f.9A7CAF7F25F8ED0C8D9FF0B9A04944F6.d.A976337F13D59F48F106AACE89D3C697.e.87\")>,\n",
       " <selenium.webdriver.remote.webelement.WebElement (session=\"3b384e00356b4dbc772c935e0b585730\", element=\"f.9A7CAF7F25F8ED0C8D9FF0B9A04944F6.d.A976337F13D59F48F106AACE89D3C697.e.88\")>,\n",
       " <selenium.webdriver.remote.webelement.WebElement (session=\"3b384e00356b4dbc772c935e0b585730\", element=\"f.9A7CAF7F25F8ED0C8D9FF0B9A04944F6.d.A976337F13D59F48F106AACE89D3C697.e.89\")>,\n",
       " <selenium.webdriver.remote.webelement.WebElement (session=\"3b384e00356b4dbc772c935e0b585730\", element=\"f.9A7CAF7F25F8ED0C8D9FF0B9A04944F6.d.A976337F13D59F48F106AACE89D3C697.e.90\")>,\n",
       " <selenium.webdriver.remote.webelement.WebElement (session=\"3b384e00356b4dbc772c935e0b585730\", element=\"f.9A7CAF7F25F8ED0C8D9FF0B9A04944F6.d.A976337F13D59F48F106AACE89D3C697.e.91\")>,\n",
       " <selenium.webdriver.remote.webelement.WebElement (session=\"3b384e00356b4dbc772c935e0b585730\", element=\"f.9A7CAF7F25F8ED0C8D9FF0B9A04944F6.d.A976337F13D59F48F106AACE89D3C697.e.92\")>,\n",
       " <selenium.webdriver.remote.webelement.WebElement (session=\"3b384e00356b4dbc772c935e0b585730\", element=\"f.9A7CAF7F25F8ED0C8D9FF0B9A04944F6.d.A976337F13D59F48F106AACE89D3C697.e.93\")>,\n",
       " <selenium.webdriver.remote.webelement.WebElement (session=\"3b384e00356b4dbc772c935e0b585730\", element=\"f.9A7CAF7F25F8ED0C8D9FF0B9A04944F6.d.A976337F13D59F48F106AACE89D3C697.e.94\")>,\n",
       " <selenium.webdriver.remote.webelement.WebElement (session=\"3b384e00356b4dbc772c935e0b585730\", element=\"f.9A7CAF7F25F8ED0C8D9FF0B9A04944F6.d.A976337F13D59F48F106AACE89D3C697.e.95\")>,\n",
       " <selenium.webdriver.remote.webelement.WebElement (session=\"3b384e00356b4dbc772c935e0b585730\", element=\"f.9A7CAF7F25F8ED0C8D9FF0B9A04944F6.d.A976337F13D59F48F106AACE89D3C697.e.96\")>,\n",
       " <selenium.webdriver.remote.webelement.WebElement (session=\"3b384e00356b4dbc772c935e0b585730\", element=\"f.9A7CAF7F25F8ED0C8D9FF0B9A04944F6.d.A976337F13D59F48F106AACE89D3C697.e.97\")>,\n",
       " <selenium.webdriver.remote.webelement.WebElement (session=\"3b384e00356b4dbc772c935e0b585730\", element=\"f.9A7CAF7F25F8ED0C8D9FF0B9A04944F6.d.A976337F13D59F48F106AACE89D3C697.e.98\")>,\n",
       " <selenium.webdriver.remote.webelement.WebElement (session=\"3b384e00356b4dbc772c935e0b585730\", element=\"f.9A7CAF7F25F8ED0C8D9FF0B9A04944F6.d.A976337F13D59F48F106AACE89D3C697.e.99\")>]"
      ]
     },
     "execution_count": 20,
     "metadata": {},
     "output_type": "execute_result"
    }
   ],
   "source": [
    "contents"
   ]
  },
  {
   "cell_type": "code",
   "execution_count": 21,
   "id": "33b93c0a",
   "metadata": {
    "tags": []
   },
   "outputs": [
    {
     "data": {
      "text/plain": [
       "'Why are women still taken less seriously than men?'"
      ]
     },
     "execution_count": 21,
     "metadata": {},
     "output_type": "execute_result"
    }
   ],
   "source": [
    "# 가장 처음 텍스트 데이터 가져오기\n",
    "contents[0].find_element(By.CSS_SELECTOR, '.text-textPrimary-onLight').text"
   ]
  },
  {
   "cell_type": "code",
   "execution_count": 22,
   "id": "fe2234dc",
   "metadata": {
    "tags": []
   },
   "outputs": [
    {
     "data": {
      "text/plain": [
       "(['Why are women still taken less seriously than men?',\n",
       "  'The unsung heroes fighting malnutrition',\n",
       "  'How to lead with radical candor'],\n",
       " 24)"
      ]
     },
     "execution_count": 22,
     "metadata": {},
     "output_type": "execute_result"
    }
   ],
   "source": [
    "# 전체 제목 데이터 가져오기\n",
    "titles = []\n",
    "for content in contents:\n",
    "    title = content.find_element(By.CSS_SELECTOR, '.text-textPrimary-onLight').text\n",
    "    titles.append(title)\n",
    "titles[:3], len(titles)"
   ]
  },
  {
   "cell_type": "code",
   "execution_count": 24,
   "id": "ada149b0",
   "metadata": {
    "tags": []
   },
   "outputs": [
    {
     "data": {
      "text/plain": [
       "['https://www.ted.com/talks/ali_abu_awwad_and_ami_dar_an_israeli_and_a_palestinian_talk_peace_dignity_and_safety',\n",
       " 'https://www.ted.com/talks/zainab_usman_how_sci_fi_informs_our_climate_future_and_what_to_do_next',\n",
       " 'https://www.ted.com/talks/maryam_banikarim_life_s_an_obstacle_course_here_s_how_to_navigate_it']"
      ]
     },
     "execution_count": 24,
     "metadata": {},
     "output_type": "execute_result"
    }
   ],
   "source": [
    "# 링크 데이터 크롤링 (속성(attribute)값 가져오는 방법)\n",
    "links = []\n",
    "selector = '[data-testid=\"TalkGrid Talk Item\"]'\n",
    "for content in contents:\n",
    "    link = content.find_element(By.CSS_SELECTOR, selector).get_attribute(\"href\") # .get과 같은 의미\n",
    "    links.append(link)\n",
    "links[-3:]"
   ]
  },
  {
   "cell_type": "code",
   "execution_count": 25,
   "id": "8da51a4e",
   "metadata": {
    "tags": []
   },
   "outputs": [],
   "source": [
    "driver.quit()"
   ]
  },
  {
   "cell_type": "markdown",
   "id": "152eda00",
   "metadata": {},
   "source": [
    "### 3. Headless\n",
    "- 브라우져를 화면에 띄우지 않고 메모리상에서만 올려서 크롤링하는 방법 \n",
    "- window가 지원되지 않는 환경에서 사용이 가능\n",
    "- chrome version 60.0.0.0 이상부터 지원 합니다."
   ]
  },
  {
   "cell_type": "code",
   "execution_count": 26,
   "id": "54a05161",
   "metadata": {
    "tags": []
   },
   "outputs": [
    {
     "name": "stdout",
     "output_type": "stream",
     "text": [
      "122.0.6261.112\n"
     ]
    }
   ],
   "source": [
    "# 현재 사용중인 크롬 버전 확인\n",
    "driver = webdriver.Chrome()\n",
    "version = driver.capabilities[\"browserVersion\"]\n",
    "print(version)\n",
    "driver.quit()"
   ]
  },
  {
   "cell_type": "code",
   "execution_count": null,
   "id": "06950205",
   "metadata": {
    "tags": []
   },
   "outputs": [],
   "source": [
    "# headless 사용\n",
    "options = webdriver.ChromeOptions()\n",
    "options.add_argument('headless')\n",
    "driver = webdriver.Chrome(options=options)\n",
    "driver.get(\"https://www.ted.com/talks\")\n",
    "text = driver.find_element(By.CSS_SELECTOR, \".text-textPrimary-onLight\").text\n",
    "driver.quit()\n",
    "print(text)"
   ]
  },
  {
   "cell_type": "code",
   "execution_count": 39,
   "id": "92b449a2-87ba-4d3a-9a8c-c40504f6687c",
   "metadata": {
    "tags": []
   },
   "outputs": [],
   "source": [
    "# 리눅스 환경 등 서버컴퓨터엔 윈도우 없으므로.. 셀레니움 사용 위해 Headless 사용"
   ]
  }
 ],
 "metadata": {
  "kernelspec": {
   "display_name": "Python 3 (ipykernel)",
   "language": "python",
   "name": "python3"
  },
  "language_info": {
   "codemirror_mode": {
    "name": "ipython",
    "version": 3
   },
   "file_extension": ".py",
   "mimetype": "text/x-python",
   "name": "python",
   "nbconvert_exporter": "python",
   "pygments_lexer": "ipython3",
   "version": "3.11.5"
  },
  "toc": {
   "base_numbering": 1,
   "nav_menu": {},
   "number_sections": false,
   "sideBar": true,
   "skip_h1_title": false,
   "title_cell": "Table of Contents",
   "title_sidebar": "Contents",
   "toc_cell": false,
   "toc_position": {},
   "toc_section_display": true,
   "toc_window_display": false
  }
 },
 "nbformat": 4,
 "nbformat_minor": 5
}
