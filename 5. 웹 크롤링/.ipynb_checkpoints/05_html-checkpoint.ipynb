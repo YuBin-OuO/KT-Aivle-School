{
 "cells": [
  {
   "cell_type": "markdown",
   "metadata": {
    "slideshow": {
     "slide_type": "slide"
    },
    "tags": []
   },
   "source": [
    "# HTML"
   ]
  },
  {
   "cell_type": "markdown",
   "metadata": {
    "slideshow": {
     "slide_type": "slide"
    }
   },
   "source": [
    "## 1. HTML 이란?\n",
    "\n",
    "- HTML은 Hyper Text Markup Language의 약자로 웹 문서를 작성하는 마크업 언어 - 시작태그와 끝 태그로 구성"
   ]
  },
  {
   "cell_type": "markdown",
   "metadata": {
    "slideshow": {
     "slide_type": "slide"
    }
   },
   "source": [
    "## 2. HTML 구성 요소\n",
    "- Document : 한페이지를 나타내는 단위의 코드\n",
    "- Element : 하나의 레이아웃을 나타내는 단위 : 시작태그(<a>...), 끝태그(</a>...), 텍스트로 구성\n",
    "    - element는 계층적 구조를 가짐 - element 안의 element 안의...\n",
    "- Tag : element의 종류를 정의 : 시작태그(속성값), 끝태그\n",
    "- Attribute : 시작태그에서 태그의 특정 기능을 하는 값\n",
    "    - id : 웹 페이지에서 유일한 값 (엘리먼트 식별자)\n",
    "    - class : 동일한 여러개의 값 사용 가능 : element를 그룹핑 할때 사용\n",
    "    - attr : id와 class를 제외한 나머지 속성들\n",
    "    - href: element 클릭시 이동할 페이지의 url\n",
    "- Text : 시작태그와 끝태그 사이에 있는 문자열"
   ]
  },
  {
   "cell_type": "code",
   "execution_count": 1,
   "metadata": {
    "tags": []
   },
   "outputs": [],
   "source": [
    "# special command: ipython에서 제공하는 특별한 기능을 갖는 명령어\n",
    "# %(하나의 명령어를 실행할 때)\n",
    "# %%(셀 전체를 명령어로 실행할 때)"
   ]
  },
  {
   "cell_type": "code",
   "execution_count": 2,
   "metadata": {
    "tags": []
   },
   "outputs": [],
   "source": [
    "data1, data2 = 1, 'py'"
   ]
  },
  {
   "cell_type": "code",
   "execution_count": 16,
   "metadata": {
    "tags": []
   },
   "outputs": [
    {
     "name": "stdout",
     "output_type": "stream",
     "text": [
      "Variable   Type    Data/Info\n",
      "----------------------------\n",
      "data1      int     1\n",
      "data2      str     py\n"
     ]
    }
   ],
   "source": [
    "# 현재 선언되어있는 변수의 목록\n",
    "%whos"
   ]
  },
  {
   "cell_type": "code",
   "execution_count": 17,
   "metadata": {
    "tags": []
   },
   "outputs": [
    {
     "name": "stdout",
     "output_type": "stream",
     "text": [
      " C 드라이브의 볼륨에는 이름이 없습니다.\n",
      " 볼륨 일련 번호: FCA9-41A6\n",
      "\n",
      " C:\\Users\\User\\Aivle\\P4. Web Crawling 디렉터리\n",
      "\n",
      "2024-03-08  오후 12:24    <DIR>          .\n",
      "2024-03-07  오전 09:24    <DIR>          ..\n",
      "2024-03-08  오후 12:10    <DIR>          .ipynb_checkpoints\n",
      "2024-03-07  오후 12:21            43,783 00_class.ipynb\n",
      "2024-03-07  오후 06:08           913,184 01_requests_naver_stock.ipynb\n",
      "2024-03-07  오후 04:31            52,498 02_requests_daum_exchange.ipynb\n",
      "2024-03-08  오전 10:47           241,468 03_rest_api.ipynb\n",
      "2024-03-08  오전 11:47           179,155 04_requests_zigbang.ipynb\n",
      "2024-03-08  오후 12:24            14,907 05_html.ipynb\n",
      "2024-03-08  오후 12:03             7,617 06_css_selector.ipynb\n",
      "2023-02-13  오전 12:29             2,448 07_naver_relational_keywords.ipynb\n",
      "2023-02-13  오전 12:29             2,041 08_gmarket.ipynb\n",
      "2023-02-13  오전 12:30             2,427 09_selenium.ipynb\n",
      "2023-08-24  오후 02:26            10,060 covid.xlsx\n",
      "              11개 파일           1,469,588 바이트\n",
      "               3개 디렉터리  163,284,160,512 바이트 남음\n"
     ]
    }
   ],
   "source": [
    "# 현재 디렉토리에 있는 파일 목록\n",
    "%ls"
   ]
  },
  {
   "cell_type": "code",
   "execution_count": 12,
   "metadata": {
    "tags": []
   },
   "outputs": [
    {
     "data": {
      "text/html": [
       "<div id = 'contents' class='wrap'>\n",
       "    <button class='btn no1' type='button' value='1'>Btn1</button>\n",
       "    <button class='btn no2' type='button' value='2'>Btn2</button>\n",
       "</div>\n",
       "<!-- 주석은 이런 식으로 달면 됨 -->\n"
      ],
      "text/plain": [
       "<IPython.core.display.HTML object>"
      ]
     },
     "metadata": {},
     "output_type": "display_data"
    }
   ],
   "source": [
    "%%html\n",
    "<div id = 'contents' class='wrap'>\n",
    "    <button class='btn no1' type='button' value='1'>Btn1</button>\n",
    "    <button class='btn no2' type='button' value='2'>Btn2</button>\n",
    "</div>\n",
    "<!-- 주석은 이런 식으로 달면 됨 -->"
   ]
  },
  {
   "cell_type": "code",
   "execution_count": 18,
   "metadata": {
    "tags": []
   },
   "outputs": [],
   "source": [
    "# <div></div> element 하나\n",
    "# class, type, value 는 속성\n",
    "# id는 하나만, class는 여러개 써도 됨 (공백으로 값 구분)"
   ]
  },
  {
   "cell_type": "markdown",
   "metadata": {
    "slideshow": {
     "slide_type": "slide"
    }
   },
   "source": [
    "## 3. HTML 구조\n",
    "\n",
    "- DOCTYPE\n",
    "  - 문서의 종류를 선언하는 태그 입니다.\n",
    "- html\n",
    "  - head\n",
    "    - meta\n",
    "      - 웹페이지에 대한 정보를 넣습니다.\n",
    "    - title\n",
    "      - 웹페이지의 제목 정보를 넣습니다.\n",
    "  - body\n",
    "    - 화면을 구성하는 엘리먼트가 옵니다."
   ]
  },
  {
   "cell_type": "markdown",
   "metadata": {},
   "source": [
    "```\n",
    "<!-- HTML 웹문서의 기본적인 구조 -->\n",
    "<!DOCTYPE html>\n",
    "<html lang=\"en\">\n",
    "<head>\n",
    "    <meta charset=\"utf-8\">\n",
    "    <title></title>\n",
    "</head>\n",
    "<body>\n",
    "\n",
    "</body>\n",
    "</html>\n",
    "```"
   ]
  },
  {
   "cell_type": "markdown",
   "metadata": {
    "slideshow": {
     "slide_type": "slide"
    }
   },
   "source": [
    "### 4. HTML  태그\n",
    "\n",
    "- html에서 문자를 나타내는 태그들"
   ]
  },
  {
   "cell_type": "markdown",
   "metadata": {
    "slideshow": {
     "slide_type": "slide"
    }
   },
   "source": [
    "### 4.1 head\n",
    "\n",
    "- title을 나타낼때 사용\n",
    "- Head는 총 6가지 종류의 태그가 있습니다.(h1~h6)\n",
    "- 숫자가 커질수록 문자의 크기가 줄어듭니다."
   ]
  },
  {
   "cell_type": "code",
   "execution_count": 15,
   "metadata": {
    "tags": []
   },
   "outputs": [
    {
     "data": {
      "text/html": [
       "<h1>h1</h1>\n",
       "<h2>h2</h2>\n",
       "<h3>h3</h3>\n",
       "<h4>h4</h4>\n",
       "<h5>h5</h5>\n",
       "<h6>h6</h6>\n"
      ],
      "text/plain": [
       "<IPython.core.display.HTML object>"
      ]
     },
     "metadata": {},
     "output_type": "display_data"
    }
   ],
   "source": [
    "%%html\n",
    "<h1>h1</h1>\n",
    "<h2>h2</h2>\n",
    "<h3>h3</h3>\n",
    "<h4>h4</h4>\n",
    "<h5>h5</h5>\n",
    "<h6>h6</h6>"
   ]
  },
  {
   "cell_type": "markdown",
   "metadata": {
    "slideshow": {
     "slide_type": "slide"
    }
   },
   "source": [
    "### 4.2 p\n",
    "\n",
    "- 한줄의 문자열을 출력하기 위한 태그"
   ]
  },
  {
   "cell_type": "code",
   "execution_count": 23,
   "metadata": {
    "tags": []
   },
   "outputs": [
    {
     "data": {
      "text/html": [
       "<p>TGIF!</p>\n",
       "<p>아좌좟</p>\n",
       "<p>TGIF!\n",
       "   아좌좟</p>\n"
      ],
      "text/plain": [
       "<IPython.core.display.HTML object>"
      ]
     },
     "metadata": {},
     "output_type": "display_data"
    }
   ],
   "source": [
    "%%html\n",
    "<p>TGIF!</p>\n",
    "<p>아좌좟</p>\n",
    "<p>TGIF!\n",
    "   아좌좟</p>"
   ]
  },
  {
   "cell_type": "markdown",
   "metadata": {
    "slideshow": {
     "slide_type": "slide"
    }
   },
   "source": [
    "### 4.3 span\n",
    "\n",
    "- 한블럭의 문자열을 표현하기 위한 태그"
   ]
  },
  {
   "cell_type": "code",
   "execution_count": 80,
   "metadata": {
    "tags": []
   },
   "outputs": [
    {
     "data": {
      "text/html": [
       "<span>TGIF!</span>\n",
       "<span>아좌좟</span>\n",
       "<span>TGIF!\n",
       "   아좌좟</span>\n"
      ],
      "text/plain": [
       "<IPython.core.display.HTML object>"
      ]
     },
     "metadata": {},
     "output_type": "display_data"
    }
   ],
   "source": [
    "%%html\n",
    "<span>TGIF!</span>\n",
    "<span>아좌좟</span>\n",
    "<span>TGIF!\n",
    "   아좌좟</span>"
   ]
  },
  {
   "cell_type": "markdown",
   "metadata": {
    "slideshow": {
     "slide_type": "slide"
    }
   },
   "source": [
    "### 4.4 pre\n",
    "\n",
    "- 줄바꿈이나 띄어쓰기가 적용되는 태그"
   ]
  },
  {
   "cell_type": "code",
   "execution_count": 81,
   "metadata": {
    "tags": []
   },
   "outputs": [
    {
     "data": {
      "text/html": [
       "<pre>TGIF!</pre>\n",
       "<pre>아좌좟</pre>\n",
       "<pre>TGIF!\n",
       "   아좌좟</pre>\n"
      ],
      "text/plain": [
       "<IPython.core.display.HTML object>"
      ]
     },
     "metadata": {},
     "output_type": "display_data"
    }
   ],
   "source": [
    "%%html\n",
    "<pre>TGIF!</pre>\n",
    "<pre>아좌좟</pre>\n",
    "<pre>TGIF!\n",
    "   아좌좟</pre>"
   ]
  },
  {
   "cell_type": "markdown",
   "metadata": {
    "slideshow": {
     "slide_type": "slide"
    }
   },
   "source": [
    "### 4.5 code\n",
    "\n",
    "- 코드를 작성하는 태그\n",
    "- 들여쓰기나 두칸 이상의 공백은 적용이 안됩니다."
   ]
  },
  {
   "cell_type": "code",
   "execution_count": 93,
   "metadata": {
    "tags": []
   },
   "outputs": [
    {
     "data": {
      "text/html": [
       "<code>\n",
       "    var a = 10;\n",
       "    var b = 20;\n",
       "    print(\"{} + {} = {}\".format(a, b, a + b));\n",
       "</code>\n"
      ],
      "text/plain": [
       "<IPython.core.display.HTML object>"
      ]
     },
     "metadata": {},
     "output_type": "display_data"
    }
   ],
   "source": [
    "%%html\n",
    "<code>\n",
    "    var a = 10;\n",
    "    var b = 20;\n",
    "    print(\"{} + {} = {}\".format(a, b, a + b));\n",
    "</code>"
   ]
  },
  {
   "cell_type": "markdown",
   "metadata": {
    "slideshow": {
     "slide_type": "slide"
    }
   },
   "source": [
    "## 5. 문자 이외의 HTML 태그"
   ]
  },
  {
   "cell_type": "markdown",
   "metadata": {
    "slideshow": {
     "slide_type": "slide"
    }
   },
   "source": [
    "### 5.1 div\n",
    "\n",
    "- 레이아웃(영역)을 나타내는 태그"
   ]
  },
  {
   "cell_type": "code",
   "execution_count": 31,
   "metadata": {
    "tags": []
   },
   "outputs": [
    {
     "data": {
      "text/html": [
       "<div>\n",
       "<div>div1</div>\n",
       "<div>div2</div>\n",
       "</div>\n",
       "<div>div3</div>\n"
      ],
      "text/plain": [
       "<IPython.core.display.HTML object>"
      ]
     },
     "metadata": {},
     "output_type": "display_data"
    }
   ],
   "source": [
    "%%html\n",
    "<div>\n",
    "<div>div1</div>\n",
    "<div>div2</div>\n",
    "</div>\n",
    "<div>div3</div>"
   ]
  },
  {
   "attachments": {
    "7cef04b9-a621-4a2e-a81e-c82f484d4fa4.png": {
     "image/png": "[encoded data removed]"
    }
   },
   "cell_type": "markdown",
   "metadata": {},
   "source": [
    "![image.png](attachment:7cef04b9-a621-4a2e-a81e-c82f484d4fa4.png)"
   ]
  },
  {
   "cell_type": "markdown",
   "metadata": {
    "slideshow": {
     "slide_type": "slide"
    }
   },
   "source": [
    "### 5.2 table\n",
    "\n",
    "- 로우와 컬럼이 있는 테이블 모양을 나타낼때 사용하는 태그"
   ]
  },
  {
   "cell_type": "code",
   "execution_count": 90,
   "metadata": {
    "tags": []
   },
   "outputs": [
    {
     "data": {
      "text/html": [
       "<table>\n",
       "    <caption>테이블제목</caption>\n",
       "    <thead> <!--table head-->\n",
       "        <tr> <!--table row-->\n",
       "            <th>table1</th> <!--table header-->\n",
       "            <th>table2</th>\n",
       "        </tr>\n",
       "    </thead>\n",
       "    <tbody>\n",
       "        <tr> <!--table row-->\n",
       "            <td>data1</td>\n",
       "            <td>data2</td>\n",
       "        </tr>\n",
       "        <tr> <!--table row-->\n",
       "            <td>data3</td>\n",
       "            <td>data4</td>\n",
       "        </tr>\n",
       "    </tbody>\n",
       "</table>\n"
      ],
      "text/plain": [
       "<IPython.core.display.HTML object>"
      ]
     },
     "metadata": {},
     "output_type": "display_data"
    }
   ],
   "source": [
    "%%html\n",
    "<table>\n",
    "    <caption>테이블제목</caption>\n",
    "    <thead> <!--table head-->\n",
    "        <tr> <!--table row-->\n",
    "            <th>table1</th> <!--table header-->\n",
    "            <th>table2</th>\n",
    "        </tr>\n",
    "    </thead>\n",
    "    <tbody>\n",
    "        <tr> <!--table row-->\n",
    "            <td>data1</td>\n",
    "            <td>data2</td>\n",
    "        </tr>\n",
    "        <tr> <!--table row-->\n",
    "            <td>data3</td>\n",
    "            <td>data4</td>\n",
    "        </tr>\n",
    "    </tbody>\n",
    "</table>"
   ]
  },
  {
   "cell_type": "markdown",
   "metadata": {},
   "source": [
    "- 개발자도구에선 특정 태그가 보이는데 실제로 데이터가 제대로 크롤링되지 않는 경우도 있음\n",
    "- 개발자도구에서 실제 코드에 없더라도 부족한 부분 보완해서 띄워주는 것이므로 실제코드에서 중간 경로가 빠져있어 데이터 못 가져오는 것임"
   ]
  },
  {
   "cell_type": "markdown",
   "metadata": {
    "slideshow": {
     "slide_type": "slide"
    }
   },
   "source": [
    "### 5.3 ul, li\n",
    "\n",
    "- 리스트를 나타내는 태그"
   ]
  },
  {
   "cell_type": "code",
   "execution_count": 39,
   "metadata": {
    "tags": []
   },
   "outputs": [
    {
     "data": {
      "text/html": [
       "<ul>\n",
       "    <li>data1</li>\n",
       "    <li>data2</li>\n",
       "</ul>\n"
      ],
      "text/plain": [
       "<IPython.core.display.HTML object>"
      ]
     },
     "metadata": {},
     "output_type": "display_data"
    }
   ],
   "source": [
    "%%html\n",
    "<ul>\n",
    "    <li>data1</li>\n",
    "    <li>data2</li>\n",
    "</ul>"
   ]
  },
  {
   "cell_type": "markdown",
   "metadata": {
    "slideshow": {
     "slide_type": "slide"
    }
   },
   "source": [
    "### 5.4 a\n",
    "\n",
    "- 링크를 나타내는 태그\n",
    "- href 속성에 url을 넣습니다.\n",
    "  - url과 상대경로를 모두 사용 가능\n",
    "  - `target=\"_blank\"`는 링크를 열때 새탭에서 열도록 하는 기능이 있습니다."
   ]
  },
  {
   "cell_type": "code",
   "execution_count": 46,
   "metadata": {
    "tags": []
   },
   "outputs": [
    {
     "data": {
      "text/html": [
       "<a href='https://kt.com' target='_blank'>Move KT</a>\n"
      ],
      "text/plain": [
       "<IPython.core.display.HTML object>"
      ]
     },
     "metadata": {},
     "output_type": "display_data"
    }
   ],
   "source": [
    "%%html\n",
    "<a href='https://kt.com' target='_blank'>Move KT</a>"
   ]
  },
  {
   "cell_type": "markdown",
   "metadata": {
    "slideshow": {
     "slide_type": "slide"
    }
   },
   "source": [
    "### 5.5 image\n",
    "\n",
    "- 이미지를 나타내는 태그"
   ]
  },
  {
   "cell_type": "code",
   "execution_count": 50,
   "metadata": {
    "tags": []
   },
   "outputs": [
    {
     "data": {
      "text/html": [
       "<img src='https://cfm.kt.com/images/v2/layout/gnb-ktlogo.png' alt='kt logo'></img>\n",
       "<img src='' alt='kt logo'></img>\n"
      ],
      "text/plain": [
       "<IPython.core.display.HTML object>"
      ]
     },
     "metadata": {},
     "output_type": "display_data"
    }
   ],
   "source": [
    "%%html\n",
    "<img src='https://cfm.kt.com/images/v2/layout/gnb-ktlogo.png' alt='kt logo'></img>\n",
    "<img src='' alt='kt logo'></img>"
   ]
  },
  {
   "cell_type": "markdown",
   "metadata": {
    "tags": []
   },
   "source": [
    "src의 url이 제대로 동작하지 않을 경우 그게 뭔지 표시해주기 위해 alt에 알려줌"
   ]
  },
  {
   "attachments": {
    "56f5afae-badd-4c05-b083-9fe8175ac6dc.png": {
     "image/png": "[encoded data removed]"
    }
   },
   "cell_type": "markdown",
   "metadata": {
    "slideshow": {
     "slide_type": "slide"
    }
   },
   "source": [
    "### 5.4 iframe\n",
    "\n",
    "- 특정 페이지에 외부 url 링크 페이지를 보여주기 위한 엘리먼트\n",
    "\n",
    "![image.png](attachment:56f5afae-badd-4c05-b083-9fe8175ac6dc.png)\n",
    "\n",
    "- 모든 웹 페이지를 보여줄 수 있는건 아니고 iframe으로만 출력이 되던가 안되거나 하는등의 설정을 할수 있습니다."
   ]
  },
  {
   "cell_type": "code",
   "execution_count": 92,
   "metadata": {
    "tags": []
   },
   "outputs": [
    {
     "data": {
      "text/html": [
       "<iframe src = 'https://kt.com' width = '100%' height='200px'></iframe>\n"
      ],
      "text/plain": [
       "<IPython.core.display.HTML object>"
      ]
     },
     "metadata": {},
     "output_type": "display_data"
    }
   ],
   "source": [
    "%%html\n",
    "<iframe src = 'https://kt.com' width = '100%' height='200px'></iframe>"
   ]
  },
  {
   "cell_type": "markdown",
   "metadata": {
    "tags": []
   },
   "source": [
    "- 어떤 웹페이지에서 뜨는 데이터들이 url이 아닌 그 페이지 안의 iframe에서 가져온 데이터일 수 있음\n",
    "-> 이 경우 크롤링 시 url 말고 그 iframe에서 데이터 가져와야 함"
   ]
  },
  {
   "cell_type": "markdown",
   "metadata": {
    "slideshow": {
     "slide_type": "slide"
    }
   },
   "source": [
    "### 5.5 input\n",
    "\n",
    "#### 5.5.1 text\n",
    "\n",
    "- 문자열을 입력받을때 사용하는 input 타입"
   ]
  },
  {
   "cell_type": "code",
   "execution_count": 61,
   "metadata": {
    "tags": []
   },
   "outputs": [
    {
     "data": {
      "text/html": [
       "<input type='text' placeholder='이메일'></text>\n"
      ],
      "text/plain": [
       "<IPython.core.display.HTML object>"
      ]
     },
     "metadata": {},
     "output_type": "display_data"
    }
   ],
   "source": [
    "%%html\n",
    "<input type='text' placeholder='이메일'>"
   ]
  },
  {
   "cell_type": "markdown",
   "metadata": {},
   "source": [
    "크롤링보단 Selenium을 이용해 자동으로 id, pw 채워 로그인 할 때 주로 사용"
   ]
  },
  {
   "cell_type": "markdown",
   "metadata": {},
   "source": [
    "#### 5.5.2 password\n",
    "\n",
    "- 비밀번호를 입력받을때 사용하는 input 타입"
   ]
  },
  {
   "cell_type": "code",
   "execution_count": 62,
   "metadata": {
    "tags": []
   },
   "outputs": [
    {
     "data": {
      "text/html": [
       "<input type='password' placeholder='비번'></text>\n"
      ],
      "text/plain": [
       "<IPython.core.display.HTML object>"
      ]
     },
     "metadata": {},
     "output_type": "display_data"
    }
   ],
   "source": [
    "%%html\n",
    "<input type='password' placeholder='비번'>"
   ]
  },
  {
   "cell_type": "markdown",
   "metadata": {
    "slideshow": {
     "slide_type": "slide"
    }
   },
   "source": [
    "#### 5.5.3 radio\n",
    "\n",
    "- 여러개의 버튼중에서 한개의 버튼만 체크되는 버튼\n",
    "- radio 버튼은 name 속성값으로 그룹핑을 합니다."
   ]
  },
  {
   "cell_type": "code",
   "execution_count": 94,
   "metadata": {
    "tags": []
   },
   "outputs": [
    {
     "data": {
      "text/html": [
       "<input type='radio' name = 'no1'>btn 1</input>\n",
       "<input type='radio' name = 'no1'>btn 2</input>\n",
       "<input type='radio' name = 'no2'>btn 3</input>\n",
       "<input type='radio' name = 'no2'>btn 4</input>\n"
      ],
      "text/plain": [
       "<IPython.core.display.HTML object>"
      ]
     },
     "metadata": {},
     "output_type": "display_data"
    }
   ],
   "source": [
    "%%html\n",
    "<input type='radio' name = 'no1'>btn 1</input>\n",
    "<input type='radio' name = 'no1'>btn 2</input>\n",
    "<input type='radio' name = 'no2'>btn 3</input>\n",
    "<input type='radio' name = 'no2'>btn 4</input>"
   ]
  },
  {
   "cell_type": "markdown",
   "metadata": {},
   "source": [
    "#### 5.5.4 checkbox\n",
    "\n",
    "- 여러개의 버튼이 체크되는 버튼"
   ]
  },
  {
   "cell_type": "code",
   "execution_count": 72,
   "metadata": {
    "tags": []
   },
   "outputs": [
    {
     "data": {
      "text/html": [
       "<input type='checkbox' name = 'no1'>btn 1</text>\n",
       "<input type='checkbox' name = 'no1'>btn 2</text>\n"
      ],
      "text/plain": [
       "<IPython.core.display.HTML object>"
      ]
     },
     "metadata": {},
     "output_type": "display_data"
    }
   ],
   "source": [
    "%%html\n",
    "<input type='checkbox' name = 'no1'>btn 1</input>\n",
    "<input type='checkbox' name = 'no1'>btn 2</input>"
   ]
  },
  {
   "cell_type": "markdown",
   "metadata": {},
   "source": [
    "#### 5.5.5 select, option\n",
    "\n",
    "- 옵션선택을 할수 있는 드랍다운 태그"
   ]
  },
  {
   "cell_type": "code",
   "execution_count": 73,
   "metadata": {
    "tags": []
   },
   "outputs": [
    {
     "data": {
      "text/html": [
       "<select>\n",
       "    <option>opt1</option>\n",
       "    <option>opt2</option>\n",
       "    <option>opt3</option>\n",
       "</select>\n"
      ],
      "text/plain": [
       "<IPython.core.display.HTML object>"
      ]
     },
     "metadata": {},
     "output_type": "display_data"
    }
   ],
   "source": [
    "%%html\n",
    "<select>\n",
    "    <option>opt1</option>\n",
    "    <option>opt2</option>\n",
    "    <option>opt3</option>\n",
    "</select>"
   ]
  },
  {
   "cell_type": "markdown",
   "metadata": {
    "slideshow": {
     "slide_type": "slide"
    }
   },
   "source": [
    "### 5.6 textarea\n",
    "\n",
    "- 여러줄을 입력이 가능한 태그"
   ]
  },
  {
   "cell_type": "code",
   "execution_count": 76,
   "metadata": {
    "tags": []
   },
   "outputs": [
    {
     "data": {
      "text/html": [
       "<textarea rows='4' cols='5'>\n",
       "</textarea>\n"
      ],
      "text/plain": [
       "<IPython.core.display.HTML object>"
      ]
     },
     "metadata": {},
     "output_type": "display_data"
    }
   ],
   "source": [
    "%%html\n",
    "<textarea rows='4' cols='5'>\n",
    "</textarea>"
   ]
  },
  {
   "cell_type": "markdown",
   "metadata": {},
   "source": [
    "### 5.7 button\n",
    "\n",
    "- 마우스 클릭을 입력받는 버튼 태그"
   ]
  },
  {
   "cell_type": "code",
   "execution_count": 77,
   "metadata": {
    "tags": []
   },
   "outputs": [
    {
     "data": {
      "text/html": [
       "<button class='btn no1' type='button' value='1'>Btn1</button>\n",
       "<button class='btn no2' type='button' value='2'>Btn2</button>\n"
      ],
      "text/plain": [
       "<IPython.core.display.HTML object>"
      ]
     },
     "metadata": {},
     "output_type": "display_data"
    }
   ],
   "source": [
    "%%html\n",
    "<button class='btn no1' type='button' value='1'>Btn1</button>\n",
    "<button class='btn no2' type='button' value='2'>Btn2</button>"
   ]
  }
 ],
 "metadata": {
  "kernelspec": {
   "display_name": "Python 3 (ipykernel)",
   "language": "python",
   "name": "python3"
  },
  "language_info": {
   "codemirror_mode": {
    "name": "ipython",
    "version": 3
   },
   "file_extension": ".py",
   "mimetype": "text/x-python",
   "name": "python",
   "nbconvert_exporter": "python",
   "pygments_lexer": "ipython3",
   "version": "3.11.5"
  },
  "toc": {
   "base_numbering": 1,
   "nav_menu": {},
   "number_sections": false,
   "sideBar": true,
   "skip_h1_title": false,
   "title_cell": "Table of Contents",
   "title_sidebar": "Contents",
   "toc_cell": false,
   "toc_position": {},
   "toc_section_display": true,
   "toc_window_display": false
  },
  "varInspector": {
   "cols": {
    "lenName": 16,
    "lenType": 16,
    "lenVar": 40
   },
   "kernels_config": {
    "python": {
     "delete_cmd_postfix": "",
     "delete_cmd_prefix": "del ",
     "library": "var_list.py",
     "varRefreshCmd": "print(var_dic_list())"
    },
    "r": {
     "delete_cmd_postfix": ") ",
     "delete_cmd_prefix": "rm(",
     "library": "var_list.r",
     "varRefreshCmd": "cat(var_dic_list()) "
    }
   },
   "types_to_exclude": [
    "module",
    "function",
    "builtin_function_or_method",
    "instance",
    "_Feature"
   ],
   "window_display": false
  }
 },
 "nbformat": 4,
 "nbformat_minor": 4
}
