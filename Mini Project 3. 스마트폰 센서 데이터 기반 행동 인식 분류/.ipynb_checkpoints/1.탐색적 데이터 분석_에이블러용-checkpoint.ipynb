{
 "cells": [
  {
   "cell_type": "markdown",
   "metadata": {
    "id": "mJlY5pHkC2AM"
   },
   "source": [
    "#**스마트폰 센서 데이터 기반 모션 분류**\n",
    "# 단계1 : 탐색적 데이터 분석"
   ]
  },
  {
   "cell_type": "markdown",
   "metadata": {
    "id": "D67PlTu4JGAY"
   },
   "source": [
    "## 0.미션"
   ]
  },
  {
   "cell_type": "markdown",
   "metadata": {
    "id": "wc1FlP4E09oQ"
   },
   "source": [
    "### (1) 미션①\n",
    "수많은 feature들을 모두 살펴보는 것은 과도한 시간과 노력이 필요합니다. 그래서 여러분은 **선택과 집중**을 해야 합니다.\n",
    "* 1) **기본 모델을 생성**한 후 **변수 중요도**를 구합니다.   \n",
    "    * random forest 알고리즘 사용을 권장합니다.\n",
    "* 2) **중요한 feature와 중요하지 않은 feature 상위 N개를 선정**하고, 이들을 대상으로 EDA 수행.\n",
    "* 3) **각 feature 그룹별 중요도**도 파악해보며 EDA를 수행  \n",
    "    * Feature 이름에는 계층구조를 담고 있습니다. 그렇다 보니 feature들을 적절하게 그룹으로 묶을 수 있습니다.\n",
    "    * 참고로, feature 그룹의 중요도는 개별 feature 중요도의 합으로 계산할 수 있습니다.\n"
   ]
  },
  {
   "cell_type": "markdown",
   "metadata": {
    "id": "hGGC3Ev4G9O8"
   },
   "source": [
    "### (2) 미션②  \n",
    "다음의 case에 맞게 feature 및 feature 그룹 중요도를 기반으로 탐색적 데이터 분석을 수행하시오.\n",
    "* 1) Target을 **정적/동적 행동**으로 구분\n",
    "    * 6개의 행동은 2개의 그룹(정적행동, 동적행동)으로 나뉩니다.  \n",
    "    * 어떤 feature(혹은 feature 그룹)이 2개 class 그룹(정적행동, 동적행동)를 구분하는데 중요한지를 찾아보고 탐색해봅시다. \n",
    "* 2) Target을 **개별 행동 여부**로 구분\n",
    "    * 6가지의 행동을 분류하는 분석도 중요하지만, 개별 행동에만 특별히 영향을 받는 feature들도 있습니다. \n",
    "    * 예를 들어, 계단을 오르는 행동(Walking_upstairs)과 관련이 큰 feature가 있을 것입니다. [계단을 오르는 행동]인지 아닌지로 구분하는 target을 추가하여 EDA를 수행해 봅시다.\n"
   ]
  },
  {
   "cell_type": "markdown",
   "metadata": {
    "id": "NCptKiLOAn7l"
   },
   "source": [
    "## 1.환경설정"
   ]
  },
  {
   "cell_type": "markdown",
   "metadata": {
    "id": "KnzVh2LmkLDU"
   },
   "source": [
    "### (1) 라이브러리 불러오기"
   ]
  },
  {
   "cell_type": "markdown",
   "metadata": {
    "id": "I_rCs78QJZmI"
   },
   "source": [
    "* 세부 요구사항\n",
    "    - 기본적으로 필요한 라이브러리를 import 하도록 코드가 작성되어 있습니다.\n",
    "    - 필요하다고 판단되는 라이브러리를 추가하세요."
   ]
  },
  {
   "cell_type": "code",
   "execution_count": 1,
   "metadata": {
    "id": "3rsQerEaELwI",
    "tags": []
   },
   "outputs": [],
   "source": [
    "import pandas as pd\n",
    "import numpy as np\n",
    "import matplotlib.pyplot as plt\n",
    "import seaborn as sns\n",
    "\n",
    "# 필요하다고 판단되는 라이브러리를 추가하세요.\n",
    "\n",
    "#랜덤포레스트\n"
   ]
  },
  {
   "cell_type": "markdown",
   "metadata": {
    "id": "mlBhkYHQ491o"
   },
   "source": [
    "* 변수 중요도 함수 생성\n",
    "    * 변수 중요도를 시각화할 수 있는 함수를 제공합니다.\n",
    "    * 입력 : \n",
    "        * importance : 트리모델의 변수 중요도(예: model.feature_importances_)\n",
    "        * names : 변수 이름 목록(예 : x_train.columns\n",
    "        * result_only  : 변수 중요도 순으로 데이터프레임만 return할지, 그래프도 포함할지 결정. False이면 결과 데이터프레임 + 그래프\n",
    "        * topn : 중요도 상위 n개만 표시. all 이면 전체.\n",
    "    * 출력 : \n",
    "        * 중요도 그래프 : 중요도 내림차순으로 정렬\n",
    "        * 중요도 데이터프레임 : 중요도 내림차순으로 정렬"
   ]
  },
  {
   "cell_type": "code",
   "execution_count": 29,
   "metadata": {
    "id": "EyMZDIT-aDHZ",
    "tags": []
   },
   "outputs": [],
   "source": [
    "# ★변수의 특성 중요도 계산하기\n",
    "def plot_feature_importance(importance, names, result_only = False, topn = 'all'):\n",
    "    feature_importance = np.array(importance)\n",
    "    feature_name = np.array(names)\n",
    "\n",
    "    data={'feature_name':feature_name,'feature_importance':feature_importance}\n",
    "    fi_temp = pd.DataFrame(data)\n",
    "\n",
    "    #변수의 특성 중요도 순으로 정렬하기\n",
    "    fi_temp.sort_values(by=['feature_importance'], ascending=False,inplace=True)\n",
    "    fi_temp.reset_index(drop=True, inplace = True)\n",
    "\n",
    "    if topn == 'all' :\n",
    "        fi_df = fi_temp.copy()\n",
    "    else :\n",
    "        fi_df = fi_temp.iloc[:topn]\n",
    "\n",
    "    #변수의 특성 중요도 그래프로 그리기\n",
    "    if result_only == False :\n",
    "        plt.figure(figsize=(10,20))\n",
    "        sns.barplot(x='feature_importance', y='feature_name', data = fi_df)\n",
    "\n",
    "        plt.xlabel('importance')\n",
    "        plt.ylabel('feature name')\n",
    "        plt.grid()\n",
    "\n",
    "    return fi_df"
   ]
  },
  {
   "cell_type": "markdown",
   "metadata": {
    "id": "bA-eHXdwBDCz"
   },
   "source": [
    "### (2) 데이터 불러오기"
   ]
  },
  {
   "cell_type": "markdown",
   "metadata": {
    "id": "9OkifR5rnr2D"
   },
   "source": [
    "* 주어진 데이터셋\n",
    "    * data01_train.csv : 학습 및 검증용 데이터셋\n",
    "    * feature.csv : feature 이름을 계층구조로 정리한 데이터  \n",
    " <br/>\n",
    "    \n",
    "\n",
    "* 세부 요구사항\n",
    "    - 전체 데이터 'data01_train.csv' 를 불러와 'data' 변수에 저장합니다.\n",
    "    - 센서 그룹 데이터 'features.csv' 를 불러와 'features' 변수에 저장합니다."
   ]
  },
  {
   "cell_type": "code",
   "execution_count": 5,
   "metadata": {
    "id": "LIDx6619D15x",
    "tags": []
   },
   "outputs": [],
   "source": [
    "data = pd.read_csv('data01_train.csv')"
   ]
  },
  {
   "cell_type": "code",
   "execution_count": 6,
   "metadata": {
    "id": "uTi4ZuDWDlem",
    "tags": []
   },
   "outputs": [],
   "source": [
    "features = pd.read_csv('features.csv')"
   ]
  },
  {
   "cell_type": "markdown",
   "metadata": {
    "id": "MCdVOxN8BQCc"
   },
   "source": [
    "## 2.데이터 분석 : 기본정보 살펴보기"
   ]
  },
  {
   "cell_type": "markdown",
   "metadata": {
    "id": "JsX1zLaIXwbo"
   },
   "source": [
    "### (1) 기본정보 확인하기\n"
   ]
  },
  {
   "cell_type": "markdown",
   "metadata": {
    "id": "8Z6Fmjg7oizl"
   },
   "source": [
    "* **세부 요구사항**\n",
    "    - 불러온 데이터의 형태, 기초통계량, 정보 등을 확인합니다."
   ]
  },
  {
   "cell_type": "code",
   "execution_count": 8,
   "metadata": {
    "id": "aZ-SzPzsf_Hj",
    "tags": []
   },
   "outputs": [
    {
     "data": {
      "text/html": [
       "<div>\n",
       "<style scoped>\n",
       "    .dataframe tbody tr th:only-of-type {\n",
       "        vertical-align: middle;\n",
       "    }\n",
       "\n",
       "    .dataframe tbody tr th {\n",
       "        vertical-align: top;\n",
       "    }\n",
       "\n",
       "    .dataframe thead th {\n",
       "        text-align: right;\n",
       "    }\n",
       "</style>\n",
       "<table border=\"1\" class=\"dataframe\">\n",
       "  <thead>\n",
       "    <tr style=\"text-align: right;\">\n",
       "      <th></th>\n",
       "      <th>tBodyAcc-mean()-X</th>\n",
       "      <th>tBodyAcc-mean()-Y</th>\n",
       "      <th>tBodyAcc-mean()-Z</th>\n",
       "      <th>tBodyAcc-std()-X</th>\n",
       "      <th>tBodyAcc-std()-Y</th>\n",
       "      <th>tBodyAcc-std()-Z</th>\n",
       "      <th>tBodyAcc-mad()-X</th>\n",
       "      <th>tBodyAcc-mad()-Y</th>\n",
       "      <th>tBodyAcc-mad()-Z</th>\n",
       "      <th>tBodyAcc-max()-X</th>\n",
       "      <th>...</th>\n",
       "      <th>fBodyBodyGyroJerkMag-kurtosis()</th>\n",
       "      <th>angle(tBodyAccMean,gravity)</th>\n",
       "      <th>angle(tBodyAccJerkMean),gravityMean)</th>\n",
       "      <th>angle(tBodyGyroMean,gravityMean)</th>\n",
       "      <th>angle(tBodyGyroJerkMean,gravityMean)</th>\n",
       "      <th>angle(X,gravityMean)</th>\n",
       "      <th>angle(Y,gravityMean)</th>\n",
       "      <th>angle(Z,gravityMean)</th>\n",
       "      <th>subject</th>\n",
       "      <th>Activity</th>\n",
       "    </tr>\n",
       "  </thead>\n",
       "  <tbody>\n",
       "    <tr>\n",
       "      <th>0</th>\n",
       "      <td>0.288508</td>\n",
       "      <td>-0.009196</td>\n",
       "      <td>-0.103362</td>\n",
       "      <td>-0.988986</td>\n",
       "      <td>-0.962797</td>\n",
       "      <td>-0.967422</td>\n",
       "      <td>-0.989000</td>\n",
       "      <td>-0.962596</td>\n",
       "      <td>-0.965650</td>\n",
       "      <td>-0.929747</td>\n",
       "      <td>...</td>\n",
       "      <td>-0.816696</td>\n",
       "      <td>-0.042494</td>\n",
       "      <td>-0.044218</td>\n",
       "      <td>0.307873</td>\n",
       "      <td>0.072790</td>\n",
       "      <td>-0.601120</td>\n",
       "      <td>0.331298</td>\n",
       "      <td>0.165163</td>\n",
       "      <td>21</td>\n",
       "      <td>STANDING</td>\n",
       "    </tr>\n",
       "    <tr>\n",
       "      <th>1</th>\n",
       "      <td>0.265757</td>\n",
       "      <td>-0.016576</td>\n",
       "      <td>-0.098163</td>\n",
       "      <td>-0.989551</td>\n",
       "      <td>-0.994636</td>\n",
       "      <td>-0.987435</td>\n",
       "      <td>-0.990189</td>\n",
       "      <td>-0.993870</td>\n",
       "      <td>-0.987558</td>\n",
       "      <td>-0.937337</td>\n",
       "      <td>...</td>\n",
       "      <td>-0.693515</td>\n",
       "      <td>-0.062899</td>\n",
       "      <td>0.388459</td>\n",
       "      <td>-0.765014</td>\n",
       "      <td>0.771524</td>\n",
       "      <td>0.345205</td>\n",
       "      <td>-0.769186</td>\n",
       "      <td>-0.147944</td>\n",
       "      <td>15</td>\n",
       "      <td>LAYING</td>\n",
       "    </tr>\n",
       "    <tr>\n",
       "      <th>2</th>\n",
       "      <td>0.278709</td>\n",
       "      <td>-0.014511</td>\n",
       "      <td>-0.108717</td>\n",
       "      <td>-0.997720</td>\n",
       "      <td>-0.981088</td>\n",
       "      <td>-0.994008</td>\n",
       "      <td>-0.997934</td>\n",
       "      <td>-0.982187</td>\n",
       "      <td>-0.995017</td>\n",
       "      <td>-0.942584</td>\n",
       "      <td>...</td>\n",
       "      <td>-0.829311</td>\n",
       "      <td>0.000265</td>\n",
       "      <td>-0.525022</td>\n",
       "      <td>-0.891875</td>\n",
       "      <td>0.021528</td>\n",
       "      <td>-0.833564</td>\n",
       "      <td>0.202434</td>\n",
       "      <td>-0.032755</td>\n",
       "      <td>11</td>\n",
       "      <td>STANDING</td>\n",
       "    </tr>\n",
       "    <tr>\n",
       "      <th>3</th>\n",
       "      <td>0.289795</td>\n",
       "      <td>-0.035536</td>\n",
       "      <td>-0.150354</td>\n",
       "      <td>-0.231727</td>\n",
       "      <td>-0.006412</td>\n",
       "      <td>-0.338117</td>\n",
       "      <td>-0.273557</td>\n",
       "      <td>0.014245</td>\n",
       "      <td>-0.347916</td>\n",
       "      <td>0.008288</td>\n",
       "      <td>...</td>\n",
       "      <td>-0.408956</td>\n",
       "      <td>-0.255125</td>\n",
       "      <td>0.612804</td>\n",
       "      <td>0.747381</td>\n",
       "      <td>-0.072944</td>\n",
       "      <td>-0.695819</td>\n",
       "      <td>0.287154</td>\n",
       "      <td>0.111388</td>\n",
       "      <td>17</td>\n",
       "      <td>WALKING</td>\n",
       "    </tr>\n",
       "    <tr>\n",
       "      <th>4</th>\n",
       "      <td>0.394807</td>\n",
       "      <td>0.034098</td>\n",
       "      <td>0.091229</td>\n",
       "      <td>0.088489</td>\n",
       "      <td>-0.106636</td>\n",
       "      <td>-0.388502</td>\n",
       "      <td>-0.010469</td>\n",
       "      <td>-0.109680</td>\n",
       "      <td>-0.346372</td>\n",
       "      <td>0.584131</td>\n",
       "      <td>...</td>\n",
       "      <td>-0.563437</td>\n",
       "      <td>-0.044344</td>\n",
       "      <td>-0.845268</td>\n",
       "      <td>-0.974650</td>\n",
       "      <td>-0.887846</td>\n",
       "      <td>-0.705029</td>\n",
       "      <td>0.264952</td>\n",
       "      <td>0.137758</td>\n",
       "      <td>17</td>\n",
       "      <td>WALKING_DOWNSTAIRS</td>\n",
       "    </tr>\n",
       "  </tbody>\n",
       "</table>\n",
       "<p>5 rows × 563 columns</p>\n",
       "</div>"
      ],
      "text/plain": [
       "   tBodyAcc-mean()-X  tBodyAcc-mean()-Y  tBodyAcc-mean()-Z  tBodyAcc-std()-X  \\\n",
       "0           0.288508          -0.009196          -0.103362         -0.988986   \n",
       "1           0.265757          -0.016576          -0.098163         -0.989551   \n",
       "2           0.278709          -0.014511          -0.108717         -0.997720   \n",
       "3           0.289795          -0.035536          -0.150354         -0.231727   \n",
       "4           0.394807           0.034098           0.091229          0.088489   \n",
       "\n",
       "   tBodyAcc-std()-Y  tBodyAcc-std()-Z  tBodyAcc-mad()-X  tBodyAcc-mad()-Y  \\\n",
       "0         -0.962797         -0.967422         -0.989000         -0.962596   \n",
       "1         -0.994636         -0.987435         -0.990189         -0.993870   \n",
       "2         -0.981088         -0.994008         -0.997934         -0.982187   \n",
       "3         -0.006412         -0.338117         -0.273557          0.014245   \n",
       "4         -0.106636         -0.388502         -0.010469         -0.109680   \n",
       "\n",
       "   tBodyAcc-mad()-Z  tBodyAcc-max()-X  ...  fBodyBodyGyroJerkMag-kurtosis()  \\\n",
       "0         -0.965650         -0.929747  ...                        -0.816696   \n",
       "1         -0.987558         -0.937337  ...                        -0.693515   \n",
       "2         -0.995017         -0.942584  ...                        -0.829311   \n",
       "3         -0.347916          0.008288  ...                        -0.408956   \n",
       "4         -0.346372          0.584131  ...                        -0.563437   \n",
       "\n",
       "   angle(tBodyAccMean,gravity)  angle(tBodyAccJerkMean),gravityMean)  \\\n",
       "0                    -0.042494                             -0.044218   \n",
       "1                    -0.062899                              0.388459   \n",
       "2                     0.000265                             -0.525022   \n",
       "3                    -0.255125                              0.612804   \n",
       "4                    -0.044344                             -0.845268   \n",
       "\n",
       "   angle(tBodyGyroMean,gravityMean)  angle(tBodyGyroJerkMean,gravityMean)  \\\n",
       "0                          0.307873                              0.072790   \n",
       "1                         -0.765014                              0.771524   \n",
       "2                         -0.891875                              0.021528   \n",
       "3                          0.747381                             -0.072944   \n",
       "4                         -0.974650                             -0.887846   \n",
       "\n",
       "   angle(X,gravityMean)  angle(Y,gravityMean)  angle(Z,gravityMean)  subject  \\\n",
       "0             -0.601120              0.331298              0.165163       21   \n",
       "1              0.345205             -0.769186             -0.147944       15   \n",
       "2             -0.833564              0.202434             -0.032755       11   \n",
       "3             -0.695819              0.287154              0.111388       17   \n",
       "4             -0.705029              0.264952              0.137758       17   \n",
       "\n",
       "             Activity  \n",
       "0            STANDING  \n",
       "1              LAYING  \n",
       "2            STANDING  \n",
       "3             WALKING  \n",
       "4  WALKING_DOWNSTAIRS  \n",
       "\n",
       "[5 rows x 563 columns]"
      ]
     },
     "execution_count": 8,
     "metadata": {},
     "output_type": "execute_result"
    }
   ],
   "source": [
    "data.head(5)"
   ]
  },
  {
   "cell_type": "code",
   "execution_count": 27,
   "metadata": {
    "id": "sH71Rvr2f_ER",
    "tags": []
   },
   "outputs": [
    {
     "name": "stdout",
     "output_type": "stream",
     "text": [
      "<class 'pandas.core.frame.DataFrame'>\n",
      "RangeIndex: 5881 entries, 0 to 5880\n",
      "Columns: 563 entries, tBodyAcc-mean()-X to Activity\n",
      "dtypes: float64(561), int64(1), object(1)\n",
      "memory usage: 25.3+ MB\n"
     ]
    }
   ],
   "source": [
    "data.info()"
   ]
  },
  {
   "cell_type": "code",
   "execution_count": 28,
   "metadata": {
    "tags": []
   },
   "outputs": [
    {
     "data": {
      "text/html": [
       "<div>\n",
       "<style scoped>\n",
       "    .dataframe tbody tr th:only-of-type {\n",
       "        vertical-align: middle;\n",
       "    }\n",
       "\n",
       "    .dataframe tbody tr th {\n",
       "        vertical-align: top;\n",
       "    }\n",
       "\n",
       "    .dataframe thead th {\n",
       "        text-align: right;\n",
       "    }\n",
       "</style>\n",
       "<table border=\"1\" class=\"dataframe\">\n",
       "  <thead>\n",
       "    <tr style=\"text-align: right;\">\n",
       "      <th></th>\n",
       "      <th>tBodyAcc-mean()-X</th>\n",
       "      <th>tBodyAcc-mean()-Y</th>\n",
       "      <th>tBodyAcc-mean()-Z</th>\n",
       "      <th>tBodyAcc-std()-X</th>\n",
       "      <th>tBodyAcc-std()-Y</th>\n",
       "      <th>tBodyAcc-std()-Z</th>\n",
       "      <th>tBodyAcc-mad()-X</th>\n",
       "      <th>tBodyAcc-mad()-Y</th>\n",
       "      <th>tBodyAcc-mad()-Z</th>\n",
       "      <th>tBodyAcc-max()-X</th>\n",
       "      <th>...</th>\n",
       "      <th>fBodyBodyGyroJerkMag-skewness()</th>\n",
       "      <th>fBodyBodyGyroJerkMag-kurtosis()</th>\n",
       "      <th>angle(tBodyAccMean,gravity)</th>\n",
       "      <th>angle(tBodyAccJerkMean),gravityMean)</th>\n",
       "      <th>angle(tBodyGyroMean,gravityMean)</th>\n",
       "      <th>angle(tBodyGyroJerkMean,gravityMean)</th>\n",
       "      <th>angle(X,gravityMean)</th>\n",
       "      <th>angle(Y,gravityMean)</th>\n",
       "      <th>angle(Z,gravityMean)</th>\n",
       "      <th>subject</th>\n",
       "    </tr>\n",
       "  </thead>\n",
       "  <tbody>\n",
       "    <tr>\n",
       "      <th>count</th>\n",
       "      <td>5881.000000</td>\n",
       "      <td>5881.000000</td>\n",
       "      <td>5881.000000</td>\n",
       "      <td>5881.000000</td>\n",
       "      <td>5881.000000</td>\n",
       "      <td>5881.000000</td>\n",
       "      <td>5881.000000</td>\n",
       "      <td>5881.000000</td>\n",
       "      <td>5881.000000</td>\n",
       "      <td>5881.000000</td>\n",
       "      <td>...</td>\n",
       "      <td>5881.000000</td>\n",
       "      <td>5881.000000</td>\n",
       "      <td>5881.000000</td>\n",
       "      <td>5881.000000</td>\n",
       "      <td>5881.000000</td>\n",
       "      <td>5881.000000</td>\n",
       "      <td>5881.000000</td>\n",
       "      <td>5881.000000</td>\n",
       "      <td>5881.000000</td>\n",
       "      <td>5881.000000</td>\n",
       "    </tr>\n",
       "    <tr>\n",
       "      <th>mean</th>\n",
       "      <td>0.274811</td>\n",
       "      <td>-0.017799</td>\n",
       "      <td>-0.109396</td>\n",
       "      <td>-0.603138</td>\n",
       "      <td>-0.509815</td>\n",
       "      <td>-0.604058</td>\n",
       "      <td>-0.628151</td>\n",
       "      <td>-0.525944</td>\n",
       "      <td>-0.605374</td>\n",
       "      <td>-0.465490</td>\n",
       "      <td>...</td>\n",
       "      <td>-0.305883</td>\n",
       "      <td>-0.623548</td>\n",
       "      <td>0.008524</td>\n",
       "      <td>-0.001185</td>\n",
       "      <td>0.009340</td>\n",
       "      <td>-0.007099</td>\n",
       "      <td>-0.491501</td>\n",
       "      <td>0.059299</td>\n",
       "      <td>-0.054594</td>\n",
       "      <td>17.381568</td>\n",
       "    </tr>\n",
       "    <tr>\n",
       "      <th>std</th>\n",
       "      <td>0.067614</td>\n",
       "      <td>0.039422</td>\n",
       "      <td>0.058373</td>\n",
       "      <td>0.448807</td>\n",
       "      <td>0.501815</td>\n",
       "      <td>0.417319</td>\n",
       "      <td>0.424345</td>\n",
       "      <td>0.485115</td>\n",
       "      <td>0.413043</td>\n",
       "      <td>0.544995</td>\n",
       "      <td>...</td>\n",
       "      <td>0.322808</td>\n",
       "      <td>0.310371</td>\n",
       "      <td>0.339730</td>\n",
       "      <td>0.447197</td>\n",
       "      <td>0.608190</td>\n",
       "      <td>0.476738</td>\n",
       "      <td>0.509069</td>\n",
       "      <td>0.297340</td>\n",
       "      <td>0.278479</td>\n",
       "      <td>8.938316</td>\n",
       "    </tr>\n",
       "    <tr>\n",
       "      <th>min</th>\n",
       "      <td>-0.503823</td>\n",
       "      <td>-0.684893</td>\n",
       "      <td>-1.000000</td>\n",
       "      <td>-1.000000</td>\n",
       "      <td>-0.999844</td>\n",
       "      <td>-0.999667</td>\n",
       "      <td>-1.000000</td>\n",
       "      <td>-0.999419</td>\n",
       "      <td>-1.000000</td>\n",
       "      <td>-1.000000</td>\n",
       "      <td>...</td>\n",
       "      <td>-0.979261</td>\n",
       "      <td>-0.999765</td>\n",
       "      <td>-0.976580</td>\n",
       "      <td>-1.000000</td>\n",
       "      <td>-1.000000</td>\n",
       "      <td>-1.000000</td>\n",
       "      <td>-1.000000</td>\n",
       "      <td>-1.000000</td>\n",
       "      <td>-0.980143</td>\n",
       "      <td>1.000000</td>\n",
       "    </tr>\n",
       "    <tr>\n",
       "      <th>25%</th>\n",
       "      <td>0.262919</td>\n",
       "      <td>-0.024877</td>\n",
       "      <td>-0.121051</td>\n",
       "      <td>-0.992774</td>\n",
       "      <td>-0.977680</td>\n",
       "      <td>-0.980127</td>\n",
       "      <td>-0.993602</td>\n",
       "      <td>-0.977865</td>\n",
       "      <td>-0.980112</td>\n",
       "      <td>-0.936067</td>\n",
       "      <td>...</td>\n",
       "      <td>-0.541969</td>\n",
       "      <td>-0.845985</td>\n",
       "      <td>-0.122361</td>\n",
       "      <td>-0.294369</td>\n",
       "      <td>-0.481718</td>\n",
       "      <td>-0.373345</td>\n",
       "      <td>-0.811397</td>\n",
       "      <td>-0.018203</td>\n",
       "      <td>-0.141555</td>\n",
       "      <td>8.000000</td>\n",
       "    </tr>\n",
       "    <tr>\n",
       "      <th>50%</th>\n",
       "      <td>0.277154</td>\n",
       "      <td>-0.017221</td>\n",
       "      <td>-0.108781</td>\n",
       "      <td>-0.943933</td>\n",
       "      <td>-0.844575</td>\n",
       "      <td>-0.856352</td>\n",
       "      <td>-0.948501</td>\n",
       "      <td>-0.849266</td>\n",
       "      <td>-0.849896</td>\n",
       "      <td>-0.878729</td>\n",
       "      <td>...</td>\n",
       "      <td>-0.342923</td>\n",
       "      <td>-0.712677</td>\n",
       "      <td>0.010278</td>\n",
       "      <td>0.005146</td>\n",
       "      <td>0.011448</td>\n",
       "      <td>-0.000847</td>\n",
       "      <td>-0.709441</td>\n",
       "      <td>0.182893</td>\n",
       "      <td>0.003951</td>\n",
       "      <td>19.000000</td>\n",
       "    </tr>\n",
       "    <tr>\n",
       "      <th>75%</th>\n",
       "      <td>0.288526</td>\n",
       "      <td>-0.010920</td>\n",
       "      <td>-0.098163</td>\n",
       "      <td>-0.242130</td>\n",
       "      <td>-0.034499</td>\n",
       "      <td>-0.262690</td>\n",
       "      <td>-0.291138</td>\n",
       "      <td>-0.068857</td>\n",
       "      <td>-0.268539</td>\n",
       "      <td>-0.013690</td>\n",
       "      <td>...</td>\n",
       "      <td>-0.127371</td>\n",
       "      <td>-0.501158</td>\n",
       "      <td>0.154985</td>\n",
       "      <td>0.285030</td>\n",
       "      <td>0.499857</td>\n",
       "      <td>0.356236</td>\n",
       "      <td>-0.511330</td>\n",
       "      <td>0.248435</td>\n",
       "      <td>0.111932</td>\n",
       "      <td>26.000000</td>\n",
       "    </tr>\n",
       "    <tr>\n",
       "      <th>max</th>\n",
       "      <td>1.000000</td>\n",
       "      <td>1.000000</td>\n",
       "      <td>1.000000</td>\n",
       "      <td>1.000000</td>\n",
       "      <td>0.916238</td>\n",
       "      <td>1.000000</td>\n",
       "      <td>1.000000</td>\n",
       "      <td>0.967664</td>\n",
       "      <td>1.000000</td>\n",
       "      <td>1.000000</td>\n",
       "      <td>...</td>\n",
       "      <td>0.989538</td>\n",
       "      <td>0.956845</td>\n",
       "      <td>1.000000</td>\n",
       "      <td>1.000000</td>\n",
       "      <td>0.998702</td>\n",
       "      <td>0.996078</td>\n",
       "      <td>0.977344</td>\n",
       "      <td>0.478157</td>\n",
       "      <td>1.000000</td>\n",
       "      <td>30.000000</td>\n",
       "    </tr>\n",
       "  </tbody>\n",
       "</table>\n",
       "<p>8 rows × 562 columns</p>\n",
       "</div>"
      ],
      "text/plain": [
       "       tBodyAcc-mean()-X  tBodyAcc-mean()-Y  tBodyAcc-mean()-Z  \\\n",
       "count        5881.000000        5881.000000        5881.000000   \n",
       "mean            0.274811          -0.017799          -0.109396   \n",
       "std             0.067614           0.039422           0.058373   \n",
       "min            -0.503823          -0.684893          -1.000000   \n",
       "25%             0.262919          -0.024877          -0.121051   \n",
       "50%             0.277154          -0.017221          -0.108781   \n",
       "75%             0.288526          -0.010920          -0.098163   \n",
       "max             1.000000           1.000000           1.000000   \n",
       "\n",
       "       tBodyAcc-std()-X  tBodyAcc-std()-Y  tBodyAcc-std()-Z  tBodyAcc-mad()-X  \\\n",
       "count       5881.000000       5881.000000       5881.000000       5881.000000   \n",
       "mean          -0.603138         -0.509815         -0.604058         -0.628151   \n",
       "std            0.448807          0.501815          0.417319          0.424345   \n",
       "min           -1.000000         -0.999844         -0.999667         -1.000000   \n",
       "25%           -0.992774         -0.977680         -0.980127         -0.993602   \n",
       "50%           -0.943933         -0.844575         -0.856352         -0.948501   \n",
       "75%           -0.242130         -0.034499         -0.262690         -0.291138   \n",
       "max            1.000000          0.916238          1.000000          1.000000   \n",
       "\n",
       "       tBodyAcc-mad()-Y  tBodyAcc-mad()-Z  tBodyAcc-max()-X  ...  \\\n",
       "count       5881.000000       5881.000000       5881.000000  ...   \n",
       "mean          -0.525944         -0.605374         -0.465490  ...   \n",
       "std            0.485115          0.413043          0.544995  ...   \n",
       "min           -0.999419         -1.000000         -1.000000  ...   \n",
       "25%           -0.977865         -0.980112         -0.936067  ...   \n",
       "50%           -0.849266         -0.849896         -0.878729  ...   \n",
       "75%           -0.068857         -0.268539         -0.013690  ...   \n",
       "max            0.967664          1.000000          1.000000  ...   \n",
       "\n",
       "       fBodyBodyGyroJerkMag-skewness()  fBodyBodyGyroJerkMag-kurtosis()  \\\n",
       "count                      5881.000000                      5881.000000   \n",
       "mean                         -0.305883                        -0.623548   \n",
       "std                           0.322808                         0.310371   \n",
       "min                          -0.979261                        -0.999765   \n",
       "25%                          -0.541969                        -0.845985   \n",
       "50%                          -0.342923                        -0.712677   \n",
       "75%                          -0.127371                        -0.501158   \n",
       "max                           0.989538                         0.956845   \n",
       "\n",
       "       angle(tBodyAccMean,gravity)  angle(tBodyAccJerkMean),gravityMean)  \\\n",
       "count                  5881.000000                           5881.000000   \n",
       "mean                      0.008524                             -0.001185   \n",
       "std                       0.339730                              0.447197   \n",
       "min                      -0.976580                             -1.000000   \n",
       "25%                      -0.122361                             -0.294369   \n",
       "50%                       0.010278                              0.005146   \n",
       "75%                       0.154985                              0.285030   \n",
       "max                       1.000000                              1.000000   \n",
       "\n",
       "       angle(tBodyGyroMean,gravityMean)  angle(tBodyGyroJerkMean,gravityMean)  \\\n",
       "count                       5881.000000                           5881.000000   \n",
       "mean                           0.009340                             -0.007099   \n",
       "std                            0.608190                              0.476738   \n",
       "min                           -1.000000                             -1.000000   \n",
       "25%                           -0.481718                             -0.373345   \n",
       "50%                            0.011448                             -0.000847   \n",
       "75%                            0.499857                              0.356236   \n",
       "max                            0.998702                              0.996078   \n",
       "\n",
       "       angle(X,gravityMean)  angle(Y,gravityMean)  angle(Z,gravityMean)  \\\n",
       "count           5881.000000           5881.000000           5881.000000   \n",
       "mean              -0.491501              0.059299             -0.054594   \n",
       "std                0.509069              0.297340              0.278479   \n",
       "min               -1.000000             -1.000000             -0.980143   \n",
       "25%               -0.811397             -0.018203             -0.141555   \n",
       "50%               -0.709441              0.182893              0.003951   \n",
       "75%               -0.511330              0.248435              0.111932   \n",
       "max                0.977344              0.478157              1.000000   \n",
       "\n",
       "           subject  \n",
       "count  5881.000000  \n",
       "mean     17.381568  \n",
       "std       8.938316  \n",
       "min       1.000000  \n",
       "25%       8.000000  \n",
       "50%      19.000000  \n",
       "75%      26.000000  \n",
       "max      30.000000  \n",
       "\n",
       "[8 rows x 562 columns]"
      ]
     },
     "execution_count": 28,
     "metadata": {},
     "output_type": "execute_result"
    }
   ],
   "source": [
    "data.describe()"
   ]
  },
  {
   "cell_type": "code",
   "execution_count": 18,
   "metadata": {
    "id": "k3cVC6Jyf_Bh",
    "tags": []
   },
   "outputs": [
    {
     "data": {
      "text/plain": [
       "tBodyAcc-mean()-X            0\n",
       "fBodyAccJerk-kurtosis()-Y    0\n",
       "fBodyAccJerk-meanFreq()-X    0\n",
       "fBodyAccJerk-meanFreq()-Y    0\n",
       "fBodyAccJerk-meanFreq()-Z    0\n",
       "                            ..\n",
       "tBodyGyroJerk-iqr()-Z        0\n",
       "tBodyGyroJerk-iqr()-Y        0\n",
       "tBodyGyroJerk-iqr()-X        0\n",
       "tBodyGyroJerk-energy()-Z     0\n",
       "Activity                     0\n",
       "Length: 563, dtype: int64"
      ]
     },
     "execution_count": 18,
     "metadata": {},
     "output_type": "execute_result"
    }
   ],
   "source": [
    "data.isnull().sum().sort_values(ascending=False) # 결측치 확인"
   ]
  },
  {
   "cell_type": "code",
   "execution_count": 23,
   "metadata": {
    "tags": []
   },
   "outputs": [
    {
     "data": {
      "text/html": [
       "<div>\n",
       "<style scoped>\n",
       "    .dataframe tbody tr th:only-of-type {\n",
       "        vertical-align: middle;\n",
       "    }\n",
       "\n",
       "    .dataframe tbody tr th {\n",
       "        vertical-align: top;\n",
       "    }\n",
       "\n",
       "    .dataframe thead th {\n",
       "        text-align: right;\n",
       "    }\n",
       "</style>\n",
       "<table border=\"1\" class=\"dataframe\">\n",
       "  <thead>\n",
       "    <tr style=\"text-align: right;\">\n",
       "      <th></th>\n",
       "      <th>sensor</th>\n",
       "      <th>agg</th>\n",
       "      <th>axis</th>\n",
       "      <th>feature_name</th>\n",
       "    </tr>\n",
       "  </thead>\n",
       "  <tbody>\n",
       "    <tr>\n",
       "      <th>0</th>\n",
       "      <td>tBodyAcc</td>\n",
       "      <td>mean()</td>\n",
       "      <td>X</td>\n",
       "      <td>tBodyAcc-mean()-X</td>\n",
       "    </tr>\n",
       "    <tr>\n",
       "      <th>1</th>\n",
       "      <td>tBodyAcc</td>\n",
       "      <td>mean()</td>\n",
       "      <td>Y</td>\n",
       "      <td>tBodyAcc-mean()-Y</td>\n",
       "    </tr>\n",
       "    <tr>\n",
       "      <th>2</th>\n",
       "      <td>tBodyAcc</td>\n",
       "      <td>mean()</td>\n",
       "      <td>Z</td>\n",
       "      <td>tBodyAcc-mean()-Z</td>\n",
       "    </tr>\n",
       "    <tr>\n",
       "      <th>3</th>\n",
       "      <td>tBodyAcc</td>\n",
       "      <td>std()</td>\n",
       "      <td>X</td>\n",
       "      <td>tBodyAcc-std()-X</td>\n",
       "    </tr>\n",
       "    <tr>\n",
       "      <th>4</th>\n",
       "      <td>tBodyAcc</td>\n",
       "      <td>std()</td>\n",
       "      <td>Y</td>\n",
       "      <td>tBodyAcc-std()-Y</td>\n",
       "    </tr>\n",
       "  </tbody>\n",
       "</table>\n",
       "</div>"
      ],
      "text/plain": [
       "     sensor     agg axis       feature_name\n",
       "0  tBodyAcc  mean()    X  tBodyAcc-mean()-X\n",
       "1  tBodyAcc  mean()    Y  tBodyAcc-mean()-Y\n",
       "2  tBodyAcc  mean()    Z  tBodyAcc-mean()-Z\n",
       "3  tBodyAcc   std()    X   tBodyAcc-std()-X\n",
       "4  tBodyAcc   std()    Y   tBodyAcc-std()-Y"
      ]
     },
     "execution_count": 23,
     "metadata": {},
     "output_type": "execute_result"
    }
   ],
   "source": [
    "features.head(5)"
   ]
  },
  {
   "cell_type": "code",
   "execution_count": 25,
   "metadata": {
    "tags": []
   },
   "outputs": [
    {
     "name": "stdout",
     "output_type": "stream",
     "text": [
      "<class 'pandas.core.frame.DataFrame'>\n",
      "RangeIndex: 561 entries, 0 to 560\n",
      "Data columns (total 4 columns):\n",
      " #   Column        Non-Null Count  Dtype \n",
      "---  ------        --------------  ----- \n",
      " 0   sensor        561 non-null    object\n",
      " 1   agg           561 non-null    object\n",
      " 2   axis          436 non-null    object\n",
      " 3   feature_name  561 non-null    object\n",
      "dtypes: object(4)\n",
      "memory usage: 17.7+ KB\n"
     ]
    }
   ],
   "source": [
    "features.info()"
   ]
  },
  {
   "cell_type": "code",
   "execution_count": 30,
   "metadata": {
    "tags": []
   },
   "outputs": [
    {
     "data": {
      "text/html": [
       "<div>\n",
       "<style scoped>\n",
       "    .dataframe tbody tr th:only-of-type {\n",
       "        vertical-align: middle;\n",
       "    }\n",
       "\n",
       "    .dataframe tbody tr th {\n",
       "        vertical-align: top;\n",
       "    }\n",
       "\n",
       "    .dataframe thead th {\n",
       "        text-align: right;\n",
       "    }\n",
       "</style>\n",
       "<table border=\"1\" class=\"dataframe\">\n",
       "  <thead>\n",
       "    <tr style=\"text-align: right;\">\n",
       "      <th></th>\n",
       "      <th>sensor</th>\n",
       "      <th>agg</th>\n",
       "      <th>axis</th>\n",
       "      <th>feature_name</th>\n",
       "    </tr>\n",
       "  </thead>\n",
       "  <tbody>\n",
       "    <tr>\n",
       "      <th>count</th>\n",
       "      <td>561</td>\n",
       "      <td>561</td>\n",
       "      <td>436</td>\n",
       "      <td>561</td>\n",
       "    </tr>\n",
       "    <tr>\n",
       "      <th>unique</th>\n",
       "      <td>18</td>\n",
       "      <td>27</td>\n",
       "      <td>62</td>\n",
       "      <td>533</td>\n",
       "    </tr>\n",
       "    <tr>\n",
       "      <th>top</th>\n",
       "      <td>fBodyGyro</td>\n",
       "      <td>bandsEnergy()</td>\n",
       "      <td>X</td>\n",
       "      <td>fBodyGyro-bandsEnergy()-25,32</td>\n",
       "    </tr>\n",
       "    <tr>\n",
       "      <th>freq</th>\n",
       "      <td>79</td>\n",
       "      <td>126</td>\n",
       "      <td>76</td>\n",
       "      <td>3</td>\n",
       "    </tr>\n",
       "  </tbody>\n",
       "</table>\n",
       "</div>"
      ],
      "text/plain": [
       "           sensor            agg axis                   feature_name\n",
       "count         561            561  436                            561\n",
       "unique         18             27   62                            533\n",
       "top     fBodyGyro  bandsEnergy()    X  fBodyGyro-bandsEnergy()-25,32\n",
       "freq           79            126   76                              3"
      ]
     },
     "execution_count": 30,
     "metadata": {},
     "output_type": "execute_result"
    }
   ],
   "source": [
    "features.describe()"
   ]
  },
  {
   "cell_type": "markdown",
   "metadata": {
    "id": "JS-uDFHkt7rg"
   },
   "source": [
    "### (2) 목표 변수 확인하기"
   ]
  },
  {
   "cell_type": "markdown",
   "metadata": {
    "id": "QivYs5qqMiu0"
   },
   "source": [
    "* **세부 요구사항**\n",
    "    - target인 'Activity'에 대해 단변량 분석을 수행합니다.\n",
    "    - 범주의 종류, 범주별 빈도수 및 비율 등"
   ]
  },
  {
   "cell_type": "code",
   "execution_count": 33,
   "metadata": {
    "id": "dk4XgnqpgAUt",
    "tags": []
   },
   "outputs": [],
   "source": [
    "target = 'Activity'"
   ]
  },
  {
   "cell_type": "code",
   "execution_count": 35,
   "metadata": {
    "id": "a5htSEb5gAR2",
    "tags": []
   },
   "outputs": [
    {
     "data": {
      "text/plain": [
       "Activity\n",
       "LAYING                1115\n",
       "STANDING              1087\n",
       "SITTING               1032\n",
       "WALKING                998\n",
       "WALKING_UPSTAIRS       858\n",
       "WALKING_DOWNSTAIRS     791\n",
       "Name: count, dtype: int64"
      ]
     },
     "execution_count": 35,
     "metadata": {},
     "output_type": "execute_result"
    }
   ],
   "source": [
    "data[target].value_counts()"
   ]
  },
  {
   "cell_type": "code",
   "execution_count": 56,
   "metadata": {
    "id": "a9DGZxiDgAOt",
    "tags": []
   },
   "outputs": [
    {
     "data": {
      "image/png": "[encoded data removed]",
      "text/plain": [
       "<Figure size 640x480 with 1 Axes>"
      ]
     },
     "metadata": {},
     "output_type": "display_data"
    }
   ],
   "source": [
    "sns.countplot(y=target, data=data)\n",
    "plt.grid(axis='x')\n",
    "plt.show()"
   ]
  },
  {
   "cell_type": "markdown",
   "metadata": {
    "tags": []
   },
   "source": [
    "→ 그다지 불균형하지 않음"
   ]
  },
  {
   "cell_type": "markdown",
   "metadata": {
    "id": "gT0VQr2lFo2C"
   },
   "source": [
    "### (3) 센서 그룹 데이터: features"
   ]
  },
  {
   "cell_type": "markdown",
   "metadata": {
    "id": "wlmfrOTFV6a-"
   },
   "source": [
    "* **세부 요구사항**\n",
    "    - feature 이름에 대한 계층 구조별로 변수의 수를 카운트 해 봅시다.\n",
    "        - sensor 별 변수의 개수\n",
    "        - agg(regation) 별 변수의 개수\n",
    "        - axis 별 변수의 개수"
   ]
  },
  {
   "cell_type": "code",
   "execution_count": 48,
   "metadata": {
    "tags": []
   },
   "outputs": [
    {
     "data": {
      "text/plain": [
       "sensor\n",
       "fBodyGyro               79\n",
       "fBodyAcc                79\n",
       "fBodyAccJerk            79\n",
       "tBodyAcc                40\n",
       "tBodyAccJerk            40\n",
       "tBodyGyro               40\n",
       "tBodyGyroJerk           40\n",
       "tGravityAcc             40\n",
       "fBodyBodyGyroJerkMag    13\n",
       "fBodyBodyGyroMag        13\n",
       "fBodyBodyAccJerkMag     13\n",
       "fBodyAccMag             13\n",
       "tBodyGyroJerkMag        13\n",
       "tBodyGyroMag            13\n",
       "tBodyAccJerkMag         13\n",
       "tGravityAccMag          13\n",
       "tBodyAccMag             13\n",
       "angle                    7\n",
       "Name: count, dtype: int64"
      ]
     },
     "execution_count": 48,
     "metadata": {},
     "output_type": "execute_result"
    }
   ],
   "source": [
    "features['sensor'].value_counts()"
   ]
  },
  {
   "cell_type": "code",
   "execution_count": 54,
   "metadata": {
    "id": "PDnJkt_CgBd1",
    "tags": []
   },
   "outputs": [
    {
     "data": {
      "image/png": "[encoded data removed]",
      "text/plain": [
       "<Figure size 640x480 with 1 Axes>"
      ]
     },
     "metadata": {},
     "output_type": "display_data"
    }
   ],
   "source": [
    "sns.countplot(y='sensor', data=features, order=features['sensor'].value_counts().index)\n",
    "plt.grid(axis='x')\n",
    "plt.show()"
   ]
  },
  {
   "cell_type": "code",
   "execution_count": 50,
   "metadata": {
    "tags": []
   },
   "outputs": [
    {
     "data": {
      "text/plain": [
       "agg\n",
       "bandsEnergy()        126\n",
       "arCoeff()             60\n",
       "mean()                33\n",
       "mad()                 33\n",
       "max()                 33\n",
       "min()                 33\n",
       "energy()              33\n",
       "iqr()                 33\n",
       "entropy()             33\n",
       "std()                 33\n",
       "sma()                 17\n",
       "correlation()         15\n",
       "meanFreq()            13\n",
       "kurtosis()            13\n",
       "skewness()            13\n",
       "maxInds               13\n",
       "arCoeff()3             5\n",
       "arCoeff()4             5\n",
       "arCoeff()2             5\n",
       "arCoeff()1             5\n",
       "tBodyAccMean           1\n",
       "tBodyAccJerkMean       1\n",
       "tBodyGyroMean          1\n",
       "tBodyGyroJerkMean      1\n",
       "X                      1\n",
       "Y                      1\n",
       "Z                      1\n",
       "Name: count, dtype: int64"
      ]
     },
     "execution_count": 50,
     "metadata": {},
     "output_type": "execute_result"
    }
   ],
   "source": [
    "features['agg'].value_counts()"
   ]
  },
  {
   "cell_type": "code",
   "execution_count": 57,
   "metadata": {
    "id": "dRPDj7J6gBa4",
    "tags": []
   },
   "outputs": [
    {
     "data": {
      "image/png": "[encoded data removed]",
      "text/plain": [
       "<Figure size 640x480 with 1 Axes>"
      ]
     },
     "metadata": {},
     "output_type": "display_data"
    }
   ],
   "source": [
    "sns.countplot(y='agg', data=features, order=features['agg'].value_counts().index)\n",
    "plt.grid(axis='x')\n",
    "plt.show()"
   ]
  },
  {
   "cell_type": "code",
   "execution_count": 52,
   "metadata": {
    "tags": []
   },
   "outputs": [
    {
     "data": {
      "text/plain": [
       "axis\n",
       "X              76\n",
       "Y              76\n",
       "Z              76\n",
       "gravityMean     6\n",
       "X,2             5\n",
       "               ..\n",
       "25,32.1         2\n",
       "17,24.1         2\n",
       "1,8.1           2\n",
       "9,16.1          2\n",
       "gravity         1\n",
       "Name: count, Length: 62, dtype: int64"
      ]
     },
     "execution_count": 52,
     "metadata": {},
     "output_type": "execute_result"
    }
   ],
   "source": [
    "features['axis'].value_counts()"
   ]
  },
  {
   "cell_type": "code",
   "execution_count": 58,
   "metadata": {
    "id": "vrvYbWFfgBX4",
    "tags": []
   },
   "outputs": [
    {
     "data": {
      "image/png": "[encoded data removed]",
      "text/plain": [
       "<Figure size 640x480 with 1 Axes>"
      ]
     },
     "metadata": {},
     "output_type": "display_data"
    }
   ],
   "source": [
    "sns.countplot(y='axis', data=features, order=features['axis'].value_counts().index)\n",
    "plt.grid(axis='x')\n",
    "plt.show()"
   ]
  },
  {
   "cell_type": "markdown",
   "metadata": {
    "id": "SELsrRp4Lin5"
   },
   "source": [
    "## 3.데이터 분석 : 미션1"
   ]
  },
  {
   "cell_type": "markdown",
   "metadata": {
    "id": "ESMbIufqXNSt"
   },
   "source": [
    "수많은 feature들을 모두 살펴보는 것은 과도한 시간과 노력이 필요합니다. 그래서 여러분은 **선택과 집중**을 해야 합니다.\n",
    "* 1) **기본 모델을 생성**한 후 **변수 중요도**를 구합니다.   \n",
    "    * random forest 알고리즘 사용을 권장합니다.\n",
    "* 2) **중요한 feature와 중요하지 않은 feature 상위 N개를 선정**하고, 이들을 대상으로 EDA 수행.\n",
    "* 3) **각 feature 그룹별 중요도**도 파악해보며 EDA를 수행  \n",
    "    * Feature 이름에는 계층구조를 담고 있습니다. 그렇다 보니 feature들을 적절하게 그룹으로 묶을 수 있습니다.\n",
    "    * 참고로, feature 그룹의 중요도는 개별 feature 중요도의 합으로 계산할 수 있습니다."
   ]
  },
  {
   "cell_type": "markdown",
   "metadata": {
    "id": "ny-X5nZaXQZk"
   },
   "source": [
    "### (1) 기본모델링 + 변수중요도 추출"
   ]
  },
  {
   "cell_type": "markdown",
   "metadata": {
    "id": "s9HLFlSwXana"
   },
   "source": [
    "* **세부 요구사항**\n",
    "    - 모델링을 위한 기본 전처리를 수행합니다.\n",
    "        - 주어진 데이터에서는 x, y로 나누고 train과 validation 분할 수행\n",
    "    - 트리기반 알고리즘을 이용하여 모델링을 합니다. \n",
    "        - 랜덤포레스트 권장 : 랜덤포레스트는 튜닝 없이 하이퍼파리미터의 기본값로도 적절한 성능의 모델을 생성할 수 있습니다.\n",
    "    - 변수 중요도 추출\n",
    "        - 사용자정의함수로 생성한 plot_feature_importance 을 이용\n",
    "        - 변수중요도 파악및 결과 저장"
   ]
  },
  {
   "cell_type": "code",
   "execution_count": 59,
   "metadata": {
    "id": "8mNK5eaJgEI3",
    "tags": []
   },
   "outputs": [
    {
     "ename": "NameError",
     "evalue": "name 'x' is not defined",
     "output_type": "error",
     "traceback": [
      "\u001b[1;31m---------------------------------------------------------------------------\u001b[0m",
      "\u001b[1;31mNameError\u001b[0m                                 Traceback (most recent call last)",
      "Cell \u001b[1;32mIn[59], line 1\u001b[0m\n\u001b[1;32m----> 1\u001b[0m x\n",
      "\u001b[1;31mNameError\u001b[0m: name 'x' is not defined"
     ]
    }
   ],
   "source": [
    "x"
   ]
  },
  {
   "cell_type": "code",
   "execution_count": null,
   "metadata": {
    "id": "rBR7wbZ_gEFf"
   },
   "outputs": [],
   "source": []
  },
  {
   "cell_type": "code",
   "execution_count": null,
   "metadata": {
    "id": "T1T1S0PfgD2x"
   },
   "outputs": [],
   "source": []
  },
  {
   "cell_type": "code",
   "execution_count": null,
   "metadata": {
    "id": "H2I2N3itgDzg"
   },
   "outputs": [],
   "source": []
  },
  {
   "cell_type": "code",
   "execution_count": null,
   "metadata": {
    "id": "tQn9DwZVgDwV"
   },
   "outputs": [],
   "source": []
  },
  {
   "cell_type": "markdown",
   "metadata": {
    "id": "Xm1TP76PY3wQ"
   },
   "source": [
    "### (2) 중요도 기반 feature 분석"
   ]
  },
  {
   "cell_type": "markdown",
   "metadata": {
    "id": "HTfuP1WKZB7H"
   },
   "source": [
    "* **세부 요구사항**\n",
    "    - 상위 n, 하위 m 개의 변수를 선정\n",
    "    - 선정된 변수(feature)와 target 간의 관계를 kdeplot으로 그리기"
   ]
  },
  {
   "cell_type": "code",
   "execution_count": null,
   "metadata": {
    "id": "rLTLWAlogIVW"
   },
   "outputs": [],
   "source": []
  },
  {
   "cell_type": "code",
   "execution_count": null,
   "metadata": {
    "id": "XvkAuP5UgIQj"
   },
   "outputs": [],
   "source": []
  },
  {
   "cell_type": "code",
   "execution_count": null,
   "metadata": {
    "id": "c-kX9nTigILI"
   },
   "outputs": [],
   "source": []
  },
  {
   "cell_type": "code",
   "execution_count": null,
   "metadata": {
    "id": "Jf-iR2TsgIIC"
   },
   "outputs": [],
   "source": []
  },
  {
   "cell_type": "code",
   "execution_count": null,
   "metadata": {
    "id": "aKLnL8E9gIE3"
   },
   "outputs": [],
   "source": []
  },
  {
   "cell_type": "code",
   "execution_count": null,
   "metadata": {
    "id": "_Uot17zQgICK"
   },
   "outputs": [],
   "source": []
  },
  {
   "cell_type": "code",
   "execution_count": null,
   "metadata": {
    "id": "qckAmwWrgH_N"
   },
   "outputs": [],
   "source": []
  },
  {
   "cell_type": "code",
   "execution_count": null,
   "metadata": {
    "id": "7HlFh33FgH8F"
   },
   "outputs": [],
   "source": []
  },
  {
   "cell_type": "markdown",
   "metadata": {
    "id": "LCX8WanEcUwJ"
   },
   "source": [
    "### (3) feature 그룹별 분석"
   ]
  },
  {
   "cell_type": "markdown",
   "metadata": {
    "id": "Kb1_hvmpcvQ2"
   },
   "source": [
    "* **세부 요구사항**\n",
    "    - 제공된 features.csv 에는 feature에 대한 계층구조를 정리해 놓았습니다.\n",
    "    - features와 변수중요도 결과를 merge 하시오.\n",
    "    - sensor 별 중요도 합계를 구하고 상위 변수 그룹별 비교 분석을 수행 하시오.\n",
    "    - sensor + agg 별 중요도 합계를 구하고 상위 변수 그룹별 비교 분석을 수행 하시오. \n"
   ]
  },
  {
   "cell_type": "code",
   "execution_count": null,
   "metadata": {
    "id": "8fhQJaW3gP2E"
   },
   "outputs": [],
   "source": []
  },
  {
   "cell_type": "code",
   "execution_count": null,
   "metadata": {
    "id": "TVMKCVc4gPza"
   },
   "outputs": [],
   "source": []
  },
  {
   "cell_type": "code",
   "execution_count": null,
   "metadata": {
    "id": "1ZcW_KjAgPws"
   },
   "outputs": [],
   "source": []
  },
  {
   "cell_type": "code",
   "execution_count": null,
   "metadata": {
    "id": "4lBxAuPugPt_"
   },
   "outputs": [],
   "source": []
  },
  {
   "cell_type": "code",
   "execution_count": null,
   "metadata": {
    "id": "6Ukz1-EcgPrY"
   },
   "outputs": [],
   "source": []
  },
  {
   "cell_type": "code",
   "execution_count": null,
   "metadata": {
    "id": "33VMfR02gPny"
   },
   "outputs": [],
   "source": []
  },
  {
   "cell_type": "markdown",
   "metadata": {
    "id": "pDCmvL_Hgs3S"
   },
   "source": [
    "## 4.데이터 분석 : 미션2"
   ]
  },
  {
   "cell_type": "markdown",
   "metadata": {
    "id": "wKY2QHikhMvf"
   },
   "source": [
    "다음의 case에 맞게 feature 및 feature 그룹 중요도를 기반으로 탐색적 데이터 분석을 수행하시오.\n",
    "* 1) Target을 **정적/동적 행동**으로 구분\n",
    "    * 6개의 행동은 2개의 그룹(정적행동, 동적행동)으로 나뉩니다.  \n",
    "    * 어떤 feature(혹은 feature 그룹)이 2개 class 그룹(정적행동, 동적행동)를 구분하는데 중요한지를 찾아보고 탐색해봅시다. \n",
    "* 2) Target을 **개별 행동 여부**로 구분\n",
    "    * 6가지의 행동을 분류하는 분석도 중요하지만, 개별 행동에만 특별히 영향을 받는 feature들도 있습니다. \n",
    "    * 예를 들어, 계단을 오르는 행동(Walking_upstairs)과 관련이 큰 feature가 있을 것입니다. [계단을 오르는 행동]인지 아닌지로 구분하는 target을 추가하여 EDA를 수행해 봅시다."
   ]
  },
  {
   "cell_type": "markdown",
   "metadata": {
    "id": "CyvvAdSUhS-1"
   },
   "source": [
    "### (1) 정적/동적 행동으로 구분하여 분석하기"
   ]
  },
  {
   "cell_type": "markdown",
   "metadata": {
    "id": "dYSWKXJuhcaM"
   },
   "source": [
    "* **세부 요구사항**\n",
    "    - Target인 Activity를 is_dynamic 변수로 변경하시오.\n",
    "        * 값 0 : STANDING, SITTING, LAYING\n",
    "        * 값 1 : WALKING, WALKING_UPSTAIRS, WALKING_DOWNSTAIRS\n",
    "    - is_dynamic을 예측하기 위한 기본 모델을 생성하시오.\n",
    "        * x, is_dynamic을 이용하여 train과 validation으로 데이터 분할\n",
    "        * 기본 모델링\n",
    "    - is_dynamic 을 구분하는데 중요한 변수 상위 5를 분석하시오.\n",
    "    - is_dynamic 을 구분하는데 중요한 변수 그룹을 분석하시오.\n",
    "        * sensor별\n",
    "        * sensor+agg 별\n"
   ]
  },
  {
   "cell_type": "markdown",
   "metadata": {
    "id": "FAvEswmsiU7U"
   },
   "source": [
    "#### 1) is_dynamic 추가"
   ]
  },
  {
   "cell_type": "code",
   "execution_count": null,
   "metadata": {
    "id": "MCBKrl14hZ-O"
   },
   "outputs": [],
   "source": []
  },
  {
   "cell_type": "markdown",
   "metadata": {
    "id": "PRYATCWBi525"
   },
   "source": [
    "#### 2) 기본모델 생성"
   ]
  },
  {
   "cell_type": "code",
   "execution_count": null,
   "metadata": {
    "id": "ECWG3wQwgWXY"
   },
   "outputs": [],
   "source": []
  },
  {
   "cell_type": "code",
   "execution_count": null,
   "metadata": {
    "id": "ceW7UJZMgWUe"
   },
   "outputs": [],
   "source": []
  },
  {
   "cell_type": "code",
   "execution_count": null,
   "metadata": {
    "id": "EyEcKdDQgWRM"
   },
   "outputs": [],
   "source": []
  },
  {
   "cell_type": "markdown",
   "metadata": {
    "id": "3A6WdFD8jhGY"
   },
   "source": [
    "#### 3) 변수중요도 상위 5개 분석"
   ]
  },
  {
   "cell_type": "code",
   "execution_count": null,
   "metadata": {
    "id": "c2qni3QsgafX"
   },
   "outputs": [],
   "source": []
  },
  {
   "cell_type": "code",
   "execution_count": null,
   "metadata": {
    "id": "GsPLnyItgaZd"
   },
   "outputs": [],
   "source": []
  },
  {
   "cell_type": "code",
   "execution_count": null,
   "metadata": {
    "id": "w3OA2xfKgaNU"
   },
   "outputs": [],
   "source": []
  },
  {
   "cell_type": "code",
   "execution_count": null,
   "metadata": {
    "id": "EoJu1sKMgaKp"
   },
   "outputs": [],
   "source": []
  },
  {
   "cell_type": "code",
   "execution_count": null,
   "metadata": {
    "id": "AvXAyGJbgaHi"
   },
   "outputs": [],
   "source": []
  },
  {
   "cell_type": "markdown",
   "metadata": {
    "id": "a6Al6G2eldxg"
   },
   "source": [
    "#### 4) feature 그룹별 분석"
   ]
  },
  {
   "cell_type": "code",
   "execution_count": null,
   "metadata": {
    "id": "SLAE3z8sgcig"
   },
   "outputs": [],
   "source": []
  },
  {
   "cell_type": "code",
   "execution_count": null,
   "metadata": {
    "id": "snk3eQk0gce4"
   },
   "outputs": [],
   "source": []
  },
  {
   "cell_type": "code",
   "execution_count": null,
   "metadata": {
    "id": "GUnx8skkgccI"
   },
   "outputs": [],
   "source": []
  },
  {
   "cell_type": "code",
   "execution_count": null,
   "metadata": {
    "id": "usNh0tDsgcZQ"
   },
   "outputs": [],
   "source": []
  },
  {
   "cell_type": "code",
   "execution_count": null,
   "metadata": {
    "id": "SbiJwlqIgcWb"
   },
   "outputs": [],
   "source": []
  },
  {
   "cell_type": "markdown",
   "metadata": {
    "id": "gDyBWi7yBslD"
   },
   "source": [
    "### (2) 개별 동작 분석 : is_standing\n"
   ]
  },
  {
   "cell_type": "markdown",
   "metadata": {
    "id": "Da8VZAS40Wyg"
   },
   "source": [
    "* **세부 요구사항**\n",
    "    - Target인 Activity를 is_standing 변수로 변경하시오.\n",
    "        * 값 1 : STANDING\n",
    "        * 값 0 : 나머지\n",
    "    - is_standing 을 예측하기 위한 기본 모델을 생성하시오.\n",
    "        * x, is_standing 을 이용하여 train과 validation으로 데이터 분할\n",
    "        * 기본 모델링\n",
    "    - is_standing 을 구분하는데 중요한 변수 상위 5를 분석하시오.\n",
    "    - is_standing 을 구분하는데 중요한 변수 그룹을 분석하시오.\n",
    "        * sensor별\n",
    "        * sensor+agg 별\n"
   ]
  },
  {
   "cell_type": "code",
   "execution_count": null,
   "metadata": {
    "id": "Num-szT8gfKf"
   },
   "outputs": [],
   "source": []
  },
  {
   "cell_type": "code",
   "execution_count": null,
   "metadata": {
    "id": "VZqPiZTRgfHK"
   },
   "outputs": [],
   "source": []
  },
  {
   "cell_type": "code",
   "execution_count": null,
   "metadata": {
    "id": "nvJ2DnolgfEG"
   },
   "outputs": [],
   "source": []
  },
  {
   "cell_type": "code",
   "execution_count": null,
   "metadata": {
    "id": "6M1c9yTMgfBD"
   },
   "outputs": [],
   "source": []
  },
  {
   "cell_type": "code",
   "execution_count": null,
   "metadata": {
    "id": "fJek5lpQge-O"
   },
   "outputs": [],
   "source": []
  },
  {
   "cell_type": "code",
   "execution_count": null,
   "metadata": {
    "id": "9ClOwqB0ge7a"
   },
   "outputs": [],
   "source": []
  },
  {
   "cell_type": "code",
   "execution_count": null,
   "metadata": {
    "id": "hBkVlVFxge4H"
   },
   "outputs": [],
   "source": []
  },
  {
   "cell_type": "markdown",
   "metadata": {
    "id": "uwLvleF33CeJ"
   },
   "source": [
    "### (3) 개별 동작 분석 : is_sitting\n"
   ]
  },
  {
   "cell_type": "markdown",
   "metadata": {
    "id": "-GX_l8ys3CeK"
   },
   "source": [
    "* **세부 요구사항**\n",
    "    - Target인 Activity를 is_sitting 변수로 변경하시오.\n",
    "        * 값 1 : SITTING\n",
    "        * 값 0 : 나머지\n",
    "    - is_sitting 을 예측하기 위한 기본 모델을 생성하시오.\n",
    "        * x, is_sitting 을 이용하여 train과 validation으로 데이터 분할\n",
    "        * 기본 모델링\n",
    "    - is_sitting 을 구분하는데 중요한 변수 상위 5를 분석하시오.\n",
    "    - is_sitting 을 구분하는데 중요한 변수 그룹을 분석하시오.\n",
    "        * sensor별\n",
    "        * sensor+agg 별\n"
   ]
  },
  {
   "cell_type": "code",
   "execution_count": null,
   "metadata": {
    "id": "X07EV76UgiC-"
   },
   "outputs": [],
   "source": []
  },
  {
   "cell_type": "code",
   "execution_count": null,
   "metadata": {
    "id": "QPOQRPAVgh_N"
   },
   "outputs": [],
   "source": []
  },
  {
   "cell_type": "code",
   "execution_count": null,
   "metadata": {
    "id": "LeLfuciHgh8H"
   },
   "outputs": [],
   "source": []
  },
  {
   "cell_type": "code",
   "execution_count": null,
   "metadata": {
    "id": "JZzIipzZgh4_"
   },
   "outputs": [],
   "source": []
  },
  {
   "cell_type": "code",
   "execution_count": null,
   "metadata": {
    "id": "pUC3vd16gh18"
   },
   "outputs": [],
   "source": []
  },
  {
   "cell_type": "code",
   "execution_count": null,
   "metadata": {
    "id": "ULMDEbBGghyz"
   },
   "outputs": [],
   "source": []
  },
  {
   "cell_type": "code",
   "execution_count": null,
   "metadata": {
    "id": "WJuimn2Tghvw"
   },
   "outputs": [],
   "source": []
  },
  {
   "cell_type": "markdown",
   "metadata": {
    "id": "27EnvYow5Xce"
   },
   "source": [
    "### (4) 개별 동작 분석 : is_laying\n"
   ]
  },
  {
   "cell_type": "markdown",
   "metadata": {
    "id": "V4aio20T5Xce"
   },
   "source": [
    "* **세부 요구사항**\n",
    "    - Target인 Activity를 is_laying 변수로 변경하시오.\n",
    "        * 값 1 : LAYING\n",
    "        * 값 0 : 나머지\n",
    "    - is_laying 을 예측하기 위한 기본 모델을 생성하시오.\n",
    "        * x, is_laying 을 이용하여 train과 validation으로 데이터 분할\n",
    "        * 기본 모델링\n",
    "    - is_laying 을 구분하는데 중요한 변수 상위 5를 분석하시오.\n",
    "    - is_laying 을 구분하는데 중요한 변수 그룹을 분석하시오.\n",
    "        * sensor별\n",
    "        * sensor+agg 별\n"
   ]
  },
  {
   "cell_type": "code",
   "execution_count": null,
   "metadata": {
    "id": "GTqv4FzKgk_s"
   },
   "outputs": [],
   "source": []
  },
  {
   "cell_type": "code",
   "execution_count": null,
   "metadata": {
    "id": "qOy_lIHDgk8z"
   },
   "outputs": [],
   "source": []
  },
  {
   "cell_type": "code",
   "execution_count": null,
   "metadata": {
    "id": "MtJSII50gk5m"
   },
   "outputs": [],
   "source": []
  },
  {
   "cell_type": "code",
   "execution_count": null,
   "metadata": {
    "id": "qIVuEvuigk2X"
   },
   "outputs": [],
   "source": []
  },
  {
   "cell_type": "code",
   "execution_count": null,
   "metadata": {
    "id": "I87dBIrwgkzV"
   },
   "outputs": [],
   "source": []
  },
  {
   "cell_type": "code",
   "execution_count": null,
   "metadata": {
    "id": "HtDZFHbdgkwZ"
   },
   "outputs": [],
   "source": []
  },
  {
   "cell_type": "code",
   "execution_count": null,
   "metadata": {
    "id": "8tQkqgr1gktK"
   },
   "outputs": [],
   "source": []
  },
  {
   "cell_type": "markdown",
   "metadata": {
    "id": "qYbmMZar6VKS"
   },
   "source": [
    "### (5) 개별 동작 분석 : is_walking\n"
   ]
  },
  {
   "cell_type": "markdown",
   "metadata": {
    "id": "8M-2sd7_6VKS"
   },
   "source": [
    "* **세부 요구사항**\n",
    "    - Target인 Activity를 is_walking 변수로 변경하시오.\n",
    "        * 값 1 : WALKING\n",
    "        * 값 0 : 나머지\n",
    "    - is_walking 을 예측하기 위한 기본 모델을 생성하시오.\n",
    "        * x, is_walking 을 이용하여 train과 validation으로 데이터 분할\n",
    "        * 기본 모델링\n",
    "    - is_walking 을 구분하는데 중요한 변수 상위 5를 분석하시오.\n",
    "    - is_walking 을 구분하는데 중요한 변수 그룹을 분석하시오.\n",
    "        * sensor별\n",
    "        * sensor+agg 별\n"
   ]
  },
  {
   "cell_type": "code",
   "execution_count": null,
   "metadata": {
    "id": "s03baisOgqU4"
   },
   "outputs": [],
   "source": []
  },
  {
   "cell_type": "code",
   "execution_count": null,
   "metadata": {
    "id": "CvHoWOxggqRS"
   },
   "outputs": [],
   "source": []
  },
  {
   "cell_type": "code",
   "execution_count": null,
   "metadata": {
    "id": "EuxziJfLgqO5"
   },
   "outputs": [],
   "source": []
  },
  {
   "cell_type": "code",
   "execution_count": null,
   "metadata": {
    "id": "abkZRgD4gqMB"
   },
   "outputs": [],
   "source": []
  },
  {
   "cell_type": "code",
   "execution_count": null,
   "metadata": {
    "id": "4mQe2OOBgqI8"
   },
   "outputs": [],
   "source": []
  },
  {
   "cell_type": "code",
   "execution_count": null,
   "metadata": {
    "id": "N2Py-Ad9gqGP"
   },
   "outputs": [],
   "source": []
  },
  {
   "cell_type": "code",
   "execution_count": null,
   "metadata": {
    "id": "vMRuewGogqDI"
   },
   "outputs": [],
   "source": []
  },
  {
   "cell_type": "markdown",
   "metadata": {
    "id": "Zk42KHA18n6V"
   },
   "source": [
    "### (6) 개별 동작 분석 : is_walking_up\n"
   ]
  },
  {
   "cell_type": "markdown",
   "metadata": {
    "id": "3adM3SOA8n6V"
   },
   "source": [
    "* **세부 요구사항**\n",
    "    - Target인 Activity를 is_walking_up 변수로 변경하시오.\n",
    "        * 값 1 : WALKING_UPSTAIRS\n",
    "        * 값 0 : 나머지\n",
    "    - is_walking_up 을 예측하기 위한 기본 모델을 생성하시오.\n",
    "        * x, is_walking_up 을 이용하여 train과 validation으로 데이터 분할\n",
    "        * 기본 모델링\n",
    "    - is_walking_up 을 구분하는데 중요한 변수 상위 5를 분석하시오.\n",
    "    - is_walking_up 을 구분하는데 중요한 변수 그룹을 분석하시오.\n",
    "        * sensor별\n",
    "        * sensor+agg 별\n"
   ]
  },
  {
   "cell_type": "code",
   "execution_count": null,
   "metadata": {
    "id": "XxxuD3yagsH0"
   },
   "outputs": [],
   "source": []
  },
  {
   "cell_type": "code",
   "execution_count": null,
   "metadata": {
    "id": "faElCG6KgsEs"
   },
   "outputs": [],
   "source": []
  },
  {
   "cell_type": "code",
   "execution_count": null,
   "metadata": {
    "id": "B3Wkue-ngsB8"
   },
   "outputs": [],
   "source": []
  },
  {
   "cell_type": "code",
   "execution_count": null,
   "metadata": {
    "id": "nYIVjlzmgr_Q"
   },
   "outputs": [],
   "source": []
  },
  {
   "cell_type": "code",
   "execution_count": null,
   "metadata": {
    "id": "rrDGtHqKgr8r"
   },
   "outputs": [],
   "source": []
  },
  {
   "cell_type": "code",
   "execution_count": null,
   "metadata": {
    "id": "kgM74iaFgr5y"
   },
   "outputs": [],
   "source": []
  },
  {
   "cell_type": "code",
   "execution_count": null,
   "metadata": {
    "id": "sTSfpjfTgr2o"
   },
   "outputs": [],
   "source": []
  },
  {
   "cell_type": "markdown",
   "metadata": {
    "id": "MJgd-Sea9dHm"
   },
   "source": [
    "### (7) 개별 동작 분석 : is_walking_down\n"
   ]
  },
  {
   "cell_type": "markdown",
   "metadata": {
    "id": "1jwbHPfa9dHm"
   },
   "source": [
    "* **세부 요구사항**\n",
    "    - Target인 Activity를 is_walking_down 변수로 변경하시오.\n",
    "        * 값 1 : WALKING_DOWNSTAIRS\n",
    "        * 값 0 : 나머지\n",
    "    - is_walking_down 을 예측하기 위한 기본 모델을 생성하시오.\n",
    "        * x, is_walking_down 을 이용하여 train과 validation으로 데이터 분할\n",
    "        * 기본 모델링\n",
    "    - is_walking_down 을 구분하는데 중요한 변수 상위 5를 분석하시오.\n",
    "    - is_walking_down 을 구분하는데 중요한 변수 그룹을 분석하시오.\n",
    "        * sensor별\n",
    "        * sensor+agg 별\n"
   ]
  },
  {
   "cell_type": "code",
   "execution_count": null,
   "metadata": {
    "id": "6aJ07gaEgn_D"
   },
   "outputs": [],
   "source": []
  },
  {
   "cell_type": "code",
   "execution_count": null,
   "metadata": {
    "id": "awCWHsubgn79"
   },
   "outputs": [],
   "source": []
  },
  {
   "cell_type": "code",
   "execution_count": null,
   "metadata": {
    "id": "RYJmp7B7gn5K"
   },
   "outputs": [],
   "source": []
  },
  {
   "cell_type": "code",
   "execution_count": null,
   "metadata": {
    "id": "8GPs3jwOgn2V"
   },
   "outputs": [],
   "source": []
  },
  {
   "cell_type": "code",
   "execution_count": null,
   "metadata": {
    "id": "wBPXo9ongnzf"
   },
   "outputs": [],
   "source": []
  },
  {
   "cell_type": "code",
   "execution_count": null,
   "metadata": {
    "id": "g3FVLwr5gnwa"
   },
   "outputs": [],
   "source": []
  },
  {
   "cell_type": "code",
   "execution_count": null,
   "metadata": {
    "id": "ZmEeZmPEgntL"
   },
   "outputs": [],
   "source": []
  },
  {
   "cell_type": "markdown",
   "metadata": {
    "id": "2zqwV3BEBx4E"
   },
   "source": [
    "## 5.특성 중요도 저장하기"
   ]
  },
  {
   "cell_type": "markdown",
   "metadata": {
    "id": "2h6R82t7-PN6"
   },
   "source": [
    "* **세부 요구사항**\n",
    "    - 지금까지 변수 중요도를 다양한 관점에서 뽑고 분석을 해 보았습니다.\n",
    "        - 관점1 : 6개 행동 구분\n",
    "        - 관점2 : 동적, 정적 행동 구분\n",
    "        - 관점3 : Standing 여부 구분\n",
    "        - 관점4 : Sitting 여부 구분\n",
    "        - 관점5 : Laying 여부 구분\n",
    "        - 관점6 : Walking 여부 구분\n",
    "        - 관점7 : Walking_upstairs 여부 구분\n",
    "        - 관점8 : Walking_downstairs 여부 구분\n",
    "    - 모든 관점의 변수 중요도를 하나로 합친 후 저장\n",
    "        - merge를 이용하여 features와 합칩니다.\n",
    "        - joblib 패키지의 dump를 이용하여 결과를 저장합니다."
   ]
  },
  {
   "cell_type": "markdown",
   "metadata": {
    "id": "a96bPONJD21Z"
   },
   "source": [
    "### (1) 하나로 합치기\n",
    "* 합치기 위해서는 중요도 결과에서 feature_importance 칼럼 이름을 수정해야 합니다.\n",
    "* pd.merge를 이용해서 하나씩 합치는 작업을 반복 합니다."
   ]
  },
  {
   "cell_type": "code",
   "execution_count": null,
   "metadata": {
    "id": "rpFj8G1Pg1Mx"
   },
   "outputs": [],
   "source": []
  },
  {
   "cell_type": "code",
   "execution_count": null,
   "metadata": {
    "id": "gxeLcPj4g1J4"
   },
   "outputs": [],
   "source": []
  },
  {
   "cell_type": "code",
   "execution_count": null,
   "metadata": {
    "id": "cEXgA9jEg1Gx"
   },
   "outputs": [],
   "source": []
  },
  {
   "cell_type": "markdown",
   "metadata": {
    "id": "fQxizopUGMzc"
   },
   "source": [
    "### (2) 저장하기\n",
    "* joblib.dump를 이용하시오.\n",
    "* 저장할 파일의 확장자는 보통 .pkl 입니다."
   ]
  },
  {
   "cell_type": "code",
   "execution_count": null,
   "metadata": {
    "id": "6CYd0vxfg2B7"
   },
   "outputs": [],
   "source": []
  },
  {
   "cell_type": "code",
   "execution_count": null,
   "metadata": {
    "id": "Qec2vq15g3ET"
   },
   "outputs": [],
   "source": []
  },
  {
   "cell_type": "code",
   "execution_count": null,
   "metadata": {
    "id": "pULuDM2ng3BY"
   },
   "outputs": [],
   "source": []
  }
 ],
 "metadata": {
  "colab": {
   "provenance": [],
   "toc_visible": true
  },
  "kernelspec": {
   "display_name": "Python 3 (ipykernel)",
   "language": "python",
   "name": "python3"
  },
  "language_info": {
   "codemirror_mode": {
    "name": "ipython",
    "version": 3
   },
   "file_extension": ".py",
   "mimetype": "text/x-python",
   "name": "python",
   "nbconvert_exporter": "python",
   "pygments_lexer": "ipython3",
   "version": "3.11.5"
  }
 },
 "nbformat": 4,
 "nbformat_minor": 4
}
