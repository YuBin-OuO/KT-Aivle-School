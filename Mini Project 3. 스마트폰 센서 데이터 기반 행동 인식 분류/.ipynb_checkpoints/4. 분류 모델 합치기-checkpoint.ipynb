{
 "cells": [
  {
   "cell_type": "markdown",
   "metadata": {
    "id": "NbI_RoQ9AP5r"
   },
   "source": [
    "#**스마트폰 센서 데이터 기반 모션 분류**\n",
    "# 단계3 : 단계별 모델링\n"
   ]
  },
  {
   "cell_type": "markdown",
   "metadata": {
    "id": "D67PlTu4JGAY"
   },
   "source": [
    "## 0.미션"
   ]
  },
  {
   "cell_type": "markdown",
   "metadata": {
    "id": "wc1FlP4E09oQ"
   },
   "source": [
    "단계별로 나눠서 모델링을 수행하고자 합니다.  \n",
    "\n",
    "* 단계1 : 정적(0), 동적(1) 행동 분류 모델 생성\n",
    "* 단계2 : 세부 동작에 대한 분류모델 생성\n",
    "    * 단계1 모델에서 0으로 예측 -> 정적 행동 3가지 분류 모델링\n",
    "    * 단계1 모델에서 1으로 예측 -> 동적 행동 3가지 분류 모델링 \n",
    "* 모델 통합\n",
    "    * 두 단계 모델을 통합하고, 새로운 데이터에 대해서 최종 예측결과와 성능평가가 나오도록 함수로 만들기\n",
    "* 성능 비교\n",
    "    * 기본 모델링의 성능과 비교\n",
    "    * 모든 모델링은 [다양한 알고리즘 + 성능 튜닝]을 수행해야 합니다.\n"
   ]
  },
  {
   "cell_type": "markdown",
   "metadata": {
    "id": "ZSRC8sG-X5DG"
   },
   "source": [
    "## 1.환경설정"
   ]
  },
  {
   "cell_type": "markdown",
   "metadata": {
    "id": "gIE0bM9rX5DH"
   },
   "source": [
    "### (1) 라이브러리 불러오기"
   ]
  },
  {
   "cell_type": "markdown",
   "metadata": {
    "id": "I_rCs78QJZmI"
   },
   "source": [
    "* 세부 요구사항\n",
    "    - 기본적으로 필요한 라이브러리를 import 하도록 코드가 작성되어 있습니다.\n",
    "    - 필요하다고 판단되는 라이브러리를 추가하세요."
   ]
  },
  {
   "cell_type": "code",
   "execution_count": null,
   "metadata": {
    "id": "nTVo8GkVX5DI"
   },
   "outputs": [],
   "source": [
    "import pandas as pd\n",
    "import numpy as np\n",
    "import matplotlib.pyplot as plt\n",
    "import seaborn as sns\n",
    "\n",
    "# 필요하다고 판단되는 라이브러리를 추가하세요.\n",
    "\n",
    "\n",
    "\n"
   ]
  },
  {
   "cell_type": "markdown",
   "metadata": {
    "id": "CJgfVor0X5DJ"
   },
   "source": [
    "### (2) 데이터 불러오기"
   ]
  },
  {
   "attachments": {},
   "cell_type": "markdown",
   "metadata": {
    "id": "9OkifR5rnr2D"
   },
   "source": [
    "* 주어진 데이터셋\n",
    "    * data01_train.csv : 학습 및 검증용\n",
    "\n",
    " <br/>  \n",
    "\n",
    "* 세부 요구사항\n",
    "    - data01_train.csv 를 불러와 'data' 이름으로 저장합니다.\n",
    "        - data에서 변수 subject는 삭제합니다.\n",
    "    - data01_test.csv 를 불러와 'new_data' 이름으로 저장합니다.\n"
   ]
  },
  {
   "cell_type": "code",
   "execution_count": null,
   "metadata": {
    "id": "9CSs-jf6iVJT"
   },
   "outputs": [],
   "source": []
  },
  {
   "cell_type": "code",
   "execution_count": null,
   "metadata": {
    "id": "YnDdnoyHiVGZ"
   },
   "outputs": [],
   "source": []
  },
  {
   "cell_type": "markdown",
   "metadata": {
    "id": "O38e5xai7SIW"
   },
   "source": [
    "## 2.데이터 전처리"
   ]
  },
  {
   "cell_type": "markdown",
   "metadata": {
    "id": "uZwtSLSqcL7G"
   },
   "source": [
    "* 세부 요구사항\n",
    "    - Label 추가 : data 에 Activity_dynamic 를 추가합니다. Activity_dynamic은 과제1에서 is_dynamic과 동일한 값입니다.\n",
    "    - x와 y1, y2로 분할하시오.\n",
    "        * y1 : Activity\n",
    "        * y2 : Activity_dynamic\n",
    "    - train : val = 8 : 2 혹은 7 : 3\n",
    "    - random_state 옵션을 사용하여 다른 모델과 비교를 위해 성능이 재현되도록 합니다."
   ]
  },
  {
   "cell_type": "code",
   "execution_count": null,
   "metadata": {
    "id": "Bs_FHwUuiWWv"
   },
   "outputs": [],
   "source": []
  },
  {
   "cell_type": "code",
   "execution_count": null,
   "metadata": {
    "id": "O0nbejEWiWT1"
   },
   "outputs": [],
   "source": []
  },
  {
   "cell_type": "code",
   "execution_count": null,
   "metadata": {
    "id": "dBpCxcvyiWRC"
   },
   "outputs": [],
   "source": []
  },
  {
   "cell_type": "markdown",
   "metadata": {
    "id": "bue7ZTLABQzi"
   },
   "source": [
    "## **3.단계별 모델링**"
   ]
  },
  {
   "cell_type": "markdown",
   "metadata": {
    "id": "cuQX1S5q39Ih"
   },
   "source": [
    "![](https://github.com/DA4BAM/image/blob/main/step%20by%20step.png?raw=true)"
   ]
  },
  {
   "cell_type": "markdown",
   "metadata": {
    "id": "dpEHt7u4CXlb"
   },
   "source": [
    "### (1) 단계1 : 정적/동적 행동 분류 모델"
   ]
  },
  {
   "cell_type": "markdown",
   "metadata": {
    "id": "8onfbGBbh1jr"
   },
   "source": [
    "* 세부 요구사항\n",
    "    * 정적 행동(Laying, Sitting, Standing)과 동적 행동(동적 : Walking, Walking-Up, Walking-Down)을 구분하는 모델 생성.\n",
    "    * 몇가지 모델을 만들고 가장 성능이 좋은 모델을 선정하시오."
   ]
  },
  {
   "cell_type": "markdown",
   "metadata": {
    "id": "zUrmn6T9ic5o"
   },
   "source": [
    "#### 1) 알고리즘1 : "
   ]
  },
  {
   "cell_type": "code",
   "execution_count": null,
   "metadata": {
    "id": "Dl2e52CSiZEa"
   },
   "outputs": [],
   "source": []
  },
  {
   "cell_type": "code",
   "execution_count": null,
   "metadata": {
    "id": "egR8oFtSiZBo"
   },
   "outputs": [],
   "source": []
  },
  {
   "cell_type": "markdown",
   "metadata": {
    "id": "yOmrlWjMihf3"
   },
   "source": [
    "#### 2) 알고리즘2 : "
   ]
  },
  {
   "cell_type": "code",
   "execution_count": null,
   "metadata": {
    "id": "aPFlJFZiihf3"
   },
   "outputs": [],
   "source": []
  },
  {
   "cell_type": "code",
   "execution_count": null,
   "metadata": {
    "id": "Bsgtsww9ihf4"
   },
   "outputs": [],
   "source": []
  },
  {
   "cell_type": "code",
   "execution_count": null,
   "metadata": {
    "id": "f4h7doakihf4"
   },
   "outputs": [],
   "source": []
  },
  {
   "cell_type": "code",
   "execution_count": null,
   "metadata": {
    "id": "M9BEaghdiY-2"
   },
   "outputs": [],
   "source": []
  },
  {
   "cell_type": "markdown",
   "metadata": {
    "id": "9sTQeLpjCfV9"
   },
   "source": [
    "### (2) 단계2-1 : 정적 동작 세부 분류"
   ]
  },
  {
   "cell_type": "markdown",
   "metadata": {
    "id": "tr0QtSuTihs0"
   },
   "source": [
    "* 세부 요구사항\n",
    "    * 정적 행동(Laying, Sitting, Standing)인 데이터 추출\n",
    "    * Laying, Sitting, Standing 를 분류하는 모델을 생성\n",
    "    * 몇가지 모델을 만들고 가장 성능이 좋은 모델을 선정하시오."
   ]
  },
  {
   "cell_type": "code",
   "execution_count": null,
   "metadata": {
    "id": "AEC-Lh17ik7d"
   },
   "outputs": [],
   "source": []
  },
  {
   "cell_type": "code",
   "execution_count": null,
   "metadata": {
    "id": "ABa7cIeQik4l"
   },
   "outputs": [],
   "source": []
  },
  {
   "cell_type": "code",
   "execution_count": null,
   "metadata": {
    "id": "39ITa0Xjik1t"
   },
   "outputs": [],
   "source": []
  },
  {
   "cell_type": "code",
   "execution_count": null,
   "metadata": {
    "id": "kr_P3LtlikzA"
   },
   "outputs": [],
   "source": []
  },
  {
   "cell_type": "markdown",
   "metadata": {
    "id": "jjNRQJpRC045"
   },
   "source": [
    "### (3) 단계2-2 : 동적 동작 세부 분류"
   ]
  },
  {
   "cell_type": "markdown",
   "metadata": {
    "id": "Rsy1RELi2qfF"
   },
   "source": [
    "* 세부 요구사항\n",
    "    * 동적 행동(Walking, Walking Upstairs, Walking Downstairs)인 데이터 추출\n",
    "    * Walking, Walking Upstairs, Walking Downstairs 를 분류하는 모델을 생성\n",
    "    * 몇가지 모델을 만들고 가장 성능이 좋은 모델을 선정하시오."
   ]
  },
  {
   "cell_type": "code",
   "execution_count": null,
   "metadata": {
    "id": "UUZKNQ1Mima2"
   },
   "outputs": [],
   "source": []
  },
  {
   "cell_type": "code",
   "execution_count": null,
   "metadata": {
    "id": "eOMJHLs1imYS"
   },
   "outputs": [],
   "source": []
  },
  {
   "cell_type": "code",
   "execution_count": null,
   "metadata": {
    "id": "JWzMEa_vimVg"
   },
   "outputs": [],
   "source": []
  },
  {
   "cell_type": "code",
   "execution_count": null,
   "metadata": {
    "id": "lXhP4kVNimSN"
   },
   "outputs": [],
   "source": []
  },
  {
   "cell_type": "markdown",
   "metadata": {
    "id": "ShM5xWkwC3YE"
   },
   "source": [
    "### [선택사항] (4) 분류 모델 합치기\n"
   ]
  },
  {
   "cell_type": "markdown",
   "metadata": {
    "id": "K3i2vaxQ3Gmw"
   },
   "source": [
    "* 세부 요구사항\n",
    "    * 두 단계 모델을 통합하고, 새로운 데이터(test)에 대해서 최종 예측결과와 성능평가가 나오도록 함수로 만들기\n",
    "    * 데이터 파이프라인 구축 : test데이터가 로딩되어 전처리 과정을 거치고, 예측 및 성능 평가 수행"
   ]
  },
  {
   "cell_type": "markdown",
   "metadata": {
    "id": "88hluBpL33eB"
   },
   "source": [
    "![](https://github.com/DA4BAM/image/blob/main/pipeline%20function.png?raw=true)"
   ]
  },
  {
   "cell_type": "markdown",
   "metadata": {
    "id": "NDn0mJuGiquO"
   },
   "source": [
    "#### 1) 함수 만들어서 분류 모델 합치기"
   ]
  },
  {
   "cell_type": "code",
   "execution_count": null,
   "metadata": {
    "id": "U9fP9x76A-gh"
   },
   "outputs": [],
   "source": []
  },
  {
   "cell_type": "code",
   "execution_count": null,
   "metadata": {
    "id": "DUvISuM6iyqU"
   },
   "outputs": [],
   "source": []
  }
 ],
 "metadata": {
  "colab": {
   "provenance": [],
   "toc_visible": true
  },
  "kernelspec": {
   "display_name": "Python 3",
   "name": "python3"
  },
  "language_info": {
   "name": "python"
  }
 },
 "nbformat": 4,
 "nbformat_minor": 0
}
