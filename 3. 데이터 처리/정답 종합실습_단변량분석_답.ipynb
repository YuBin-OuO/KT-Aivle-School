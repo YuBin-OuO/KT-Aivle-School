{
 "cells": [
  {
   "cell_type": "markdown",
   "metadata": {
    "id": "qXUBfCONOdID"
   },
   "source": [
    "# **종합실습 단변량 분석**"
   ]
  },
  {
   "cell_type": "markdown",
   "metadata": {
    "id": "790IJBdRWl9r"
   },
   "source": [
    "## **1.비즈니스 시나리오**"
   ]
  },
  {
   "cell_type": "markdown",
   "metadata": {
    "id": "7usNzsAVsGbi"
   },
   "source": [
    "![](https://cdn.images.express.co.uk/img/dynamic/24/590x/child-car-seat-986556.jpg?r=1532946857754)"
   ]
  },
  {
   "cell_type": "markdown",
   "metadata": {
    "id": "XOiIUDJ1i11u"
   },
   "source": [
    "* 고객사는 카시트를 판매하는 회사 입니다.\n",
    "* 최근 매출 하락에 대해 각 부서가 파악한 원인 다음과 같습니다. \n",
    "    * 최근에 경쟁사와의 가격 경쟁력이 하락하고 있고, 광고비용이 적절하게 집행되지 않음\n",
    "    * 너무 국내 시장에 집중됨.\n",
    "    * 지역마다의 구매력을 제대로 파악하지 못하고 있음.\n",
    ">\n",
    "* 그러나 이러한 분석은 데이터에 근거하고 있는지 의문이 듭니다.\n",
    "* 이 문제를 해결하고자 프로젝트 팀이 빌딩되었습니다. \n",
    "* 여러분은 이 프로젝트팀에 데이터분석전문가 이자 AI 개발자로 참여하고 있습니다.\n",
    "* 드디어 AIVLE 과정에서 갈고 닦은 실력을 발휘할 기회가 주어졌습니다.\n",
    "* 자, 이제 단변량 분석을 통해 비즈니스 인사이트를 도출해 봅시다!\n"
   ]
  },
  {
   "cell_type": "markdown",
   "metadata": {
    "id": "c1uOWzZl_YZH"
   },
   "source": [
    "## **2.환경준비**"
   ]
  },
  {
   "cell_type": "markdown",
   "metadata": {
    "id": "LS2rtJiJlaF0"
   },
   "source": [
    "### **(1) 라이브러리 불러오기**"
   ]
  },
  {
   "cell_type": "code",
   "execution_count": 1,
   "metadata": {
    "id": "ba319GIZlcFB",
    "tags": []
   },
   "outputs": [],
   "source": [
    "import numpy as np\n",
    "import pandas as pd\n",
    "\n",
    "import matplotlib.pyplot as plt\n",
    "import seaborn as sns"
   ]
  },
  {
   "cell_type": "markdown",
   "metadata": {
    "id": "TCceTRSHqibR"
   },
   "source": [
    "### **(2) 데이터 로딩 : 카시트 판매량 데이터**"
   ]
  },
  {
   "cell_type": "markdown",
   "metadata": {
    "id": "zYKHwYHatC4k"
   },
   "source": [
    "|\t변수명\t|\t설명\t|\t구분\t|\n",
    "|----|----|----|\n",
    "|\t**Sales** \t|\t 각 지역 판매량(단위 : 1000개)\t|\tTarget\t|\n",
    "|\t**CompPrice** \t|\t 경쟁사 가격(단위 : 달러)\t|\tfeature\t|\n",
    "|\t**Income** \t|\t 지역 평균 소득(단위 : 1000달러)\t|\tfeature\t|\n",
    "|\t**Advertising** \t|\t 각 지역, 회사의 광고 예산(단위 : 1000달러)\t|\tfeature\t|\n",
    "|\t**Population** \t|\t 지역 인구수(단위 : 1000명)\t|\tfeature\t|\n",
    "|\t**Price** \t|\t 자사 지역별 판매가격\t|\tfeature\t|\n",
    "|\t**ShelveLoc** \t|\t 진열상태\t|\tfeature\t|\n",
    "|\t**Age** \t|\t 지역 인구의 평균 연령\t|\tfeature\t|\n",
    "|\t**Urban** \t|\t 도심 지역 여부(Yes,No)\t|\tfeature\t|\n",
    "|\t**US** \t|\t 매장이 미국에 있는지 여부(Yes,No)\t|\tfeature\t|\n"
   ]
  },
  {
   "cell_type": "code",
   "execution_count": 2,
   "metadata": {
    "colab": {
     "base_uri": "https://localhost:8080/",
     "height": 206
    },
    "executionInfo": {
     "elapsed": 470,
     "status": "ok",
     "timestamp": 1673940881655,
     "user": {
      "displayName": "한기영",
      "userId": "13049187003176135487"
     },
     "user_tz": -540
    },
    "id": "08FGuKtjpGOj",
    "outputId": "18988ebb-48c8-47c9-e4c6-a89a6d8a26fc",
    "tags": []
   },
   "outputs": [
    {
     "data": {
      "text/html": [
       "<div>\n",
       "<style scoped>\n",
       "    .dataframe tbody tr th:only-of-type {\n",
       "        vertical-align: middle;\n",
       "    }\n",
       "\n",
       "    .dataframe tbody tr th {\n",
       "        vertical-align: top;\n",
       "    }\n",
       "\n",
       "    .dataframe thead th {\n",
       "        text-align: right;\n",
       "    }\n",
       "</style>\n",
       "<table border=\"1\" class=\"dataframe\">\n",
       "  <thead>\n",
       "    <tr style=\"text-align: right;\">\n",
       "      <th></th>\n",
       "      <th>Sales</th>\n",
       "      <th>CompPrice</th>\n",
       "      <th>Income</th>\n",
       "      <th>Advertising</th>\n",
       "      <th>Population</th>\n",
       "      <th>Price</th>\n",
       "      <th>ShelveLoc</th>\n",
       "      <th>Age</th>\n",
       "      <th>Urban</th>\n",
       "      <th>US</th>\n",
       "    </tr>\n",
       "  </thead>\n",
       "  <tbody>\n",
       "    <tr>\n",
       "      <th>0</th>\n",
       "      <td>9.50</td>\n",
       "      <td>138</td>\n",
       "      <td>73</td>\n",
       "      <td>11</td>\n",
       "      <td>276</td>\n",
       "      <td>120</td>\n",
       "      <td>Bad</td>\n",
       "      <td>42</td>\n",
       "      <td>Yes</td>\n",
       "      <td>Yes</td>\n",
       "    </tr>\n",
       "    <tr>\n",
       "      <th>1</th>\n",
       "      <td>11.22</td>\n",
       "      <td>111</td>\n",
       "      <td>48</td>\n",
       "      <td>16</td>\n",
       "      <td>260</td>\n",
       "      <td>83</td>\n",
       "      <td>Good</td>\n",
       "      <td>65</td>\n",
       "      <td>Yes</td>\n",
       "      <td>Yes</td>\n",
       "    </tr>\n",
       "    <tr>\n",
       "      <th>2</th>\n",
       "      <td>10.06</td>\n",
       "      <td>113</td>\n",
       "      <td>35</td>\n",
       "      <td>10</td>\n",
       "      <td>269</td>\n",
       "      <td>80</td>\n",
       "      <td>Medium</td>\n",
       "      <td>59</td>\n",
       "      <td>Yes</td>\n",
       "      <td>Yes</td>\n",
       "    </tr>\n",
       "    <tr>\n",
       "      <th>3</th>\n",
       "      <td>7.40</td>\n",
       "      <td>117</td>\n",
       "      <td>100</td>\n",
       "      <td>4</td>\n",
       "      <td>466</td>\n",
       "      <td>97</td>\n",
       "      <td>Medium</td>\n",
       "      <td>55</td>\n",
       "      <td>Yes</td>\n",
       "      <td>Yes</td>\n",
       "    </tr>\n",
       "    <tr>\n",
       "      <th>4</th>\n",
       "      <td>4.15</td>\n",
       "      <td>141</td>\n",
       "      <td>64</td>\n",
       "      <td>3</td>\n",
       "      <td>340</td>\n",
       "      <td>128</td>\n",
       "      <td>Bad</td>\n",
       "      <td>38</td>\n",
       "      <td>Yes</td>\n",
       "      <td>No</td>\n",
       "    </tr>\n",
       "  </tbody>\n",
       "</table>\n",
       "</div>"
      ],
      "text/plain": [
       "   Sales  CompPrice  Income  Advertising  Population  Price ShelveLoc  Age  \\\n",
       "0   9.50        138      73           11         276    120       Bad   42   \n",
       "1  11.22        111      48           16         260     83      Good   65   \n",
       "2  10.06        113      35           10         269     80    Medium   59   \n",
       "3   7.40        117     100            4         466     97    Medium   55   \n",
       "4   4.15        141      64            3         340    128       Bad   38   \n",
       "\n",
       "  Urban   US  \n",
       "0   Yes  Yes  \n",
       "1   Yes  Yes  \n",
       "2   Yes  Yes  \n",
       "3   Yes  Yes  \n",
       "4   Yes   No  "
      ]
     },
     "execution_count": 2,
     "metadata": {},
     "output_type": "execute_result"
    }
   ],
   "source": [
    "path = 'https://raw.githubusercontent.com/DA4BAM/dataset/master/Carseats2.csv'\n",
    "data = pd.read_csv(path)\n",
    "data.head()"
   ]
  },
  {
   "cell_type": "markdown",
   "metadata": {
    "id": "ZJnWzY5-Ww3h"
   },
   "source": [
    "## **3.단변량분석 : 숫자형 변수**"
   ]
  },
  {
   "cell_type": "markdown",
   "metadata": {},
   "source": [
    "* 숫자형변수를 분석하는 함수를 생성합시다."
   ]
  },
  {
   "cell_type": "code",
   "execution_count": 3,
   "metadata": {
    "tags": []
   },
   "outputs": [],
   "source": [
    "def eda_1_num(data, var, bins = 30):\n",
    "\n",
    "    # 기초통계량\n",
    "    print('<< 기초통계량 >>')\n",
    "    display(data[[var]].describe().T)\n",
    "    print('=' * 100)\n",
    "\n",
    "    # 시각화\n",
    "    print('<< 그래프 >>')\n",
    "    plt.figure(figsize = (10,6))\n",
    "\n",
    "    plt.subplot(2,1,1)\n",
    "    sns.histplot(data[var], bins = bins, kde = True)\n",
    "    plt.grid()\n",
    "\n",
    "    plt.subplot(2,1,2)\n",
    "    sns.boxplot(x = data[var])\n",
    "    plt.grid()\n",
    "    plt.show()"
   ]
  },
  {
   "cell_type": "markdown",
   "metadata": {
    "id": "2KcdJrQNfJCZ"
   },
   "source": [
    "### **(1) Sales (Target)**"
   ]
  },
  {
   "cell_type": "code",
   "execution_count": 4,
   "metadata": {
    "id": "Q5mGnZ5ffJCZ",
    "tags": []
   },
   "outputs": [],
   "source": [
    "var = 'Sales'"
   ]
  },
  {
   "cell_type": "markdown",
   "metadata": {
    "id": "RkXL80PpfJCa"
   },
   "source": [
    "1) 변수의 비즈니스 의미"
   ]
  },
  {
   "cell_type": "markdown",
   "metadata": {
    "id": "07TIjIVhTHU0"
   },
   "source": [
    "* 각 지역 판매량(단위 : 1000개)\n",
    "* Target"
   ]
  },
  {
   "cell_type": "markdown",
   "metadata": {
    "id": "H9_8VoENfJCa"
   },
   "source": [
    "2) 기초통계량 및 분포확인"
   ]
  },
  {
   "cell_type": "code",
   "execution_count": 5,
   "metadata": {
    "colab": {
     "base_uri": "https://localhost:8080/"
    },
    "executionInfo": {
     "elapsed": 10,
     "status": "ok",
     "timestamp": 1673940881657,
     "user": {
      "displayName": "한기영",
      "userId": "13049187003176135487"
     },
     "user_tz": -540
    },
    "id": "DJpEltSbfJCa",
    "outputId": "86b1f815-8714-4ce7-912e-431dff688c9a",
    "tags": []
   },
   "outputs": [
    {
     "name": "stdout",
     "output_type": "stream",
     "text": [
      "<< 기초통계량 >>\n"
     ]
    },
    {
     "data": {
      "text/html": [
       "<div>\n",
       "<style scoped>\n",
       "    .dataframe tbody tr th:only-of-type {\n",
       "        vertical-align: middle;\n",
       "    }\n",
       "\n",
       "    .dataframe tbody tr th {\n",
       "        vertical-align: top;\n",
       "    }\n",
       "\n",
       "    .dataframe thead th {\n",
       "        text-align: right;\n",
       "    }\n",
       "</style>\n",
       "<table border=\"1\" class=\"dataframe\">\n",
       "  <thead>\n",
       "    <tr style=\"text-align: right;\">\n",
       "      <th></th>\n",
       "      <th>count</th>\n",
       "      <th>mean</th>\n",
       "      <th>std</th>\n",
       "      <th>min</th>\n",
       "      <th>25%</th>\n",
       "      <th>50%</th>\n",
       "      <th>75%</th>\n",
       "      <th>max</th>\n",
       "    </tr>\n",
       "  </thead>\n",
       "  <tbody>\n",
       "    <tr>\n",
       "      <th>Sales</th>\n",
       "      <td>400.0</td>\n",
       "      <td>7.496325</td>\n",
       "      <td>2.824115</td>\n",
       "      <td>0.0</td>\n",
       "      <td>5.39</td>\n",
       "      <td>7.49</td>\n",
       "      <td>9.32</td>\n",
       "      <td>16.27</td>\n",
       "    </tr>\n",
       "  </tbody>\n",
       "</table>\n",
       "</div>"
      ],
      "text/plain": [
       "       count      mean       std  min   25%   50%   75%    max\n",
       "Sales  400.0  7.496325  2.824115  0.0  5.39  7.49  9.32  16.27"
      ]
     },
     "metadata": {},
     "output_type": "display_data"
    },
    {
     "name": "stdout",
     "output_type": "stream",
     "text": [
      "====================================================================================================\n",
      "<< 그래프 >>\n"
     ]
    },
    {
     "data": {
      "image/png": "[encoded data removed]",
      "text/plain": [
       "<Figure size 1000x600 with 2 Axes>"
      ]
     },
     "metadata": {},
     "output_type": "display_data"
    }
   ],
   "source": [
    "eda_1_num(data, var)"
   ]
  },
  {
   "cell_type": "markdown",
   "metadata": {
    "id": "s2MLcqE0fJCa"
   },
   "source": [
    "3) 기초통계량과 분포를 통해서 파악한 내용을 적어 봅시다.\n",
    "\n",
    "보이는 그대로를 넘어, 비즈니스 관점에서 고민하며 적어 봅시다."
   ]
  },
  {
   "cell_type": "markdown",
   "metadata": {
    "id": "-SXcWMe6aLpA"
   },
   "source": [
    "* 대부분의 판매량이 5천개 ~ 만개 사이"
   ]
  },
  {
   "cell_type": "markdown",
   "metadata": {
    "id": "hr8edCgEfJCb"
   },
   "source": [
    "4) 추가 분석해 볼 사항이 있나요?"
   ]
  },
  {
   "cell_type": "markdown",
   "metadata": {
    "id": "xlIX_HVJbiJF"
   },
   "source": [
    "* 판매량 구간을 0 ~ 4천, 4천 ~ 1만, 1만 이상 으로 구분해서 분석해 볼 필요 있음."
   ]
  },
  {
   "cell_type": "markdown",
   "metadata": {
    "id": "9WGX3Pm8g8HV"
   },
   "source": [
    "### **(2) CompPrice**"
   ]
  },
  {
   "cell_type": "code",
   "execution_count": 6,
   "metadata": {
    "id": "vTZHaVaBUMWS",
    "tags": []
   },
   "outputs": [],
   "source": [
    "var = 'CompPrice'"
   ]
  },
  {
   "cell_type": "markdown",
   "metadata": {
    "id": "_Mwhzao8UMWS"
   },
   "source": [
    "1) 변수의 비즈니스 의미"
   ]
  },
  {
   "cell_type": "markdown",
   "metadata": {
    "id": "E-hYmOXcUMWS"
   },
   "source": [
    "* 경쟁사 가격(단위 : 달러)"
   ]
  },
  {
   "cell_type": "markdown",
   "metadata": {
    "id": "H9_8VoENfJCa"
   },
   "source": [
    "2) 기초통계량 및 분포확인"
   ]
  },
  {
   "cell_type": "code",
   "execution_count": 7,
   "metadata": {
    "colab": {
     "base_uri": "https://localhost:8080/"
    },
    "executionInfo": {
     "elapsed": 10,
     "status": "ok",
     "timestamp": 1673940881657,
     "user": {
      "displayName": "한기영",
      "userId": "13049187003176135487"
     },
     "user_tz": -540
    },
    "id": "DJpEltSbfJCa",
    "outputId": "86b1f815-8714-4ce7-912e-431dff688c9a",
    "tags": []
   },
   "outputs": [
    {
     "name": "stdout",
     "output_type": "stream",
     "text": [
      "<< 기초통계량 >>\n"
     ]
    },
    {
     "data": {
      "text/html": [
       "<div>\n",
       "<style scoped>\n",
       "    .dataframe tbody tr th:only-of-type {\n",
       "        vertical-align: middle;\n",
       "    }\n",
       "\n",
       "    .dataframe tbody tr th {\n",
       "        vertical-align: top;\n",
       "    }\n",
       "\n",
       "    .dataframe thead th {\n",
       "        text-align: right;\n",
       "    }\n",
       "</style>\n",
       "<table border=\"1\" class=\"dataframe\">\n",
       "  <thead>\n",
       "    <tr style=\"text-align: right;\">\n",
       "      <th></th>\n",
       "      <th>count</th>\n",
       "      <th>mean</th>\n",
       "      <th>std</th>\n",
       "      <th>min</th>\n",
       "      <th>25%</th>\n",
       "      <th>50%</th>\n",
       "      <th>75%</th>\n",
       "      <th>max</th>\n",
       "    </tr>\n",
       "  </thead>\n",
       "  <tbody>\n",
       "    <tr>\n",
       "      <th>CompPrice</th>\n",
       "      <td>400.0</td>\n",
       "      <td>124.975</td>\n",
       "      <td>15.334512</td>\n",
       "      <td>77.0</td>\n",
       "      <td>115.0</td>\n",
       "      <td>125.0</td>\n",
       "      <td>135.0</td>\n",
       "      <td>175.0</td>\n",
       "    </tr>\n",
       "  </tbody>\n",
       "</table>\n",
       "</div>"
      ],
      "text/plain": [
       "           count     mean        std   min    25%    50%    75%    max\n",
       "CompPrice  400.0  124.975  15.334512  77.0  115.0  125.0  135.0  175.0"
      ]
     },
     "metadata": {},
     "output_type": "display_data"
    },
    {
     "name": "stdout",
     "output_type": "stream",
     "text": [
      "====================================================================================================\n",
      "<< 그래프 >>\n"
     ]
    },
    {
     "data": {
      "image/png": "[encoded data removed]",
      "text/plain": [
       "<Figure size 1000x600 with 2 Axes>"
      ]
     },
     "metadata": {},
     "output_type": "display_data"
    }
   ],
   "source": [
    "eda_1_num(data, var)"
   ]
  },
  {
   "cell_type": "markdown",
   "metadata": {
    "id": "wx353mmZg8HX"
   },
   "source": [
    "3) 기초통계량과 분포를 통해서 파악한 내용을 적어 봅시다.\n",
    "\n",
    "보이는 그대로를 넘어, 비즈니스 관점에서 고민하며 적어 봅시다."
   ]
  },
  {
   "cell_type": "markdown",
   "metadata": {
    "id": "fq_U6tlGbznL"
   },
   "source": [
    "* 경쟁사 카시트 가격의 전체 범위는 77 ~  175달러\n",
    "* 대체로, 115 ~ 135 달러로 형성됨.\n",
    "* 제품 종류에 가격대가 차이가 있지 않을까? \n"
   ]
  },
  {
   "cell_type": "markdown",
   "metadata": {
    "id": "vlhNsPplg8HX"
   },
   "source": [
    "4) 추가 분석해 볼 사항이 있나요?"
   ]
  },
  {
   "cell_type": "markdown",
   "metadata": {
    "id": "NA0BhCXacQ0h"
   },
   "source": [
    "* 자사 가격과 비교 : \n",
    "    * 전체 분포 비교\n",
    "    * 지역별 가격 비교"
   ]
  },
  {
   "cell_type": "markdown",
   "metadata": {
    "id": "CPQ4kqneg8SS"
   },
   "source": [
    "### **(3) Income**"
   ]
  },
  {
   "cell_type": "code",
   "execution_count": 38,
   "metadata": {
    "id": "gOTB8szfUPs5"
   },
   "outputs": [],
   "source": [
    "var = 'Income'"
   ]
  },
  {
   "cell_type": "markdown",
   "metadata": {
    "id": "Kccqg3yyUPs6"
   },
   "source": [
    "1) 변수의 비즈니스 의미"
   ]
  },
  {
   "cell_type": "markdown",
   "metadata": {
    "id": "_sPb9VIYUPs6"
   },
   "source": [
    "* 지역 평균 소득(단위 : 1000달러)"
   ]
  },
  {
   "cell_type": "markdown",
   "metadata": {
    "id": "H9_8VoENfJCa"
   },
   "source": [
    "2) 기초통계량 및 분포확인"
   ]
  },
  {
   "cell_type": "code",
   "execution_count": 39,
   "metadata": {
    "colab": {
     "base_uri": "https://localhost:8080/"
    },
    "executionInfo": {
     "elapsed": 10,
     "status": "ok",
     "timestamp": 1673940881657,
     "user": {
      "displayName": "한기영",
      "userId": "13049187003176135487"
     },
     "user_tz": -540
    },
    "id": "DJpEltSbfJCa",
    "outputId": "86b1f815-8714-4ce7-912e-431dff688c9a"
   },
   "outputs": [
    {
     "name": "stdout",
     "output_type": "stream",
     "text": [
      "<< 기초통계량 >>\n"
     ]
    },
    {
     "data": {
      "text/html": [
       "<div>\n",
       "<style scoped>\n",
       "    .dataframe tbody tr th:only-of-type {\n",
       "        vertical-align: middle;\n",
       "    }\n",
       "\n",
       "    .dataframe tbody tr th {\n",
       "        vertical-align: top;\n",
       "    }\n",
       "\n",
       "    .dataframe thead th {\n",
       "        text-align: right;\n",
       "    }\n",
       "</style>\n",
       "<table border=\"1\" class=\"dataframe\">\n",
       "  <thead>\n",
       "    <tr style=\"text-align: right;\">\n",
       "      <th></th>\n",
       "      <th>count</th>\n",
       "      <th>mean</th>\n",
       "      <th>std</th>\n",
       "      <th>min</th>\n",
       "      <th>25%</th>\n",
       "      <th>50%</th>\n",
       "      <th>75%</th>\n",
       "      <th>max</th>\n",
       "    </tr>\n",
       "  </thead>\n",
       "  <tbody>\n",
       "    <tr>\n",
       "      <th>Income</th>\n",
       "      <td>400.0</td>\n",
       "      <td>68.6575</td>\n",
       "      <td>27.986037</td>\n",
       "      <td>21.0</td>\n",
       "      <td>42.75</td>\n",
       "      <td>69.0</td>\n",
       "      <td>91.0</td>\n",
       "      <td>120.0</td>\n",
       "    </tr>\n",
       "  </tbody>\n",
       "</table>\n",
       "</div>"
      ],
      "text/plain": [
       "        count     mean        std   min    25%   50%   75%    max\n",
       "Income  400.0  68.6575  27.986037  21.0  42.75  69.0  91.0  120.0"
      ]
     },
     "metadata": {},
     "output_type": "display_data"
    },
    {
     "name": "stdout",
     "output_type": "stream",
     "text": [
      "====================================================================================================\n",
      "<< 그래프 >>\n"
     ]
    },
    {
     "data": {
      "image/png": "[encoded data removed]",
      "text/plain": [
       "<Figure size 1000x600 with 2 Axes>"
      ]
     },
     "metadata": {},
     "output_type": "display_data"
    }
   ],
   "source": [
    "eda_1_num(data, var)"
   ]
  },
  {
   "cell_type": "markdown",
   "metadata": {
    "id": "wx353mmZg8HX"
   },
   "source": [
    "3) 기초통계량과 분포를 통해서 파악한 내용을 적어 봅시다.\n",
    "\n",
    "보이는 그대로를 넘어, 비즈니스 관점에서 고민하며 적어 봅시다."
   ]
  },
  {
   "cell_type": "markdown",
   "metadata": {
    "id": "8wCRudBCcjQR"
   },
   "source": [
    "* 전 연령에 대한 인구별 평균 소득액? 성인에 대한 평균 소득액?\n",
    "* 2만달러 ~ 12만 달러 이므로 연간 소득일 것.\n",
    "* 50%가 약 4만달러 ~ 9만달러"
   ]
  },
  {
   "cell_type": "markdown",
   "metadata": {
    "id": "8XzrJN_0g8ST"
   },
   "source": [
    "4) 추가 분석해 볼 사항이 있나요?"
   ]
  },
  {
   "cell_type": "markdown",
   "metadata": {
    "id": "S6yXt6bndv9y"
   },
   "source": [
    "* 평균 소득과 카시트 판매량과의 관계\n",
    "* 평균 소득과 카시트 가격과의 관계"
   ]
  },
  {
   "cell_type": "markdown",
   "metadata": {
    "id": "oGaBjzSYg8ch"
   },
   "source": [
    "### **(4) Advertising**"
   ]
  },
  {
   "cell_type": "code",
   "execution_count": 40,
   "metadata": {
    "id": "qQU7VSKEUSFH"
   },
   "outputs": [],
   "source": [
    "var = 'Advertising'"
   ]
  },
  {
   "cell_type": "markdown",
   "metadata": {
    "id": "KZeZpnFmUSFH"
   },
   "source": [
    "1) 변수의 비즈니스 의미"
   ]
  },
  {
   "cell_type": "markdown",
   "metadata": {
    "id": "Ggs4rrXTUSFH"
   },
   "source": [
    "* 각 지역, 회사의 광고 예산(단위 : 1000달러)"
   ]
  },
  {
   "cell_type": "markdown",
   "metadata": {
    "id": "H9_8VoENfJCa"
   },
   "source": [
    "2) 기초통계량 및 분포확인"
   ]
  },
  {
   "cell_type": "code",
   "execution_count": 41,
   "metadata": {
    "colab": {
     "base_uri": "https://localhost:8080/"
    },
    "executionInfo": {
     "elapsed": 10,
     "status": "ok",
     "timestamp": 1673940881657,
     "user": {
      "displayName": "한기영",
      "userId": "13049187003176135487"
     },
     "user_tz": -540
    },
    "id": "DJpEltSbfJCa",
    "outputId": "86b1f815-8714-4ce7-912e-431dff688c9a"
   },
   "outputs": [
    {
     "name": "stdout",
     "output_type": "stream",
     "text": [
      "<< 기초통계량 >>\n"
     ]
    },
    {
     "data": {
      "text/html": [
       "<div>\n",
       "<style scoped>\n",
       "    .dataframe tbody tr th:only-of-type {\n",
       "        vertical-align: middle;\n",
       "    }\n",
       "\n",
       "    .dataframe tbody tr th {\n",
       "        vertical-align: top;\n",
       "    }\n",
       "\n",
       "    .dataframe thead th {\n",
       "        text-align: right;\n",
       "    }\n",
       "</style>\n",
       "<table border=\"1\" class=\"dataframe\">\n",
       "  <thead>\n",
       "    <tr style=\"text-align: right;\">\n",
       "      <th></th>\n",
       "      <th>count</th>\n",
       "      <th>mean</th>\n",
       "      <th>std</th>\n",
       "      <th>min</th>\n",
       "      <th>25%</th>\n",
       "      <th>50%</th>\n",
       "      <th>75%</th>\n",
       "      <th>max</th>\n",
       "    </tr>\n",
       "  </thead>\n",
       "  <tbody>\n",
       "    <tr>\n",
       "      <th>Advertising</th>\n",
       "      <td>400.0</td>\n",
       "      <td>6.635</td>\n",
       "      <td>6.650364</td>\n",
       "      <td>0.0</td>\n",
       "      <td>0.0</td>\n",
       "      <td>5.0</td>\n",
       "      <td>12.0</td>\n",
       "      <td>29.0</td>\n",
       "    </tr>\n",
       "  </tbody>\n",
       "</table>\n",
       "</div>"
      ],
      "text/plain": [
       "             count   mean       std  min  25%  50%   75%   max\n",
       "Advertising  400.0  6.635  6.650364  0.0  0.0  5.0  12.0  29.0"
      ]
     },
     "metadata": {},
     "output_type": "display_data"
    },
    {
     "name": "stdout",
     "output_type": "stream",
     "text": [
      "====================================================================================================\n",
      "<< 그래프 >>\n"
     ]
    },
    {
     "data": {
      "image/png": "[encoded data removed]",
      "text/plain": [
       "<Figure size 1000x600 with 2 Axes>"
      ]
     },
     "metadata": {},
     "output_type": "display_data"
    }
   ],
   "source": [
    "eda_1_num(data, var)"
   ]
  },
  {
   "cell_type": "markdown",
   "metadata": {
    "id": "wx353mmZg8HX"
   },
   "source": [
    "3) 기초통계량과 분포를 통해서 파악한 내용을 적어 봅시다.\n",
    "\n",
    "보이는 그대로를 넘어, 비즈니스 관점에서 고민하며 적어 봅시다."
   ]
  },
  {
   "cell_type": "markdown",
   "metadata": {
    "id": "TbkeMJFPeFGh"
   },
   "source": [
    "* 광고비 예산이 0 인 지역이 전체에 36%나 됨. \n"
   ]
  },
  {
   "cell_type": "code",
   "execution_count": null,
   "metadata": {
    "id": "1RbooC0cg8cj"
   },
   "outputs": [],
   "source": []
  },
  {
   "cell_type": "markdown",
   "metadata": {
    "id": "1ALjv429g8cj"
   },
   "source": [
    "4) 추가 분석해 볼 사항이 있나요?"
   ]
  },
  {
   "cell_type": "markdown",
   "metadata": {
    "id": "_hmX3OOFeNi_"
   },
   "source": [
    "* 광고비 예산 0을 제외하고 분포 확인 필요."
   ]
  },
  {
   "cell_type": "markdown",
   "metadata": {
    "id": "Pf9iFSXpg8mZ"
   },
   "source": [
    "### **(5) Population**"
   ]
  },
  {
   "cell_type": "code",
   "execution_count": 42,
   "metadata": {
    "id": "Yi3xZSjmUVy6"
   },
   "outputs": [],
   "source": [
    "var = 'Population'"
   ]
  },
  {
   "cell_type": "markdown",
   "metadata": {
    "id": "wSYdMQobUVy6"
   },
   "source": [
    "1) 변수의 비즈니스 의미"
   ]
  },
  {
   "cell_type": "markdown",
   "metadata": {
    "id": "ppEO3bv3UVy6"
   },
   "source": [
    "* 지역 인구수(단위 : 1000명)"
   ]
  },
  {
   "cell_type": "markdown",
   "metadata": {
    "id": "H9_8VoENfJCa"
   },
   "source": [
    "2) 기초통계량 및 분포확인"
   ]
  },
  {
   "cell_type": "code",
   "execution_count": 43,
   "metadata": {
    "colab": {
     "base_uri": "https://localhost:8080/"
    },
    "executionInfo": {
     "elapsed": 10,
     "status": "ok",
     "timestamp": 1673940881657,
     "user": {
      "displayName": "한기영",
      "userId": "13049187003176135487"
     },
     "user_tz": -540
    },
    "id": "DJpEltSbfJCa",
    "outputId": "86b1f815-8714-4ce7-912e-431dff688c9a"
   },
   "outputs": [
    {
     "name": "stdout",
     "output_type": "stream",
     "text": [
      "<< 기초통계량 >>\n"
     ]
    },
    {
     "data": {
      "text/html": [
       "<div>\n",
       "<style scoped>\n",
       "    .dataframe tbody tr th:only-of-type {\n",
       "        vertical-align: middle;\n",
       "    }\n",
       "\n",
       "    .dataframe tbody tr th {\n",
       "        vertical-align: top;\n",
       "    }\n",
       "\n",
       "    .dataframe thead th {\n",
       "        text-align: right;\n",
       "    }\n",
       "</style>\n",
       "<table border=\"1\" class=\"dataframe\">\n",
       "  <thead>\n",
       "    <tr style=\"text-align: right;\">\n",
       "      <th></th>\n",
       "      <th>count</th>\n",
       "      <th>mean</th>\n",
       "      <th>std</th>\n",
       "      <th>min</th>\n",
       "      <th>25%</th>\n",
       "      <th>50%</th>\n",
       "      <th>75%</th>\n",
       "      <th>max</th>\n",
       "    </tr>\n",
       "  </thead>\n",
       "  <tbody>\n",
       "    <tr>\n",
       "      <th>Population</th>\n",
       "      <td>400.0</td>\n",
       "      <td>264.84</td>\n",
       "      <td>147.376436</td>\n",
       "      <td>10.0</td>\n",
       "      <td>139.0</td>\n",
       "      <td>272.0</td>\n",
       "      <td>398.5</td>\n",
       "      <td>509.0</td>\n",
       "    </tr>\n",
       "  </tbody>\n",
       "</table>\n",
       "</div>"
      ],
      "text/plain": [
       "            count    mean         std   min    25%    50%    75%    max\n",
       "Population  400.0  264.84  147.376436  10.0  139.0  272.0  398.5  509.0"
      ]
     },
     "metadata": {},
     "output_type": "display_data"
    },
    {
     "name": "stdout",
     "output_type": "stream",
     "text": [
      "====================================================================================================\n",
      "<< 그래프 >>\n"
     ]
    },
    {
     "data": {
      "image/png": "[encoded data removed]",
      "text/plain": [
       "<Figure size 1000x600 with 2 Axes>"
      ]
     },
     "metadata": {},
     "output_type": "display_data"
    }
   ],
   "source": [
    "eda_1_num(data, var)"
   ]
  },
  {
   "cell_type": "markdown",
   "metadata": {
    "id": "wx353mmZg8HX"
   },
   "source": [
    "3) 기초통계량과 분포를 통해서 파악한 내용을 적어 봅시다.\n",
    "\n",
    "보이는 그대로를 넘어, 비즈니스 관점에서 고민하며 적어 봅시다."
   ]
  },
  {
   "cell_type": "markdown",
   "metadata": {
    "id": "IkLMkfsGfXFA"
   },
   "source": [
    "* 인구수가 거의 균등분포를 나타낸다. 왜?"
   ]
  },
  {
   "cell_type": "markdown",
   "metadata": {
    "id": "PZXo7mpeg8mb"
   },
   "source": [
    "4) 추가 분석해 볼 사항이 있나요?"
   ]
  },
  {
   "cell_type": "markdown",
   "metadata": {
    "id": "Q5jbL-rxffEj"
   },
   "source": [
    "* 인구수에 따른 판매량 관계\n",
    "* 인구수와 평균연령의 관계"
   ]
  },
  {
   "cell_type": "markdown",
   "metadata": {
    "id": "-MNN7Zplg8wC"
   },
   "source": [
    "### **(6) Price**"
   ]
  },
  {
   "cell_type": "code",
   "execution_count": 44,
   "metadata": {
    "id": "IbJhk9p5UXu6"
   },
   "outputs": [],
   "source": [
    "var = 'Price'"
   ]
  },
  {
   "cell_type": "markdown",
   "metadata": {
    "id": "fJIadSMUUXu6"
   },
   "source": [
    "1) 변수의 비즈니스 의미"
   ]
  },
  {
   "cell_type": "markdown",
   "metadata": {
    "id": "HZTYtPV1UXu6"
   },
   "source": [
    "* 자사 지역별 판매가격"
   ]
  },
  {
   "cell_type": "markdown",
   "metadata": {
    "id": "H9_8VoENfJCa"
   },
   "source": [
    "2) 기초통계량 및 분포확인"
   ]
  },
  {
   "cell_type": "code",
   "execution_count": 45,
   "metadata": {
    "colab": {
     "base_uri": "https://localhost:8080/"
    },
    "executionInfo": {
     "elapsed": 10,
     "status": "ok",
     "timestamp": 1673940881657,
     "user": {
      "displayName": "한기영",
      "userId": "13049187003176135487"
     },
     "user_tz": -540
    },
    "id": "DJpEltSbfJCa",
    "outputId": "86b1f815-8714-4ce7-912e-431dff688c9a"
   },
   "outputs": [
    {
     "name": "stdout",
     "output_type": "stream",
     "text": [
      "<< 기초통계량 >>\n"
     ]
    },
    {
     "data": {
      "text/html": [
       "<div>\n",
       "<style scoped>\n",
       "    .dataframe tbody tr th:only-of-type {\n",
       "        vertical-align: middle;\n",
       "    }\n",
       "\n",
       "    .dataframe tbody tr th {\n",
       "        vertical-align: top;\n",
       "    }\n",
       "\n",
       "    .dataframe thead th {\n",
       "        text-align: right;\n",
       "    }\n",
       "</style>\n",
       "<table border=\"1\" class=\"dataframe\">\n",
       "  <thead>\n",
       "    <tr style=\"text-align: right;\">\n",
       "      <th></th>\n",
       "      <th>count</th>\n",
       "      <th>mean</th>\n",
       "      <th>std</th>\n",
       "      <th>min</th>\n",
       "      <th>25%</th>\n",
       "      <th>50%</th>\n",
       "      <th>75%</th>\n",
       "      <th>max</th>\n",
       "    </tr>\n",
       "  </thead>\n",
       "  <tbody>\n",
       "    <tr>\n",
       "      <th>Price</th>\n",
       "      <td>400.0</td>\n",
       "      <td>115.795</td>\n",
       "      <td>23.676664</td>\n",
       "      <td>24.0</td>\n",
       "      <td>100.0</td>\n",
       "      <td>117.0</td>\n",
       "      <td>131.0</td>\n",
       "      <td>191.0</td>\n",
       "    </tr>\n",
       "  </tbody>\n",
       "</table>\n",
       "</div>"
      ],
      "text/plain": [
       "       count     mean        std   min    25%    50%    75%    max\n",
       "Price  400.0  115.795  23.676664  24.0  100.0  117.0  131.0  191.0"
      ]
     },
     "metadata": {},
     "output_type": "display_data"
    },
    {
     "name": "stdout",
     "output_type": "stream",
     "text": [
      "====================================================================================================\n",
      "<< 그래프 >>\n"
     ]
    },
    {
     "data": {
      "image/png": "[encoded data removed]",
      "text/plain": [
       "<Figure size 1000x600 with 2 Axes>"
      ]
     },
     "metadata": {},
     "output_type": "display_data"
    }
   ],
   "source": [
    "eda_1_num(data, var)"
   ]
  },
  {
   "cell_type": "markdown",
   "metadata": {
    "id": "wx353mmZg8HX"
   },
   "source": [
    "3) 기초통계량과 분포를 통해서 파악한 내용을 적어 봅시다.\n",
    "\n",
    "보이는 그대로를 넘어, 비즈니스 관점에서 고민하며 적어 봅시다."
   ]
  },
  {
   "cell_type": "markdown",
   "metadata": {
    "id": "Gp_zyU1afsRm"
   },
   "source": [
    "* 가격대가 24 ~ 191 달러로 경쟁사보다 범위가 넓다.\n",
    "* 50%는 100 ~ 130 사이."
   ]
  },
  {
   "cell_type": "markdown",
   "metadata": {
    "id": "SRGAiRvRg8wD"
   },
   "source": [
    "4) 추가 분석해 볼 사항이 있나요?"
   ]
  },
  {
   "cell_type": "markdown",
   "metadata": {
    "id": "luEdeb_Uf9EP"
   },
   "source": [
    "* 가격에 따라 판매량은 달라질까?\n",
    "* 자사 가격과 경쟁사 가격 비교"
   ]
  },
  {
   "cell_type": "code",
   "execution_count": 46,
   "metadata": {
    "colab": {
     "base_uri": "https://localhost:8080/",
     "height": 388
    },
    "executionInfo": {
     "elapsed": 788,
     "status": "ok",
     "timestamp": 1673940887803,
     "user": {
      "displayName": "한기영",
      "userId": "13049187003176135487"
     },
     "user_tz": -540
    },
    "id": "52DeXYRJf6HG",
    "outputId": "fa84a337-3ca8-494d-8092-1ca3f6279c6a"
   },
   "outputs": [
    {
     "data": {
      "image/png": "[encoded data removed]",
      "text/plain": [
       "<Figure size 1000x600 with 1 Axes>"
      ]
     },
     "metadata": {},
     "output_type": "display_data"
    }
   ],
   "source": [
    "plt.figure(figsize = (10,6))\n",
    "sns.kdeplot(data['Price'], label = 'Price')\n",
    "sns.kdeplot(data['CompPrice'], label = 'CompPrice')\n",
    "\n",
    "price_mean = round(np.mean(data['Price']),1)\n",
    "com_mean = round(np.mean(data['CompPrice']),1)\n",
    "\n",
    "plt.axvline(price_mean, color = 'C0', linewidth = .5)\n",
    "plt.axvline(com_mean, color = 'C1', linewidth = .5)\n",
    "\n",
    "plt.text(price_mean-16, 0.001, price_mean, color = 'C0')\n",
    "plt.text(com_mean+5, 0.001, com_mean, color = 'C1')\n",
    "\n",
    "plt.legend()\n",
    "plt.show()"
   ]
  },
  {
   "cell_type": "code",
   "execution_count": 47,
   "metadata": {
    "colab": {
     "base_uri": "https://localhost:8080/",
     "height": 374
    },
    "executionInfo": {
     "elapsed": 25,
     "status": "ok",
     "timestamp": 1673940887804,
     "user": {
      "displayName": "한기영",
      "userId": "13049187003176135487"
     },
     "user_tz": -540
    },
    "id": "0ZQ-QEE6lW67",
    "outputId": "20528e5a-6b04-4bc1-c83a-dab2e9ca8d69"
   },
   "outputs": [
    {
     "data": {
      "image/png": "[encoded data removed]",
      "text/plain": [
       "<Figure size 1000x600 with 1 Axes>"
      ]
     },
     "metadata": {},
     "output_type": "display_data"
    }
   ],
   "source": [
    "plt.figure(figsize = (10,6))\n",
    "sns.boxplot(data=data[['Price','CompPrice']], orient=\"h\")\n",
    "plt.show()"
   ]
  },
  {
   "cell_type": "markdown",
   "metadata": {
    "id": "9sLeiF5Kg9EO"
   },
   "source": [
    "### **(7) Age**"
   ]
  },
  {
   "cell_type": "code",
   "execution_count": 48,
   "metadata": {
    "id": "H3jAkpbyUb8f"
   },
   "outputs": [],
   "source": [
    "var = 'Age'"
   ]
  },
  {
   "cell_type": "markdown",
   "metadata": {
    "id": "UKazla7SUb8f"
   },
   "source": [
    "1) 변수의 비즈니스 의미"
   ]
  },
  {
   "cell_type": "markdown",
   "metadata": {
    "id": "nNKdHDmPUb8g"
   },
   "source": [
    "* 지역 인구의 평균 연령"
   ]
  },
  {
   "cell_type": "markdown",
   "metadata": {
    "id": "H9_8VoENfJCa"
   },
   "source": [
    "2) 기초통계량 및 분포확인"
   ]
  },
  {
   "cell_type": "code",
   "execution_count": 49,
   "metadata": {
    "colab": {
     "base_uri": "https://localhost:8080/"
    },
    "executionInfo": {
     "elapsed": 10,
     "status": "ok",
     "timestamp": 1673940881657,
     "user": {
      "displayName": "한기영",
      "userId": "13049187003176135487"
     },
     "user_tz": -540
    },
    "id": "DJpEltSbfJCa",
    "outputId": "86b1f815-8714-4ce7-912e-431dff688c9a"
   },
   "outputs": [
    {
     "name": "stdout",
     "output_type": "stream",
     "text": [
      "<< 기초통계량 >>\n"
     ]
    },
    {
     "data": {
      "text/html": [
       "<div>\n",
       "<style scoped>\n",
       "    .dataframe tbody tr th:only-of-type {\n",
       "        vertical-align: middle;\n",
       "    }\n",
       "\n",
       "    .dataframe tbody tr th {\n",
       "        vertical-align: top;\n",
       "    }\n",
       "\n",
       "    .dataframe thead th {\n",
       "        text-align: right;\n",
       "    }\n",
       "</style>\n",
       "<table border=\"1\" class=\"dataframe\">\n",
       "  <thead>\n",
       "    <tr style=\"text-align: right;\">\n",
       "      <th></th>\n",
       "      <th>count</th>\n",
       "      <th>mean</th>\n",
       "      <th>std</th>\n",
       "      <th>min</th>\n",
       "      <th>25%</th>\n",
       "      <th>50%</th>\n",
       "      <th>75%</th>\n",
       "      <th>max</th>\n",
       "    </tr>\n",
       "  </thead>\n",
       "  <tbody>\n",
       "    <tr>\n",
       "      <th>Age</th>\n",
       "      <td>400.0</td>\n",
       "      <td>53.3225</td>\n",
       "      <td>16.200297</td>\n",
       "      <td>25.0</td>\n",
       "      <td>39.75</td>\n",
       "      <td>54.5</td>\n",
       "      <td>66.0</td>\n",
       "      <td>80.0</td>\n",
       "    </tr>\n",
       "  </tbody>\n",
       "</table>\n",
       "</div>"
      ],
      "text/plain": [
       "     count     mean        std   min    25%   50%   75%   max\n",
       "Age  400.0  53.3225  16.200297  25.0  39.75  54.5  66.0  80.0"
      ]
     },
     "metadata": {},
     "output_type": "display_data"
    },
    {
     "name": "stdout",
     "output_type": "stream",
     "text": [
      "====================================================================================================\n",
      "<< 그래프 >>\n"
     ]
    },
    {
     "data": {
      "image/png": "[encoded data removed]",
      "text/plain": [
       "<Figure size 1000x600 with 2 Axes>"
      ]
     },
     "metadata": {},
     "output_type": "display_data"
    }
   ],
   "source": [
    "eda_1_num(data, var)"
   ]
  },
  {
   "cell_type": "markdown",
   "metadata": {
    "id": "wx353mmZg8HX"
   },
   "source": [
    "3) 기초통계량과 분포를 통해서 파악한 내용을 적어 봅시다.\n",
    "\n",
    "보이는 그대로를 넘어, 비즈니스 관점에서 고민하며 적어 봅시다."
   ]
  },
  {
   "cell_type": "markdown",
   "metadata": {
    "id": "EVR4hzFnjiE1"
   },
   "source": [
    "* 지역별 평균나이는 거의 균등분포로 보임.\n",
    "* 균등분포 ==> 임의로 이렇게 모았거나, 여러 분포가 섞였거나, 이상치를 처리했거나...\n",
    "\n",
    "* 평균나이\n",
    "    * 지역 인구 전체에 대한 평균\n",
    "    * 카시트가 필요한 사람은, 약 10세 이하 자녀를 둔 부모\n",
    "    * 10세 이하 자녀들과 20대후반 ~ 40세의 부모가 주축인 인구의 평균 나이는?"
   ]
  },
  {
   "cell_type": "markdown",
   "metadata": {
    "id": "EtnLunngg9EP"
   },
   "source": [
    "4) 추가 분석해 볼 사항이 있나요?"
   ]
  },
  {
   "cell_type": "markdown",
   "metadata": {
    "id": "lzT_kkrFjyVb"
   },
   "source": [
    "* 가장 판매량이 높은 평균나이는?\n"
   ]
  },
  {
   "cell_type": "code",
   "execution_count": null,
   "metadata": {
    "id": "TR6Q3-dJg9EP"
   },
   "outputs": [],
   "source": []
  },
  {
   "cell_type": "markdown",
   "metadata": {
    "id": "A7QYqGKWdMZi"
   },
   "source": [
    "## **4.단변량분석 : 범주형 변수**"
   ]
  },
  {
   "cell_type": "markdown",
   "metadata": {},
   "source": [
    "* 함수 생성"
   ]
  },
  {
   "cell_type": "code",
   "execution_count": 50,
   "metadata": {},
   "outputs": [],
   "source": [
    "def eda_1_cat(data, var) :\n",
    "    t1 = data[var].value_counts()\n",
    "    t2 = data[var].value_counts(normalize = True)\n",
    "    t3 = pd.concat([t1, t2], axis = 1)\n",
    "    t3.columns = ['count','ratio']\n",
    "    display(t3)\n",
    "    sns.countplot(x = var, data = data)\n",
    "    plt.show()\n",
    "    "
   ]
  },
  {
   "cell_type": "markdown",
   "metadata": {
    "id": "m5zcg9CCg86m"
   },
   "source": [
    "### **(1) ShelveLoc**"
   ]
  },
  {
   "cell_type": "code",
   "execution_count": 51,
   "metadata": {
    "id": "fzfJAos6g86m"
   },
   "outputs": [],
   "source": [
    "var = 'ShelveLoc'"
   ]
  },
  {
   "cell_type": "markdown",
   "metadata": {
    "id": "dJBrJUmGg86n"
   },
   "source": [
    "1) 변수의 비즈니스 의미"
   ]
  },
  {
   "cell_type": "markdown",
   "metadata": {
    "id": "HngiZSRAXDbp"
   },
   "source": [
    "* 매장 진열상태"
   ]
  },
  {
   "cell_type": "markdown",
   "metadata": {
    "id": "oBh8J1tDg86n"
   },
   "source": [
    "2) 기초통계량(수치화)"
   ]
  },
  {
   "cell_type": "code",
   "execution_count": 52,
   "metadata": {
    "colab": {
     "base_uri": "https://localhost:8080/"
    },
    "executionInfo": {
     "elapsed": 35,
     "status": "ok",
     "timestamp": 1673940888396,
     "user": {
      "displayName": "한기영",
      "userId": "13049187003176135487"
     },
     "user_tz": -540
    },
    "id": "dED5nK77g86n",
    "outputId": "4a42df4c-67f5-4141-fd5c-f65fc2bf9863"
   },
   "outputs": [
    {
     "data": {
      "text/html": [
       "<div>\n",
       "<style scoped>\n",
       "    .dataframe tbody tr th:only-of-type {\n",
       "        vertical-align: middle;\n",
       "    }\n",
       "\n",
       "    .dataframe tbody tr th {\n",
       "        vertical-align: top;\n",
       "    }\n",
       "\n",
       "    .dataframe thead th {\n",
       "        text-align: right;\n",
       "    }\n",
       "</style>\n",
       "<table border=\"1\" class=\"dataframe\">\n",
       "  <thead>\n",
       "    <tr style=\"text-align: right;\">\n",
       "      <th></th>\n",
       "      <th>count</th>\n",
       "      <th>ratio</th>\n",
       "    </tr>\n",
       "  </thead>\n",
       "  <tbody>\n",
       "    <tr>\n",
       "      <th>Medium</th>\n",
       "      <td>219</td>\n",
       "      <td>0.5475</td>\n",
       "    </tr>\n",
       "    <tr>\n",
       "      <th>Bad</th>\n",
       "      <td>96</td>\n",
       "      <td>0.2400</td>\n",
       "    </tr>\n",
       "    <tr>\n",
       "      <th>Good</th>\n",
       "      <td>85</td>\n",
       "      <td>0.2125</td>\n",
       "    </tr>\n",
       "  </tbody>\n",
       "</table>\n",
       "</div>"
      ],
      "text/plain": [
       "        count   ratio\n",
       "Medium    219  0.5475\n",
       "Bad        96  0.2400\n",
       "Good       85  0.2125"
      ]
     },
     "metadata": {},
     "output_type": "display_data"
    },
    {
     "data": {
      "image/png": "[encoded data removed]",
      "text/plain": [
       "<Figure size 640x480 with 1 Axes>"
      ]
     },
     "metadata": {},
     "output_type": "display_data"
    }
   ],
   "source": [
    "eda_1_cat(data, var)"
   ]
  },
  {
   "cell_type": "markdown",
   "metadata": {
    "id": "jJMtVG7Og86o"
   },
   "source": [
    "3) 기초통계량과 분포를 통해서 파악한 내용을 적어 봅시다.\n",
    "\n",
    "보이는 그대로를 넘어, 비즈니스 관점에서 고민하며 적어 봅시다."
   ]
  },
  {
   "cell_type": "markdown",
   "metadata": {
    "id": "yFlMfWJfiUqF"
   },
   "source": [
    "* 진열 상태가 중간 정도 가 54%"
   ]
  },
  {
   "cell_type": "markdown",
   "metadata": {
    "id": "eq1EofUKg86o"
   },
   "source": [
    "4) 추가 분석해 볼 사항이 있나요?"
   ]
  },
  {
   "cell_type": "markdown",
   "metadata": {
    "id": "os4givqUjSZm"
   },
   "source": [
    "* 진열상태에 따른 판매량 차이\n",
    "* 지역, 인구수와 진열 상태 관계 비교"
   ]
  },
  {
   "cell_type": "markdown",
   "metadata": {
    "id": "GmxZa7uvhyXO"
   },
   "source": [
    "### **(2) Urban**"
   ]
  },
  {
   "cell_type": "code",
   "execution_count": 53,
   "metadata": {
    "id": "vQ9qjXQ0YDGk"
   },
   "outputs": [],
   "source": [
    "var = 'Urban'"
   ]
  },
  {
   "cell_type": "markdown",
   "metadata": {
    "id": "Z_SDqaBhYDGl"
   },
   "source": [
    "1) 변수의 비즈니스 의미"
   ]
  },
  {
   "cell_type": "markdown",
   "metadata": {
    "id": "APG3QTcSYDGl"
   },
   "source": [
    "* 도심 지역 여부"
   ]
  },
  {
   "cell_type": "markdown",
   "metadata": {
    "id": "oBh8J1tDg86n"
   },
   "source": [
    "2) 기초통계량(수치화)"
   ]
  },
  {
   "cell_type": "code",
   "execution_count": 54,
   "metadata": {
    "colab": {
     "base_uri": "https://localhost:8080/"
    },
    "executionInfo": {
     "elapsed": 35,
     "status": "ok",
     "timestamp": 1673940888396,
     "user": {
      "displayName": "한기영",
      "userId": "13049187003176135487"
     },
     "user_tz": -540
    },
    "id": "dED5nK77g86n",
    "outputId": "4a42df4c-67f5-4141-fd5c-f65fc2bf9863"
   },
   "outputs": [
    {
     "data": {
      "text/html": [
       "<div>\n",
       "<style scoped>\n",
       "    .dataframe tbody tr th:only-of-type {\n",
       "        vertical-align: middle;\n",
       "    }\n",
       "\n",
       "    .dataframe tbody tr th {\n",
       "        vertical-align: top;\n",
       "    }\n",
       "\n",
       "    .dataframe thead th {\n",
       "        text-align: right;\n",
       "    }\n",
       "</style>\n",
       "<table border=\"1\" class=\"dataframe\">\n",
       "  <thead>\n",
       "    <tr style=\"text-align: right;\">\n",
       "      <th></th>\n",
       "      <th>count</th>\n",
       "      <th>ratio</th>\n",
       "    </tr>\n",
       "  </thead>\n",
       "  <tbody>\n",
       "    <tr>\n",
       "      <th>Yes</th>\n",
       "      <td>282</td>\n",
       "      <td>0.705</td>\n",
       "    </tr>\n",
       "    <tr>\n",
       "      <th>No</th>\n",
       "      <td>118</td>\n",
       "      <td>0.295</td>\n",
       "    </tr>\n",
       "  </tbody>\n",
       "</table>\n",
       "</div>"
      ],
      "text/plain": [
       "     count  ratio\n",
       "Yes    282  0.705\n",
       "No     118  0.295"
      ]
     },
     "metadata": {},
     "output_type": "display_data"
    },
    {
     "data": {
      "image/png": "[encoded data removed]",
      "text/plain": [
       "<Figure size 640x480 with 1 Axes>"
      ]
     },
     "metadata": {},
     "output_type": "display_data"
    }
   ],
   "source": [
    "eda_1_cat(data, var)"
   ]
  },
  {
   "cell_type": "markdown",
   "metadata": {
    "id": "jJMtVG7Og86o"
   },
   "source": [
    "3) 기초통계량과 분포를 통해서 파악한 내용을 적어 봅시다.\n",
    "\n",
    "보이는 그대로를 넘어, 비즈니스 관점에서 고민하며 적어 봅시다."
   ]
  },
  {
   "cell_type": "markdown",
   "metadata": {
    "id": "EU_PoP7WksHO"
   },
   "source": [
    "* 약 70% 매장이 도시에 있음"
   ]
  },
  {
   "cell_type": "markdown",
   "metadata": {
    "id": "uWnlgNkxhyXV"
   },
   "source": [
    "4) 추가 분석해 볼 사항이 있나요?"
   ]
  },
  {
   "cell_type": "markdown",
   "metadata": {
    "id": "YhBwIJJTkxs5"
   },
   "source": [
    "* 도시와 지방의 인구수, 소득수준, 자사 가격, 경쟁사 가격, 광고예산, 판매량 비교 필요."
   ]
  },
  {
   "cell_type": "markdown",
   "metadata": {
    "id": "ieLyLWqehz_N"
   },
   "source": [
    "### **(3) US**"
   ]
  },
  {
   "cell_type": "code",
   "execution_count": 55,
   "metadata": {
    "id": "PGGG2kYOYEyb"
   },
   "outputs": [],
   "source": [
    "var = 'US'"
   ]
  },
  {
   "cell_type": "markdown",
   "metadata": {
    "id": "3U8qaK9uYEyb"
   },
   "source": [
    "1) 변수의 비즈니스 의미"
   ]
  },
  {
   "cell_type": "markdown",
   "metadata": {
    "id": "oTnx5AkOYEyb"
   },
   "source": [
    "* 매장이 미국에 있는지 여부"
   ]
  },
  {
   "cell_type": "markdown",
   "metadata": {
    "id": "oBh8J1tDg86n"
   },
   "source": [
    "2) 기초통계량(수치화)"
   ]
  },
  {
   "cell_type": "code",
   "execution_count": 56,
   "metadata": {
    "colab": {
     "base_uri": "https://localhost:8080/"
    },
    "executionInfo": {
     "elapsed": 35,
     "status": "ok",
     "timestamp": 1673940888396,
     "user": {
      "displayName": "한기영",
      "userId": "13049187003176135487"
     },
     "user_tz": -540
    },
    "id": "dED5nK77g86n",
    "outputId": "4a42df4c-67f5-4141-fd5c-f65fc2bf9863"
   },
   "outputs": [
    {
     "data": {
      "text/html": [
       "<div>\n",
       "<style scoped>\n",
       "    .dataframe tbody tr th:only-of-type {\n",
       "        vertical-align: middle;\n",
       "    }\n",
       "\n",
       "    .dataframe tbody tr th {\n",
       "        vertical-align: top;\n",
       "    }\n",
       "\n",
       "    .dataframe thead th {\n",
       "        text-align: right;\n",
       "    }\n",
       "</style>\n",
       "<table border=\"1\" class=\"dataframe\">\n",
       "  <thead>\n",
       "    <tr style=\"text-align: right;\">\n",
       "      <th></th>\n",
       "      <th>count</th>\n",
       "      <th>ratio</th>\n",
       "    </tr>\n",
       "  </thead>\n",
       "  <tbody>\n",
       "    <tr>\n",
       "      <th>Yes</th>\n",
       "      <td>258</td>\n",
       "      <td>0.645</td>\n",
       "    </tr>\n",
       "    <tr>\n",
       "      <th>No</th>\n",
       "      <td>142</td>\n",
       "      <td>0.355</td>\n",
       "    </tr>\n",
       "  </tbody>\n",
       "</table>\n",
       "</div>"
      ],
      "text/plain": [
       "     count  ratio\n",
       "Yes    258  0.645\n",
       "No     142  0.355"
      ]
     },
     "metadata": {},
     "output_type": "display_data"
    },
    {
     "data": {
      "image/png": "[encoded data removed]",
      "text/plain": [
       "<Figure size 640x480 with 1 Axes>"
      ]
     },
     "metadata": {},
     "output_type": "display_data"
    }
   ],
   "source": [
    "eda_1_cat(data, var)"
   ]
  },
  {
   "cell_type": "markdown",
   "metadata": {
    "id": "jJMtVG7Og86o"
   },
   "source": [
    "3) 기초통계량과 분포를 통해서 파악한 내용을 적어 봅시다.\n",
    "\n",
    "보이는 그대로를 넘어, 비즈니스 관점에서 고민하며 적어 봅시다."
   ]
  },
  {
   "cell_type": "markdown",
   "metadata": {
    "id": "-mAl2t92k-4E"
   },
   "source": [
    "* 약 65%가 국내(미국)"
   ]
  },
  {
   "cell_type": "markdown",
   "metadata": {
    "id": "g3UL3aqhhz_O"
   },
   "source": [
    "4) 추가 분석해 볼 사항이 있나요?"
   ]
  },
  {
   "cell_type": "markdown",
   "metadata": {
    "id": "jbAB4feDlDRs"
   },
   "source": [
    "* 국내외 와 광고비, 판매가, 경쟁사가격, 매출액 등 비교"
   ]
  }
 ],
 "metadata": {
  "colab": {
   "provenance": []
  },
  "kernelspec": {
   "display_name": "Python 3 (ipykernel)",
   "language": "python",
   "name": "python3"
  },
  "language_info": {
   "codemirror_mode": {
    "name": "ipython",
    "version": 3
   },
   "file_extension": ".py",
   "mimetype": "text/x-python",
   "name": "python",
   "nbconvert_exporter": "python",
   "pygments_lexer": "ipython3",
   "version": "3.11.5"
  }
 },
 "nbformat": 4,
 "nbformat_minor": 4
}
