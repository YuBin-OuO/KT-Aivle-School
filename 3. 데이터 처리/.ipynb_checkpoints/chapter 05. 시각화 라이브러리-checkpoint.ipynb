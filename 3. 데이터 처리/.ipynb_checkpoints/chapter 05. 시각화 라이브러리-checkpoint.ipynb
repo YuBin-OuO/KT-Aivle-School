{
 "cells": [
  {
   "cell_type": "markdown",
   "metadata": {
    "id": "ZNBZppDCNroN"
   },
   "source": [
    "# **시각화라이브러리**"
   ]
  },
  {
   "cell_type": "markdown",
   "metadata": {
    "id": "WdTXrolFlihz"
   },
   "source": [
    "* 목표 : matplotlib의 기본 차트 그리기를 익힌다.\n",
    "    * 코드의 기본 구조\n",
    "    * 데이터 요건\n",
    "    * 차트 꾸미기(이 부분은 가져다 사용할 수 있으면 됩니다.)"
   ]
  },
  {
   "cell_type": "markdown",
   "metadata": {
    "id": "LS2rtJiJlaF0"
   },
   "source": [
    "## **1.환경준비**"
   ]
  },
  {
   "cell_type": "markdown",
   "metadata": {
    "id": "008n0MaW4w0u"
   },
   "source": [
    "### **(1) 라이브러리**"
   ]
  },
  {
   "cell_type": "code",
   "execution_count": 1,
   "metadata": {
    "id": "ba319GIZlcFB",
    "tags": []
   },
   "outputs": [],
   "source": [
    "import pandas as pd\n",
    "import numpy as np\n",
    "\n",
    "# 시각화 라이브러리\n",
    "import matplotlib.pyplot as plt\n",
    "import seaborn as sns"
   ]
  },
  {
   "cell_type": "markdown",
   "metadata": {
    "id": "ydwz2Va-4zFH"
   },
   "source": [
    "### **(2) 데이터 불러오기**"
   ]
  },
  {
   "cell_type": "markdown",
   "metadata": {
    "id": "AKfZSXkZ7nq6"
   },
   "source": [
    "**[airquality 데이터 셋 정보]**\n",
    "\n",
    "- Ozone: 오존 농도  \n",
    "- Solar.R: 태양복사량\n",
    "- Wind: 풍속\n",
    "- Temp: 기온\n",
    "- Date : 연,월,일"
   ]
  },
  {
   "cell_type": "code",
   "execution_count": null,
   "metadata": {
    "colab": {
     "base_uri": "https://localhost:8080/",
     "height": 206
    },
    "executionInfo": {
     "elapsed": 49,
     "status": "ok",
     "timestamp": 1674521809284,
     "user": {
      "displayName": "한기영",
      "userId": "13049187003176135487"
     },
     "user_tz": -540
    },
    "id": "5bYePZL-45qo",
    "outputId": "685d8ef1-b99d-47a6-f61b-d5bf118e2183"
   },
   "outputs": [],
   "source": [
    "path = 'https://raw.githubusercontent.com/DA4BAM/dataset/master/airquality_simple2.csv'\n",
    "data = pd.read_csv(path)\n",
    "data['Date'] = pd.to_datetime(data['Date'])\n",
    "data.dropna(axis = 0, inplace = True)\n",
    "data.head()"
   ]
  },
  {
   "cell_type": "markdown",
   "metadata": {
    "id": "vTLZ6yfgFy49"
   },
   "source": [
    "## **2.기본차트 그리기**"
   ]
  },
  {
   "cell_type": "markdown",
   "metadata": {
    "id": "KUFdkjNwmU_U"
   },
   "source": [
    "### **(1) 차트 그리기**\n",
    "\n",
    "* plt.plot(1차원 값)\n",
    "    * x축 : 인덱스\n",
    "    * y축 : 1차원 값\n",
    "    * 라인차트를 그려줍니다."
   ]
  },
  {
   "cell_type": "code",
   "execution_count": null,
   "metadata": {
    "colab": {
     "base_uri": "https://localhost:8080/",
     "height": 265
    },
    "executionInfo": {
     "elapsed": 46,
     "status": "ok",
     "timestamp": 1674521809286,
     "user": {
      "displayName": "한기영",
      "userId": "13049187003176135487"
     },
     "user_tz": -540
    },
    "id": "xXWd2lNXNroR",
    "outputId": "a2a03fa6-3e1f-4a7b-fae3-7b5fa6577f7b"
   },
   "outputs": [],
   "source": [
    "# 차트 그리기\n",
    "plt.plot(data['Temp'])\n",
    "\n",
    "# 화면에 보여주기\n",
    "plt.show()"
   ]
  },
  {
   "cell_type": "markdown",
   "metadata": {
    "id": "N3BRc7-dmcXb"
   },
   "source": [
    "### **(2) x축과 y축의 값 지정하기**\n",
    "* plt.plot(x축, y축)"
   ]
  },
  {
   "cell_type": "code",
   "execution_count": null,
   "metadata": {
    "colab": {
     "base_uri": "https://localhost:8080/",
     "height": 265
    },
    "executionInfo": {
     "elapsed": 46,
     "status": "ok",
     "timestamp": 1674521809288,
     "user": {
      "displayName": "한기영",
      "userId": "13049187003176135487"
     },
     "user_tz": -540
    },
    "id": "j-r4SkGBmcRK",
    "outputId": "332ce8e9-93e4-4e16-aef9-a5a0226442c9"
   },
   "outputs": [],
   "source": [
    "# 타입1\n",
    "plt.plot(data['Date'], data['Temp'])\n",
    "plt.show()"
   ]
  },
  {
   "cell_type": "markdown",
   "metadata": {
    "id": "R8gTztCBWueb"
   },
   "source": [
    "* plt.plot(x축, y축, data = )"
   ]
  },
  {
   "cell_type": "code",
   "execution_count": null,
   "metadata": {
    "colab": {
     "base_uri": "https://localhost:8080/",
     "height": 265
    },
    "executionInfo": {
     "elapsed": 45,
     "status": "ok",
     "timestamp": 1674521809289,
     "user": {
      "displayName": "한기영",
      "userId": "13049187003176135487"
     },
     "user_tz": -540
    },
    "id": "MtCCmK9VV3NS",
    "outputId": "a7e8532a-2c1d-485a-9658-b24afcd1f639"
   },
   "outputs": [],
   "source": [
    "# 타입2\n",
    "plt.plot('Date', 'Temp', data = data)\n",
    "plt.show()"
   ]
  },
  {
   "cell_type": "markdown",
   "metadata": {
    "id": "xSWBmU_Yeu5A"
   },
   "source": [
    "<img src='https://raw.githubusercontent.com/jangrae/img/master/practice_01.png' width=120 align=\"left\"/>"
   ]
  },
  {
   "cell_type": "markdown",
   "metadata": {
    "id": "j90GjJvmnRGU"
   },
   "source": [
    "아래 값으로 차트를 그리시오.\n",
    "\n",
    "* x 축 : Date\n",
    "* y 축 : Ozone\n"
   ]
  },
  {
   "cell_type": "code",
   "execution_count": null,
   "metadata": {
    "colab": {
     "base_uri": "https://localhost:8080/",
     "height": 265
    },
    "executionInfo": {
     "elapsed": 45,
     "status": "ok",
     "timestamp": 1674521809291,
     "user": {
      "displayName": "한기영",
      "userId": "13049187003176135487"
     },
     "user_tz": -540
    },
    "id": "GBPWfoE2nVDa",
    "outputId": "a60c8dc7-2e25-4726-fed0-41c1200e917d"
   },
   "outputs": [],
   "source": []
  },
  {
   "cell_type": "markdown",
   "metadata": {
    "id": "0waRvlbgF60A"
   },
   "source": [
    "## **3.차트 꾸미기**\n",
    "\n",
    "https://matplotlib.org/2.1.2/api/_as_gen/matplotlib.pyplot.plot.html"
   ]
  },
  {
   "cell_type": "markdown",
   "metadata": {
    "id": "C98lJocCn-uy"
   },
   "source": [
    "### **(1) x축, y축 이름, 타이틀 붙이기**"
   ]
  },
  {
   "cell_type": "code",
   "execution_count": null,
   "metadata": {
    "colab": {
     "base_uri": "https://localhost:8080/",
     "height": 323
    },
    "executionInfo": {
     "elapsed": 43,
     "status": "ok",
     "timestamp": 1674521809292,
     "user": {
      "displayName": "한기영",
      "userId": "13049187003176135487"
     },
     "user_tz": -540
    },
    "id": "Bnn3k1kNNroV",
    "outputId": "426ca21c-7874-4c75-ad69-ef9ea3251983"
   },
   "outputs": [],
   "source": [
    "plt.plot(data['Date'], data['Ozone'])\n",
    "\n",
    "plt.xticks(rotation = 30)       # x축 값 꾸미기 : 방향을 30도 틀어서\n",
    "plt.xlabel('Date')              # x축 이름 지정\n",
    "plt.ylabel('Ozone')             # y축 이름 지정\n",
    "plt.title('Daily Airquality')   # 타이틀\n",
    "\n",
    "plt.show()"
   ]
  },
  {
   "cell_type": "markdown",
   "metadata": {
    "id": "LMyznJLmoI0C"
   },
   "source": [
    "### **(2) 라인 스타일 조정하기**\n",
    "\n",
    "* color=  \n",
    "    * 'red','green','blue' ...\n",
    "    * 혹은 'r', 'g', 'b', ...\n",
    "    * https://matplotlib.org/stable/gallery/color/named_colors.html\n",
    "* linestyle= \n",
    "    * 'solid', 'dashed', 'dashdot', 'dotted'\n",
    "    * 혹은 '-' , '--' , '-.' , ':' \n",
    "* marker=\n",
    "\n",
    "| marker |\tdescription |\n",
    "| ---- | ---- |\n",
    "|\".\" |\tpoint |\n",
    "|\",\" |\tpixel |\n",
    "|\"o\" |\tcircle |\n",
    "|\"v\" |\ttriangle_down |\n",
    "|\"^\" |\ttriangle_up |\n",
    "|\"<\" |\ttriangle_left |\n",
    "|\">\" |\ttriangle_right |"
   ]
  },
  {
   "cell_type": "code",
   "execution_count": null,
   "metadata": {
    "colab": {
     "base_uri": "https://localhost:8080/",
     "height": 333
    },
    "executionInfo": {
     "elapsed": 1474,
     "status": "ok",
     "timestamp": 1674521810725,
     "user": {
      "displayName": "한기영",
      "userId": "13049187003176135487"
     },
     "user_tz": -540
    },
    "id": "mhNL2hSroJuE",
    "outputId": "2f50aa3c-1356-4c8e-e82a-920920f58885"
   },
   "outputs": [],
   "source": [
    "plt.plot(data['Date'], data['Ozone']\n",
    "         ,color='green'                # 칼러\n",
    "         , linestyle='dotted'          # 라인스타일\n",
    "         , marker='o')                 # 값 마커(모양)\n",
    "\n",
    "plt.xlabel('Date') \n",
    "plt.ylabel('Ozone')\n",
    "plt.title('Daily Airquality')\n",
    "plt.xticks(rotation=45)\n",
    "\n",
    "plt.show()"
   ]
  },
  {
   "cell_type": "markdown",
   "metadata": {
    "id": "C31O3jSkoV7C"
   },
   "source": [
    "### **(3) 여러 그래프 겹쳐서 그리기**"
   ]
  },
  {
   "cell_type": "code",
   "execution_count": null,
   "metadata": {
    "colab": {
     "base_uri": "https://localhost:8080/",
     "height": 333
    },
    "executionInfo": {
     "elapsed": 34,
     "status": "ok",
     "timestamp": 1674521810727,
     "user": {
      "displayName": "한기영",
      "userId": "13049187003176135487"
     },
     "user_tz": -540
    },
    "id": "kd1TajmgoWtR",
    "outputId": "f4f2f799-a705-49b1-ee48-bef2fef9ddb4"
   },
   "outputs": [],
   "source": [
    "# 첫번째 그래프\n",
    "plt.plot(data['Date'], data['Ozone'], color='green', linestyle='dotted', marker='o')\n",
    "# 두번째 그래프\n",
    "plt.plot(data['Date'], data['Temp'], color='r', linestyle='-', marker='s')\n",
    "\n",
    "plt.xlabel('Date') \n",
    "plt.ylabel('Ozone')\n",
    "plt.title('Daily Airquality')\n",
    "plt.xticks(rotation=45)\n",
    "\n",
    "# 위 그래프와 설정 한꺼번에 보여주기\n",
    "plt.show()"
   ]
  },
  {
   "cell_type": "markdown",
   "metadata": {
    "id": "aP4e_tnRocl6"
   },
   "source": [
    "### **(4) 범례, 그리드 추가**"
   ]
  },
  {
   "cell_type": "code",
   "execution_count": null,
   "metadata": {
    "colab": {
     "base_uri": "https://localhost:8080/",
     "height": 265
    },
    "executionInfo": {
     "elapsed": 31,
     "status": "ok",
     "timestamp": 1674521810728,
     "user": {
      "displayName": "한기영",
      "userId": "13049187003176135487"
     },
     "user_tz": -540
    },
    "id": "7GTVwX3PoeZK",
    "outputId": "19363374-11d6-428f-c438-3e57c412975b"
   },
   "outputs": [],
   "source": [
    "plt.plot(data['Date'], data['Ozone'], label = 'Ozone')  # label = : 범례추가를 위한 레이블값\n",
    "plt.plot(data['Date'], data['Temp'], label = 'Temp')\n",
    "\n",
    "plt.legend(loc = 'upper right')    # 레이블 표시하기. loc = : 위치\n",
    "plt.grid()\n",
    "\n",
    "plt.show()"
   ]
  },
  {
   "cell_type": "markdown",
   "metadata": {
    "id": "__nnkr0qovnu"
   },
   "source": [
    "<img src='https://raw.githubusercontent.com/jangrae/img/master/practice_01.png' width=120 align=\"left\"/>"
   ]
  },
  {
   "cell_type": "markdown",
   "metadata": {
    "id": "33UTDZYNohRW"
   },
   "source": [
    "아래 조건에 맞게 그래프를 그려 봅시다.\n",
    "* 그래프1 : Date, Ozone\n",
    "* 그래프2 : Date, Temp\n",
    "* 그래프3 : Date, Wind\n",
    "* x축 이름 : Date\n",
    "* title : Airquality\n",
    "* legend 추가\n",
    "* grid 추가\n",
    "* 그래프 크기 : 12,8  (이 부분은 배우지는 않았습니다. 아래 4.추가기능 - (3) 그래프 크기 조정 부분을 참조하여 적용해 봅시다.)\n"
   ]
  },
  {
   "cell_type": "code",
   "execution_count": null,
   "metadata": {
    "colab": {
     "base_uri": "https://localhost:8080/",
     "height": 540
    },
    "executionInfo": {
     "elapsed": 31,
     "status": "ok",
     "timestamp": 1674521810730,
     "user": {
      "displayName": "한기영",
      "userId": "13049187003176135487"
     },
     "user_tz": -540
    },
    "id": "0YylS8VeJNVd",
    "outputId": "48f00a96-e15b-4982-974f-5720fd77f91a"
   },
   "outputs": [],
   "source": []
  },
  {
   "cell_type": "markdown",
   "metadata": {
    "id": "vkp7gTCuV_QP"
   },
   "source": [
    "## **4.추가기능①**"
   ]
  },
  {
   "cell_type": "markdown",
   "metadata": {
    "id": "fNfPKXAkHB_L"
   },
   "source": [
    "### **(1) 데이터프레임.plot()**\n",
    "* https://pandas.pydata.org/docs/reference/api/pandas.DataFrame.plot.html"
   ]
  },
  {
   "cell_type": "code",
   "execution_count": null,
   "metadata": {
    "colab": {
     "base_uri": "https://localhost:8080/",
     "height": 330
    },
    "executionInfo": {
     "elapsed": 1479,
     "status": "ok",
     "timestamp": 1674521812181,
     "user": {
      "displayName": "한기영",
      "userId": "13049187003176135487"
     },
     "user_tz": -540
    },
    "id": "eRxl2hZGGihO",
    "outputId": "501a22dc-9b7c-48b7-8b0a-cfbf0c1c78aa"
   },
   "outputs": [],
   "source": [
    "data.plot(x = 'Date', y = ['Temp','Ozone']\n",
    "          , title = 'Daily Airquality')\n",
    "plt.grid()\n",
    "plt.show()"
   ]
  },
  {
   "cell_type": "markdown",
   "metadata": {
    "id": "QJtTdnImLQ7k"
   },
   "source": [
    "<img src='https://raw.githubusercontent.com/jangrae/img/master/practice_01.png' width=120 align=\"left\"/>"
   ]
  },
  {
   "cell_type": "markdown",
   "metadata": {
    "id": "xr1RD87rLQ7l"
   },
   "source": [
    "아래 조건에 맞게 그래프를 그려 봅시다.(이번에는 데이터프레임.plot 으로 그려 봅시다.)\n",
    "\n",
    "* 값\n",
    "    * x축 : Date\n",
    "    * y축 : Ozone, Temp, Wind\n",
    "* x축 이름 : Date\n",
    "* title : Airquality\n",
    "* legend 추가\n",
    "* grid 추가\n",
    "* 그래프 크기 : 12,8\n",
    "    * .plot(   , figsize=(12, 8)) \n"
   ]
  },
  {
   "cell_type": "code",
   "execution_count": null,
   "metadata": {
    "colab": {
     "base_uri": "https://localhost:8080/",
     "height": 548
    },
    "executionInfo": {
     "elapsed": 21,
     "status": "ok",
     "timestamp": 1674521812181,
     "user": {
      "displayName": "한기영",
      "userId": "13049187003176135487"
     },
     "user_tz": -540
    },
    "id": "6thH5cmpoipq",
    "outputId": "176af6ef-d6e0-4909-da9d-85111a6ae14f"
   },
   "outputs": [],
   "source": []
  },
  {
   "cell_type": "markdown",
   "metadata": {
    "id": "IejhSEfjpBBf"
   },
   "source": [
    "### **(2) 축 범위 조정하기**"
   ]
  },
  {
   "cell_type": "code",
   "execution_count": null,
   "metadata": {
    "colab": {
     "base_uri": "https://localhost:8080/",
     "height": 269
    },
    "executionInfo": {
     "elapsed": 874,
     "status": "ok",
     "timestamp": 1674522468555,
     "user": {
      "displayName": "한기영",
      "userId": "13049187003176135487"
     },
     "user_tz": -540
    },
    "id": "eYGDe90iNroY",
    "outputId": "ced22665-82f3-41a7-b3d0-03a49d43922e",
    "tags": []
   },
   "outputs": [],
   "source": [
    "plt.plot(data['Ozone'])\n",
    "\n",
    "plt.ylim(0, 100)\n",
    "plt.xlim(0,10)\n",
    "plt.grid()\n",
    "plt.show()"
   ]
  },
  {
   "cell_type": "markdown",
   "metadata": {
    "id": "epz08DXFpIKB"
   },
   "source": [
    "### **(3) 그래프 크기 조정**\n",
    "\n",
    "* default size는 6.4, 4.4"
   ]
  },
  {
   "cell_type": "code",
   "execution_count": null,
   "metadata": {
    "colab": {
     "base_uri": "https://localhost:8080/",
     "height": 215
    },
    "executionInfo": {
     "elapsed": 372,
     "status": "ok",
     "timestamp": 1674522498414,
     "user": {
      "displayName": "한기영",
      "userId": "13049187003176135487"
     },
     "user_tz": -540
    },
    "id": "QxhGp5t9pFoC",
    "outputId": "153b9387-3ec9-490e-cac1-68e3c6e8b710"
   },
   "outputs": [],
   "source": [
    "plt.figure(figsize = (4, 3))\n",
    "\n",
    "plt.plot(data['Ozone'])\n",
    "\n",
    "plt.ylim(0, 100)\n",
    "plt.xlim(0,10)\n",
    "\n",
    "plt.grid()\n",
    "plt.show()"
   ]
  },
  {
   "cell_type": "markdown",
   "metadata": {
    "id": "regZGcHJpNvC"
   },
   "source": [
    "### **(4) 수평선 수직선 추가**"
   ]
  },
  {
   "cell_type": "code",
   "execution_count": null,
   "metadata": {
    "colab": {
     "base_uri": "https://localhost:8080/",
     "height": 265
    },
    "executionInfo": {
     "elapsed": 2199,
     "status": "ok",
     "timestamp": 1674522556709,
     "user": {
      "displayName": "한기영",
      "userId": "13049187003176135487"
     },
     "user_tz": -540
    },
    "id": "UDj5jMGTpNmT",
    "outputId": "f3fa5e65-5076-442b-961e-2bec1d7effca"
   },
   "outputs": [],
   "source": [
    "plt.plot(data['Ozone'])\n",
    "\n",
    "plt.axhline(40, color = 'grey', linestyle = '--')\n",
    "plt.axvline(10, color = 'red', linestyle = '--')\n",
    "plt.show()"
   ]
  },
  {
   "cell_type": "markdown",
   "metadata": {
    "id": "BAP5dDvgpSsz"
   },
   "source": [
    "### **(5) 그래프에 텍스트 추가**"
   ]
  },
  {
   "cell_type": "code",
   "execution_count": null,
   "metadata": {
    "colab": {
     "base_uri": "https://localhost:8080/",
     "height": 265
    },
    "executionInfo": {
     "elapsed": 430,
     "status": "ok",
     "timestamp": 1674522645933,
     "user": {
      "displayName": "한기영",
      "userId": "13049187003176135487"
     },
     "user_tz": -540
    },
    "id": "JK0sO0rupSmT",
    "outputId": "74871269-a403-4cac-df75-5101383e65b1"
   },
   "outputs": [],
   "source": [
    "plt.plot(data['Ozone'])\n",
    "\n",
    "plt.axhline(40, color = 'grey', linestyle = '--')\n",
    "plt.axvline(10, color = 'red', linestyle = '--')\n",
    "\n",
    "plt.text(5, 41, '40')\n",
    "plt.text(10.1, 20, '10')\n",
    "\n",
    "plt.show()"
   ]
  },
  {
   "cell_type": "markdown",
   "metadata": {
    "id": "J-t-iZUHprWY"
   },
   "source": [
    "<img src='https://raw.githubusercontent.com/jangrae/img/master/practice_01.png' width=120 align=\"left\"/>"
   ]
  },
  {
   "cell_type": "markdown",
   "metadata": {
    "id": "cLgAb8wKpXXx"
   },
   "source": [
    "아래 정보로 그래프를 그려 봅시다.\n",
    "\n",
    "* 오존 농도를 그래프로 그리고,\n",
    "* 오존 농도의 평균선(수평선)과 평균값(text)을 추가하시오."
   ]
  },
  {
   "cell_type": "code",
   "execution_count": null,
   "metadata": {
    "colab": {
     "base_uri": "https://localhost:8080/",
     "height": 265
    },
    "executionInfo": {
     "elapsed": 762,
     "status": "ok",
     "timestamp": 1674522825116,
     "user": {
      "displayName": "한기영",
      "userId": "13049187003176135487"
     },
     "user_tz": -540
    },
    "id": "xHn_ClrTpXyp",
    "outputId": "8fc51ba0-b78c-4d9a-f3e2-f8d0f1c7280a"
   },
   "outputs": [],
   "source": []
  },
  {
   "cell_type": "markdown",
   "metadata": {
    "id": "u4PLAMFCXTo_"
   },
   "source": [
    "## **5.추가기능② : 여러 그래프 나눠서 그리기**"
   ]
  },
  {
   "cell_type": "markdown",
   "metadata": {
    "id": "L6kLdMQVrixx"
   },
   "source": [
    "![](https://codetorial.net/matplotlib/_images/subplot_03.png)\n",
    "\n",
    "* row : 고정된 행 수\n",
    "* column : 고정된 열 수\n",
    "* index : 순서"
   ]
  },
  {
   "cell_type": "markdown",
   "metadata": {
    "id": "I8I2aFxLpwuh"
   },
   "source": [
    "### **(1) 위, 아래로(3행 1열) 그래프 그리기**"
   ]
  },
  {
   "cell_type": "code",
   "execution_count": null,
   "metadata": {
    "colab": {
     "base_uri": "https://localhost:8080/",
     "height": 206
    },
    "executionInfo": {
     "elapsed": 358,
     "status": "ok",
     "timestamp": 1674521854473,
     "user": {
      "displayName": "한기영",
      "userId": "13049187003176135487"
     },
     "user_tz": -540
    },
    "id": "qyN-rLgyR3wm",
    "outputId": "a753197a-0674-40ed-8092-e8516ed32584"
   },
   "outputs": [],
   "source": [
    "data.head()"
   ]
  },
  {
   "cell_type": "code",
   "execution_count": null,
   "metadata": {
    "colab": {
     "base_uri": "https://localhost:8080/",
     "height": 585
    },
    "executionInfo": {
     "elapsed": 1147,
     "status": "ok",
     "timestamp": 1674522013144,
     "user": {
      "displayName": "한기영",
      "userId": "13049187003176135487"
     },
     "user_tz": -540
    },
    "id": "wMhyj0pkXTpA",
    "outputId": "7b022eee-7c35-4fff-f4d8-e855ad07f9b2"
   },
   "outputs": [],
   "source": [
    "plt.figure(figsize = (12,8))\n",
    "plt.subplot(3,1,1)\n",
    "plt.plot('Date', 'Temp', data = data)\n",
    "plt.grid()\n",
    "\n",
    "plt.subplot(3,1,2)\n",
    "plt.plot('Date', 'Wind', data = data)\n",
    "\n",
    "plt.subplot(3,1,3)\n",
    "plt.plot('Date', 'Ozone', data = data)\n",
    "plt.grid()\n",
    "plt.ylabel('Ozone')\n",
    "\n",
    "plt.tight_layout() # 그래프간 간격을 적절히 맞추기\n",
    "plt.show()"
   ]
  },
  {
   "cell_type": "markdown",
   "metadata": {
    "id": "w44PwCIOp7n0"
   },
   "source": [
    "### **(2) 옆으로 (1행 3열) 그래프 그리기**"
   ]
  },
  {
   "cell_type": "code",
   "execution_count": null,
   "metadata": {
    "colab": {
     "base_uri": "https://localhost:8080/",
     "height": 362
    },
    "executionInfo": {
     "elapsed": 1112,
     "status": "ok",
     "timestamp": 1674522129110,
     "user": {
      "displayName": "한기영",
      "userId": "13049187003176135487"
     },
     "user_tz": -540
    },
    "id": "t2408sFip8FS",
    "outputId": "973edb0e-d059-442d-8758-714f25192cb4"
   },
   "outputs": [],
   "source": [
    "plt.figure(figsize = (15,5))\n",
    "plt.subplot(1,3,1)\n",
    "plt.plot('Date', 'Temp', data = data)\n",
    "plt.title('Temp')\n",
    "plt.xticks(rotation = 40)\n",
    "plt.grid()\n",
    "\n",
    "plt.subplot(1,3,2)\n",
    "plt.plot('Date', 'Wind', data = data)\n",
    "plt.title('Wind')\n",
    "plt.xticks(rotation = 40)\n",
    "plt.grid()\n",
    "\n",
    "plt.subplot(1,3,3)\n",
    "plt.plot('Date', 'Ozone', data = data)\n",
    "plt.title('Ozone')\n",
    "plt.xticks(rotation = 40)\n",
    "plt.grid()\n",
    "\n",
    "plt.tight_layout() # 그래프간 간격을 적절히 맞추기\n",
    "plt.show()"
   ]
  },
  {
   "cell_type": "markdown",
   "metadata": {
    "id": "ahjmR9hbqEkf"
   },
   "source": [
    "<img src='https://raw.githubusercontent.com/jangrae/img/master/practice_01.png' width=120 align=\"left\"/>"
   ]
  },
  {
   "cell_type": "markdown",
   "metadata": {
    "id": "4-C6ZW1gqCF5"
   },
   "source": [
    "주어진 데이터로 그래프를 그려봅시다.\n",
    "\n",
    "* 그래프1 : x, y1\n",
    "* 그래프2 : x, y2\n",
    "* 1행, 2열로 그래프를 그리시오."
   ]
  },
  {
   "cell_type": "code",
   "execution_count": null,
   "metadata": {
    "colab": {
     "base_uri": "https://localhost:8080/",
     "height": 425
    },
    "executionInfo": {
     "elapsed": 8,
     "status": "ok",
     "timestamp": 1674522199541,
     "user": {
      "displayName": "한기영",
      "userId": "13049187003176135487"
     },
     "user_tz": -540
    },
    "id": "ESqirp05TMIc",
    "outputId": "9e74b667-c805-4e9c-b90d-8b98666c28d9"
   },
   "outputs": [],
   "source": []
  },
  {
   "cell_type": "code",
   "execution_count": null,
   "metadata": {
    "colab": {
     "base_uri": "https://localhost:8080/",
     "height": 297
    },
    "executionInfo": {
     "elapsed": 596,
     "status": "ok",
     "timestamp": 1674522214727,
     "user": {
      "displayName": "한기영",
      "userId": "13049187003176135487"
     },
     "user_tz": -540
    },
    "id": "WRdYf2mWqB9K",
    "outputId": "44af7bc4-8e4b-4606-8ad6-dcc0d00a33d7"
   },
   "outputs": [],
   "source": []
  },
  {
   "cell_type": "code",
   "execution_count": null,
   "metadata": {
    "id": "P3pkWdgYTTxu"
   },
   "outputs": [],
   "source": []
  }
 ],
 "metadata": {
  "colab": {
   "provenance": [],
   "toc_visible": true
  },
  "kernelspec": {
   "display_name": "Python 3 (ipykernel)",
   "language": "python",
   "name": "python3"
  },
  "language_info": {
   "codemirror_mode": {
    "name": "ipython",
    "version": 3
   },
   "file_extension": ".py",
   "mimetype": "text/x-python",
   "name": "python",
   "nbconvert_exporter": "python",
   "pygments_lexer": "ipython3",
   "version": "3.11.5"
  }
 },
 "nbformat": 4,
 "nbformat_minor": 4
}
