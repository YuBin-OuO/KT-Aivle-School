{
 "cells": [
  {
   "cell_type": "markdown",
   "metadata": {
    "id": "w8C_iSSpYnVO"
   },
   "source": [
    "# **시계열 데이터 처리**\n"
   ]
  },
  {
   "cell_type": "markdown",
   "metadata": {
    "id": "PgakzyhIgKhS"
   },
   "source": [
    "## **1.환경준비**"
   ]
  },
  {
   "cell_type": "markdown",
   "metadata": {
    "id": "fajHvynEg-Ap"
   },
   "source": [
    "### **(1) 라이브러리 불러오기**"
   ]
  },
  {
   "cell_type": "code",
   "execution_count": null,
   "metadata": {
    "executionInfo": {
     "elapsed": 3690,
     "status": "ok",
     "timestamp": 1675384964390,
     "user": {
      "displayName": "한기영",
      "userId": "13049187003176135487"
     },
     "user_tz": -540
    },
    "id": "Wj4uhna8sPHm"
   },
   "outputs": [],
   "source": [
    "import pandas as pd\n",
    "import numpy as np\n",
    "import matplotlib.pyplot as plt\n",
    "import seaborn as sns"
   ]
  },
  {
   "cell_type": "markdown",
   "metadata": {
    "id": "oeEZKCu-2lWM"
   },
   "source": [
    "### **(2) 데이터 준비**"
   ]
  },
  {
   "cell_type": "markdown",
   "metadata": {
    "id": "wGTPGMHcvfyh"
   },
   "source": [
    "* 원본데이터 불러오기"
   ]
  },
  {
   "cell_type": "code",
   "execution_count": null,
   "metadata": {
    "executionInfo": {
     "elapsed": 243,
     "status": "ok",
     "timestamp": 1675385173985,
     "user": {
      "displayName": "한기영",
      "userId": "13049187003176135487"
     },
     "user_tz": -540
    },
    "id": "qE9uXpyO6XGq"
   },
   "outputs": [],
   "source": [
    "sales = pd.read_csv(\"https://raw.githubusercontent.com/DA4BAM/dataset/master/ts_sales_simple.csv\")\n",
    "products = pd.read_csv(\"https://raw.githubusercontent.com/DA4BAM/dataset/master/ts_product_master.csv\")"
   ]
  },
  {
   "cell_type": "markdown",
   "metadata": {
    "id": "fn--T7LIviVA"
   },
   "source": [
    "* 다룰 데이터 만들기\n",
    "    * 아래 코드를 이해하지 못해도 상관 없습니다.\n",
    "    * 그냥 실행해주세요."
   ]
  },
  {
   "cell_type": "code",
   "execution_count": null,
   "metadata": {
    "executionInfo": {
     "elapsed": 243,
     "status": "ok",
     "timestamp": 1675385175500,
     "user": {
      "displayName": "한기영",
      "userId": "13049187003176135487"
     },
     "user_tz": -540
    },
    "id": "QcQex00f65p2"
   },
   "outputs": [],
   "source": [
    "# 판매액 계산하기\n",
    "temp = pd.merge(sales, products)\n",
    "temp['Amt' ] = temp['Qty'] * temp['Price']\n",
    "temp['Amt'] = (temp['Amt']/1000).round()  # 단위 1000달러\n",
    "\n",
    "# 집계\n",
    "data1 = temp.groupby(['Date', 'Category'], as_index = False)['Amt'].sum()\n",
    "data2 = temp.groupby(['Date'], as_index = False)['Amt'].sum()\n",
    "\n",
    "# 피봇\n",
    "data11 = data1.pivot('Date', 'Category', 'Amt').reset_index()\n",
    "\n",
    "# 합치기\n",
    "data = pd.merge(data2, data11)"
   ]
  },
  {
   "cell_type": "markdown",
   "metadata": {
    "id": "o3voihkGvtl4"
   },
   "source": [
    "* 우리가 다룰 데이터"
   ]
  },
  {
   "cell_type": "code",
   "execution_count": null,
   "metadata": {
    "colab": {
     "base_uri": "https://localhost:8080/",
     "height": 206
    },
    "executionInfo": {
     "elapsed": 7,
     "status": "ok",
     "timestamp": 1675385178173,
     "user": {
      "displayName": "한기영",
      "userId": "13049187003176135487"
     },
     "user_tz": -540
    },
    "id": "SHuEayckThCw",
    "outputId": "b83712f0-e93f-4c58-c95f-92827c8bdc25"
   },
   "outputs": [],
   "source": [
    "data.head()"
   ]
  },
  {
   "cell_type": "code",
   "execution_count": null,
   "metadata": {
    "id": "sDYzTVJevRAP"
   },
   "outputs": [],
   "source": []
  },
  {
   "cell_type": "markdown",
   "metadata": {
    "id": "mtWr646oTMSI"
   },
   "source": [
    "## **2.날짜 요소 추출**"
   ]
  },
  {
   "cell_type": "markdown",
   "metadata": {
    "id": "ACYKaFAegjzy"
   },
   "source": [
    "### **(1) 날짜 타입으로 변환**\n",
    "* pd.to_datetime(날짜데이터, format = '입력되는 날짜 형식')\n",
    "* https://pandas.pydata.org/pandas-docs/stable/reference/api/pandas.to_datetime.html"
   ]
  },
  {
   "cell_type": "code",
   "execution_count": null,
   "metadata": {
    "colab": {
     "base_uri": "https://localhost:8080/"
    },
    "executionInfo": {
     "elapsed": 29,
     "status": "ok",
     "timestamp": 1675384965650,
     "user": {
      "displayName": "한기영",
      "userId": "13049187003176135487"
     },
     "user_tz": -540
    },
    "id": "0HviiUVPguwg",
    "outputId": "55fefebc-b559-4319-a611-80147a42250a"
   },
   "outputs": [],
   "source": [
    "data.info()"
   ]
  },
  {
   "cell_type": "code",
   "execution_count": null,
   "metadata": {
    "executionInfo": {
     "elapsed": 25,
     "status": "ok",
     "timestamp": 1675384965652,
     "user": {
      "displayName": "한기영",
      "userId": "13049187003176135487"
     },
     "user_tz": -540
    },
    "id": "8lIAmfqTgDob"
   },
   "outputs": [],
   "source": [
    "data['Date'] = pd.to_datetime(data['Date'])"
   ]
  },
  {
   "cell_type": "code",
   "execution_count": null,
   "metadata": {
    "colab": {
     "base_uri": "https://localhost:8080/"
    },
    "executionInfo": {
     "elapsed": 24,
     "status": "ok",
     "timestamp": 1675384965652,
     "user": {
      "displayName": "한기영",
      "userId": "13049187003176135487"
     },
     "user_tz": -540
    },
    "id": "lYBs1k_sO5dK",
    "outputId": "784e4dc3-65ed-4ff0-b7cf-73227ffda160"
   },
   "outputs": [],
   "source": [
    "data.info()"
   ]
  },
  {
   "cell_type": "markdown",
   "metadata": {
    "id": "NcdIHygLPJN7"
   },
   "source": [
    "* format = ''\n",
    "    * pd.to_datetime(date, format = '%d/%m/%Y') # format = '%d/%m/%Y' 입력되는 날짜가 이런 형태야~~ 라고 알려주는 옵션\n",
    "    * https://docs.python.org/3/library/datetime.html#strftime-and-strptime-behavior"
   ]
  },
  {
   "cell_type": "code",
   "execution_count": null,
   "metadata": {
    "colab": {
     "base_uri": "https://localhost:8080/"
    },
    "executionInfo": {
     "elapsed": 22,
     "status": "ok",
     "timestamp": 1675384965653,
     "user": {
      "displayName": "한기영",
      "userId": "13049187003176135487"
     },
     "user_tz": -540
    },
    "id": "C12RJi1MTZvE",
    "outputId": "fafba68d-ae3b-4f2a-b900-a290ee0a2fef"
   },
   "outputs": [],
   "source": [
    "# pd.to_datetime(date, format = '%d/%m/%Y') # format = '%d/%m/%Y' 입력되는 날짜가 이런 형태야~~ 라고 알려주는 옵션\n",
    "date = pd.Series(['03-01-2023', '03-02-2023', '03-03-2023'])\n",
    "date = pd.to_datetime(date)\n",
    "date"
   ]
  },
  {
   "cell_type": "code",
   "execution_count": null,
   "metadata": {
    "colab": {
     "base_uri": "https://localhost:8080/"
    },
    "executionInfo": {
     "elapsed": 20,
     "status": "ok",
     "timestamp": 1675384965654,
     "user": {
      "displayName": "한기영",
      "userId": "13049187003176135487"
     },
     "user_tz": -540
    },
    "id": "23lVWX7SYHgs",
    "outputId": "ed065184-5ce5-4c1d-901d-132054dda9db"
   },
   "outputs": [],
   "source": [
    "# 만약 dd-mm-yyyy 이 맞다면!\n",
    "date = pd.Series(['03-01-2023', '03-02-2023', '03-03-2023'])\n",
    "date = pd.to_datetime(date, format = '%d-%m-%Y') #입력받은 날짜 데이터 형식이 '%d-%m-%Y'!\n",
    "date"
   ]
  },
  {
   "cell_type": "markdown",
   "metadata": {
    "id": "iiGI0mnYYjxJ"
   },
   "source": [
    "### **(2) 날짜 요소 추출**"
   ]
  },
  {
   "cell_type": "code",
   "execution_count": null,
   "metadata": {
    "colab": {
     "base_uri": "https://localhost:8080/"
    },
    "executionInfo": {
     "elapsed": 2,
     "status": "ok",
     "timestamp": 1673610468952,
     "user": {
      "displayName": "한기영",
      "userId": "13049187003176135487"
     },
     "user_tz": -540
    },
    "id": "7s8cJOhTTZry",
    "outputId": "d2361460-2f24-4130-e581-06308b4afe17"
   },
   "outputs": [],
   "source": [
    "# 연도\n",
    "date.dt.year"
   ]
  },
  {
   "cell_type": "code",
   "execution_count": null,
   "metadata": {
    "colab": {
     "base_uri": "https://localhost:8080/"
    },
    "executionInfo": {
     "elapsed": 2,
     "status": "ok",
     "timestamp": 1673610469703,
     "user": {
      "displayName": "한기영",
      "userId": "13049187003176135487"
     },
     "user_tz": -540
    },
    "id": "NJ9DXJzIY0ok",
    "outputId": "393dc049-cb51-4688-e11c-ba878cbb1fad"
   },
   "outputs": [],
   "source": [
    "# 월\n",
    "date.dt.month"
   ]
  },
  {
   "cell_type": "code",
   "execution_count": null,
   "metadata": {
    "colab": {
     "base_uri": "https://localhost:8080/"
    },
    "executionInfo": {
     "elapsed": 6,
     "status": "ok",
     "timestamp": 1673610470145,
     "user": {
      "displayName": "한기영",
      "userId": "13049187003176135487"
     },
     "user_tz": -540
    },
    "id": "xaWcDlrBY5zD",
    "outputId": "d0a88467-e3ce-44ef-e8dc-ed59f7e72005"
   },
   "outputs": [],
   "source": [
    "# 일\n",
    "date.dt.day"
   ]
  },
  {
   "cell_type": "code",
   "execution_count": null,
   "metadata": {
    "colab": {
     "base_uri": "https://localhost:8080/"
    },
    "executionInfo": {
     "elapsed": 4,
     "status": "ok",
     "timestamp": 1673610470145,
     "user": {
      "displayName": "한기영",
      "userId": "13049187003176135487"
     },
     "user_tz": -540
    },
    "id": "fsaRAVZLY5v6",
    "outputId": "c5a54d99-9aa7-4f62-b6da-a8b708b33421"
   },
   "outputs": [],
   "source": [
    "# 요일\n",
    "date.dt.weekday"
   ]
  },
  {
   "cell_type": "code",
   "execution_count": null,
   "metadata": {
    "colab": {
     "base_uri": "https://localhost:8080/"
    },
    "executionInfo": {
     "elapsed": 2,
     "status": "ok",
     "timestamp": 1673610470537,
     "user": {
      "displayName": "한기영",
      "userId": "13049187003176135487"
     },
     "user_tz": -540
    },
    "id": "tzZDCCszZBsH",
    "outputId": "56073b06-8a9d-435b-b80d-90763e1a33a9"
   },
   "outputs": [],
   "source": [
    "# 요일 이름\n",
    "date.dt.day_name()"
   ]
  },
  {
   "cell_type": "markdown",
   "metadata": {
    "id": "IPN07KKOcsnI"
   },
   "source": [
    "<img src='https://raw.githubusercontent.com/jangrae/img/master/practice_01.png' width=120 align=\"left\"/>"
   ]
  },
  {
   "cell_type": "markdown",
   "metadata": {
    "id": "trjHhUlLcsnJ"
   },
   "source": [
    "[문1] data의 Date는 이미 날짜 타입으로 변환되어 있습니다.  \n",
    "* 다음의 항목을 열로 추가하시오.\n",
    "    * 요일(이름)\n",
    "    * 주차"
   ]
  },
  {
   "cell_type": "code",
   "execution_count": null,
   "metadata": {
    "colab": {
     "base_uri": "https://localhost:8080/",
     "height": 242
    },
    "executionInfo": {
     "elapsed": 6,
     "status": "ok",
     "timestamp": 1673610471527,
     "user": {
      "displayName": "한기영",
      "userId": "13049187003176135487"
     },
     "user_tz": -540
    },
    "id": "cI4gv9uhZqE9",
    "outputId": "9df8e657-4f97-4400-bacb-898d56f04a01"
   },
   "outputs": [],
   "source": []
  },
  {
   "cell_type": "markdown",
   "metadata": {
    "id": "jdMTalYEHiAi"
   },
   "source": [
    "## **3.시간에 따른 흐름 추가하기**"
   ]
  },
  {
   "cell_type": "markdown",
   "metadata": {
    "id": "-glTu05FaQ-B"
   },
   "source": [
    "### **(1) shift**\n",
    "* 시계열 데이터에서 시간의 흐름 전후로 정보를 이동시킬 때 사용\n",
    "* https://pandas.pydata.org/pandas-docs/stable/reference/api/pandas.DataFrame.shift.html"
   ]
  },
  {
   "cell_type": "code",
   "execution_count": null,
   "metadata": {
    "executionInfo": {
     "elapsed": 3,
     "status": "ok",
     "timestamp": 1675385019114,
     "user": {
      "displayName": "한기영",
      "userId": "13049187003176135487"
     },
     "user_tz": -540
    },
    "id": "6XZbGn8AIMz7"
   },
   "outputs": [],
   "source": [
    "temp = data.loc[:,['Date','Amt']]"
   ]
  },
  {
   "cell_type": "code",
   "execution_count": null,
   "metadata": {
    "colab": {
     "base_uri": "https://localhost:8080/",
     "height": 206
    },
    "executionInfo": {
     "elapsed": 10,
     "status": "ok",
     "timestamp": 1675385020285,
     "user": {
      "displayName": "한기영",
      "userId": "13049187003176135487"
     },
     "user_tz": -540
    },
    "id": "jOVuKQfWJxKD",
    "outputId": "99f3f3ff-b9bc-40f0-8d95-94cf8c47a964",
    "tags": []
   },
   "outputs": [],
   "source": [
    "# 전날 매출액 열을 추가합시다.\n",
    "temp['Amt_lag'] = temp['Amt'].shift() #default = 1\n",
    "\n",
    "# 전전날 매출액 열을 추가.\n",
    "temp['Amt_lag2'] = temp['Amt'].shift(2) # 2행 shift\n",
    "\n",
    "# 다음날 매출액 열을 추가합시다.\n",
    "temp['Amt_lag_1'] = temp['Amt'].shift(-1)\n",
    "\n",
    "temp.head()"
   ]
  },
  {
   "cell_type": "markdown",
   "metadata": {
    "id": "wOBydP6t8t63"
   },
   "source": [
    "### **(2) rolling + 집계함수**\n",
    "* 시간의 흐름에 따라 일정 기간 동안 평균을 이동하면서 구하기\n",
    "* .rolling : https://pandas.pydata.org/docs/reference/api/pandas.DataFrame.rolling.html\n",
    "* rolling(n) : \n",
    "    * n 기본값은 1\n",
    "    * min_periods : 최소 데이터수"
   ]
  },
  {
   "cell_type": "code",
   "execution_count": null,
   "metadata": {
    "colab": {
     "base_uri": "https://localhost:8080/",
     "height": 363
    },
    "executionInfo": {
     "elapsed": 11,
     "status": "ok",
     "timestamp": 1675385023356,
     "user": {
      "displayName": "한기영",
      "userId": "13049187003176135487"
     },
     "user_tz": -540
    },
    "id": "M7x7E-1r8oT_",
    "outputId": "ba3226af-48c4-4512-c4a0-739ae37b58b9"
   },
   "outputs": [],
   "source": [
    "# 7일 이동평균 매출액을 구해 봅시다.\n",
    "temp['Amt_MA7_1'] = temp['Amt'].rolling(7).mean()\n",
    "temp['Amt_MA7_2'] = temp['Amt'].rolling(7, min_periods = 1).mean()\n",
    "temp.head(10)"
   ]
  },
  {
   "cell_type": "markdown",
   "metadata": {
    "id": "Or626b719tT0"
   },
   "source": [
    "### (3) **diff**\n",
    "* 특정 시점 데이터, 이전시점 데이터와의 차이 구하기\n",
    "* .diff : https://pandas.pydata.org/docs/reference/api/pandas.DataFrame.diff.html"
   ]
  },
  {
   "cell_type": "code",
   "execution_count": null,
   "metadata": {
    "colab": {
     "base_uri": "https://localhost:8080/",
     "height": 363
    },
    "executionInfo": {
     "elapsed": 332,
     "status": "ok",
     "timestamp": 1675385026022,
     "user": {
      "displayName": "한기영",
      "userId": "13049187003176135487"
     },
     "user_tz": -540
    },
    "id": "Tvdjy2vz9tT8",
    "outputId": "906ed98d-63d7-485a-9c26-07223a9ad3b1"
   },
   "outputs": [],
   "source": [
    "# 7일 이동평균 매출액을 구해 봅시다.\n",
    "temp['Amt_D1'] = temp['Amt'].diff()\n",
    "temp['Amt_D2'] = temp['Amt'].diff(2)\n",
    "temp.head(10)"
   ]
  },
  {
   "cell_type": "markdown",
   "metadata": {
    "id": "1SBrCK1_-2rD"
   },
   "source": [
    "<img src='https://raw.githubusercontent.com/jangrae/img/master/practice_01.png' width=120 align=\"left\"/>"
   ]
  },
  {
   "cell_type": "markdown",
   "metadata": {
    "id": "hQbxvh6l-2rK"
   },
   "source": [
    "[문1] data의 Grocery가 매출이 가장 높습니다. 이에 대해서 다음의 열을 추가해 봅시다.\n",
    "\n",
    "* 전날 매출액\n",
    "* 7일 전(전주 동 요일) 매출액\n",
    "* 3일 이동평균 매출액\n",
    "* 전날대비 매출액 증감여부 (증가 1, 감소 -1, 동일 0)\n"
   ]
  },
  {
   "cell_type": "code",
   "execution_count": null,
   "metadata": {
    "colab": {
     "base_uri": "https://localhost:8080/",
     "height": 206
    },
    "executionInfo": {
     "elapsed": 343,
     "status": "ok",
     "timestamp": 1673611145360,
     "user": {
      "displayName": "한기영",
      "userId": "13049187003176135487"
     },
     "user_tz": -540
    },
    "id": "_gaadtSV-2rL",
    "outputId": "3bb6b6c1-ae3b-47dd-ecab-130270e9eb01"
   },
   "outputs": [],
   "source": []
  },
  {
   "cell_type": "code",
   "execution_count": null,
   "metadata": {
    "colab": {
     "base_uri": "https://localhost:8080/",
     "height": 363
    },
    "executionInfo": {
     "elapsed": 428,
     "status": "ok",
     "timestamp": 1673611285652,
     "user": {
      "displayName": "한기영",
      "userId": "13049187003176135487"
     },
     "user_tz": -540
    },
    "id": "ZiU1ybVV-OjG",
    "outputId": "a9a83d34-9445-4905-bcab-1e115d7dcfab"
   },
   "outputs": [],
   "source": [
    "# 전날 매출액\n",
    "\n",
    "\n",
    "# 7일 전(전주 동 요일) 매출액\n",
    "\n",
    "\n",
    "# 3일 이동평균 매출액\n",
    "\n",
    "\n",
    "# 전날대비 매출액 증감여부 (증가 1, 감소 -1, 동일 0)\n"
   ]
  },
  {
   "cell_type": "code",
   "execution_count": null,
   "metadata": {
    "id": "eYxtparM-_PR"
   },
   "outputs": [],
   "source": []
  }
 ],
 "metadata": {
  "colab": {
   "provenance": [],
   "toc_visible": true
  },
  "kernelspec": {
   "display_name": "Python 3 (ipykernel)",
   "language": "python",
   "name": "python3"
  },
  "language_info": {
   "codemirror_mode": {
    "name": "ipython",
    "version": 3
   },
   "file_extension": ".py",
   "mimetype": "text/x-python",
   "name": "python",
   "nbconvert_exporter": "python",
   "pygments_lexer": "ipython3",
   "version": "3.9.13"
  }
 },
 "nbformat": 4,
 "nbformat_minor": 4
}
