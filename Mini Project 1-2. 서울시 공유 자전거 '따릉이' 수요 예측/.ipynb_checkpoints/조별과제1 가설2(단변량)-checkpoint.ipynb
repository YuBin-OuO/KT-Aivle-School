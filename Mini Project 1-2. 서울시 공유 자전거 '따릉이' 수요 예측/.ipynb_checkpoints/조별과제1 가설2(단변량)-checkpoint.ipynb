{
 "cells": [
  {
   "cell_type": "markdown",
   "id": "d6a3fec5",
   "metadata": {},
   "source": [
    "# 서울시 공유자전거 '따릉이' 수요 예측 프로젝트\n",
    "## 가설 2. 시간에 따라 대여량에 차이가 있을 것이다. "
   ]
  },
  {
   "cell_type": "markdown",
   "id": "e3fe59cc",
   "metadata": {
    "tags": []
   },
   "source": [
    "#### 1) Feature1 : hour"
   ]
  },
  {
   "cell_type": "code",
   "execution_count": 5,
   "id": "f7377598-154f-4206-8ca8-905e5a36fa05",
   "metadata": {
    "tags": []
   },
   "outputs": [],
   "source": [
    "import pandas as pd\n",
    "import numpy as np\n",
    "import matplotlib.pyplot as plt\n",
    "import seaborn as sns\n",
    "\n",
    "from statsmodels.graphics.mosaicplot import mosaic\n",
    "from scipy import stats as spst\n",
    "import statsmodels.api as sm\n",
    "import joblib\n",
    "\n",
    "# 더 필요한 라이브러리를 아래에 추가합니다."
   ]
  },
  {
   "cell_type": "code",
   "execution_count": 6,
   "id": "cfeb2a5a-26c5-46a3-9c57-a833101b34c9",
   "metadata": {
    "tags": []
   },
   "outputs": [],
   "source": [
    "path = 'C:/Users/User/Mini_Project_1/1-2'"
   ]
  },
  {
   "cell_type": "code",
   "execution_count": 7,
   "id": "9f112b6b-235e-4281-8445-5e4d397694d8",
   "metadata": {
    "tags": []
   },
   "outputs": [],
   "source": [
    "data = pd.read_csv(path+'/sbikedata.csv')"
   ]
  },
  {
   "cell_type": "code",
   "execution_count": 8,
   "id": "93866026-8b3d-4333-bf6b-3dd126d4bd3f",
   "metadata": {},
   "outputs": [
    {
     "data": {
      "text/plain": [
       "0        1\n",
       "1        2\n",
       "2        3\n",
       "3        4\n",
       "4        5\n",
       "        ..\n",
       "5822    20\n",
       "5823    21\n",
       "5824    22\n",
       "5825    23\n",
       "5826     0\n",
       "Name: hour, Length: 5827, dtype: int64"
      ]
     },
     "execution_count": 8,
     "metadata": {},
     "output_type": "execute_result"
    }
   ],
   "source": [
    "data['hour']"
   ]
  },
  {
   "cell_type": "markdown",
   "id": "74305cdf",
   "metadata": {},
   "source": [
    "변수가 내포하고 있는 의미\n",
    "- 시간을 24시로 표현"
   ]
  },
  {
   "cell_type": "markdown",
   "id": "f5598656",
   "metadata": {},
   "source": [
    "변수가 수치형인지 범주형인지\n",
    "- 시간은 범주형? 수치형?\n",
    "    - → 수치형"
   ]
  },
  {
   "cell_type": "markdown",
   "id": "52aeba21",
   "metadata": {},
   "source": [
    "변수의 결측치 존재 여부 및 조치방안"
   ]
  },
  {
   "cell_type": "code",
   "execution_count": 9,
   "id": "b35f59ce",
   "metadata": {},
   "outputs": [
    {
     "data": {
      "text/plain": [
       "hour    0\n",
       "dtype: int64"
      ]
     },
     "execution_count": 9,
     "metadata": {},
     "output_type": "execute_result"
    }
   ],
   "source": [
    "data[['hour']].isnull().sum()"
   ]
  },
  {
   "cell_type": "markdown",
   "id": "2d9760fd",
   "metadata": {},
   "source": [
    "변수의 기초 통계량 확인"
   ]
  },
  {
   "cell_type": "code",
   "execution_count": 10,
   "id": "a749aab7",
   "metadata": {},
   "outputs": [
    {
     "data": {
      "text/html": [
       "<div>\n",
       "<style scoped>\n",
       "    .dataframe tbody tr th:only-of-type {\n",
       "        vertical-align: middle;\n",
       "    }\n",
       "\n",
       "    .dataframe tbody tr th {\n",
       "        vertical-align: top;\n",
       "    }\n",
       "\n",
       "    .dataframe thead th {\n",
       "        text-align: right;\n",
       "    }\n",
       "</style>\n",
       "<table border=\"1\" class=\"dataframe\">\n",
       "  <thead>\n",
       "    <tr style=\"text-align: right;\">\n",
       "      <th></th>\n",
       "      <th>hour</th>\n",
       "    </tr>\n",
       "  </thead>\n",
       "  <tbody>\n",
       "    <tr>\n",
       "      <th>count</th>\n",
       "      <td>5827.000000</td>\n",
       "    </tr>\n",
       "    <tr>\n",
       "      <th>mean</th>\n",
       "      <td>11.506607</td>\n",
       "    </tr>\n",
       "    <tr>\n",
       "      <th>std</th>\n",
       "      <td>6.921963</td>\n",
       "    </tr>\n",
       "    <tr>\n",
       "      <th>min</th>\n",
       "      <td>0.000000</td>\n",
       "    </tr>\n",
       "    <tr>\n",
       "      <th>25%</th>\n",
       "      <td>6.000000</td>\n",
       "    </tr>\n",
       "    <tr>\n",
       "      <th>50%</th>\n",
       "      <td>12.000000</td>\n",
       "    </tr>\n",
       "    <tr>\n",
       "      <th>75%</th>\n",
       "      <td>18.000000</td>\n",
       "    </tr>\n",
       "    <tr>\n",
       "      <th>max</th>\n",
       "      <td>23.000000</td>\n",
       "    </tr>\n",
       "  </tbody>\n",
       "</table>\n",
       "</div>"
      ],
      "text/plain": [
       "              hour\n",
       "count  5827.000000\n",
       "mean     11.506607\n",
       "std       6.921963\n",
       "min       0.000000\n",
       "25%       6.000000\n",
       "50%      12.000000\n",
       "75%      18.000000\n",
       "max      23.000000"
      ]
     },
     "execution_count": 10,
     "metadata": {},
     "output_type": "execute_result"
    }
   ],
   "source": [
    "data[['hour']].describe()"
   ]
  },
  {
   "cell_type": "code",
   "execution_count": 11,
   "id": "946dfc50-d885-4ad2-8c17-c7ea05161bdc",
   "metadata": {
    "tags": []
   },
   "outputs": [
    {
     "data": {
      "text/plain": [
       "hour\n",
       "0       243\n",
       "1       243\n",
       "22      243\n",
       "21      243\n",
       "20      243\n",
       "19      243\n",
       "18      243\n",
       "17      243\n",
       "16      243\n",
       "15      243\n",
       "14      243\n",
       "13      243\n",
       "12      243\n",
       "11      243\n",
       "10      243\n",
       "9       243\n",
       "8       243\n",
       "7       243\n",
       "5       243\n",
       "23      243\n",
       "6       242\n",
       "3       242\n",
       "2       242\n",
       "4       241\n",
       "Name: count, dtype: int64"
      ]
     },
     "execution_count": 11,
     "metadata": {},
     "output_type": "execute_result"
    }
   ],
   "source": [
    "data[['hour']].sort_values(by='hour').value_counts()"
   ]
  },
  {
   "cell_type": "markdown",
   "id": "4eb1b708",
   "metadata": {},
   "source": [
    "변수의 분포 확인\n",
    "* kdeplot 활용"
   ]
  },
  {
   "cell_type": "code",
   "execution_count": 12,
   "id": "ad5e55cb",
   "metadata": {},
   "outputs": [
    {
     "data": {
      "image/png": "[encoded data removed]",
      "text/plain": [
       "<Figure size 640x480 with 1 Axes>"
      ]
     },
     "metadata": {},
     "output_type": "display_data"
    }
   ],
   "source": [
    "#sns.kdeplot(data['hour'])\n",
    "sns.histplot(data['hour'], bins=24)\n",
    "plt.show()"
   ]
  },
  {
   "cell_type": "code",
   "execution_count": 13,
   "id": "cde9c0ac-1e24-4fda-8641-77f5867ac4e3",
   "metadata": {
    "tags": []
   },
   "outputs": [
    {
     "data": {
      "image/png": "[encoded data removed]",
      "text/plain": [
       "<Figure size 640x480 with 1 Axes>"
      ]
     },
     "metadata": {},
     "output_type": "display_data"
    }
   ],
   "source": [
    "sns.boxplot(x=data['hour'])\n",
    "plt.grid()\n",
    "plt.show()"
   ]
  },
  {
   "cell_type": "markdown",
   "id": "314284e2",
   "metadata": {
    "tags": []
   },
   "source": [
    "위 정보로 부터 파악한 내용 정리\n",
    "- 데이터의 '시간' 열은 5827개 row로 구성되어있으며 결측치는 없음\n",
    "- value_counts()로 빈도수를 살펴본 결과 모든 시간대에 대해 골고루 따릉이 대여 데이터가 있음을 알 수 있음!\n"
   ]
  }
 ],
 "metadata": {
  "colab": {
   "name": "1. 데이터 불러오기 및 분석(EDA).ipynb",
   "provenance": []
  },
  "kernelspec": {
   "display_name": "Python 3 (ipykernel)",
   "language": "python",
   "name": "python3"
  },
  "language_info": {
   "codemirror_mode": {
    "name": "ipython",
    "version": 3
   },
   "file_extension": ".py",
   "mimetype": "text/x-python",
   "name": "python",
   "nbconvert_exporter": "python",
   "pygments_lexer": "ipython3",
   "version": "3.11.5"
  },
  "vscode": {
   "interpreter": {
    "hash": "cf92aa13fedf815d5c8dd192b8d835913fde3e8bc926b2a0ad6cc74ef2ba3ca2"
   }
  }
 },
 "nbformat": 4,
 "nbformat_minor": 5
}
