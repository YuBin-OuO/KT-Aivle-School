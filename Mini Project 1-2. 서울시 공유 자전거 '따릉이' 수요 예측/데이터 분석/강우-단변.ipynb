{
 "cells": [
  {
   "cell_type": "code",
   "execution_count": 1,
   "id": "3b930e21",
   "metadata": {},
   "outputs": [],
   "source": [
    "import pandas as pd\n",
    "import numpy as np\n",
    "import matplotlib.pyplot as plt\n",
    "import seaborn as sns\n",
    "\n",
    "from statsmodels.graphics.mosaicplot import mosaic\n",
    "from scipy import stats as spst\n",
    "import statsmodels.api as sm\n",
    "import joblib"
   ]
  },
  {
   "cell_type": "code",
   "execution_count": 2,
   "id": "ecc7025d",
   "metadata": {},
   "outputs": [],
   "source": [
    "df = pd.read_csv('sbikedata.csv')"
   ]
  },
  {
   "cell_type": "markdown",
   "id": "54514c59",
   "metadata": {},
   "source": [
    "## 단변량분석"
   ]
  },
  {
   "cell_type": "markdown",
   "id": "860f7db1",
   "metadata": {},
   "source": [
    "### 강우 여부의 기초통계량 확인"
   ]
  },
  {
   "cell_type": "code",
   "execution_count": 3,
   "id": "b9490ec9",
   "metadata": {},
   "outputs": [
    {
     "data": {
      "text/html": [
       "<div>\n",
       "<style scoped>\n",
       "    .dataframe tbody tr th:only-of-type {\n",
       "        vertical-align: middle;\n",
       "    }\n",
       "\n",
       "    .dataframe tbody tr th {\n",
       "        vertical-align: top;\n",
       "    }\n",
       "\n",
       "    .dataframe thead th {\n",
       "        text-align: right;\n",
       "    }\n",
       "</style>\n",
       "<table border=\"1\" class=\"dataframe\">\n",
       "  <thead>\n",
       "    <tr style=\"text-align: right;\">\n",
       "      <th></th>\n",
       "      <th>count</th>\n",
       "      <th>ratio</th>\n",
       "    </tr>\n",
       "    <tr>\n",
       "      <th>precipitation</th>\n",
       "      <th></th>\n",
       "      <th></th>\n",
       "    </tr>\n",
       "  </thead>\n",
       "  <tbody>\n",
       "    <tr>\n",
       "      <th>0</th>\n",
       "      <td>5387</td>\n",
       "      <td>0.924489</td>\n",
       "    </tr>\n",
       "    <tr>\n",
       "      <th>1</th>\n",
       "      <td>440</td>\n",
       "      <td>0.075511</td>\n",
       "    </tr>\n",
       "    <tr>\n",
       "      <th>total</th>\n",
       "      <td>5827</td>\n",
       "      <td>1.000000</td>\n",
       "    </tr>\n",
       "  </tbody>\n",
       "</table>\n",
       "</div>"
      ],
      "text/plain": [
       "               count     ratio\n",
       "precipitation                 \n",
       "0               5387  0.924489\n",
       "1                440  0.075511\n",
       "total           5827  1.000000"
      ]
     },
     "execution_count": 3,
     "metadata": {},
     "output_type": "execute_result"
    }
   ],
   "source": [
    "t1 = df['precipitation'].value_counts()\n",
    "t2 = df['precipitation'].value_counts(normalize=True)\n",
    "t3 = pd.concat([t1, t2], axis=1)\n",
    "t3.columns = ['count', 'ratio']\n",
    "\n",
    "t3.loc['total'] = {'count': t3['count'].sum(), 'ratio': t3['ratio'].sum()}\n",
    "\n",
    "t3"
   ]
  },
  {
   "cell_type": "markdown",
   "id": "1ed2a1f1",
   "metadata": {},
   "source": [
    "### 강우 여부의 분포 확인"
   ]
  },
  {
   "cell_type": "code",
   "execution_count": 4,
   "id": "da45ed27",
   "metadata": {},
   "outputs": [
    {
     "data": {
      "text/plain": [
       "<Axes: xlabel='precipitation', ylabel='count'>"
      ]
     },
     "execution_count": 4,
     "metadata": {},
     "output_type": "execute_result"
    },
    {
     "data": {
      "image/png": "[encoded data removed]",
      "text/plain": [
       "<Figure size 640x480 with 1 Axes>"
      ]
     },
     "metadata": {},
     "output_type": "display_data"
    }
   ],
   "source": [
    "sns.countplot(x='precipitation', data=df)"
   ]
  },
  {
   "cell_type": "markdown",
   "id": "6d4427eb",
   "metadata": {},
   "source": [
    "1시간 전 강우 여부는 0(비가 안옴)이 0.93%로 훨씬 많다"
   ]
  }
 ],
 "metadata": {
  "kernelspec": {
   "display_name": "Python 3 (ipykernel)",
   "language": "python",
   "name": "python3"
  },
  "language_info": {
   "codemirror_mode": {
    "name": "ipython",
    "version": 3
   },
   "file_extension": ".py",
   "mimetype": "text/x-python",
   "name": "python",
   "nbconvert_exporter": "python",
   "pygments_lexer": "ipython3",
   "version": "3.11.5"
  }
 },
 "nbformat": 4,
 "nbformat_minor": 5
}
