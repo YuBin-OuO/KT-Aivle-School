{
 "cells": [
  {
   "cell_type": "markdown",
   "id": "de21bfa8",
   "metadata": {},
   "source": [
    "## **AIVLE School 미니프로젝트 5기 AI트랙 2차** ##\n",
    "## **공공데이터를 활용한 <span style=\"color:skyblue\">미세먼지 농도</span> 예측**\n",
    "---\n",
    "## [step 1,2] 데이터 분석 및 전처리"
   ]
  },
  {
   "cell_type": "markdown",
   "id": "994d710f",
   "metadata": {},
   "source": [
    "## **0.프로젝트 소개**\n",
    "\n",
    "### (1) 수행 목표\n",
    "- 미세먼지 농도를 예측하는 머신러닝 모델을 만드세요."
   ]
  },
  {
   "cell_type": "markdown",
   "id": "7fa5e70e",
   "metadata": {},
   "source": [
    "#### 우리가 풀어야 하는 문제는 무엇인가요?\n",
    "* 서울 지역의 미세먼지 데이터와 날씨 데이터를 활용하여, 미세먼지 예측에 관련 있는 데이터 항목으로 데이터를 구성, 전처리 하여 미세먼지 농도를 예측하는 머신러닝 모델 구현"
   ]
  },
  {
   "cell_type": "markdown",
   "id": "1d40fb86",
   "metadata": {},
   "source": [
    "### (2) 데이터 소개\n",
    "\n",
    "#### 1) 기본 데이터\n",
    "\n",
    "* 학습 데이터\n",
    "    * air_2022.csv : 2022년 미세먼지 데이터\n",
    "    * weather_2022.csv : 2022년 날씨 데이터\n",
    "* 테스트 데이터\n",
    "    * air_2023.csv : 2023년 미세먼지 데이터\n",
    "    * weather_2023.csv : 2023년 날씨 데이터\n",
    "\n",
    "#### 2) 데이터셋의 변수 소개(weather_2022,2023)\n",
    "\n",
    "* 증기압: 증기가 고체 또는 액체와 동적 평형 상태에 있을 때 증기의 압력 (증기가 되려는 힘)\n",
    "* 이슬점 온도: 불포화 상태의 공기가 냉각될 때, 포화 상태에 도달하여 수증기의 응결이 시작되는 온도\n",
    "* 일조: 일정한 물체나 땅의 겉면에 태양 광선이 비치는 시간 (1시간 중 비율)\n",
    "* 일사(량): 태양으로부터 오는 태양 복사 에너지가 지표에 닿는 양 (면적당 에너지 량)\n",
    "* 전운량: 하늘을 육안으로 관측하여 전부 구름일 때 10, 구름이 덮고 있는 하늘의 비율에 따라 0~10\n",
    "* 중하층운량: 중층과 하층에 있는 구름의 분포량(중하층 구름이 날씨에 영향 주므로 따로 표기)\n",
    "* 운형(운형약어): 구름의 종류. 약어 코드로 기재됨\n",
    "* 최저운고: 가장 낮은 구름의 높이\n",
    "* 현상번호(국내식): 비, 소낙비, 싸락눈, 눈보라 등의 기상현상을 나타낸 코드번호\n",
    "* 지면온도: 지면 0cm 온도\n",
    "* 지중온도: 땅 속 온도변수1"
   ]
  },
  {
   "cell_type": "markdown",
   "id": "f16a803d",
   "metadata": {},
   "source": [
    "## **1.환경설정**"
   ]
  },
  {
   "cell_type": "markdown",
   "id": "c7bf984b",
   "metadata": {},
   "source": [
    "* 세부 요구사항\n",
    "    - 경로 설정 : 다음의 두가지 방법 중 하나를 선택하여 폴더를 준비하고 데이터를 로딩하시오.\n",
    "        * 1) 로컬 수행(Ananconda)\n",
    "            * 제공된 압축파일을 다운받아 압축을 풀고\n",
    "            * anaconda의 root directory(보통 C:/Users/< ID > 에 project 폴더를 만들고, 복사해 넣습니다.)\n",
    "        * 2) 구글 코랩\n",
    "            * 구글 드라이브 바로 밑에 project 폴더를 만들고, \n",
    "            * 데이터 파일을 복사해 넣습니다.\n",
    "            \n",
    "    - 기본적으로 필요한 라이브러리를 import 하도록 코드가 작성되어 있습니다. \n",
    "        * 필요하다고 판단되는 라이브러리를 추가하세요."
   ]
  },
  {
   "cell_type": "markdown",
   "id": "84c19f48",
   "metadata": {},
   "source": [
    "### (1) 경로 설정\n",
    "* 로컬환경 또는 구글 코랩 중 하나를 사용하시면 됩니다."
   ]
  },
  {
   "cell_type": "markdown",
   "id": "e78c8004",
   "metadata": {},
   "source": [
    "#### 1) 로컬 수행(Anaconda)\n",
    "* project 폴더에 필요한 파일들을 넣고, 본 파일을 열었다면, 별도 경로 지정이 필요하지 않습니다."
   ]
  },
  {
   "cell_type": "code",
   "execution_count": 1,
   "id": "d8859e96",
   "metadata": {},
   "outputs": [],
   "source": [
    "path = 'C:/Users/User/project/'"
   ]
  },
  {
   "cell_type": "markdown",
   "id": "c193cedf",
   "metadata": {},
   "source": [
    "#### 2) 구글 코랩 수행"
   ]
  },
  {
   "cell_type": "markdown",
   "id": "04050c09",
   "metadata": {},
   "source": [
    "* 구글 드라이브 연결"
   ]
  },
  {
   "cell_type": "code",
   "execution_count": 2,
   "id": "3f68ae36",
   "metadata": {},
   "outputs": [],
   "source": [
    "# from google.colab import drive\n",
    "# drive.mount('/content/drive')"
   ]
  },
  {
   "cell_type": "code",
   "execution_count": 3,
   "id": "580b552e",
   "metadata": {},
   "outputs": [],
   "source": [
    "# path = '/content/drive/MyDrive/project/'"
   ]
  },
  {
   "cell_type": "markdown",
   "id": "6389e527",
   "metadata": {},
   "source": [
    "### (2) 라이브러리 설치 및 불러오기"
   ]
  },
  {
   "cell_type": "markdown",
   "id": "8c33f039",
   "metadata": {},
   "source": [
    "#### 1) 라이브러리 설치 및 로딩"
   ]
  },
  {
   "cell_type": "code",
   "execution_count": 4,
   "id": "2211da40",
   "metadata": {},
   "outputs": [],
   "source": [
    "# 필요한 라이브러리 설치 및 불러오기\n",
    "\n",
    "import pandas as pd\n",
    "import numpy as np\n",
    "import matplotlib.pyplot as plt\n",
    "import seaborn as sns\n",
    "import datetime\n",
    "\n",
    "from statsmodels.graphics.mosaicplot import mosaic\n",
    "from scipy import stats as spst\n",
    "import statsmodels.api as sm\n",
    "import joblib\n",
    "\n",
    "# 더 필요한 라이브러리를 아래에 추가합니다.\n",
    "\n"
   ]
  },
  {
   "cell_type": "code",
   "execution_count": 5,
   "id": "5c1704c8",
   "metadata": {},
   "outputs": [],
   "source": [
    "# 시각화 한글폰트 설정을 위해 아래 코드를 실행하세요.\n",
    "plt.rc('font', family='Malgun Gothic')\n",
    "sns.set(font=\"Malgun Gothic\",#\"NanumGothicCoding\", \n",
    "        rc={\"axes.unicode_minus\":False}, # 마이너스 부호 깨짐 현상 해결\n",
    "        style='darkgrid')"
   ]
  },
  {
   "cell_type": "markdown",
   "id": "5f957970",
   "metadata": {},
   "source": [
    "### (3) 데이터 불러오기\n",
    "* Pandas 라이브러리를 활용해서 'air_2022.csv'파일을 'air_22' 변수에,'air_2023.csv'파일을 'air_23' 변수에 저장하고 그 데이터를 확인하세요.\n",
    "<br> ( 구분자(sep) : ',' / encoder = 'utf-8' / index_col = 0 )\n",
    "\n",
    "* Pandas 라이브러리를 활용해서 'weather_2022.csv'파일을 'weather_22' 변수에,'weather_2023.csv'파일을 'weather_23' 변수에 저장하고 그 데이터를 확인하세요.\n",
    "<br> ( 구분자(sep) : ',' / encoder = 'cp949' )"
   ]
  },
  {
   "cell_type": "markdown",
   "id": "2e32e75c",
   "metadata": {},
   "source": [
    "#### 1) 데이터로딩"
   ]
  },
  {
   "cell_type": "code",
   "execution_count": 6,
   "id": "b6a824e4",
   "metadata": {},
   "outputs": [],
   "source": [
    "# 아래에 실습코드를 작성하고 결과를 확인합니다.\n",
    "# 데이터 로딩\n",
    "\n",
    "air_22 = pd.read_csv(path +\"air_2022.csv\", sep=',', index_col = 0, encoding = 'utf-8' )\n",
    "air_23 = pd.read_csv(path +\"air_2023.csv\", sep=',', index_col = 0, encoding = 'utf-8' )\n",
    "weather_22 = pd.read_csv(path +\"weather_2022.csv\", sep = ',', encoding='cp949')\n",
    "weather_23 = pd.read_csv(path + \"weather_2023.csv\", sep = ',', encoding='cp949')"
   ]
  },
  {
   "cell_type": "markdown",
   "id": "bb06f1cb",
   "metadata": {},
   "source": [
    "#### 2) 기본 정보 조회\n",
    "- 데이터를 head, tail. describe, info 등을 활용하여 확인하세요."
   ]
  },
  {
   "cell_type": "code",
   "execution_count": 7,
   "id": "06464273",
   "metadata": {},
   "outputs": [
    {
     "data": {
      "text/html": [
       "<div>\n",
       "<style scoped>\n",
       "    .dataframe tbody tr th:only-of-type {\n",
       "        vertical-align: middle;\n",
       "    }\n",
       "\n",
       "    .dataframe tbody tr th {\n",
       "        vertical-align: top;\n",
       "    }\n",
       "\n",
       "    .dataframe thead th {\n",
       "        text-align: right;\n",
       "    }\n",
       "</style>\n",
       "<table border=\"1\" class=\"dataframe\">\n",
       "  <thead>\n",
       "    <tr style=\"text-align: right;\">\n",
       "      <th></th>\n",
       "      <th>지역</th>\n",
       "      <th>망</th>\n",
       "      <th>측정소코드</th>\n",
       "      <th>측정소명</th>\n",
       "      <th>측정일시</th>\n",
       "      <th>SO2</th>\n",
       "      <th>CO</th>\n",
       "      <th>O3</th>\n",
       "      <th>NO2</th>\n",
       "      <th>PM10</th>\n",
       "      <th>PM25</th>\n",
       "      <th>주소</th>\n",
       "    </tr>\n",
       "  </thead>\n",
       "  <tbody>\n",
       "    <tr>\n",
       "      <th>0</th>\n",
       "      <td>서울 종로구</td>\n",
       "      <td>도시대기</td>\n",
       "      <td>111123</td>\n",
       "      <td>종로구</td>\n",
       "      <td>2022010101</td>\n",
       "      <td>0.003</td>\n",
       "      <td>0.4</td>\n",
       "      <td>0.026</td>\n",
       "      <td>0.016</td>\n",
       "      <td>23.0</td>\n",
       "      <td>12.0</td>\n",
       "      <td>서울 종로구 종로35가길 19</td>\n",
       "    </tr>\n",
       "    <tr>\n",
       "      <th>1</th>\n",
       "      <td>서울 종로구</td>\n",
       "      <td>도시대기</td>\n",
       "      <td>111123</td>\n",
       "      <td>종로구</td>\n",
       "      <td>2022010102</td>\n",
       "      <td>0.003</td>\n",
       "      <td>0.4</td>\n",
       "      <td>0.022</td>\n",
       "      <td>0.020</td>\n",
       "      <td>20.0</td>\n",
       "      <td>9.0</td>\n",
       "      <td>서울 종로구 종로35가길 19</td>\n",
       "    </tr>\n",
       "    <tr>\n",
       "      <th>2</th>\n",
       "      <td>서울 종로구</td>\n",
       "      <td>도시대기</td>\n",
       "      <td>111123</td>\n",
       "      <td>종로구</td>\n",
       "      <td>2022010103</td>\n",
       "      <td>0.003</td>\n",
       "      <td>0.5</td>\n",
       "      <td>0.014</td>\n",
       "      <td>0.028</td>\n",
       "      <td>20.0</td>\n",
       "      <td>9.0</td>\n",
       "      <td>서울 종로구 종로35가길 19</td>\n",
       "    </tr>\n",
       "    <tr>\n",
       "      <th>3</th>\n",
       "      <td>서울 종로구</td>\n",
       "      <td>도시대기</td>\n",
       "      <td>111123</td>\n",
       "      <td>종로구</td>\n",
       "      <td>2022010104</td>\n",
       "      <td>0.003</td>\n",
       "      <td>0.5</td>\n",
       "      <td>0.016</td>\n",
       "      <td>0.027</td>\n",
       "      <td>19.0</td>\n",
       "      <td>10.0</td>\n",
       "      <td>서울 종로구 종로35가길 19</td>\n",
       "    </tr>\n",
       "    <tr>\n",
       "      <th>4</th>\n",
       "      <td>서울 종로구</td>\n",
       "      <td>도시대기</td>\n",
       "      <td>111123</td>\n",
       "      <td>종로구</td>\n",
       "      <td>2022010105</td>\n",
       "      <td>0.003</td>\n",
       "      <td>0.5</td>\n",
       "      <td>0.005</td>\n",
       "      <td>0.040</td>\n",
       "      <td>24.0</td>\n",
       "      <td>11.0</td>\n",
       "      <td>서울 종로구 종로35가길 19</td>\n",
       "    </tr>\n",
       "  </tbody>\n",
       "</table>\n",
       "</div>"
      ],
      "text/plain": [
       "       지역     망   측정소코드 측정소명        측정일시    SO2   CO     O3    NO2  PM10  \\\n",
       "0  서울 종로구  도시대기  111123  종로구  2022010101  0.003  0.4  0.026  0.016  23.0   \n",
       "1  서울 종로구  도시대기  111123  종로구  2022010102  0.003  0.4  0.022  0.020  20.0   \n",
       "2  서울 종로구  도시대기  111123  종로구  2022010103  0.003  0.5  0.014  0.028  20.0   \n",
       "3  서울 종로구  도시대기  111123  종로구  2022010104  0.003  0.5  0.016  0.027  19.0   \n",
       "4  서울 종로구  도시대기  111123  종로구  2022010105  0.003  0.5  0.005  0.040  24.0   \n",
       "\n",
       "   PM25                주소  \n",
       "0  12.0  서울 종로구 종로35가길 19  \n",
       "1   9.0  서울 종로구 종로35가길 19  \n",
       "2   9.0  서울 종로구 종로35가길 19  \n",
       "3  10.0  서울 종로구 종로35가길 19  \n",
       "4  11.0  서울 종로구 종로35가길 19  "
      ]
     },
     "execution_count": 7,
     "metadata": {},
     "output_type": "execute_result"
    }
   ],
   "source": [
    "# 아래에 실습코드를 작성하고 결과를 확인합니다.\n",
    "air_22.head()\n"
   ]
  },
  {
   "cell_type": "code",
   "execution_count": 8,
   "id": "b383d687",
   "metadata": {},
   "outputs": [
    {
     "data": {
      "text/html": [
       "<div>\n",
       "<style scoped>\n",
       "    .dataframe tbody tr th:only-of-type {\n",
       "        vertical-align: middle;\n",
       "    }\n",
       "\n",
       "    .dataframe tbody tr th {\n",
       "        vertical-align: top;\n",
       "    }\n",
       "\n",
       "    .dataframe thead th {\n",
       "        text-align: right;\n",
       "    }\n",
       "</style>\n",
       "<table border=\"1\" class=\"dataframe\">\n",
       "  <thead>\n",
       "    <tr style=\"text-align: right;\">\n",
       "      <th></th>\n",
       "      <th>지역</th>\n",
       "      <th>망</th>\n",
       "      <th>측정소코드</th>\n",
       "      <th>측정소명</th>\n",
       "      <th>측정일시</th>\n",
       "      <th>SO2</th>\n",
       "      <th>CO</th>\n",
       "      <th>O3</th>\n",
       "      <th>NO2</th>\n",
       "      <th>PM10</th>\n",
       "      <th>PM25</th>\n",
       "      <th>주소</th>\n",
       "    </tr>\n",
       "  </thead>\n",
       "  <tbody>\n",
       "    <tr>\n",
       "      <th>8755</th>\n",
       "      <td>서울 종로구</td>\n",
       "      <td>도시대기</td>\n",
       "      <td>111123</td>\n",
       "      <td>종로구</td>\n",
       "      <td>2022123120</td>\n",
       "      <td>0.004</td>\n",
       "      <td>1.5</td>\n",
       "      <td>0.002</td>\n",
       "      <td>0.070</td>\n",
       "      <td>71.0</td>\n",
       "      <td>59.0</td>\n",
       "      <td>서울 종로구 종로35가길 19</td>\n",
       "    </tr>\n",
       "    <tr>\n",
       "      <th>8756</th>\n",
       "      <td>서울 종로구</td>\n",
       "      <td>도시대기</td>\n",
       "      <td>111123</td>\n",
       "      <td>종로구</td>\n",
       "      <td>2022123121</td>\n",
       "      <td>0.005</td>\n",
       "      <td>1.6</td>\n",
       "      <td>0.002</td>\n",
       "      <td>0.070</td>\n",
       "      <td>76.0</td>\n",
       "      <td>62.0</td>\n",
       "      <td>서울 종로구 종로35가길 19</td>\n",
       "    </tr>\n",
       "    <tr>\n",
       "      <th>8757</th>\n",
       "      <td>서울 종로구</td>\n",
       "      <td>도시대기</td>\n",
       "      <td>111123</td>\n",
       "      <td>종로구</td>\n",
       "      <td>2022123122</td>\n",
       "      <td>0.004</td>\n",
       "      <td>1.7</td>\n",
       "      <td>0.002</td>\n",
       "      <td>0.072</td>\n",
       "      <td>76.0</td>\n",
       "      <td>66.0</td>\n",
       "      <td>서울 종로구 종로35가길 19</td>\n",
       "    </tr>\n",
       "    <tr>\n",
       "      <th>8758</th>\n",
       "      <td>서울 종로구</td>\n",
       "      <td>도시대기</td>\n",
       "      <td>111123</td>\n",
       "      <td>종로구</td>\n",
       "      <td>2022123123</td>\n",
       "      <td>0.005</td>\n",
       "      <td>1.8</td>\n",
       "      <td>0.002</td>\n",
       "      <td>0.072</td>\n",
       "      <td>77.0</td>\n",
       "      <td>67.0</td>\n",
       "      <td>서울 종로구 종로35가길 19</td>\n",
       "    </tr>\n",
       "    <tr>\n",
       "      <th>8759</th>\n",
       "      <td>서울 종로구</td>\n",
       "      <td>도시대기</td>\n",
       "      <td>111123</td>\n",
       "      <td>종로구</td>\n",
       "      <td>2022123124</td>\n",
       "      <td>0.004</td>\n",
       "      <td>1.6</td>\n",
       "      <td>0.002</td>\n",
       "      <td>0.070</td>\n",
       "      <td>76.0</td>\n",
       "      <td>67.0</td>\n",
       "      <td>서울 종로구 종로35가길 19</td>\n",
       "    </tr>\n",
       "  </tbody>\n",
       "</table>\n",
       "</div>"
      ],
      "text/plain": [
       "          지역     망   측정소코드 측정소명        측정일시    SO2   CO     O3    NO2  PM10  \\\n",
       "8755  서울 종로구  도시대기  111123  종로구  2022123120  0.004  1.5  0.002  0.070  71.0   \n",
       "8756  서울 종로구  도시대기  111123  종로구  2022123121  0.005  1.6  0.002  0.070  76.0   \n",
       "8757  서울 종로구  도시대기  111123  종로구  2022123122  0.004  1.7  0.002  0.072  76.0   \n",
       "8758  서울 종로구  도시대기  111123  종로구  2022123123  0.005  1.8  0.002  0.072  77.0   \n",
       "8759  서울 종로구  도시대기  111123  종로구  2022123124  0.004  1.6  0.002  0.070  76.0   \n",
       "\n",
       "      PM25                주소  \n",
       "8755  59.0  서울 종로구 종로35가길 19  \n",
       "8756  62.0  서울 종로구 종로35가길 19  \n",
       "8757  66.0  서울 종로구 종로35가길 19  \n",
       "8758  67.0  서울 종로구 종로35가길 19  \n",
       "8759  67.0  서울 종로구 종로35가길 19  "
      ]
     },
     "execution_count": 8,
     "metadata": {},
     "output_type": "execute_result"
    }
   ],
   "source": [
    "# 아래에 실습코드를 작성하고 결과를 확인합니다.\n",
    "air_22.tail()"
   ]
  },
  {
   "cell_type": "code",
   "execution_count": 9,
   "id": "6e5d2bf2",
   "metadata": {},
   "outputs": [
    {
     "data": {
      "text/html": [
       "<div>\n",
       "<style scoped>\n",
       "    .dataframe tbody tr th:only-of-type {\n",
       "        vertical-align: middle;\n",
       "    }\n",
       "\n",
       "    .dataframe tbody tr th {\n",
       "        vertical-align: top;\n",
       "    }\n",
       "\n",
       "    .dataframe thead th {\n",
       "        text-align: right;\n",
       "    }\n",
       "</style>\n",
       "<table border=\"1\" class=\"dataframe\">\n",
       "  <thead>\n",
       "    <tr style=\"text-align: right;\">\n",
       "      <th></th>\n",
       "      <th>지점</th>\n",
       "      <th>지점명</th>\n",
       "      <th>일시</th>\n",
       "      <th>기온(°C)</th>\n",
       "      <th>기온 QC플래그</th>\n",
       "      <th>강수량(mm)</th>\n",
       "      <th>강수량 QC플래그</th>\n",
       "      <th>풍속(m/s)</th>\n",
       "      <th>풍속 QC플래그</th>\n",
       "      <th>풍향(16방위)</th>\n",
       "      <th>...</th>\n",
       "      <th>최저운고(100m )</th>\n",
       "      <th>시정(10m)</th>\n",
       "      <th>지면상태(지면상태코드)</th>\n",
       "      <th>현상번호(국내식)</th>\n",
       "      <th>지면온도(°C)</th>\n",
       "      <th>지면온도 QC플래그</th>\n",
       "      <th>5cm 지중온도(°C)</th>\n",
       "      <th>10cm 지중온도(°C)</th>\n",
       "      <th>20cm 지중온도(°C)</th>\n",
       "      <th>30cm 지중온도(°C)</th>\n",
       "    </tr>\n",
       "  </thead>\n",
       "  <tbody>\n",
       "    <tr>\n",
       "      <th>8755</th>\n",
       "      <td>108</td>\n",
       "      <td>서울</td>\n",
       "      <td>2022-12-31 19:00</td>\n",
       "      <td>-0.2</td>\n",
       "      <td>NaN</td>\n",
       "      <td>NaN</td>\n",
       "      <td>9.0</td>\n",
       "      <td>1.8</td>\n",
       "      <td>NaN</td>\n",
       "      <td>20</td>\n",
       "      <td>...</td>\n",
       "      <td>NaN</td>\n",
       "      <td>1211</td>\n",
       "      <td>NaN</td>\n",
       "      <td>NaN</td>\n",
       "      <td>-0.9</td>\n",
       "      <td>NaN</td>\n",
       "      <td>-0.1</td>\n",
       "      <td>-0.5</td>\n",
       "      <td>-0.5</td>\n",
       "      <td>0.6</td>\n",
       "    </tr>\n",
       "    <tr>\n",
       "      <th>8756</th>\n",
       "      <td>108</td>\n",
       "      <td>서울</td>\n",
       "      <td>2022-12-31 20:00</td>\n",
       "      <td>-0.8</td>\n",
       "      <td>NaN</td>\n",
       "      <td>NaN</td>\n",
       "      <td>9.0</td>\n",
       "      <td>1.4</td>\n",
       "      <td>NaN</td>\n",
       "      <td>20</td>\n",
       "      <td>...</td>\n",
       "      <td>14.0</td>\n",
       "      <td>1171</td>\n",
       "      <td>NaN</td>\n",
       "      <td>NaN</td>\n",
       "      <td>-1.8</td>\n",
       "      <td>NaN</td>\n",
       "      <td>-0.1</td>\n",
       "      <td>-0.5</td>\n",
       "      <td>-0.5</td>\n",
       "      <td>0.6</td>\n",
       "    </tr>\n",
       "    <tr>\n",
       "      <th>8757</th>\n",
       "      <td>108</td>\n",
       "      <td>서울</td>\n",
       "      <td>2022-12-31 21:00</td>\n",
       "      <td>-1.0</td>\n",
       "      <td>NaN</td>\n",
       "      <td>NaN</td>\n",
       "      <td>9.0</td>\n",
       "      <td>0.9</td>\n",
       "      <td>NaN</td>\n",
       "      <td>340</td>\n",
       "      <td>...</td>\n",
       "      <td>13.0</td>\n",
       "      <td>1134</td>\n",
       "      <td>NaN</td>\n",
       "      <td>NaN</td>\n",
       "      <td>-2.8</td>\n",
       "      <td>NaN</td>\n",
       "      <td>-0.2</td>\n",
       "      <td>-0.5</td>\n",
       "      <td>-0.5</td>\n",
       "      <td>0.6</td>\n",
       "    </tr>\n",
       "    <tr>\n",
       "      <th>8758</th>\n",
       "      <td>108</td>\n",
       "      <td>서울</td>\n",
       "      <td>2022-12-31 22:00</td>\n",
       "      <td>-0.8</td>\n",
       "      <td>NaN</td>\n",
       "      <td>NaN</td>\n",
       "      <td>9.0</td>\n",
       "      <td>0.5</td>\n",
       "      <td>NaN</td>\n",
       "      <td>290</td>\n",
       "      <td>...</td>\n",
       "      <td>13.0</td>\n",
       "      <td>1094</td>\n",
       "      <td>NaN</td>\n",
       "      <td>NaN</td>\n",
       "      <td>-2.2</td>\n",
       "      <td>NaN</td>\n",
       "      <td>-0.3</td>\n",
       "      <td>-0.5</td>\n",
       "      <td>-0.5</td>\n",
       "      <td>0.6</td>\n",
       "    </tr>\n",
       "    <tr>\n",
       "      <th>8759</th>\n",
       "      <td>108</td>\n",
       "      <td>서울</td>\n",
       "      <td>2022-12-31 23:00</td>\n",
       "      <td>-0.2</td>\n",
       "      <td>NaN</td>\n",
       "      <td>NaN</td>\n",
       "      <td>9.0</td>\n",
       "      <td>1.3</td>\n",
       "      <td>NaN</td>\n",
       "      <td>230</td>\n",
       "      <td>...</td>\n",
       "      <td>14.0</td>\n",
       "      <td>1314</td>\n",
       "      <td>NaN</td>\n",
       "      <td>NaN</td>\n",
       "      <td>-2.1</td>\n",
       "      <td>NaN</td>\n",
       "      <td>-0.3</td>\n",
       "      <td>-0.5</td>\n",
       "      <td>-0.5</td>\n",
       "      <td>0.6</td>\n",
       "    </tr>\n",
       "  </tbody>\n",
       "</table>\n",
       "<p>5 rows × 38 columns</p>\n",
       "</div>"
      ],
      "text/plain": [
       "       지점 지점명                일시  기온(°C)  기온 QC플래그  강수량(mm)  강수량 QC플래그  \\\n",
       "8755  108  서울  2022-12-31 19:00    -0.2       NaN      NaN        9.0   \n",
       "8756  108  서울  2022-12-31 20:00    -0.8       NaN      NaN        9.0   \n",
       "8757  108  서울  2022-12-31 21:00    -1.0       NaN      NaN        9.0   \n",
       "8758  108  서울  2022-12-31 22:00    -0.8       NaN      NaN        9.0   \n",
       "8759  108  서울  2022-12-31 23:00    -0.2       NaN      NaN        9.0   \n",
       "\n",
       "      풍속(m/s)  풍속 QC플래그  풍향(16방위)  ...  최저운고(100m )  시정(10m)  지면상태(지면상태코드)  \\\n",
       "8755      1.8       NaN        20  ...          NaN     1211           NaN   \n",
       "8756      1.4       NaN        20  ...         14.0     1171           NaN   \n",
       "8757      0.9       NaN       340  ...         13.0     1134           NaN   \n",
       "8758      0.5       NaN       290  ...         13.0     1094           NaN   \n",
       "8759      1.3       NaN       230  ...         14.0     1314           NaN   \n",
       "\n",
       "      현상번호(국내식)  지면온도(°C)  지면온도 QC플래그  5cm 지중온도(°C)  10cm 지중온도(°C)  \\\n",
       "8755        NaN      -0.9         NaN          -0.1           -0.5   \n",
       "8756        NaN      -1.8         NaN          -0.1           -0.5   \n",
       "8757        NaN      -2.8         NaN          -0.2           -0.5   \n",
       "8758        NaN      -2.2         NaN          -0.3           -0.5   \n",
       "8759        NaN      -2.1         NaN          -0.3           -0.5   \n",
       "\n",
       "      20cm 지중온도(°C)  30cm 지중온도(°C)  \n",
       "8755           -0.5            0.6  \n",
       "8756           -0.5            0.6  \n",
       "8757           -0.5            0.6  \n",
       "8758           -0.5            0.6  \n",
       "8759           -0.5            0.6  \n",
       "\n",
       "[5 rows x 38 columns]"
      ]
     },
     "execution_count": 9,
     "metadata": {},
     "output_type": "execute_result"
    }
   ],
   "source": [
    "# 아래에 실습코드를 작성하고 결과를 확인합니다.\n",
    "weather_22.tail()"
   ]
  },
  {
   "cell_type": "code",
   "execution_count": 10,
   "id": "c67bb853",
   "metadata": {},
   "outputs": [
    {
     "data": {
      "text/html": [
       "<div>\n",
       "<style scoped>\n",
       "    .dataframe tbody tr th:only-of-type {\n",
       "        vertical-align: middle;\n",
       "    }\n",
       "\n",
       "    .dataframe tbody tr th {\n",
       "        vertical-align: top;\n",
       "    }\n",
       "\n",
       "    .dataframe thead th {\n",
       "        text-align: right;\n",
       "    }\n",
       "</style>\n",
       "<table border=\"1\" class=\"dataframe\">\n",
       "  <thead>\n",
       "    <tr style=\"text-align: right;\">\n",
       "      <th></th>\n",
       "      <th>측정소코드</th>\n",
       "      <th>측정일시</th>\n",
       "      <th>SO2</th>\n",
       "      <th>CO</th>\n",
       "      <th>O3</th>\n",
       "      <th>NO2</th>\n",
       "      <th>PM10</th>\n",
       "      <th>PM25</th>\n",
       "    </tr>\n",
       "  </thead>\n",
       "  <tbody>\n",
       "    <tr>\n",
       "      <th>count</th>\n",
       "      <td>8760.0</td>\n",
       "      <td>8.760000e+03</td>\n",
       "      <td>8673.000000</td>\n",
       "      <td>8673.000000</td>\n",
       "      <td>8673.000000</td>\n",
       "      <td>8673.000000</td>\n",
       "      <td>8604.000000</td>\n",
       "      <td>8655.000000</td>\n",
       "    </tr>\n",
       "    <tr>\n",
       "      <th>mean</th>\n",
       "      <td>111123.0</td>\n",
       "      <td>2.022067e+09</td>\n",
       "      <td>0.003133</td>\n",
       "      <td>0.473458</td>\n",
       "      <td>0.030759</td>\n",
       "      <td>0.021319</td>\n",
       "      <td>31.756044</td>\n",
       "      <td>19.284575</td>\n",
       "    </tr>\n",
       "    <tr>\n",
       "      <th>std</th>\n",
       "      <td>0.0</td>\n",
       "      <td>3.450216e+04</td>\n",
       "      <td>0.000700</td>\n",
       "      <td>0.183086</td>\n",
       "      <td>0.019796</td>\n",
       "      <td>0.013473</td>\n",
       "      <td>22.466954</td>\n",
       "      <td>14.172678</td>\n",
       "    </tr>\n",
       "    <tr>\n",
       "      <th>min</th>\n",
       "      <td>111123.0</td>\n",
       "      <td>2.022010e+09</td>\n",
       "      <td>0.001000</td>\n",
       "      <td>0.200000</td>\n",
       "      <td>0.001000</td>\n",
       "      <td>0.003000</td>\n",
       "      <td>3.000000</td>\n",
       "      <td>1.000000</td>\n",
       "    </tr>\n",
       "    <tr>\n",
       "      <th>25%</th>\n",
       "      <td>111123.0</td>\n",
       "      <td>2.022040e+09</td>\n",
       "      <td>0.003000</td>\n",
       "      <td>0.400000</td>\n",
       "      <td>0.017000</td>\n",
       "      <td>0.011000</td>\n",
       "      <td>19.000000</td>\n",
       "      <td>10.000000</td>\n",
       "    </tr>\n",
       "    <tr>\n",
       "      <th>50%</th>\n",
       "      <td>111123.0</td>\n",
       "      <td>2.022070e+09</td>\n",
       "      <td>0.003000</td>\n",
       "      <td>0.400000</td>\n",
       "      <td>0.029000</td>\n",
       "      <td>0.017000</td>\n",
       "      <td>28.000000</td>\n",
       "      <td>16.000000</td>\n",
       "    </tr>\n",
       "    <tr>\n",
       "      <th>75%</th>\n",
       "      <td>111123.0</td>\n",
       "      <td>2.022100e+09</td>\n",
       "      <td>0.003000</td>\n",
       "      <td>0.500000</td>\n",
       "      <td>0.042000</td>\n",
       "      <td>0.028000</td>\n",
       "      <td>40.000000</td>\n",
       "      <td>25.000000</td>\n",
       "    </tr>\n",
       "    <tr>\n",
       "      <th>max</th>\n",
       "      <td>111123.0</td>\n",
       "      <td>2.022123e+09</td>\n",
       "      <td>0.008000</td>\n",
       "      <td>1.800000</td>\n",
       "      <td>0.144000</td>\n",
       "      <td>0.074000</td>\n",
       "      <td>385.000000</td>\n",
       "      <td>121.000000</td>\n",
       "    </tr>\n",
       "  </tbody>\n",
       "</table>\n",
       "</div>"
      ],
      "text/plain": [
       "          측정소코드          측정일시          SO2           CO           O3  \\\n",
       "count    8760.0  8.760000e+03  8673.000000  8673.000000  8673.000000   \n",
       "mean   111123.0  2.022067e+09     0.003133     0.473458     0.030759   \n",
       "std         0.0  3.450216e+04     0.000700     0.183086     0.019796   \n",
       "min    111123.0  2.022010e+09     0.001000     0.200000     0.001000   \n",
       "25%    111123.0  2.022040e+09     0.003000     0.400000     0.017000   \n",
       "50%    111123.0  2.022070e+09     0.003000     0.400000     0.029000   \n",
       "75%    111123.0  2.022100e+09     0.003000     0.500000     0.042000   \n",
       "max    111123.0  2.022123e+09     0.008000     1.800000     0.144000   \n",
       "\n",
       "               NO2         PM10         PM25  \n",
       "count  8673.000000  8604.000000  8655.000000  \n",
       "mean      0.021319    31.756044    19.284575  \n",
       "std       0.013473    22.466954    14.172678  \n",
       "min       0.003000     3.000000     1.000000  \n",
       "25%       0.011000    19.000000    10.000000  \n",
       "50%       0.017000    28.000000    16.000000  \n",
       "75%       0.028000    40.000000    25.000000  \n",
       "max       0.074000   385.000000   121.000000  "
      ]
     },
     "execution_count": 10,
     "metadata": {},
     "output_type": "execute_result"
    }
   ],
   "source": [
    "# 아래에 실습코드를 작성하고 결과를 확인합니다.\n",
    "air_22.describe()"
   ]
  },
  {
   "cell_type": "code",
   "execution_count": 11,
   "id": "776c0b9d",
   "metadata": {},
   "outputs": [
    {
     "name": "stdout",
     "output_type": "stream",
     "text": [
      "<class 'pandas.core.frame.DataFrame'>\n",
      "Index: 8760 entries, 0 to 8759\n",
      "Data columns (total 12 columns):\n",
      " #   Column  Non-Null Count  Dtype  \n",
      "---  ------  --------------  -----  \n",
      " 0   지역      8760 non-null   object \n",
      " 1   망       8760 non-null   object \n",
      " 2   측정소코드   8760 non-null   int64  \n",
      " 3   측정소명    8760 non-null   object \n",
      " 4   측정일시    8760 non-null   int64  \n",
      " 5   SO2     8673 non-null   float64\n",
      " 6   CO      8673 non-null   float64\n",
      " 7   O3      8673 non-null   float64\n",
      " 8   NO2     8673 non-null   float64\n",
      " 9   PM10    8604 non-null   float64\n",
      " 10  PM25    8655 non-null   float64\n",
      " 11  주소      8760 non-null   object \n",
      "dtypes: float64(6), int64(2), object(4)\n",
      "memory usage: 889.7+ KB\n"
     ]
    }
   ],
   "source": [
    "# 아래에 실습코드를 작성하고 결과를 확인합니다.\n",
    "air_22.info()"
   ]
  },
  {
   "cell_type": "markdown",
   "id": "3d860d6b",
   "metadata": {},
   "source": [
    "## **2.EDA 1단계 - 데이터 기본 탐색 및 분석**\n",
    "\n",
    "* 단변량 분석은 데이터분석의 매우 기초적인 분석기법으로, 독립적인 개별 변수가 가지고있는 특성들을 이해하는 과정입니다.\n",
    "\n",
    "    * <span style=\"color: green\"> 개별 변수에 대해 아래 사항들을 분석해보세요. </span>\n",
    "\n",
    "        1. 변수가 내포하고 있는 의미\n",
    "        2. 변수가 수치형인지, 범주형인지\n",
    "        3. 결측치 존재 여부 및 조치 방안\n",
    "        4. 기초 통계량 확인\n",
    "        5. 데이터 분포 확인\n",
    "        6. 위 정보로부터 파악한 내용 정리\n",
    "        7. 추가 분석사항 도출"
   ]
  },
  {
   "cell_type": "markdown",
   "id": "a7f8c42f",
   "metadata": {},
   "source": [
    "### (1) 변수별 단변량 분석\n",
    "- 4 ~ 5개 변수를 뽑아 확인해보세요 "
   ]
  },
  {
   "cell_type": "markdown",
   "id": "883c8d2d",
   "metadata": {},
   "source": [
    "#### 1) Feature1 : 측정일시"
   ]
  },
  {
   "cell_type": "code",
   "execution_count": 12,
   "id": "9a9bd5b0",
   "metadata": {},
   "outputs": [],
   "source": [
    "var = '측정일시'\n",
    "temp = air_22[var]"
   ]
  },
  {
   "cell_type": "markdown",
   "id": "ef6422db",
   "metadata": {},
   "source": [
    "변수가 내포하고 있는 의미\n",
    "- 미세먼지 데이터 측정 일시, 시간 단위"
   ]
  },
  {
   "cell_type": "markdown",
   "id": "a1dd9478",
   "metadata": {},
   "source": [
    "변수가 수치형인지 범주형인지\n",
    "- 날짜는 범주형? 수치형?"
   ]
  },
  {
   "cell_type": "code",
   "execution_count": 13,
   "id": "71c2eb29",
   "metadata": {},
   "outputs": [
    {
     "data": {
      "text/plain": [
       "array([2022010101, 2022010102, 2022010103, ..., 2022123122, 2022123123,\n",
       "       2022123124], dtype=int64)"
      ]
     },
     "execution_count": 13,
     "metadata": {},
     "output_type": "execute_result"
    }
   ],
   "source": [
    "temp.unique()"
   ]
  },
  {
   "cell_type": "markdown",
   "id": "e19390d9",
   "metadata": {},
   "source": [
    "변수의 결측치 존재 여부 및 조치 방안"
   ]
  },
  {
   "cell_type": "code",
   "execution_count": 14,
   "id": "6719a121",
   "metadata": {},
   "outputs": [
    {
     "data": {
      "text/plain": [
       "<bound method Series.info of 0       2022010101\n",
       "1       2022010102\n",
       "2       2022010103\n",
       "3       2022010104\n",
       "4       2022010105\n",
       "           ...    \n",
       "8755    2022123120\n",
       "8756    2022123121\n",
       "8757    2022123122\n",
       "8758    2022123123\n",
       "8759    2022123124\n",
       "Name: 측정일시, Length: 8760, dtype: int64>"
      ]
     },
     "execution_count": 14,
     "metadata": {},
     "output_type": "execute_result"
    }
   ],
   "source": [
    "temp.info"
   ]
  },
  {
   "cell_type": "code",
   "execution_count": 15,
   "id": "ba8ccde5",
   "metadata": {},
   "outputs": [
    {
     "data": {
      "text/plain": [
       "0"
      ]
     },
     "execution_count": 15,
     "metadata": {},
     "output_type": "execute_result"
    }
   ],
   "source": [
    "temp.isnull().sum()"
   ]
  },
  {
   "cell_type": "markdown",
   "id": "c4298881",
   "metadata": {},
   "source": [
    "변수의 기초 통계량 확인"
   ]
  },
  {
   "cell_type": "code",
   "execution_count": 16,
   "id": "05f34abb",
   "metadata": {},
   "outputs": [
    {
     "data": {
      "text/plain": [
       "count    8.760000e+03\n",
       "mean     2.022067e+09\n",
       "std      3.450216e+04\n",
       "min      2.022010e+09\n",
       "25%      2.022040e+09\n",
       "50%      2.022070e+09\n",
       "75%      2.022100e+09\n",
       "max      2.022123e+09\n",
       "Name: 측정일시, dtype: float64"
      ]
     },
     "execution_count": 16,
     "metadata": {},
     "output_type": "execute_result"
    }
   ],
   "source": [
    "temp.describe()"
   ]
  },
  {
   "cell_type": "markdown",
   "id": "efa6eebc",
   "metadata": {},
   "source": [
    "변수의 분포 확인"
   ]
  },
  {
   "cell_type": "code",
   "execution_count": 17,
   "id": "0bdc6ae9",
   "metadata": {},
   "outputs": [
    {
     "data": {
      "image/png": "[encoded data removed]",
      "text/plain": [
       "<Figure size 640x480 with 1 Axes>"
      ]
     },
     "metadata": {},
     "output_type": "display_data"
    }
   ],
   "source": [
    "sns.kdeplot(temp)\n",
    "plt.show()"
   ]
  },
  {
   "cell_type": "markdown",
   "id": "956b9620",
   "metadata": {},
   "source": [
    "위 정보로 부터 파악한 내용 정리\n",
    "- 데이터의 '측정일시' 열은 8760개 row로 구성되어있으며 결측치는 없음"
   ]
  },
  {
   "cell_type": "markdown",
   "id": "6d36770d",
   "metadata": {},
   "source": [
    "#### 2) Feature2 : SO2"
   ]
  },
  {
   "cell_type": "markdown",
   "id": "f9f40948",
   "metadata": {},
   "source": [
    "변수가 내포하고 있는 의미\n",
    "- 이산화황 농도\n"
   ]
  },
  {
   "cell_type": "code",
   "execution_count": 18,
   "id": "a97b976a",
   "metadata": {},
   "outputs": [
    {
     "data": {
      "text/plain": [
       "0    0.003\n",
       "1    0.003\n",
       "2    0.003\n",
       "3    0.003\n",
       "4    0.003\n",
       "Name: SO2, dtype: float64"
      ]
     },
     "execution_count": 18,
     "metadata": {},
     "output_type": "execute_result"
    }
   ],
   "source": [
    "var = 'SO2'\n",
    "temp = air_22[var]\n",
    "temp.head()"
   ]
  },
  {
   "cell_type": "markdown",
   "id": "8fec6897",
   "metadata": {},
   "source": [
    "변수가 수치형인지 범주형인지\n",
    "- 농도 데이터는 수치형? 범주형?"
   ]
  },
  {
   "cell_type": "markdown",
   "id": "66d996a2",
   "metadata": {},
   "source": [
    "변수의 결측치 존재 여부 및 조치방안"
   ]
  },
  {
   "cell_type": "code",
   "execution_count": 19,
   "id": "d39d059f",
   "metadata": {},
   "outputs": [
    {
     "data": {
      "text/plain": [
       "87"
      ]
     },
     "execution_count": 19,
     "metadata": {},
     "output_type": "execute_result"
    }
   ],
   "source": [
    "temp.isnull().sum()"
   ]
  },
  {
   "cell_type": "markdown",
   "id": "600a5766",
   "metadata": {},
   "source": [
    "결측치 87건 존재"
   ]
  },
  {
   "cell_type": "markdown",
   "id": "fcbcdb7c",
   "metadata": {},
   "source": [
    "변수의 기초 통계량 확인"
   ]
  },
  {
   "cell_type": "code",
   "execution_count": 20,
   "id": "00125c08",
   "metadata": {},
   "outputs": [
    {
     "data": {
      "text/plain": [
       "count    8673.000000\n",
       "mean        0.003133\n",
       "std         0.000700\n",
       "min         0.001000\n",
       "25%         0.003000\n",
       "50%         0.003000\n",
       "75%         0.003000\n",
       "max         0.008000\n",
       "Name: SO2, dtype: float64"
      ]
     },
     "execution_count": 20,
     "metadata": {},
     "output_type": "execute_result"
    }
   ],
   "source": [
    "temp.describe()"
   ]
  },
  {
   "cell_type": "markdown",
   "id": "53073eab",
   "metadata": {},
   "source": [
    "변수의 분포 확인"
   ]
  },
  {
   "cell_type": "code",
   "execution_count": 21,
   "id": "f61b6264",
   "metadata": {},
   "outputs": [
    {
     "data": {
      "image/png": "[encoded data removed]",
      "text/plain": [
       "<Figure size 640x480 with 1 Axes>"
      ]
     },
     "metadata": {},
     "output_type": "display_data"
    }
   ],
   "source": [
    "sns.kdeplot(temp)\n",
    "plt.show()"
   ]
  },
  {
   "cell_type": "markdown",
   "id": "d563c584",
   "metadata": {},
   "source": [
    "위 정보로 부터 파악한 내용 정리\n",
    "- 주어진 데이터셋의 이산화황 농도는 0.001 부터 0.008까지 분포 한다\n"
   ]
  },
  {
   "cell_type": "markdown",
   "id": "688e6a95",
   "metadata": {},
   "source": [
    "#### 3) Feature3 : CO"
   ]
  },
  {
   "cell_type": "markdown",
   "id": "daac9478",
   "metadata": {},
   "source": [
    "변수가 내포하고 있는 의미\n",
    "- 일산화탄소 농도\n"
   ]
  },
  {
   "cell_type": "code",
   "execution_count": 22,
   "id": "72061b12",
   "metadata": {},
   "outputs": [
    {
     "data": {
      "text/plain": [
       "0    0.4\n",
       "1    0.4\n",
       "2    0.5\n",
       "3    0.5\n",
       "4    0.5\n",
       "Name: CO, dtype: float64"
      ]
     },
     "execution_count": 22,
     "metadata": {},
     "output_type": "execute_result"
    }
   ],
   "source": [
    "var = 'CO'\n",
    "temp = air_22[var]\n",
    "temp.head()"
   ]
  },
  {
   "cell_type": "markdown",
   "id": "d4c28826",
   "metadata": {},
   "source": [
    "변수가 수치형인지 범주형인지\n",
    "- 농도 데이터는 수치형? 범주형?"
   ]
  },
  {
   "cell_type": "markdown",
   "id": "2826262e",
   "metadata": {},
   "source": [
    "변수의 결측치 존재 여부 및 조치방안"
   ]
  },
  {
   "cell_type": "code",
   "execution_count": 23,
   "id": "c8f39fdb",
   "metadata": {},
   "outputs": [
    {
     "data": {
      "text/plain": [
       "87"
      ]
     },
     "execution_count": 23,
     "metadata": {},
     "output_type": "execute_result"
    }
   ],
   "source": [
    "temp.isnull().sum()"
   ]
  },
  {
   "cell_type": "markdown",
   "id": "e102010c",
   "metadata": {},
   "source": [
    "결측치 87건 존재"
   ]
  },
  {
   "cell_type": "markdown",
   "id": "e919b8db",
   "metadata": {},
   "source": [
    "변수의 기초 통계량 확인"
   ]
  },
  {
   "cell_type": "code",
   "execution_count": 24,
   "id": "a4379a1c",
   "metadata": {},
   "outputs": [
    {
     "data": {
      "text/plain": [
       "count    8673.000000\n",
       "mean        0.473458\n",
       "std         0.183086\n",
       "min         0.200000\n",
       "25%         0.400000\n",
       "50%         0.400000\n",
       "75%         0.500000\n",
       "max         1.800000\n",
       "Name: CO, dtype: float64"
      ]
     },
     "execution_count": 24,
     "metadata": {},
     "output_type": "execute_result"
    }
   ],
   "source": [
    "temp.describe()"
   ]
  },
  {
   "cell_type": "markdown",
   "id": "e9a012cf",
   "metadata": {},
   "source": [
    "변수의 분포 확인"
   ]
  },
  {
   "cell_type": "code",
   "execution_count": 25,
   "id": "db6d404f",
   "metadata": {},
   "outputs": [
    {
     "data": {
      "image/png": "[encoded data removed]",
      "text/plain": [
       "<Figure size 640x480 with 1 Axes>"
      ]
     },
     "metadata": {},
     "output_type": "display_data"
    }
   ],
   "source": [
    "sns.kdeplot(temp)\n",
    "plt.show()"
   ]
  },
  {
   "cell_type": "markdown",
   "id": "17a956c3",
   "metadata": {},
   "source": [
    "위 정보로 부터 파악한 내용 정리\n",
    "- 주어진 데이터셋의 일산화탄소 농도는 0.2 부터 1.8까지 분포 한다\n"
   ]
  },
  {
   "cell_type": "markdown",
   "id": "c460c4a5",
   "metadata": {},
   "source": [
    "#### 4) Feature4 : PM10"
   ]
  },
  {
   "cell_type": "markdown",
   "id": "fe3d3186",
   "metadata": {},
   "source": [
    "변수가 내포하고 있는 의미\n",
    "- 미세먼지 농도"
   ]
  },
  {
   "cell_type": "code",
   "execution_count": 26,
   "id": "54f84939",
   "metadata": {},
   "outputs": [
    {
     "data": {
      "text/plain": [
       "0    23.0\n",
       "1    20.0\n",
       "2    20.0\n",
       "3    19.0\n",
       "4    24.0\n",
       "Name: PM10, dtype: float64"
      ]
     },
     "execution_count": 26,
     "metadata": {},
     "output_type": "execute_result"
    }
   ],
   "source": [
    "var = 'PM10'\n",
    "temp = air_22[var]\n",
    "temp.head()"
   ]
  },
  {
   "cell_type": "markdown",
   "id": "d4c69c44",
   "metadata": {},
   "source": [
    "변수가 수치형인지 범주형인지\n",
    "- 수치형"
   ]
  },
  {
   "cell_type": "code",
   "execution_count": 27,
   "id": "048ec60e",
   "metadata": {},
   "outputs": [
    {
     "data": {
      "text/plain": [
       "array([ 23.,  20.,  19.,  24.,  27.,  26.,  22.,  28.,  29.,  36.,  34.,\n",
       "        35.,  38.,  41.,  42.,  33.,  32.,  56.,  58.,  55.,  43.,  31.,\n",
       "        25.,  18.,  21.,  37.,  nan,  30.,  40.,  44.,  47.,  46.,  39.,\n",
       "        45.,  48.,  63.,  64.,  61.,  57.,  52.,  50.,  49.,  53.,  51.,\n",
       "        54.,  62.,  60.,  67.,  90., 101., 106., 111., 120., 128., 139.,\n",
       "       140., 133., 134., 138., 122., 123., 110., 112.,  97.,  88.,  84.,\n",
       "        82.,  87.,  98.,  94., 100., 107., 103., 124.,  68.,  86.,  93.,\n",
       "        15.,  72.,  81.,  75.,  17.,  66.,  70.,  74.,  80.,  79.,  83.,\n",
       "        65.,  13.,  11.,  12.,  14.,  73.,  69.,  16.,  71.,  59., 102.,\n",
       "        92.,  95.,  85.,  91.,  99., 105., 118., 115., 108.,  96.,  89.,\n",
       "       150., 158., 135., 182., 239., 188., 121.,  78.,  76.,  77.,   3.,\n",
       "         5.,   7.,  10.,   8.,   9.,   6.,   4., 129., 125., 153., 179.,\n",
       "       206., 214., 209., 187., 163., 157., 146., 155., 161., 151., 148.,\n",
       "       132., 147., 184., 285., 305., 267., 241., 292., 363., 385., 344.,\n",
       "       329., 298., 259., 142.])"
      ]
     },
     "execution_count": 27,
     "metadata": {},
     "output_type": "execute_result"
    }
   ],
   "source": [
    "temp.unique()"
   ]
  },
  {
   "cell_type": "markdown",
   "id": "b10c5ea7",
   "metadata": {},
   "source": [
    "변수의 결측치 존재 여부 및 조치방안"
   ]
  },
  {
   "cell_type": "code",
   "execution_count": 28,
   "id": "b0448e78",
   "metadata": {},
   "outputs": [
    {
     "data": {
      "text/plain": [
       "156"
      ]
     },
     "execution_count": 28,
     "metadata": {},
     "output_type": "execute_result"
    }
   ],
   "source": [
    "temp.isnull().sum()"
   ]
  },
  {
   "cell_type": "markdown",
   "id": "b85ec63e",
   "metadata": {},
   "source": [
    "결측치 156건 존재 -> 어떻게 채울 것인지??"
   ]
  },
  {
   "cell_type": "markdown",
   "id": "220aa279",
   "metadata": {},
   "source": [
    "변수의 기초 통계량 확인"
   ]
  },
  {
   "cell_type": "code",
   "execution_count": 29,
   "id": "92e4ea40",
   "metadata": {},
   "outputs": [
    {
     "data": {
      "text/plain": [
       "count    8604.000000\n",
       "mean       31.756044\n",
       "std        22.466954\n",
       "min         3.000000\n",
       "25%        19.000000\n",
       "50%        28.000000\n",
       "75%        40.000000\n",
       "max       385.000000\n",
       "Name: PM10, dtype: float64"
      ]
     },
     "execution_count": 29,
     "metadata": {},
     "output_type": "execute_result"
    }
   ],
   "source": [
    "temp.describe()"
   ]
  },
  {
   "cell_type": "markdown",
   "id": "ae1ab9df",
   "metadata": {},
   "source": [
    "변수의 분포 확인"
   ]
  },
  {
   "cell_type": "code",
   "execution_count": 30,
   "id": "5eac4f55",
   "metadata": {},
   "outputs": [
    {
     "data": {
      "image/png": "[encoded data removed]",
      "text/plain": [
       "<Figure size 640x480 with 1 Axes>"
      ]
     },
     "metadata": {},
     "output_type": "display_data"
    }
   ],
   "source": [
    "sns.kdeplot(temp)\n",
    "plt.show()"
   ]
  },
  {
   "cell_type": "markdown",
   "id": "4808e410",
   "metadata": {},
   "source": [
    "위 정보로 부터 파악한 내용 정리\n",
    "- 데이터셋 내부에서는 대부분 미세먼지 값이 200이하에 분포한다.\n",
    "- 미세먼지 값의 최대값과 최소값을 알 수 있음 "
   ]
  },
  {
   "cell_type": "markdown",
   "id": "9b5f235d",
   "metadata": {},
   "source": [
    "#### 5) Feature5 : PM25\n"
   ]
  },
  {
   "cell_type": "markdown",
   "id": "d6e280a7",
   "metadata": {},
   "source": [
    "변수가 내포하고 있는 의미\n",
    "- 초미세먼지 농도"
   ]
  },
  {
   "cell_type": "code",
   "execution_count": 31,
   "id": "f843ca97",
   "metadata": {},
   "outputs": [
    {
     "data": {
      "text/plain": [
       "0    12.0\n",
       "1     9.0\n",
       "2     9.0\n",
       "3    10.0\n",
       "4    11.0\n",
       "Name: PM25, dtype: float64"
      ]
     },
     "execution_count": 31,
     "metadata": {},
     "output_type": "execute_result"
    }
   ],
   "source": [
    "var = 'PM25'\n",
    "temp = air_22[var]\n",
    "temp.head()"
   ]
  },
  {
   "cell_type": "markdown",
   "id": "7a16ccdd",
   "metadata": {},
   "source": [
    "변수가 수치형인지 범주형인지\n",
    "- 수치형"
   ]
  },
  {
   "cell_type": "code",
   "execution_count": 32,
   "id": "5f67f776",
   "metadata": {},
   "outputs": [
    {
     "data": {
      "text/plain": [
       "array([ 12.,   9.,  10.,  11.,  14.,  16.,  17.,  15.,  18.,  20.,  21.,\n",
       "        22.,  19.,  23.,  29.,  26.,  24.,  25.,  30.,  45.,  46.,  43.,\n",
       "        33.,  27.,  13.,  nan,  28.,  32.,  31.,  36.,  34.,  37.,  35.,\n",
       "        47.,  51.,  40.,  38.,  39.,  41.,  42.,  48.,  49.,  50.,  44.,\n",
       "        72.,  84.,  88.,  91.,  98., 104., 113., 120., 121., 109., 115.,\n",
       "       111., 119., 106., 107.,  99.,  97.,  78.,  76.,  77.,  74.,  79.,\n",
       "        81.,  85.,  80.,  87.,  83.,  89.,  86.,  92.,  93.,  96.,  75.,\n",
       "        54.,  71.,   8.,  55.,  63.,  62.,  52.,  61.,  59.,  57.,  58.,\n",
       "        60.,  65.,  68.,   6.,  53.,  56.,  64.,  69.,  73.,  95.,  94.,\n",
       "       103.,  70.,  66.,   7.,   2.,   1.,   4.,   5.,   3.,  67.,  82.])"
      ]
     },
     "execution_count": 32,
     "metadata": {},
     "output_type": "execute_result"
    }
   ],
   "source": [
    "temp.unique()"
   ]
  },
  {
   "cell_type": "markdown",
   "id": "68f05253",
   "metadata": {},
   "source": [
    "변수의 결측치 존재 여부 및 조치방안"
   ]
  },
  {
   "cell_type": "code",
   "execution_count": 33,
   "id": "e37ff621",
   "metadata": {},
   "outputs": [
    {
     "data": {
      "text/plain": [
       "105"
      ]
     },
     "execution_count": 33,
     "metadata": {},
     "output_type": "execute_result"
    }
   ],
   "source": [
    "temp.isnull().sum()"
   ]
  },
  {
   "cell_type": "markdown",
   "id": "37a8baf6",
   "metadata": {},
   "source": [
    "결측치 105건 존재  "
   ]
  },
  {
   "cell_type": "markdown",
   "id": "99f7faa7",
   "metadata": {},
   "source": [
    "변수의 기초 통계량 확인"
   ]
  },
  {
   "cell_type": "code",
   "execution_count": 34,
   "id": "670a6069",
   "metadata": {},
   "outputs": [
    {
     "data": {
      "text/plain": [
       "count    8655.000000\n",
       "mean       19.284575\n",
       "std        14.172678\n",
       "min         1.000000\n",
       "25%        10.000000\n",
       "50%        16.000000\n",
       "75%        25.000000\n",
       "max       121.000000\n",
       "Name: PM25, dtype: float64"
      ]
     },
     "execution_count": 34,
     "metadata": {},
     "output_type": "execute_result"
    }
   ],
   "source": [
    "temp.describe()"
   ]
  },
  {
   "cell_type": "markdown",
   "id": "32ff0831",
   "metadata": {},
   "source": [
    "변수의 분포 확인"
   ]
  },
  {
   "cell_type": "code",
   "execution_count": 35,
   "id": "a21a4322",
   "metadata": {},
   "outputs": [
    {
     "data": {
      "image/png": "[encoded data removed]",
      "text/plain": [
       "<Figure size 640x480 with 1 Axes>"
      ]
     },
     "metadata": {},
     "output_type": "display_data"
    }
   ],
   "source": [
    "sns.kdeplot(temp)\n",
    "plt.show()"
   ]
  },
  {
   "cell_type": "markdown",
   "id": "e3f1e839",
   "metadata": {},
   "source": [
    "위 정보로 부터 파악한 내용 정리"
   ]
  },
  {
   "cell_type": "markdown",
   "id": "35efcfd9",
   "metadata": {},
   "source": []
  },
  {
   "cell_type": "markdown",
   "id": "a17b3d11-215a-4de6-804f-74d792f1d8ac",
   "metadata": {},
   "source": [
    "## **3.EDA 2단계 - 데이터 전처리**\n",
    "- 진행한 개별 변수 분석에 맞추어 데이터를 전처리 하겠습니다."
   ]
  },
  {
   "cell_type": "markdown",
   "id": "480d374b",
   "metadata": {},
   "source": [
    "### (1) air_22, air_23, weather_22, weather_23 데이터 전처리\n",
    "* air_22, air_23  각각 '측정일시'를 활용하여 'time'변수 생성\n",
    "    * 참고: 미세먼지 데이터는 1시-24시, 날씨 데이터는 0시-23시로 구성되어 있습니다. [2-3]에서 미세먼지와 날씨 데이터를 time 기준으로 합치려면 기준이 동일해야 합니다. 미세먼지 데이터에서 time 변수 생성 시 이를 미리 고려(예: air_22['측정일시'] -1)하세요.\n",
    "* time 변수를 pd.to_datetime으로 데이터 타입 변경\n",
    "    * 참고: format = '%Y%m%d%H'"
   ]
  },
  {
   "cell_type": "markdown",
   "id": "c3726f76",
   "metadata": {},
   "source": [
    "#### 1) air_22, air_23 의 '측정일시'를 활용하여 'time' 변수 생성"
   ]
  },
  {
   "cell_type": "code",
   "execution_count": 36,
   "id": "81775c7e",
   "metadata": {},
   "outputs": [],
   "source": [
    "# 아래에 필요한 코드를 작성하고 결과를 확인합니다.\n",
    "\n",
    "air_22['time'] = air_22['측정일시']-1\n",
    "air_22['time'] = pd.to_datetime(air_22['time'], format='%Y%m%d%H')\n",
    "\n",
    "air_23['time'] = air_23['측정일시']-1\n",
    "air_23['time'] = pd.to_datetime(air_23['time'], format='%Y%m%d%H')"
   ]
  },
  {
   "cell_type": "code",
   "execution_count": 37,
   "id": "7bf0b579",
   "metadata": {},
   "outputs": [
    {
     "data": {
      "text/html": [
       "<div>\n",
       "<style scoped>\n",
       "    .dataframe tbody tr th:only-of-type {\n",
       "        vertical-align: middle;\n",
       "    }\n",
       "\n",
       "    .dataframe tbody tr th {\n",
       "        vertical-align: top;\n",
       "    }\n",
       "\n",
       "    .dataframe thead th {\n",
       "        text-align: right;\n",
       "    }\n",
       "</style>\n",
       "<table border=\"1\" class=\"dataframe\">\n",
       "  <thead>\n",
       "    <tr style=\"text-align: right;\">\n",
       "      <th></th>\n",
       "      <th>지역</th>\n",
       "      <th>망</th>\n",
       "      <th>측정소코드</th>\n",
       "      <th>측정소명</th>\n",
       "      <th>측정일시</th>\n",
       "      <th>SO2</th>\n",
       "      <th>CO</th>\n",
       "      <th>O3</th>\n",
       "      <th>NO2</th>\n",
       "      <th>PM10</th>\n",
       "      <th>PM25</th>\n",
       "      <th>주소</th>\n",
       "      <th>time</th>\n",
       "    </tr>\n",
       "  </thead>\n",
       "  <tbody>\n",
       "    <tr>\n",
       "      <th>0</th>\n",
       "      <td>서울 종로구</td>\n",
       "      <td>도시대기</td>\n",
       "      <td>111123</td>\n",
       "      <td>종로구</td>\n",
       "      <td>2022010101</td>\n",
       "      <td>0.003</td>\n",
       "      <td>0.4</td>\n",
       "      <td>0.026</td>\n",
       "      <td>0.016</td>\n",
       "      <td>23.0</td>\n",
       "      <td>12.0</td>\n",
       "      <td>서울 종로구 종로35가길 19</td>\n",
       "      <td>2022-01-01 00:00:00</td>\n",
       "    </tr>\n",
       "    <tr>\n",
       "      <th>1</th>\n",
       "      <td>서울 종로구</td>\n",
       "      <td>도시대기</td>\n",
       "      <td>111123</td>\n",
       "      <td>종로구</td>\n",
       "      <td>2022010102</td>\n",
       "      <td>0.003</td>\n",
       "      <td>0.4</td>\n",
       "      <td>0.022</td>\n",
       "      <td>0.020</td>\n",
       "      <td>20.0</td>\n",
       "      <td>9.0</td>\n",
       "      <td>서울 종로구 종로35가길 19</td>\n",
       "      <td>2022-01-01 01:00:00</td>\n",
       "    </tr>\n",
       "    <tr>\n",
       "      <th>2</th>\n",
       "      <td>서울 종로구</td>\n",
       "      <td>도시대기</td>\n",
       "      <td>111123</td>\n",
       "      <td>종로구</td>\n",
       "      <td>2022010103</td>\n",
       "      <td>0.003</td>\n",
       "      <td>0.5</td>\n",
       "      <td>0.014</td>\n",
       "      <td>0.028</td>\n",
       "      <td>20.0</td>\n",
       "      <td>9.0</td>\n",
       "      <td>서울 종로구 종로35가길 19</td>\n",
       "      <td>2022-01-01 02:00:00</td>\n",
       "    </tr>\n",
       "    <tr>\n",
       "      <th>3</th>\n",
       "      <td>서울 종로구</td>\n",
       "      <td>도시대기</td>\n",
       "      <td>111123</td>\n",
       "      <td>종로구</td>\n",
       "      <td>2022010104</td>\n",
       "      <td>0.003</td>\n",
       "      <td>0.5</td>\n",
       "      <td>0.016</td>\n",
       "      <td>0.027</td>\n",
       "      <td>19.0</td>\n",
       "      <td>10.0</td>\n",
       "      <td>서울 종로구 종로35가길 19</td>\n",
       "      <td>2022-01-01 03:00:00</td>\n",
       "    </tr>\n",
       "    <tr>\n",
       "      <th>4</th>\n",
       "      <td>서울 종로구</td>\n",
       "      <td>도시대기</td>\n",
       "      <td>111123</td>\n",
       "      <td>종로구</td>\n",
       "      <td>2022010105</td>\n",
       "      <td>0.003</td>\n",
       "      <td>0.5</td>\n",
       "      <td>0.005</td>\n",
       "      <td>0.040</td>\n",
       "      <td>24.0</td>\n",
       "      <td>11.0</td>\n",
       "      <td>서울 종로구 종로35가길 19</td>\n",
       "      <td>2022-01-01 04:00:00</td>\n",
       "    </tr>\n",
       "  </tbody>\n",
       "</table>\n",
       "</div>"
      ],
      "text/plain": [
       "       지역     망   측정소코드 측정소명        측정일시    SO2   CO     O3    NO2  PM10  \\\n",
       "0  서울 종로구  도시대기  111123  종로구  2022010101  0.003  0.4  0.026  0.016  23.0   \n",
       "1  서울 종로구  도시대기  111123  종로구  2022010102  0.003  0.4  0.022  0.020  20.0   \n",
       "2  서울 종로구  도시대기  111123  종로구  2022010103  0.003  0.5  0.014  0.028  20.0   \n",
       "3  서울 종로구  도시대기  111123  종로구  2022010104  0.003  0.5  0.016  0.027  19.0   \n",
       "4  서울 종로구  도시대기  111123  종로구  2022010105  0.003  0.5  0.005  0.040  24.0   \n",
       "\n",
       "   PM25                주소                time  \n",
       "0  12.0  서울 종로구 종로35가길 19 2022-01-01 00:00:00  \n",
       "1   9.0  서울 종로구 종로35가길 19 2022-01-01 01:00:00  \n",
       "2   9.0  서울 종로구 종로35가길 19 2022-01-01 02:00:00  \n",
       "3  10.0  서울 종로구 종로35가길 19 2022-01-01 03:00:00  \n",
       "4  11.0  서울 종로구 종로35가길 19 2022-01-01 04:00:00  "
      ]
     },
     "execution_count": 37,
     "metadata": {},
     "output_type": "execute_result"
    }
   ],
   "source": [
    "# 결과확인\n",
    "air_22.head()"
   ]
  },
  {
   "cell_type": "markdown",
   "id": "49c9d404",
   "metadata": {},
   "source": [
    "#### 2) weather_22, weather_23 의 '일시'를 활용하여 'time' 변수 생성\n",
    "* weather_22, weather_23 의 '일시'를 활용하여 'time'변수 생성\n",
    "* time 변수를 pd.to_datetime으로 데이터 타입 변경"
   ]
  },
  {
   "cell_type": "code",
   "execution_count": 38,
   "id": "cc56b617",
   "metadata": {},
   "outputs": [],
   "source": [
    "# 아래에 필요한 코드를 작성하고 결과를 확인합니다.\n",
    "\n",
    "weather_22['time'] = pd.to_datetime(weather_22['일시'])\n",
    "weather_23['time'] = pd.to_datetime(weather_23['일시'])"
   ]
  },
  {
   "cell_type": "code",
   "execution_count": 39,
   "id": "1228635b",
   "metadata": {},
   "outputs": [
    {
     "data": {
      "text/html": [
       "<div>\n",
       "<style scoped>\n",
       "    .dataframe tbody tr th:only-of-type {\n",
       "        vertical-align: middle;\n",
       "    }\n",
       "\n",
       "    .dataframe tbody tr th {\n",
       "        vertical-align: top;\n",
       "    }\n",
       "\n",
       "    .dataframe thead th {\n",
       "        text-align: right;\n",
       "    }\n",
       "</style>\n",
       "<table border=\"1\" class=\"dataframe\">\n",
       "  <thead>\n",
       "    <tr style=\"text-align: right;\">\n",
       "      <th></th>\n",
       "      <th>지점</th>\n",
       "      <th>지점명</th>\n",
       "      <th>일시</th>\n",
       "      <th>기온(°C)</th>\n",
       "      <th>기온 QC플래그</th>\n",
       "      <th>강수량(mm)</th>\n",
       "      <th>강수량 QC플래그</th>\n",
       "      <th>풍속(m/s)</th>\n",
       "      <th>풍속 QC플래그</th>\n",
       "      <th>풍향(16방위)</th>\n",
       "      <th>...</th>\n",
       "      <th>시정(10m)</th>\n",
       "      <th>지면상태(지면상태코드)</th>\n",
       "      <th>현상번호(국내식)</th>\n",
       "      <th>지면온도(°C)</th>\n",
       "      <th>지면온도 QC플래그</th>\n",
       "      <th>5cm 지중온도(°C)</th>\n",
       "      <th>10cm 지중온도(°C)</th>\n",
       "      <th>20cm 지중온도(°C)</th>\n",
       "      <th>30cm 지중온도(°C)</th>\n",
       "      <th>time</th>\n",
       "    </tr>\n",
       "  </thead>\n",
       "  <tbody>\n",
       "    <tr>\n",
       "      <th>0</th>\n",
       "      <td>108</td>\n",
       "      <td>서울</td>\n",
       "      <td>2022-01-01 00:00</td>\n",
       "      <td>-8.5</td>\n",
       "      <td>NaN</td>\n",
       "      <td>NaN</td>\n",
       "      <td>NaN</td>\n",
       "      <td>1.9</td>\n",
       "      <td>NaN</td>\n",
       "      <td>320</td>\n",
       "      <td>...</td>\n",
       "      <td>2000</td>\n",
       "      <td>NaN</td>\n",
       "      <td>NaN</td>\n",
       "      <td>-7.0</td>\n",
       "      <td>NaN</td>\n",
       "      <td>-1.0</td>\n",
       "      <td>-1.0</td>\n",
       "      <td>-0.2</td>\n",
       "      <td>1.0</td>\n",
       "      <td>2022-01-01 00:00:00</td>\n",
       "    </tr>\n",
       "    <tr>\n",
       "      <th>1</th>\n",
       "      <td>108</td>\n",
       "      <td>서울</td>\n",
       "      <td>2022-01-01 01:00</td>\n",
       "      <td>-9.2</td>\n",
       "      <td>NaN</td>\n",
       "      <td>NaN</td>\n",
       "      <td>NaN</td>\n",
       "      <td>1.8</td>\n",
       "      <td>NaN</td>\n",
       "      <td>270</td>\n",
       "      <td>...</td>\n",
       "      <td>2000</td>\n",
       "      <td>NaN</td>\n",
       "      <td>NaN</td>\n",
       "      <td>-7.2</td>\n",
       "      <td>NaN</td>\n",
       "      <td>-1.1</td>\n",
       "      <td>-1.1</td>\n",
       "      <td>-0.2</td>\n",
       "      <td>1.0</td>\n",
       "      <td>2022-01-01 01:00:00</td>\n",
       "    </tr>\n",
       "    <tr>\n",
       "      <th>2</th>\n",
       "      <td>108</td>\n",
       "      <td>서울</td>\n",
       "      <td>2022-01-01 02:00</td>\n",
       "      <td>-9.5</td>\n",
       "      <td>NaN</td>\n",
       "      <td>NaN</td>\n",
       "      <td>NaN</td>\n",
       "      <td>1.2</td>\n",
       "      <td>NaN</td>\n",
       "      <td>270</td>\n",
       "      <td>...</td>\n",
       "      <td>2000</td>\n",
       "      <td>NaN</td>\n",
       "      <td>NaN</td>\n",
       "      <td>-7.5</td>\n",
       "      <td>NaN</td>\n",
       "      <td>-1.3</td>\n",
       "      <td>-1.2</td>\n",
       "      <td>-0.2</td>\n",
       "      <td>1.0</td>\n",
       "      <td>2022-01-01 02:00:00</td>\n",
       "    </tr>\n",
       "    <tr>\n",
       "      <th>3</th>\n",
       "      <td>108</td>\n",
       "      <td>서울</td>\n",
       "      <td>2022-01-01 03:00</td>\n",
       "      <td>-9.3</td>\n",
       "      <td>NaN</td>\n",
       "      <td>NaN</td>\n",
       "      <td>NaN</td>\n",
       "      <td>1.4</td>\n",
       "      <td>NaN</td>\n",
       "      <td>290</td>\n",
       "      <td>...</td>\n",
       "      <td>2000</td>\n",
       "      <td>NaN</td>\n",
       "      <td>NaN</td>\n",
       "      <td>-7.6</td>\n",
       "      <td>NaN</td>\n",
       "      <td>-1.4</td>\n",
       "      <td>-1.2</td>\n",
       "      <td>-0.2</td>\n",
       "      <td>1.0</td>\n",
       "      <td>2022-01-01 03:00:00</td>\n",
       "    </tr>\n",
       "    <tr>\n",
       "      <th>4</th>\n",
       "      <td>108</td>\n",
       "      <td>서울</td>\n",
       "      <td>2022-01-01 04:00</td>\n",
       "      <td>-9.6</td>\n",
       "      <td>NaN</td>\n",
       "      <td>NaN</td>\n",
       "      <td>NaN</td>\n",
       "      <td>1.7</td>\n",
       "      <td>NaN</td>\n",
       "      <td>340</td>\n",
       "      <td>...</td>\n",
       "      <td>2000</td>\n",
       "      <td>NaN</td>\n",
       "      <td>NaN</td>\n",
       "      <td>-7.6</td>\n",
       "      <td>NaN</td>\n",
       "      <td>-1.4</td>\n",
       "      <td>-1.3</td>\n",
       "      <td>-0.3</td>\n",
       "      <td>1.0</td>\n",
       "      <td>2022-01-01 04:00:00</td>\n",
       "    </tr>\n",
       "  </tbody>\n",
       "</table>\n",
       "<p>5 rows × 39 columns</p>\n",
       "</div>"
      ],
      "text/plain": [
       "    지점 지점명                일시  기온(°C)  기온 QC플래그  강수량(mm)  강수량 QC플래그  풍속(m/s)  \\\n",
       "0  108  서울  2022-01-01 00:00    -8.5       NaN      NaN        NaN      1.9   \n",
       "1  108  서울  2022-01-01 01:00    -9.2       NaN      NaN        NaN      1.8   \n",
       "2  108  서울  2022-01-01 02:00    -9.5       NaN      NaN        NaN      1.2   \n",
       "3  108  서울  2022-01-01 03:00    -9.3       NaN      NaN        NaN      1.4   \n",
       "4  108  서울  2022-01-01 04:00    -9.6       NaN      NaN        NaN      1.7   \n",
       "\n",
       "   풍속 QC플래그  풍향(16방위)  ...  시정(10m)  지면상태(지면상태코드)  현상번호(국내식)  지면온도(°C)  \\\n",
       "0       NaN       320  ...     2000           NaN        NaN      -7.0   \n",
       "1       NaN       270  ...     2000           NaN        NaN      -7.2   \n",
       "2       NaN       270  ...     2000           NaN        NaN      -7.5   \n",
       "3       NaN       290  ...     2000           NaN        NaN      -7.6   \n",
       "4       NaN       340  ...     2000           NaN        NaN      -7.6   \n",
       "\n",
       "   지면온도 QC플래그  5cm 지중온도(°C)  10cm 지중온도(°C)  20cm 지중온도(°C)  30cm 지중온도(°C)  \\\n",
       "0         NaN          -1.0           -1.0           -0.2            1.0   \n",
       "1         NaN          -1.1           -1.1           -0.2            1.0   \n",
       "2         NaN          -1.3           -1.2           -0.2            1.0   \n",
       "3         NaN          -1.4           -1.2           -0.2            1.0   \n",
       "4         NaN          -1.4           -1.3           -0.3            1.0   \n",
       "\n",
       "                 time  \n",
       "0 2022-01-01 00:00:00  \n",
       "1 2022-01-01 01:00:00  \n",
       "2 2022-01-01 02:00:00  \n",
       "3 2022-01-01 03:00:00  \n",
       "4 2022-01-01 04:00:00  \n",
       "\n",
       "[5 rows x 39 columns]"
      ]
     },
     "execution_count": 39,
     "metadata": {},
     "output_type": "execute_result"
    }
   ],
   "source": [
    "# 결과확인\n",
    "weather_22.head()"
   ]
  },
  {
   "cell_type": "markdown",
   "id": "3b4d6b43",
   "metadata": {},
   "source": [
    "#### 3) 'time' 기준으로 데이터 합치기\n",
    "* 미세먼지 데이터와 날씨 데이터를 'time' 기준으로 합쳐보세요.\n",
    "    * df_22에는 'time' 기준으로 22년도 미세먼지, 날씨 데이터를 합쳐보세요.\n",
    "    * df_23에는 'time' 기준으로 23년도 미세먼지, 날씨 데이터를 합쳐보세요."
   ]
  },
  {
   "cell_type": "code",
   "execution_count": 40,
   "id": "8e77f9fa",
   "metadata": {
    "tags": []
   },
   "outputs": [],
   "source": [
    "# 아래에 필요한 코드를 작성하고 결과를 확인합니다.\n",
    "\n",
    "df_22 = pd.merge(air_22, weather_22, how = 'inner', on= 'time')\n",
    "df_23 = pd.merge(air_23, weather_23, how = 'inner', on= 'time')"
   ]
  },
  {
   "cell_type": "code",
   "execution_count": 41,
   "id": "02361a34",
   "metadata": {},
   "outputs": [
    {
     "data": {
      "text/html": [
       "<div>\n",
       "<style scoped>\n",
       "    .dataframe tbody tr th:only-of-type {\n",
       "        vertical-align: middle;\n",
       "    }\n",
       "\n",
       "    .dataframe tbody tr th {\n",
       "        vertical-align: top;\n",
       "    }\n",
       "\n",
       "    .dataframe thead th {\n",
       "        text-align: right;\n",
       "    }\n",
       "</style>\n",
       "<table border=\"1\" class=\"dataframe\">\n",
       "  <thead>\n",
       "    <tr style=\"text-align: right;\">\n",
       "      <th></th>\n",
       "      <th>지역</th>\n",
       "      <th>망</th>\n",
       "      <th>측정소코드</th>\n",
       "      <th>측정소명</th>\n",
       "      <th>측정일시</th>\n",
       "      <th>SO2</th>\n",
       "      <th>CO</th>\n",
       "      <th>O3</th>\n",
       "      <th>NO2</th>\n",
       "      <th>PM10</th>\n",
       "      <th>...</th>\n",
       "      <th>최저운고(100m )</th>\n",
       "      <th>시정(10m)</th>\n",
       "      <th>지면상태(지면상태코드)</th>\n",
       "      <th>현상번호(국내식)</th>\n",
       "      <th>지면온도(°C)</th>\n",
       "      <th>지면온도 QC플래그</th>\n",
       "      <th>5cm 지중온도(°C)</th>\n",
       "      <th>10cm 지중온도(°C)</th>\n",
       "      <th>20cm 지중온도(°C)</th>\n",
       "      <th>30cm 지중온도(°C)</th>\n",
       "    </tr>\n",
       "  </thead>\n",
       "  <tbody>\n",
       "    <tr>\n",
       "      <th>0</th>\n",
       "      <td>서울 종로구</td>\n",
       "      <td>도시대기</td>\n",
       "      <td>111123</td>\n",
       "      <td>종로구</td>\n",
       "      <td>2022010101</td>\n",
       "      <td>0.003</td>\n",
       "      <td>0.4</td>\n",
       "      <td>0.026</td>\n",
       "      <td>0.016</td>\n",
       "      <td>23.0</td>\n",
       "      <td>...</td>\n",
       "      <td>NaN</td>\n",
       "      <td>2000</td>\n",
       "      <td>NaN</td>\n",
       "      <td>NaN</td>\n",
       "      <td>-7.0</td>\n",
       "      <td>NaN</td>\n",
       "      <td>-1.0</td>\n",
       "      <td>-1.0</td>\n",
       "      <td>-0.2</td>\n",
       "      <td>1.0</td>\n",
       "    </tr>\n",
       "    <tr>\n",
       "      <th>1</th>\n",
       "      <td>서울 종로구</td>\n",
       "      <td>도시대기</td>\n",
       "      <td>111123</td>\n",
       "      <td>종로구</td>\n",
       "      <td>2022010102</td>\n",
       "      <td>0.003</td>\n",
       "      <td>0.4</td>\n",
       "      <td>0.022</td>\n",
       "      <td>0.020</td>\n",
       "      <td>20.0</td>\n",
       "      <td>...</td>\n",
       "      <td>NaN</td>\n",
       "      <td>2000</td>\n",
       "      <td>NaN</td>\n",
       "      <td>NaN</td>\n",
       "      <td>-7.2</td>\n",
       "      <td>NaN</td>\n",
       "      <td>-1.1</td>\n",
       "      <td>-1.1</td>\n",
       "      <td>-0.2</td>\n",
       "      <td>1.0</td>\n",
       "    </tr>\n",
       "    <tr>\n",
       "      <th>2</th>\n",
       "      <td>서울 종로구</td>\n",
       "      <td>도시대기</td>\n",
       "      <td>111123</td>\n",
       "      <td>종로구</td>\n",
       "      <td>2022010103</td>\n",
       "      <td>0.003</td>\n",
       "      <td>0.5</td>\n",
       "      <td>0.014</td>\n",
       "      <td>0.028</td>\n",
       "      <td>20.0</td>\n",
       "      <td>...</td>\n",
       "      <td>NaN</td>\n",
       "      <td>2000</td>\n",
       "      <td>NaN</td>\n",
       "      <td>NaN</td>\n",
       "      <td>-7.5</td>\n",
       "      <td>NaN</td>\n",
       "      <td>-1.3</td>\n",
       "      <td>-1.2</td>\n",
       "      <td>-0.2</td>\n",
       "      <td>1.0</td>\n",
       "    </tr>\n",
       "    <tr>\n",
       "      <th>3</th>\n",
       "      <td>서울 종로구</td>\n",
       "      <td>도시대기</td>\n",
       "      <td>111123</td>\n",
       "      <td>종로구</td>\n",
       "      <td>2022010104</td>\n",
       "      <td>0.003</td>\n",
       "      <td>0.5</td>\n",
       "      <td>0.016</td>\n",
       "      <td>0.027</td>\n",
       "      <td>19.0</td>\n",
       "      <td>...</td>\n",
       "      <td>NaN</td>\n",
       "      <td>2000</td>\n",
       "      <td>NaN</td>\n",
       "      <td>NaN</td>\n",
       "      <td>-7.6</td>\n",
       "      <td>NaN</td>\n",
       "      <td>-1.4</td>\n",
       "      <td>-1.2</td>\n",
       "      <td>-0.2</td>\n",
       "      <td>1.0</td>\n",
       "    </tr>\n",
       "    <tr>\n",
       "      <th>4</th>\n",
       "      <td>서울 종로구</td>\n",
       "      <td>도시대기</td>\n",
       "      <td>111123</td>\n",
       "      <td>종로구</td>\n",
       "      <td>2022010105</td>\n",
       "      <td>0.003</td>\n",
       "      <td>0.5</td>\n",
       "      <td>0.005</td>\n",
       "      <td>0.040</td>\n",
       "      <td>24.0</td>\n",
       "      <td>...</td>\n",
       "      <td>NaN</td>\n",
       "      <td>2000</td>\n",
       "      <td>NaN</td>\n",
       "      <td>NaN</td>\n",
       "      <td>-7.6</td>\n",
       "      <td>NaN</td>\n",
       "      <td>-1.4</td>\n",
       "      <td>-1.3</td>\n",
       "      <td>-0.3</td>\n",
       "      <td>1.0</td>\n",
       "    </tr>\n",
       "  </tbody>\n",
       "</table>\n",
       "<p>5 rows × 51 columns</p>\n",
       "</div>"
      ],
      "text/plain": [
       "       지역     망   측정소코드 측정소명        측정일시    SO2   CO     O3    NO2  PM10  ...  \\\n",
       "0  서울 종로구  도시대기  111123  종로구  2022010101  0.003  0.4  0.026  0.016  23.0  ...   \n",
       "1  서울 종로구  도시대기  111123  종로구  2022010102  0.003  0.4  0.022  0.020  20.0  ...   \n",
       "2  서울 종로구  도시대기  111123  종로구  2022010103  0.003  0.5  0.014  0.028  20.0  ...   \n",
       "3  서울 종로구  도시대기  111123  종로구  2022010104  0.003  0.5  0.016  0.027  19.0  ...   \n",
       "4  서울 종로구  도시대기  111123  종로구  2022010105  0.003  0.5  0.005  0.040  24.0  ...   \n",
       "\n",
       "   최저운고(100m ) 시정(10m) 지면상태(지면상태코드)  현상번호(국내식) 지면온도(°C) 지면온도 QC플래그  \\\n",
       "0          NaN    2000          NaN        NaN     -7.0        NaN   \n",
       "1          NaN    2000          NaN        NaN     -7.2        NaN   \n",
       "2          NaN    2000          NaN        NaN     -7.5        NaN   \n",
       "3          NaN    2000          NaN        NaN     -7.6        NaN   \n",
       "4          NaN    2000          NaN        NaN     -7.6        NaN   \n",
       "\n",
       "   5cm 지중온도(°C)  10cm 지중온도(°C)  20cm 지중온도(°C)  30cm 지중온도(°C)  \n",
       "0          -1.0           -1.0           -0.2            1.0  \n",
       "1          -1.1           -1.1           -0.2            1.0  \n",
       "2          -1.3           -1.2           -0.2            1.0  \n",
       "3          -1.4           -1.2           -0.2            1.0  \n",
       "4          -1.4           -1.3           -0.3            1.0  \n",
       "\n",
       "[5 rows x 51 columns]"
      ]
     },
     "execution_count": 41,
     "metadata": {},
     "output_type": "execute_result"
    }
   ],
   "source": [
    "# 결과확인\n",
    "df_22.head()"
   ]
  },
  {
   "cell_type": "markdown",
   "id": "1bcfb4a7",
   "metadata": {},
   "source": [
    "#### 4) 사용하지 않을 변수 제거\n",
    "\n",
    "* 머신러닝에 사용하지 않을 변수들을 제거해줍니다.\n",
    "    * df_22, df_23에 사용할 변수들만 넣어보세요.\n",
    "* time 변수를 index로 세팅하고 (set_index) 데이터가 정렬되어 있지 않으므로 index 기준으로 정렬하세요. (sort_index)"
   ]
  },
  {
   "cell_type": "code",
   "execution_count": 42,
   "id": "ddf39400",
   "metadata": {},
   "outputs": [],
   "source": [
    "# df_22, df_23에 사용할 변수들만 할당(예시)\n",
    "use_cols = ['time','SO2', 'CO', 'O3', 'NO2', 'PM10', 'PM25', '기온(°C)', '강수량(mm)', '풍속(m/s)', '습도(%)']\n",
    "df_22 = df_22[use_cols]\n",
    "df_23 = df_23[use_cols]"
   ]
  },
  {
   "cell_type": "code",
   "execution_count": 43,
   "id": "351bed8d",
   "metadata": {
    "tags": []
   },
   "outputs": [
    {
     "data": {
      "text/html": [
       "<div>\n",
       "<style scoped>\n",
       "    .dataframe tbody tr th:only-of-type {\n",
       "        vertical-align: middle;\n",
       "    }\n",
       "\n",
       "    .dataframe tbody tr th {\n",
       "        vertical-align: top;\n",
       "    }\n",
       "\n",
       "    .dataframe thead th {\n",
       "        text-align: right;\n",
       "    }\n",
       "</style>\n",
       "<table border=\"1\" class=\"dataframe\">\n",
       "  <thead>\n",
       "    <tr style=\"text-align: right;\">\n",
       "      <th></th>\n",
       "      <th>SO2</th>\n",
       "      <th>CO</th>\n",
       "      <th>O3</th>\n",
       "      <th>NO2</th>\n",
       "      <th>PM10</th>\n",
       "      <th>PM25</th>\n",
       "      <th>기온(°C)</th>\n",
       "      <th>강수량(mm)</th>\n",
       "      <th>풍속(m/s)</th>\n",
       "      <th>습도(%)</th>\n",
       "    </tr>\n",
       "    <tr>\n",
       "      <th>time</th>\n",
       "      <th></th>\n",
       "      <th></th>\n",
       "      <th></th>\n",
       "      <th></th>\n",
       "      <th></th>\n",
       "      <th></th>\n",
       "      <th></th>\n",
       "      <th></th>\n",
       "      <th></th>\n",
       "      <th></th>\n",
       "    </tr>\n",
       "  </thead>\n",
       "  <tbody>\n",
       "    <tr>\n",
       "      <th>2023-01-01 00:00:00</th>\n",
       "      <td>0.0050</td>\n",
       "      <td>1.40</td>\n",
       "      <td>0.0020</td>\n",
       "      <td>0.0640</td>\n",
       "      <td>68.0</td>\n",
       "      <td>58.0</td>\n",
       "      <td>0.9</td>\n",
       "      <td>NaN</td>\n",
       "      <td>1.4</td>\n",
       "      <td>72</td>\n",
       "    </tr>\n",
       "    <tr>\n",
       "      <th>2023-01-01 01:00:00</th>\n",
       "      <td>0.0040</td>\n",
       "      <td>1.40</td>\n",
       "      <td>0.0020</td>\n",
       "      <td>0.0610</td>\n",
       "      <td>64.0</td>\n",
       "      <td>50.0</td>\n",
       "      <td>1.5</td>\n",
       "      <td>NaN</td>\n",
       "      <td>1.9</td>\n",
       "      <td>71</td>\n",
       "    </tr>\n",
       "    <tr>\n",
       "      <th>2023-01-01 02:00:00</th>\n",
       "      <td>0.0040</td>\n",
       "      <td>1.00</td>\n",
       "      <td>0.0020</td>\n",
       "      <td>0.0510</td>\n",
       "      <td>67.0</td>\n",
       "      <td>56.0</td>\n",
       "      <td>1.5</td>\n",
       "      <td>NaN</td>\n",
       "      <td>1.9</td>\n",
       "      <td>72</td>\n",
       "    </tr>\n",
       "    <tr>\n",
       "      <th>2023-01-01 03:00:00</th>\n",
       "      <td>0.0040</td>\n",
       "      <td>0.70</td>\n",
       "      <td>0.0120</td>\n",
       "      <td>0.0300</td>\n",
       "      <td>76.0</td>\n",
       "      <td>64.0</td>\n",
       "      <td>1.6</td>\n",
       "      <td>NaN</td>\n",
       "      <td>1.6</td>\n",
       "      <td>74</td>\n",
       "    </tr>\n",
       "    <tr>\n",
       "      <th>2023-01-01 04:00:00</th>\n",
       "      <td>0.0040</td>\n",
       "      <td>0.70</td>\n",
       "      <td>0.0210</td>\n",
       "      <td>0.0170</td>\n",
       "      <td>81.0</td>\n",
       "      <td>64.0</td>\n",
       "      <td>1.5</td>\n",
       "      <td>NaN</td>\n",
       "      <td>1.4</td>\n",
       "      <td>74</td>\n",
       "    </tr>\n",
       "    <tr>\n",
       "      <th>...</th>\n",
       "      <td>...</td>\n",
       "      <td>...</td>\n",
       "      <td>...</td>\n",
       "      <td>...</td>\n",
       "      <td>...</td>\n",
       "      <td>...</td>\n",
       "      <td>...</td>\n",
       "      <td>...</td>\n",
       "      <td>...</td>\n",
       "      <td>...</td>\n",
       "    </tr>\n",
       "    <tr>\n",
       "      <th>2023-08-31 19:00:00</th>\n",
       "      <td>0.0028</td>\n",
       "      <td>0.41</td>\n",
       "      <td>0.0306</td>\n",
       "      <td>0.0138</td>\n",
       "      <td>20.0</td>\n",
       "      <td>14.0</td>\n",
       "      <td>25.7</td>\n",
       "      <td>NaN</td>\n",
       "      <td>3.1</td>\n",
       "      <td>61</td>\n",
       "    </tr>\n",
       "    <tr>\n",
       "      <th>2023-08-31 20:00:00</th>\n",
       "      <td>0.0029</td>\n",
       "      <td>0.44</td>\n",
       "      <td>0.0209</td>\n",
       "      <td>0.0202</td>\n",
       "      <td>19.0</td>\n",
       "      <td>12.0</td>\n",
       "      <td>24.5</td>\n",
       "      <td>NaN</td>\n",
       "      <td>2.7</td>\n",
       "      <td>72</td>\n",
       "    </tr>\n",
       "    <tr>\n",
       "      <th>2023-08-31 21:00:00</th>\n",
       "      <td>0.0030</td>\n",
       "      <td>0.45</td>\n",
       "      <td>0.0141</td>\n",
       "      <td>0.0250</td>\n",
       "      <td>19.0</td>\n",
       "      <td>11.0</td>\n",
       "      <td>23.8</td>\n",
       "      <td>NaN</td>\n",
       "      <td>1.1</td>\n",
       "      <td>75</td>\n",
       "    </tr>\n",
       "    <tr>\n",
       "      <th>2023-08-31 22:00:00</th>\n",
       "      <td>0.0029</td>\n",
       "      <td>0.44</td>\n",
       "      <td>0.0156</td>\n",
       "      <td>0.0206</td>\n",
       "      <td>21.0</td>\n",
       "      <td>13.0</td>\n",
       "      <td>23.2</td>\n",
       "      <td>NaN</td>\n",
       "      <td>1.2</td>\n",
       "      <td>79</td>\n",
       "    </tr>\n",
       "    <tr>\n",
       "      <th>2023-08-31 23:00:00</th>\n",
       "      <td>0.0030</td>\n",
       "      <td>0.45</td>\n",
       "      <td>0.0153</td>\n",
       "      <td>0.0217</td>\n",
       "      <td>17.0</td>\n",
       "      <td>10.0</td>\n",
       "      <td>22.7</td>\n",
       "      <td>NaN</td>\n",
       "      <td>1.6</td>\n",
       "      <td>81</td>\n",
       "    </tr>\n",
       "  </tbody>\n",
       "</table>\n",
       "<p>5832 rows × 10 columns</p>\n",
       "</div>"
      ],
      "text/plain": [
       "                        SO2    CO      O3     NO2  PM10  PM25  기온(°C)  \\\n",
       "time                                                                    \n",
       "2023-01-01 00:00:00  0.0050  1.40  0.0020  0.0640  68.0  58.0     0.9   \n",
       "2023-01-01 01:00:00  0.0040  1.40  0.0020  0.0610  64.0  50.0     1.5   \n",
       "2023-01-01 02:00:00  0.0040  1.00  0.0020  0.0510  67.0  56.0     1.5   \n",
       "2023-01-01 03:00:00  0.0040  0.70  0.0120  0.0300  76.0  64.0     1.6   \n",
       "2023-01-01 04:00:00  0.0040  0.70  0.0210  0.0170  81.0  64.0     1.5   \n",
       "...                     ...   ...     ...     ...   ...   ...     ...   \n",
       "2023-08-31 19:00:00  0.0028  0.41  0.0306  0.0138  20.0  14.0    25.7   \n",
       "2023-08-31 20:00:00  0.0029  0.44  0.0209  0.0202  19.0  12.0    24.5   \n",
       "2023-08-31 21:00:00  0.0030  0.45  0.0141  0.0250  19.0  11.0    23.8   \n",
       "2023-08-31 22:00:00  0.0029  0.44  0.0156  0.0206  21.0  13.0    23.2   \n",
       "2023-08-31 23:00:00  0.0030  0.45  0.0153  0.0217  17.0  10.0    22.7   \n",
       "\n",
       "                     강수량(mm)  풍속(m/s)  습도(%)  \n",
       "time                                          \n",
       "2023-01-01 00:00:00      NaN      1.4     72  \n",
       "2023-01-01 01:00:00      NaN      1.9     71  \n",
       "2023-01-01 02:00:00      NaN      1.9     72  \n",
       "2023-01-01 03:00:00      NaN      1.6     74  \n",
       "2023-01-01 04:00:00      NaN      1.4     74  \n",
       "...                      ...      ...    ...  \n",
       "2023-08-31 19:00:00      NaN      3.1     61  \n",
       "2023-08-31 20:00:00      NaN      2.7     72  \n",
       "2023-08-31 21:00:00      NaN      1.1     75  \n",
       "2023-08-31 22:00:00      NaN      1.2     79  \n",
       "2023-08-31 23:00:00      NaN      1.6     81  \n",
       "\n",
       "[5832 rows x 10 columns]"
      ]
     },
     "execution_count": 43,
     "metadata": {},
     "output_type": "execute_result"
    }
   ],
   "source": [
    "# time 변수를 index로 세팅\n",
    "df_22.set_index('time').sort_index()\n",
    "df_23.set_index('time').sort_index()"
   ]
  },
  {
   "cell_type": "markdown",
   "id": "d227338e-eb0d-44e3-b847-c2f95287dab8",
   "metadata": {
    "tags": []
   },
   "source": [
    "#### 5) 변수들의 결측치 처리"
   ]
  },
  {
   "cell_type": "code",
   "execution_count": 44,
   "id": "e38d021e",
   "metadata": {},
   "outputs": [
    {
     "data": {
      "text/plain": [
       "time          0\n",
       "SO2         244\n",
       "CO           34\n",
       "O3           61\n",
       "NO2          34\n",
       "PM10         40\n",
       "PM25         39\n",
       "기온(°C)        0\n",
       "강수량(mm)    5023\n",
       "풍속(m/s)       0\n",
       "습도(%)         0\n",
       "dtype: int64"
      ]
     },
     "execution_count": 44,
     "metadata": {},
     "output_type": "execute_result"
    }
   ],
   "source": [
    "# df_22, df_23의 결측치 확인\n",
    "\n",
    "df_22.isnull().sum()\n",
    "df_23.isnull().sum()"
   ]
  },
  {
   "cell_type": "code",
   "execution_count": 45,
   "id": "d5ceccfc",
   "metadata": {},
   "outputs": [],
   "source": [
    "# df_22, df_23의 변수 중 결측치를 처리 (ex: 강수량(mm))\n",
    "# 제일 결측치가 많은 강수량 0으로 처리해보기\n",
    "\n",
    "df_22['강수량(mm)'] = df_22['강수량(mm)'].fillna(0)\n",
    "df_23['강수량(mm)'] = df_23['강수량(mm)'].fillna(0)"
   ]
  },
  {
   "cell_type": "code",
   "execution_count": 46,
   "id": "e3bd1706",
   "metadata": {},
   "outputs": [],
   "source": [
    "# df_22, df_23의 남은 결측치를 일괄 처리(ffill 활용--> 다른 방법으로 활용도 가능)\n",
    "\n",
    "df_22 = df_22.fillna(method = 'ffill')\n",
    "df_23 = df_23.fillna(method = 'ffill')"
   ]
  },
  {
   "cell_type": "code",
   "execution_count": 47,
   "id": "f37251a9",
   "metadata": {},
   "outputs": [
    {
     "data": {
      "text/plain": [
       "time       0\n",
       "SO2        0\n",
       "CO         0\n",
       "O3         0\n",
       "NO2        0\n",
       "PM10       0\n",
       "PM25       0\n",
       "기온(°C)     0\n",
       "강수량(mm)    0\n",
       "풍속(m/s)    0\n",
       "습도(%)      0\n",
       "dtype: int64"
      ]
     },
     "execution_count": 47,
     "metadata": {},
     "output_type": "execute_result"
    }
   ],
   "source": [
    "# df_22, df_23의 결측치 재확인 해보기\n",
    "\n",
    "df_22.isnull().sum()\n",
    "df_23.isnull().sum()"
   ]
  },
  {
   "cell_type": "markdown",
   "id": "4562852f-536a-40f3-bfb3-38c725e9fdbf",
   "metadata": {
    "tags": []
   },
   "source": [
    "#### 6) 전일 같은 시간 미세먼지 농도 변수 추가\n",
    "\n",
    "* 먼저 df_22, df_23에 month, day, hour 변수를 추가하세요.\n",
    "    * 예) dt.month, dt.day, dt.hour 사용 또는 datetimeindex에서는 df.index.month 등 사용 가능\n",
    "* 모델링에 유용한 변수로 전일 같은 시간(24시간 전) 미세먼지 농도 변수를 추가하세요.\n",
    "    * 시계열 데이터 처리를 위한 shift 연산을 참고하세요."
   ]
  },
  {
   "cell_type": "code",
   "execution_count": 48,
   "id": "c095d7b0",
   "metadata": {},
   "outputs": [],
   "source": [
    "# df_22, df_23의 index(time)를 month, day, hour 로 쪼개기 (year는 필요 없음). 이후에 저장 시 index(time)은 포함하지 않음.\n",
    "\n",
    "df_22['month'] = df_22['time'].dt.month\n",
    "df_22['day'] = df_22['time'].dt.day\n",
    "df_22['hour'] = df_22['time'].dt.hour\n",
    "\n",
    "df_23['month'] = df_23['time'].dt.month\n",
    "df_23['day'] = df_23['time'].dt.day\n",
    "df_23['hour'] = df_23['time'].dt.hour"
   ]
  },
  {
   "cell_type": "code",
   "execution_count": 49,
   "id": "e4f3a3c9",
   "metadata": {},
   "outputs": [
    {
     "data": {
      "text/html": [
       "<div>\n",
       "<style scoped>\n",
       "    .dataframe tbody tr th:only-of-type {\n",
       "        vertical-align: middle;\n",
       "    }\n",
       "\n",
       "    .dataframe tbody tr th {\n",
       "        vertical-align: top;\n",
       "    }\n",
       "\n",
       "    .dataframe thead th {\n",
       "        text-align: right;\n",
       "    }\n",
       "</style>\n",
       "<table border=\"1\" class=\"dataframe\">\n",
       "  <thead>\n",
       "    <tr style=\"text-align: right;\">\n",
       "      <th></th>\n",
       "      <th>time</th>\n",
       "      <th>SO2</th>\n",
       "      <th>CO</th>\n",
       "      <th>O3</th>\n",
       "      <th>NO2</th>\n",
       "      <th>PM10</th>\n",
       "      <th>PM25</th>\n",
       "      <th>기온(°C)</th>\n",
       "      <th>강수량(mm)</th>\n",
       "      <th>풍속(m/s)</th>\n",
       "      <th>습도(%)</th>\n",
       "      <th>month</th>\n",
       "      <th>day</th>\n",
       "      <th>hour</th>\n",
       "    </tr>\n",
       "  </thead>\n",
       "  <tbody>\n",
       "    <tr>\n",
       "      <th>0</th>\n",
       "      <td>2022-01-01 00:00:00</td>\n",
       "      <td>0.003</td>\n",
       "      <td>0.4</td>\n",
       "      <td>0.026</td>\n",
       "      <td>0.016</td>\n",
       "      <td>23.0</td>\n",
       "      <td>12.0</td>\n",
       "      <td>-8.5</td>\n",
       "      <td>0.0</td>\n",
       "      <td>1.9</td>\n",
       "      <td>41</td>\n",
       "      <td>1</td>\n",
       "      <td>1</td>\n",
       "      <td>0</td>\n",
       "    </tr>\n",
       "    <tr>\n",
       "      <th>1</th>\n",
       "      <td>2022-01-01 01:00:00</td>\n",
       "      <td>0.003</td>\n",
       "      <td>0.4</td>\n",
       "      <td>0.022</td>\n",
       "      <td>0.020</td>\n",
       "      <td>20.0</td>\n",
       "      <td>9.0</td>\n",
       "      <td>-9.2</td>\n",
       "      <td>0.0</td>\n",
       "      <td>1.8</td>\n",
       "      <td>42</td>\n",
       "      <td>1</td>\n",
       "      <td>1</td>\n",
       "      <td>1</td>\n",
       "    </tr>\n",
       "    <tr>\n",
       "      <th>2</th>\n",
       "      <td>2022-01-01 02:00:00</td>\n",
       "      <td>0.003</td>\n",
       "      <td>0.5</td>\n",
       "      <td>0.014</td>\n",
       "      <td>0.028</td>\n",
       "      <td>20.0</td>\n",
       "      <td>9.0</td>\n",
       "      <td>-9.5</td>\n",
       "      <td>0.0</td>\n",
       "      <td>1.2</td>\n",
       "      <td>43</td>\n",
       "      <td>1</td>\n",
       "      <td>1</td>\n",
       "      <td>2</td>\n",
       "    </tr>\n",
       "    <tr>\n",
       "      <th>3</th>\n",
       "      <td>2022-01-01 03:00:00</td>\n",
       "      <td>0.003</td>\n",
       "      <td>0.5</td>\n",
       "      <td>0.016</td>\n",
       "      <td>0.027</td>\n",
       "      <td>19.0</td>\n",
       "      <td>10.0</td>\n",
       "      <td>-9.3</td>\n",
       "      <td>0.0</td>\n",
       "      <td>1.4</td>\n",
       "      <td>46</td>\n",
       "      <td>1</td>\n",
       "      <td>1</td>\n",
       "      <td>3</td>\n",
       "    </tr>\n",
       "    <tr>\n",
       "      <th>4</th>\n",
       "      <td>2022-01-01 04:00:00</td>\n",
       "      <td>0.003</td>\n",
       "      <td>0.5</td>\n",
       "      <td>0.005</td>\n",
       "      <td>0.040</td>\n",
       "      <td>24.0</td>\n",
       "      <td>11.0</td>\n",
       "      <td>-9.6</td>\n",
       "      <td>0.0</td>\n",
       "      <td>1.7</td>\n",
       "      <td>48</td>\n",
       "      <td>1</td>\n",
       "      <td>1</td>\n",
       "      <td>4</td>\n",
       "    </tr>\n",
       "  </tbody>\n",
       "</table>\n",
       "</div>"
      ],
      "text/plain": [
       "                 time    SO2   CO     O3    NO2  PM10  PM25  기온(°C)  강수량(mm)  \\\n",
       "0 2022-01-01 00:00:00  0.003  0.4  0.026  0.016  23.0  12.0    -8.5      0.0   \n",
       "1 2022-01-01 01:00:00  0.003  0.4  0.022  0.020  20.0   9.0    -9.2      0.0   \n",
       "2 2022-01-01 02:00:00  0.003  0.5  0.014  0.028  20.0   9.0    -9.5      0.0   \n",
       "3 2022-01-01 03:00:00  0.003  0.5  0.016  0.027  19.0  10.0    -9.3      0.0   \n",
       "4 2022-01-01 04:00:00  0.003  0.5  0.005  0.040  24.0  11.0    -9.6      0.0   \n",
       "\n",
       "   풍속(m/s)  습도(%)  month  day  hour  \n",
       "0      1.9     41      1    1     0  \n",
       "1      1.8     42      1    1     1  \n",
       "2      1.2     43      1    1     2  \n",
       "3      1.4     46      1    1     3  \n",
       "4      1.7     48      1    1     4  "
      ]
     },
     "execution_count": 49,
     "metadata": {},
     "output_type": "execute_result"
    }
   ],
   "source": [
    "# 확인해보기\n",
    "df_22.head()"
   ]
  },
  {
   "cell_type": "code",
   "execution_count": 50,
   "id": "4573f5f8",
   "metadata": {},
   "outputs": [],
   "source": [
    "# df_22, df_23에 전일 같은 시간 미세먼지 농도 변수(PM10_lag1) 추가\n",
    "# 전일 같은 시간은 24시간 전 입니다. (shift 함수 활용)\n",
    "\n",
    "df_22['PM10_lag1'] = df_22['PM10'].shift(24)\n",
    "df_23['PM10_lag1'] = df_23['PM10'].shift(24)"
   ]
  },
  {
   "cell_type": "code",
   "execution_count": 51,
   "id": "fb22ca40",
   "metadata": {},
   "outputs": [
    {
     "data": {
      "text/html": [
       "<div>\n",
       "<style scoped>\n",
       "    .dataframe tbody tr th:only-of-type {\n",
       "        vertical-align: middle;\n",
       "    }\n",
       "\n",
       "    .dataframe tbody tr th {\n",
       "        vertical-align: top;\n",
       "    }\n",
       "\n",
       "    .dataframe thead th {\n",
       "        text-align: right;\n",
       "    }\n",
       "</style>\n",
       "<table border=\"1\" class=\"dataframe\">\n",
       "  <thead>\n",
       "    <tr style=\"text-align: right;\">\n",
       "      <th></th>\n",
       "      <th>time</th>\n",
       "      <th>SO2</th>\n",
       "      <th>CO</th>\n",
       "      <th>O3</th>\n",
       "      <th>NO2</th>\n",
       "      <th>PM10</th>\n",
       "      <th>PM25</th>\n",
       "      <th>기온(°C)</th>\n",
       "      <th>강수량(mm)</th>\n",
       "      <th>풍속(m/s)</th>\n",
       "      <th>습도(%)</th>\n",
       "      <th>month</th>\n",
       "      <th>day</th>\n",
       "      <th>hour</th>\n",
       "      <th>PM10_lag1</th>\n",
       "    </tr>\n",
       "  </thead>\n",
       "  <tbody>\n",
       "    <tr>\n",
       "      <th>8755</th>\n",
       "      <td>2022-12-31 19:00:00</td>\n",
       "      <td>0.004</td>\n",
       "      <td>1.5</td>\n",
       "      <td>0.002</td>\n",
       "      <td>0.070</td>\n",
       "      <td>71.0</td>\n",
       "      <td>59.0</td>\n",
       "      <td>-0.2</td>\n",
       "      <td>0.0</td>\n",
       "      <td>1.8</td>\n",
       "      <td>73</td>\n",
       "      <td>12</td>\n",
       "      <td>31</td>\n",
       "      <td>19</td>\n",
       "      <td>36.0</td>\n",
       "    </tr>\n",
       "    <tr>\n",
       "      <th>8756</th>\n",
       "      <td>2022-12-31 20:00:00</td>\n",
       "      <td>0.005</td>\n",
       "      <td>1.6</td>\n",
       "      <td>0.002</td>\n",
       "      <td>0.070</td>\n",
       "      <td>76.0</td>\n",
       "      <td>62.0</td>\n",
       "      <td>-0.8</td>\n",
       "      <td>0.0</td>\n",
       "      <td>1.4</td>\n",
       "      <td>75</td>\n",
       "      <td>12</td>\n",
       "      <td>31</td>\n",
       "      <td>20</td>\n",
       "      <td>40.0</td>\n",
       "    </tr>\n",
       "    <tr>\n",
       "      <th>8757</th>\n",
       "      <td>2022-12-31 21:00:00</td>\n",
       "      <td>0.004</td>\n",
       "      <td>1.7</td>\n",
       "      <td>0.002</td>\n",
       "      <td>0.072</td>\n",
       "      <td>76.0</td>\n",
       "      <td>66.0</td>\n",
       "      <td>-1.0</td>\n",
       "      <td>0.0</td>\n",
       "      <td>0.9</td>\n",
       "      <td>77</td>\n",
       "      <td>12</td>\n",
       "      <td>31</td>\n",
       "      <td>21</td>\n",
       "      <td>39.0</td>\n",
       "    </tr>\n",
       "    <tr>\n",
       "      <th>8758</th>\n",
       "      <td>2022-12-31 22:00:00</td>\n",
       "      <td>0.005</td>\n",
       "      <td>1.8</td>\n",
       "      <td>0.002</td>\n",
       "      <td>0.072</td>\n",
       "      <td>77.0</td>\n",
       "      <td>67.0</td>\n",
       "      <td>-0.8</td>\n",
       "      <td>0.0</td>\n",
       "      <td>0.5</td>\n",
       "      <td>78</td>\n",
       "      <td>12</td>\n",
       "      <td>31</td>\n",
       "      <td>22</td>\n",
       "      <td>38.0</td>\n",
       "    </tr>\n",
       "    <tr>\n",
       "      <th>8759</th>\n",
       "      <td>2022-12-31 23:00:00</td>\n",
       "      <td>0.004</td>\n",
       "      <td>1.6</td>\n",
       "      <td>0.002</td>\n",
       "      <td>0.070</td>\n",
       "      <td>76.0</td>\n",
       "      <td>67.0</td>\n",
       "      <td>-0.2</td>\n",
       "      <td>0.0</td>\n",
       "      <td>1.3</td>\n",
       "      <td>77</td>\n",
       "      <td>12</td>\n",
       "      <td>31</td>\n",
       "      <td>23</td>\n",
       "      <td>37.0</td>\n",
       "    </tr>\n",
       "  </tbody>\n",
       "</table>\n",
       "</div>"
      ],
      "text/plain": [
       "                    time    SO2   CO     O3    NO2  PM10  PM25  기온(°C)  \\\n",
       "8755 2022-12-31 19:00:00  0.004  1.5  0.002  0.070  71.0  59.0    -0.2   \n",
       "8756 2022-12-31 20:00:00  0.005  1.6  0.002  0.070  76.0  62.0    -0.8   \n",
       "8757 2022-12-31 21:00:00  0.004  1.7  0.002  0.072  76.0  66.0    -1.0   \n",
       "8758 2022-12-31 22:00:00  0.005  1.8  0.002  0.072  77.0  67.0    -0.8   \n",
       "8759 2022-12-31 23:00:00  0.004  1.6  0.002  0.070  76.0  67.0    -0.2   \n",
       "\n",
       "      강수량(mm)  풍속(m/s)  습도(%)  month  day  hour  PM10_lag1  \n",
       "8755      0.0      1.8     73     12   31    19       36.0  \n",
       "8756      0.0      1.4     75     12   31    20       40.0  \n",
       "8757      0.0      0.9     77     12   31    21       39.0  \n",
       "8758      0.0      0.5     78     12   31    22       38.0  \n",
       "8759      0.0      1.3     77     12   31    23       37.0  "
      ]
     },
     "execution_count": 51,
     "metadata": {},
     "output_type": "execute_result"
    }
   ],
   "source": [
    "#확인해보기!\n",
    "\n",
    "df_22.tail()"
   ]
  },
  {
   "cell_type": "markdown",
   "id": "ff52b9e7-869c-41c9-8aea-817ec00d5200",
   "metadata": {
    "tags": []
   },
   "source": [
    "#### 7) t+1 시점의 미세먼지 농도 데이터 생성\n",
    "* t+1 시점은 1시간 후 입니다.\n",
    "* t+1 시점의 미세먼지 농도 변수(PM10_1)를 생성하세요.\n",
    "* t+1 시점의 미세먼지 농도는 머신러닝 모델을 통해 예측하려는 y값(target) 입니다."
   ]
  },
  {
   "cell_type": "code",
   "execution_count": 52,
   "id": "b5003c89",
   "metadata": {},
   "outputs": [],
   "source": [
    "# df_22, df_23에 t+1 시점 변수(PM10_1) 추가\n",
    "# shift 함수 활용 해보기!\n",
    "\n",
    "df_22['PM10_1'] = df_22['PM10'].shift(-1)\n",
    "df_23['PM10_1'] = df_23['PM10'].shift(-1)"
   ]
  },
  {
   "cell_type": "code",
   "execution_count": 53,
   "id": "14cb2489",
   "metadata": {},
   "outputs": [
    {
     "data": {
      "text/html": [
       "<div>\n",
       "<style scoped>\n",
       "    .dataframe tbody tr th:only-of-type {\n",
       "        vertical-align: middle;\n",
       "    }\n",
       "\n",
       "    .dataframe tbody tr th {\n",
       "        vertical-align: top;\n",
       "    }\n",
       "\n",
       "    .dataframe thead th {\n",
       "        text-align: right;\n",
       "    }\n",
       "</style>\n",
       "<table border=\"1\" class=\"dataframe\">\n",
       "  <thead>\n",
       "    <tr style=\"text-align: right;\">\n",
       "      <th></th>\n",
       "      <th>time</th>\n",
       "      <th>SO2</th>\n",
       "      <th>CO</th>\n",
       "      <th>O3</th>\n",
       "      <th>NO2</th>\n",
       "      <th>PM10</th>\n",
       "      <th>PM25</th>\n",
       "      <th>기온(°C)</th>\n",
       "      <th>강수량(mm)</th>\n",
       "      <th>풍속(m/s)</th>\n",
       "      <th>습도(%)</th>\n",
       "      <th>month</th>\n",
       "      <th>day</th>\n",
       "      <th>hour</th>\n",
       "      <th>PM10_lag1</th>\n",
       "      <th>PM10_1</th>\n",
       "    </tr>\n",
       "  </thead>\n",
       "  <tbody>\n",
       "    <tr>\n",
       "      <th>0</th>\n",
       "      <td>2022-01-01 00:00:00</td>\n",
       "      <td>0.003</td>\n",
       "      <td>0.4</td>\n",
       "      <td>0.026</td>\n",
       "      <td>0.016</td>\n",
       "      <td>23.0</td>\n",
       "      <td>12.0</td>\n",
       "      <td>-8.5</td>\n",
       "      <td>0.0</td>\n",
       "      <td>1.9</td>\n",
       "      <td>41</td>\n",
       "      <td>1</td>\n",
       "      <td>1</td>\n",
       "      <td>0</td>\n",
       "      <td>NaN</td>\n",
       "      <td>20.0</td>\n",
       "    </tr>\n",
       "    <tr>\n",
       "      <th>1</th>\n",
       "      <td>2022-01-01 01:00:00</td>\n",
       "      <td>0.003</td>\n",
       "      <td>0.4</td>\n",
       "      <td>0.022</td>\n",
       "      <td>0.020</td>\n",
       "      <td>20.0</td>\n",
       "      <td>9.0</td>\n",
       "      <td>-9.2</td>\n",
       "      <td>0.0</td>\n",
       "      <td>1.8</td>\n",
       "      <td>42</td>\n",
       "      <td>1</td>\n",
       "      <td>1</td>\n",
       "      <td>1</td>\n",
       "      <td>NaN</td>\n",
       "      <td>20.0</td>\n",
       "    </tr>\n",
       "    <tr>\n",
       "      <th>2</th>\n",
       "      <td>2022-01-01 02:00:00</td>\n",
       "      <td>0.003</td>\n",
       "      <td>0.5</td>\n",
       "      <td>0.014</td>\n",
       "      <td>0.028</td>\n",
       "      <td>20.0</td>\n",
       "      <td>9.0</td>\n",
       "      <td>-9.5</td>\n",
       "      <td>0.0</td>\n",
       "      <td>1.2</td>\n",
       "      <td>43</td>\n",
       "      <td>1</td>\n",
       "      <td>1</td>\n",
       "      <td>2</td>\n",
       "      <td>NaN</td>\n",
       "      <td>19.0</td>\n",
       "    </tr>\n",
       "    <tr>\n",
       "      <th>3</th>\n",
       "      <td>2022-01-01 03:00:00</td>\n",
       "      <td>0.003</td>\n",
       "      <td>0.5</td>\n",
       "      <td>0.016</td>\n",
       "      <td>0.027</td>\n",
       "      <td>19.0</td>\n",
       "      <td>10.0</td>\n",
       "      <td>-9.3</td>\n",
       "      <td>0.0</td>\n",
       "      <td>1.4</td>\n",
       "      <td>46</td>\n",
       "      <td>1</td>\n",
       "      <td>1</td>\n",
       "      <td>3</td>\n",
       "      <td>NaN</td>\n",
       "      <td>24.0</td>\n",
       "    </tr>\n",
       "    <tr>\n",
       "      <th>4</th>\n",
       "      <td>2022-01-01 04:00:00</td>\n",
       "      <td>0.003</td>\n",
       "      <td>0.5</td>\n",
       "      <td>0.005</td>\n",
       "      <td>0.040</td>\n",
       "      <td>24.0</td>\n",
       "      <td>11.0</td>\n",
       "      <td>-9.6</td>\n",
       "      <td>0.0</td>\n",
       "      <td>1.7</td>\n",
       "      <td>48</td>\n",
       "      <td>1</td>\n",
       "      <td>1</td>\n",
       "      <td>4</td>\n",
       "      <td>NaN</td>\n",
       "      <td>19.0</td>\n",
       "    </tr>\n",
       "  </tbody>\n",
       "</table>\n",
       "</div>"
      ],
      "text/plain": [
       "                 time    SO2   CO     O3    NO2  PM10  PM25  기온(°C)  강수량(mm)  \\\n",
       "0 2022-01-01 00:00:00  0.003  0.4  0.026  0.016  23.0  12.0    -8.5      0.0   \n",
       "1 2022-01-01 01:00:00  0.003  0.4  0.022  0.020  20.0   9.0    -9.2      0.0   \n",
       "2 2022-01-01 02:00:00  0.003  0.5  0.014  0.028  20.0   9.0    -9.5      0.0   \n",
       "3 2022-01-01 03:00:00  0.003  0.5  0.016  0.027  19.0  10.0    -9.3      0.0   \n",
       "4 2022-01-01 04:00:00  0.003  0.5  0.005  0.040  24.0  11.0    -9.6      0.0   \n",
       "\n",
       "   풍속(m/s)  습도(%)  month  day  hour  PM10_lag1  PM10_1  \n",
       "0      1.9     41      1    1     0        NaN    20.0  \n",
       "1      1.8     42      1    1     1        NaN    20.0  \n",
       "2      1.2     43      1    1     2        NaN    19.0  \n",
       "3      1.4     46      1    1     3        NaN    24.0  \n",
       "4      1.7     48      1    1     4        NaN    19.0  "
      ]
     },
     "execution_count": 53,
     "metadata": {},
     "output_type": "execute_result"
    }
   ],
   "source": [
    "#확인해보기!\n",
    "df_22.head()"
   ]
  },
  {
   "cell_type": "code",
   "execution_count": 54,
   "id": "b14b9b60",
   "metadata": {},
   "outputs": [],
   "source": [
    "# 결측치가 있다면 처리\n",
    "\n",
    "df_22.dropna(inplace=True)\n",
    "df_23.dropna(inplace=True)"
   ]
  },
  {
   "cell_type": "code",
   "execution_count": 55,
   "id": "815e9211",
   "metadata": {},
   "outputs": [
    {
     "data": {
      "text/html": [
       "<div>\n",
       "<style scoped>\n",
       "    .dataframe tbody tr th:only-of-type {\n",
       "        vertical-align: middle;\n",
       "    }\n",
       "\n",
       "    .dataframe tbody tr th {\n",
       "        vertical-align: top;\n",
       "    }\n",
       "\n",
       "    .dataframe thead th {\n",
       "        text-align: right;\n",
       "    }\n",
       "</style>\n",
       "<table border=\"1\" class=\"dataframe\">\n",
       "  <thead>\n",
       "    <tr style=\"text-align: right;\">\n",
       "      <th></th>\n",
       "      <th>time</th>\n",
       "      <th>SO2</th>\n",
       "      <th>CO</th>\n",
       "      <th>O3</th>\n",
       "      <th>NO2</th>\n",
       "      <th>PM10</th>\n",
       "      <th>PM25</th>\n",
       "      <th>기온(°C)</th>\n",
       "      <th>강수량(mm)</th>\n",
       "      <th>풍속(m/s)</th>\n",
       "      <th>습도(%)</th>\n",
       "      <th>month</th>\n",
       "      <th>day</th>\n",
       "      <th>hour</th>\n",
       "      <th>PM10_lag1</th>\n",
       "      <th>PM10_1</th>\n",
       "    </tr>\n",
       "  </thead>\n",
       "  <tbody>\n",
       "    <tr>\n",
       "      <th>24</th>\n",
       "      <td>2022-01-02 00:00:00</td>\n",
       "      <td>0.004</td>\n",
       "      <td>0.8</td>\n",
       "      <td>0.002</td>\n",
       "      <td>0.052</td>\n",
       "      <td>38.0</td>\n",
       "      <td>24.0</td>\n",
       "      <td>-2.8</td>\n",
       "      <td>0.0</td>\n",
       "      <td>2.3</td>\n",
       "      <td>55</td>\n",
       "      <td>1</td>\n",
       "      <td>2</td>\n",
       "      <td>0</td>\n",
       "      <td>23.0</td>\n",
       "      <td>34.0</td>\n",
       "    </tr>\n",
       "    <tr>\n",
       "      <th>25</th>\n",
       "      <td>2022-01-02 01:00:00</td>\n",
       "      <td>0.004</td>\n",
       "      <td>0.8</td>\n",
       "      <td>0.002</td>\n",
       "      <td>0.052</td>\n",
       "      <td>34.0</td>\n",
       "      <td>23.0</td>\n",
       "      <td>-2.9</td>\n",
       "      <td>0.0</td>\n",
       "      <td>2.1</td>\n",
       "      <td>57</td>\n",
       "      <td>1</td>\n",
       "      <td>2</td>\n",
       "      <td>1</td>\n",
       "      <td>20.0</td>\n",
       "      <td>35.0</td>\n",
       "    </tr>\n",
       "    <tr>\n",
       "      <th>26</th>\n",
       "      <td>2022-01-02 02:00:00</td>\n",
       "      <td>0.004</td>\n",
       "      <td>0.8</td>\n",
       "      <td>0.002</td>\n",
       "      <td>0.052</td>\n",
       "      <td>35.0</td>\n",
       "      <td>26.0</td>\n",
       "      <td>-2.6</td>\n",
       "      <td>0.0</td>\n",
       "      <td>1.9</td>\n",
       "      <td>57</td>\n",
       "      <td>1</td>\n",
       "      <td>2</td>\n",
       "      <td>2</td>\n",
       "      <td>20.0</td>\n",
       "      <td>33.0</td>\n",
       "    </tr>\n",
       "    <tr>\n",
       "      <th>27</th>\n",
       "      <td>2022-01-02 03:00:00</td>\n",
       "      <td>0.004</td>\n",
       "      <td>0.6</td>\n",
       "      <td>0.002</td>\n",
       "      <td>0.046</td>\n",
       "      <td>33.0</td>\n",
       "      <td>24.0</td>\n",
       "      <td>-2.1</td>\n",
       "      <td>0.0</td>\n",
       "      <td>2.5</td>\n",
       "      <td>56</td>\n",
       "      <td>1</td>\n",
       "      <td>2</td>\n",
       "      <td>3</td>\n",
       "      <td>19.0</td>\n",
       "      <td>33.0</td>\n",
       "    </tr>\n",
       "    <tr>\n",
       "      <th>28</th>\n",
       "      <td>2022-01-02 04:00:00</td>\n",
       "      <td>0.003</td>\n",
       "      <td>0.5</td>\n",
       "      <td>0.005</td>\n",
       "      <td>0.039</td>\n",
       "      <td>33.0</td>\n",
       "      <td>25.0</td>\n",
       "      <td>-1.9</td>\n",
       "      <td>0.0</td>\n",
       "      <td>2.0</td>\n",
       "      <td>55</td>\n",
       "      <td>1</td>\n",
       "      <td>2</td>\n",
       "      <td>4</td>\n",
       "      <td>24.0</td>\n",
       "      <td>32.0</td>\n",
       "    </tr>\n",
       "  </tbody>\n",
       "</table>\n",
       "</div>"
      ],
      "text/plain": [
       "                  time    SO2   CO     O3    NO2  PM10  PM25  기온(°C)  강수량(mm)  \\\n",
       "24 2022-01-02 00:00:00  0.004  0.8  0.002  0.052  38.0  24.0    -2.8      0.0   \n",
       "25 2022-01-02 01:00:00  0.004  0.8  0.002  0.052  34.0  23.0    -2.9      0.0   \n",
       "26 2022-01-02 02:00:00  0.004  0.8  0.002  0.052  35.0  26.0    -2.6      0.0   \n",
       "27 2022-01-02 03:00:00  0.004  0.6  0.002  0.046  33.0  24.0    -2.1      0.0   \n",
       "28 2022-01-02 04:00:00  0.003  0.5  0.005  0.039  33.0  25.0    -1.9      0.0   \n",
       "\n",
       "    풍속(m/s)  습도(%)  month  day  hour  PM10_lag1  PM10_1  \n",
       "24      2.3     55      1    2     0       23.0    34.0  \n",
       "25      2.1     57      1    2     1       20.0    35.0  \n",
       "26      1.9     57      1    2     2       20.0    33.0  \n",
       "27      2.5     56      1    2     3       19.0    33.0  \n",
       "28      2.0     55      1    2     4       24.0    32.0  "
      ]
     },
     "execution_count": 55,
     "metadata": {},
     "output_type": "execute_result"
    }
   ],
   "source": [
    "#확인해보기!\n",
    "df_22.head()"
   ]
  },
  {
   "cell_type": "markdown",
   "id": "54279875-b095-4100-97b2-7fddd9488107",
   "metadata": {
    "tags": []
   },
   "source": [
    "### (2) train, test 데이터 분리 및 저장"
   ]
  },
  {
   "cell_type": "markdown",
   "id": "dependent-motion",
   "metadata": {},
   "source": [
    "* 22년도 데이터(df_22)를 train 데이터로 저장하세요. y 값을 제외하고 train_x로 저장한 후 y 값은 train_y로 저장하세요.\n",
    "* 23년도 데이터(df_23)를 test 데이터로 저장하세요. y 값을 제외하고 test_x로 저장한 후 y 값은 test_y로 저장하세요.\n",
    "* 각각의 데이터프레임을 csv 파일로 저장하세요. (train_x.csv / train_y.csv / test_x.csv / test_y.csv) (단, 인덱스 제외)\n",
    "* y값은 'PM10_1' 즉, t+1 시점의 미세먼지 농도입니다."
   ]
  },
  {
   "cell_type": "code",
   "execution_count": 56,
   "id": "92652b6b",
   "metadata": {},
   "outputs": [],
   "source": [
    "# 아래에 필요한 코드를 작성하고 결과를 확인합니다.\n",
    "\n",
    "train_x = df_22.drop(['PM10_1', 'time'], axis=1)\n",
    "train_y = df_22['PM10_1']\n",
    "test_x = df_23.drop(['PM10_1', 'time'], axis=1)\n",
    "test_y = df_23['PM10_1']"
   ]
  },
  {
   "cell_type": "code",
   "execution_count": 57,
   "id": "02ad0ed1",
   "metadata": {},
   "outputs": [],
   "source": [
    "# 각각의 데이터프레임을 csv 파일로 저장 (train_x.csv / train_y.csv / test_x.csv / test_y.csv)\n",
    "\n",
    "train_x.to_csv('train_x.csv', index = False)\n",
    "train_y.to_csv('train_y.csv', index = False)\n",
    "test_x.to_csv('test_x.csv', index = False)\n",
    "test_y.to_csv('test_y.csv', index = False)"
   ]
  },
  {
   "cell_type": "code",
   "execution_count": null,
   "id": "dc02c863-3457-4fee-b02c-a49a7dcdc935",
   "metadata": {},
   "outputs": [],
   "source": []
  }
 ],
 "metadata": {
  "kernelspec": {
   "display_name": "Python 3 (ipykernel)",
   "language": "python",
   "name": "python3"
  },
  "language_info": {
   "codemirror_mode": {
    "name": "ipython",
    "version": 3
   },
   "file_extension": ".py",
   "mimetype": "text/x-python",
   "name": "python",
   "nbconvert_exporter": "python",
   "pygments_lexer": "ipython3",
   "version": "3.11.5"
  },
  "vscode": {
   "interpreter": {
    "hash": "f08154012ddadd8e950e6e9e035c7a7b32c136e7647e9b7c77e02eb723a8bedb"
   }
  }
 },
 "nbformat": 4,
 "nbformat_minor": 5
}
