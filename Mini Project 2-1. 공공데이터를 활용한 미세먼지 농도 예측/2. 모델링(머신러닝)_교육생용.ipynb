{
 "cells": [
  {
   "cell_type": "markdown",
   "id": "2072748e",
   "metadata": {},
   "source": [
    "## **AIVLE School 미니프로젝트 5기 AI트랙 2차** ##\n",
    "## **공공데이터를 활용한 <span style=\"color:skyblue\">미세먼지 농도</span> 예측**\n",
    "---"
   ]
  },
  {
   "cell_type": "markdown",
   "id": "71d4fac7",
   "metadata": {},
   "source": [
    "## [step 3] 모델링"
   ]
  },
  {
   "cell_type": "markdown",
   "id": "428de2c9",
   "metadata": {},
   "source": [
    "## **0.프로젝트 소개**\n",
    "\n",
    "### (1) 수행 목표\n",
    "- 미세먼지 농도를 예측하는 머신러닝 모델을 만드세요."
   ]
  },
  {
   "cell_type": "markdown",
   "id": "673a15d8",
   "metadata": {},
   "source": [
    "#### 우리가 풀어야 하는 문제는 무엇인가요? \n",
    "* 서울 지역의 미세먼지 데이터와 날씨 데이터를 활용하여,\n",
    "미세먼지 예측에 관련 있는 데이터 항목으로 데이터를 구성, 전처리 하여 \n",
    "미세먼지 농도를 예측하는 머신러닝 모델 구현\n"
   ]
  },
  {
   "cell_type": "markdown",
   "id": "69494029",
   "metadata": {},
   "source": [
    "### (2) 데이터 소개\n",
    "\n",
    "#### 1) 기본 데이터\n",
    "\n",
    "* 학습 데이터\n",
    "    * air_2022.csv : 2022년 미세먼지 데이터\n",
    "    * weather_2022.csv : 2022년 날씨 데이터\n",
    "* 테스트 데이터\n",
    "    * air_2023.csv : 2023년 미세먼지 데이터\n",
    "    * weather_2023.csv : 2023년 날씨 데이터\n",
    "\n",
    "#### 2) 데이터셋의 변수 소개(weather_2022,2023)\n",
    "\n",
    "* 증기압: 증기가 고체 또는 액체와 동적 평형 상태에 있을 때 증기의 압력 (증기가 되려는 힘)\n",
    "* 이슬점 온도: 불포화 상태의 공기가 냉각될 때, 포화 상태에 도달하여 수증기의 응결이 시작되는 온도\n",
    "* 일조: 일정한 물체나 땅의 겉면에 태양 광선이 비치는 시간 (1시간 중 비율)\n",
    "* 일사(량): 태양으로부터 오는 태양 복사 에너지가 지표에 닿는 양 (면적당 에너지 량)\n",
    "* 전운량: 하늘을 육안으로 관측하여 전부 구름일 때 10, 구름이 덮고 있는 하늘의 비율에 따라 0~10\n",
    "* 중하층운량: 중층과 하층에 있는 구름의 분포량(중하층 구름이 날씨에 영향 주므로 따로 표기)\n",
    "* 운형(운형약어): 구름의 종류. 약어 코드로 기재됨\n",
    "* 최저운고: 가장 낮은 구름의 높이\n",
    "* 현상번호(국내식): 비, 소낙비, 싸락눈, 눈보라 등의 기상현상을 나타낸 코드번호\n",
    "* 지면온도: 지면 0cm 온도\n",
    "* 지중온도: 땅 속 온도변수1"
   ]
  },
  {
   "cell_type": "markdown",
   "id": "bc18a997",
   "metadata": {},
   "source": [
    "## **1.환경설정**"
   ]
  },
  {
   "cell_type": "markdown",
   "id": "aa9b0b72",
   "metadata": {},
   "source": [
    "* 세부 요구사항\n",
    "    - 경로 설정 : 다음의 두가지 방법 중 하나를 선택하여 폴더를 준비하고 데이터를 로딩하시오.\n",
    "        * 1) 로컬 수행(Ananconda)\n",
    "            * 제공된 압축파일을 다운받아 압축을 풀고\n",
    "            * anaconda의 root directory(보통 C:/Users/< ID > 에 project 폴더를 만들고, 복사해 넣습니다.\n",
    "        * 2) 구글코랩\n",
    "            * 구글 드라이브 바로 밑에 project 폴더를 만들고, \n",
    "            * 데이터 파일을 복사해 넣습니다.\n",
    "            \n",
    "    - 기본적으로 필요한 라이브러리를 import 하도록 코드가 작성되어 있습니다. \n",
    "        * 필요하다고 판단되는 라이브러리를 추가하세요."
   ]
  },
  {
   "cell_type": "markdown",
   "id": "a47552a4",
   "metadata": {},
   "source": [
    "### (1) 경로 설정\n",
    "* 로컬환경 또는 구글 코랩 중 하나를 사용하시면 됩니다."
   ]
  },
  {
   "cell_type": "markdown",
   "id": "6aac7e46",
   "metadata": {},
   "source": [
    "#### 1) 로컬 수행(Anaconda)\n",
    "* project 폴더에 필요한 파일들을 넣고, 본 파일을 열었다면, 별도 경로 지정이 필요하지 않습니다."
   ]
  },
  {
   "cell_type": "code",
   "execution_count": 1,
   "id": "dfe4ca4c",
   "metadata": {},
   "outputs": [],
   "source": [
    "path = 'C:/Users/User/project/'"
   ]
  },
  {
   "cell_type": "markdown",
   "id": "73dcba5a",
   "metadata": {},
   "source": [
    "#### 2) 구글 코랩 수행"
   ]
  },
  {
   "cell_type": "markdown",
   "id": "6c4e499c",
   "metadata": {},
   "source": [
    "* 구글 드라이브 연결"
   ]
  },
  {
   "cell_type": "code",
   "execution_count": 2,
   "id": "89670042",
   "metadata": {},
   "outputs": [],
   "source": [
    "# from google.colab import drive\n",
    "# drive.mount('/content/drive')"
   ]
  },
  {
   "cell_type": "code",
   "execution_count": 3,
   "id": "b1fa58df",
   "metadata": {},
   "outputs": [],
   "source": [
    "# path = '/content/drive/MyDrive/project/'"
   ]
  },
  {
   "cell_type": "markdown",
   "id": "effcb513",
   "metadata": {},
   "source": [
    "### (2) 라이브러리 설치 및 불러오기"
   ]
  },
  {
   "cell_type": "markdown",
   "id": "66a50a8f",
   "metadata": {},
   "source": [
    "#### 1) 라이브러리 설치 및 로딩"
   ]
  },
  {
   "cell_type": "code",
   "execution_count": 4,
   "id": "6c7ede7b",
   "metadata": {},
   "outputs": [],
   "source": [
    "# 필요한 라이브러리 설치 및 불러오기\n",
    "import pandas as pd\n",
    "import numpy as np\n",
    "import matplotlib.pyplot as plt\n",
    "import seaborn as sns\n",
    "import datetime\n",
    "\n",
    "from statsmodels.graphics.mosaicplot import mosaic\n",
    "from scipy import stats as spst\n",
    "import statsmodels.api as sm\n",
    "import joblib\n",
    "\n",
    "# 더 필요한 라이브러리를 아래에 추가합니다.\n",
    "\n",
    "import pandas as pd\n",
    "\n",
    "from sklearn.neighbors import KNeighborsRegressor\n",
    "from sklearn.linear_model import LinearRegression, Lasso, Ridge, ElasticNet\n",
    "from sklearn.tree import DecisionTreeRegressor as DTR\n",
    "from sklearn.ensemble import RandomForestRegressor as RFR\n",
    "from sklearn.ensemble import GradientBoostingRegressor as GBR\n",
    "from sklearn.metrics import mean_squared_error as mse\n",
    "from sklearn.metrics import r2_score\n",
    "from sklearn.metrics import f1_score\n",
    "from sklearn.metrics import accuracy_score as acc\n",
    "from sklearn.metrics import recall_score as recall\n",
    "import joblib"
   ]
  },
  {
   "cell_type": "code",
   "execution_count": 5,
   "id": "85064fd0",
   "metadata": {},
   "outputs": [],
   "source": [
    "# 시각화 한글폰트 설정을 위해 아래 코드를 실행하세요.\n",
    "plt.rc('font', family='Malgun Gothic')\n",
    "sns.set(font=\"Malgun Gothic\",#\"NanumGothicCoding\", \n",
    "        rc={\"axes.unicode_minus\":False}, # 마이너스 부호 깨짐 현상 해결\n",
    "        style='darkgrid')"
   ]
  },
  {
   "cell_type": "markdown",
   "id": "2c10e691",
   "metadata": {},
   "source": [
    "### (3) 데이터 불러오기\n",
    "* 주어진 데이터셋\n",
    "    * 미세먼지 및 날씨 데이터 : train_x.csv / train_y.csv / test_x.csv / test_y.csv"
   ]
  },
  {
   "cell_type": "markdown",
   "id": "23ec5bb8",
   "metadata": {},
   "source": [
    "#### 1) 데이터 로딩"
   ]
  },
  {
   "cell_type": "code",
   "execution_count": 6,
   "id": "1b9cf763",
   "metadata": {},
   "outputs": [],
   "source": [
    "# train_x.csv / train_y.csv / test_x.csv / test_y.csv 4개의 데이터 로딩\n"
   ]
  },
  {
   "cell_type": "markdown",
   "id": "bc1e7485",
   "metadata": {},
   "source": [
    "#### 2) 기본 정보 조회\n",
    "* 로딩한 데이터의 기본 정보를 확인 합니다(info 등..)"
   ]
  },
  {
   "cell_type": "code",
   "execution_count": null,
   "id": "d8cc7d75",
   "metadata": {},
   "outputs": [],
   "source": [
    "# 아래에 실습코드를 작성하고 결과를 확인합니다.\n",
    "\n"
   ]
  },
  {
   "cell_type": "markdown",
   "id": "20aaca37-89d7-4045-affa-5a510c69495e",
   "metadata": {
    "tags": []
   },
   "source": [
    "## **2.머신러닝 모델링**"
   ]
  },
  {
   "cell_type": "markdown",
   "id": "66dca0e8-a0d1-4562-8afe-3e8f85733393",
   "metadata": {
    "tags": []
   },
   "source": [
    "### (1) 모델링: LinearRegression"
   ]
  },
  {
   "cell_type": "markdown",
   "id": "joined-client",
   "metadata": {},
   "source": [
    "* Train과 Test로 나눈 데이터를 기준으로 LinearRegression 모델링을 진행하고 평가를 해주세요.\n",
    "* 그리고 모델 파일을 pkl로 저장해주세요.\n",
    "* 성능지표 : MSE, R-squared Score(소수점 5째자리까지)"
   ]
  },
  {
   "cell_type": "code",
   "execution_count": null,
   "id": "willing-disclaimer",
   "metadata": {},
   "outputs": [],
   "source": [
    "# LinearRegression 코드를 작성하세요.\n",
    "\n"
   ]
  },
  {
   "cell_type": "code",
   "execution_count": 9,
   "id": "34e3d420-703f-4de5-bd81-4b1b167318e2",
   "metadata": {},
   "outputs": [],
   "source": [
    "# predict로 예측하여 y_pred_LR에 저장해보세요.\n",
    "\n"
   ]
  },
  {
   "cell_type": "code",
   "execution_count": null,
   "id": "0a21d60f",
   "metadata": {},
   "outputs": [],
   "source": [
    "# test_y 데이터와 y_pred_LR 데이터로 성능을 평가하여 출력해보세요.\n",
    "# 성능지표는 mse와 r2를 이용하세요.\n",
    "\n"
   ]
  },
  {
   "cell_type": "code",
   "execution_count": null,
   "id": "fe2096b7",
   "metadata": {},
   "outputs": [],
   "source": [
    "# 학습한 모델을 pkl 파일로 저장해보세요.(joblib 활용)\n"
   ]
  },
  {
   "cell_type": "markdown",
   "id": "44e1265e-939a-41d6-87cd-98211da2b7d1",
   "metadata": {
    "tags": []
   },
   "source": [
    "### (2) 모델링: 랜덤포레스트"
   ]
  },
  {
   "cell_type": "markdown",
   "id": "crazy-escape",
   "metadata": {},
   "source": [
    "* 랜덤포레스트: 배깅의 일종으로 의사결정나무(Decision Tree) 여러 개를 모아서 숲을 랜덤으로 구성하고 이를 종합해서 최종 모델을 산출하는 기법\n",
    "* Train과 Test로 나눈 데이터를 기준으로 렌덤포레스트로 모델을 학습을 진행하고 평가를 해주세요.\n",
    "* 그리고 모델 파일을 pkl로 저장해주세요.\n",
    "* 성능지표 : MSE, R-squared Score(소수점 5째자리까지)"
   ]
  },
  {
   "cell_type": "code",
   "execution_count": null,
   "id": "10b33a11",
   "metadata": {},
   "outputs": [],
   "source": [
    "# 랜덤포레스트로 모델 학습 진행 하고 성능을 평가하여 출력해 보세요.\n",
    "# 성능평가는 MSE, R-Squared Score\n",
    "\n"
   ]
  },
  {
   "cell_type": "code",
   "execution_count": null,
   "id": "41971ff8",
   "metadata": {},
   "outputs": [],
   "source": [
    "# 학습한 모델을 파일로 저장해보세요.(joblib 활용)\n",
    "\n"
   ]
  },
  {
   "cell_type": "markdown",
   "id": "4b942bb3",
   "metadata": {},
   "source": [
    "### (2-1) 랜덤포레스트 feature_importances 확인\n",
    "* 렌덤포레스트로 학습한 모델의 feature_importances를 구해보세요."
   ]
  },
  {
   "cell_type": "code",
   "execution_count": null,
   "id": "e19f84b0",
   "metadata": {},
   "outputs": [],
   "source": [
    "# 렌덤포레스트로 학습한 모델의 feature_importances를 구해보세요.\n",
    "# 아래에 필요한 코드를 작성하고 결과를 확인합니다.\n",
    "\n"
   ]
  },
  {
   "cell_type": "code",
   "execution_count": null,
   "id": "7c21c320",
   "metadata": {},
   "outputs": [],
   "source": [
    "# 확인 후 알수 있었던 인사이트가 있었으면 정리해보세요!\n"
   ]
  },
  {
   "cell_type": "markdown",
   "id": "95401368-9bff-4118-b07a-92b833e33f20",
   "metadata": {
    "tags": []
   },
   "source": [
    "### (3) 모델링: GradientBoosting"
   ]
  },
  {
   "cell_type": "markdown",
   "id": "convinced-vocabulary",
   "metadata": {},
   "source": [
    "* GradientBoosting: 앞선 모델의 에러를 다음 모델의 예측 값으로 활용하면서 가중치 업데이트 하는데 경사하강법(Gradient Descent)를 활용해서 최적 모델을 만드는 기법\n",
    "* Train과 Test로 나눈 데이터를 기준으로 그라디언트부스팅으로 모델을 학습을 진행하고 평가를 해주세요.\n",
    "* 그리고 모델 파일을 pkl로 저장해주세요.\n",
    "* 성능지표 : MSE, R-squared Score(소수점 5째자리까지)"
   ]
  },
  {
   "cell_type": "code",
   "execution_count": null,
   "id": "continent-olympus",
   "metadata": {},
   "outputs": [],
   "source": [
    "# 아래에 필요한 코드를 작성하고 결과를 확인합니다.\n",
    "\n",
    "# 랜덤포레스트로 모델 학습 진행 하고 성능을 평가하여 출력해 보세요.\n",
    "# 성능평가는 MSE, R-Squared Score\n",
    "\n"
   ]
  },
  {
   "cell_type": "code",
   "execution_count": null,
   "id": "9bdccb80",
   "metadata": {},
   "outputs": [],
   "source": [
    "# 학습한 모델을 파일로 저장해보세요.(joblib 활용)\n",
    "\n",
    "\n"
   ]
  },
  {
   "cell_type": "markdown",
   "id": "803ed8fd",
   "metadata": {},
   "source": [
    "### (3-1) 그라디언트부스팅 feature_importances 확인\n",
    "* 학습한 모델의 feature_importances를 구해보세요."
   ]
  },
  {
   "cell_type": "code",
   "execution_count": null,
   "id": "8deba58d",
   "metadata": {},
   "outputs": [],
   "source": [
    "# 그라디언트부스팅으로 학습한 모델의 feature_importances를 구해보세요.\n",
    "# 아래에 필요한 코드를 작성하고 결과를 확인합니다.\n"
   ]
  },
  {
   "cell_type": "code",
   "execution_count": 21,
   "id": "9d1bfe7d",
   "metadata": {
    "tags": []
   },
   "outputs": [],
   "source": [
    "# 확인 후 알수 있었던 인사이트가 있었으면 정리해보세요!\n"
   ]
  },
  {
   "cell_type": "markdown",
   "id": "eb89852b-b155-4f0a-aaef-2a035caccda7",
   "metadata": {
    "tags": []
   },
   "source": [
    "### (4) 모델링: Self Choice Model "
   ]
  },
  {
   "cell_type": "markdown",
   "id": "305bbd5b",
   "metadata": {},
   "source": [
    "* Self Choice Model: 앞선 교육과정에서 배운 머신러닝 모델 중 어떤 것이든 좋습니다. 원하는 모델을 선택해서 학습을 시켜보세요.\n",
    "* Train과 Test로 나눈 데이터를 기준으로 Self Choice Model로 모델을 학습을 진행하고 평가를 해주세요.\n",
    "* 그리고 모델 파일을 pkl로 저장해주세요.\n",
    "* 성능지표 : MSE, R-squared Score(소수점 5째자리까지)"
   ]
  },
  {
   "cell_type": "code",
   "execution_count": null,
   "id": "a2c66605",
   "metadata": {},
   "outputs": [],
   "source": [
    "# 아래에 필요한 코드를 작성하고 결과를 확인합니다.\n"
   ]
  },
  {
   "cell_type": "code",
   "execution_count": null,
   "id": "546ac8bf",
   "metadata": {},
   "outputs": [],
   "source": [
    "# Test 데이터로 성능을 평가해보세요.\n",
    "\n"
   ]
  },
  {
   "cell_type": "code",
   "execution_count": null,
   "id": "e69d0d7c",
   "metadata": {},
   "outputs": [],
   "source": [
    "# 학습한 모델을 파일로 저장해보세요.\n",
    "\n",
    "\n"
   ]
  },
  {
   "cell_type": "code",
   "execution_count": 27,
   "id": "a8ac782c",
   "metadata": {},
   "outputs": [],
   "source": [
    "# 시간이 되면 Seif choice Model로 학습한 모델의 feature_importances를 구해보세요.\n",
    "# 확인 후 알수 있었던 인사이트가 있었으면 정리해보세요!"
   ]
  },
  {
   "cell_type": "markdown",
   "id": "cb9a8cf9",
   "metadata": {},
   "source": [
    "# 고생하셨습니다👍👍 "
   ]
  }
 ],
 "metadata": {
  "kernelspec": {
   "display_name": "Python 3 (ipykernel)",
   "language": "python",
   "name": "python3"
  },
  "language_info": {
   "codemirror_mode": {
    "name": "ipython",
    "version": 3
   },
   "file_extension": ".py",
   "mimetype": "text/x-python",
   "name": "python",
   "nbconvert_exporter": "python",
   "pygments_lexer": "ipython3",
   "version": "3.11.5"
  },
  "vscode": {
   "interpreter": {
    "hash": "f08154012ddadd8e950e6e9e035c7a7b32c136e7647e9b7c77e02eb723a8bedb"
   }
  }
 },
 "nbformat": 4,
 "nbformat_minor": 5
}
