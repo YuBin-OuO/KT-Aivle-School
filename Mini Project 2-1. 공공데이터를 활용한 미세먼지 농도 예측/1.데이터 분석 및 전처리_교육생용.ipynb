{
 "cells": [
  {
   "cell_type": "markdown",
   "id": "de21bfa8",
   "metadata": {},
   "source": [
    "## **AIVLE School 미니프로젝트 5기 AI트랙 2차** ##\n",
    "## **공공데이터를 활용한 <span style=\"color:skyblue\">미세먼지 농도</span> 예측**\n",
    "---\n",
    "## [step 1,2] 데이터 분석 및 전처리"
   ]
  },
  {
   "cell_type": "markdown",
   "id": "994d710f",
   "metadata": {},
   "source": [
    "## **0.프로젝트 소개**\n",
    "\n",
    "### (1) 수행 목표\n",
    "- 미세먼지 농도를 예측하는 머신러닝 모델을 만드세요."
   ]
  },
  {
   "cell_type": "markdown",
   "id": "7fa5e70e",
   "metadata": {},
   "source": [
    "#### 우리가 풀어야 하는 문제는 무엇인가요?\n",
    "* 서울 지역의 미세먼지 데이터와 날씨 데이터를 활용하여, 미세먼지 예측에 관련 있는 데이터 항목으로 데이터를 구성, 전처리 하여 미세먼지 농도를 예측하는 머신러닝 모델 구현"
   ]
  },
  {
   "cell_type": "markdown",
   "id": "1d40fb86",
   "metadata": {},
   "source": [
    "### (2) 데이터 소개\n",
    "\n",
    "#### 1) 기본 데이터\n",
    "\n",
    "* 학습 데이터\n",
    "    * air_2022.csv : 2022년 미세먼지 데이터\n",
    "    * weather_2022.csv : 2022년 날씨 데이터\n",
    "* 테스트 데이터\n",
    "    * air_2023.csv : 2023년 미세먼지 데이터\n",
    "    * weather_2023.csv : 2023년 날씨 데이터\n",
    "\n",
    "#### 2) 데이터셋의 변수 소개(weather_2022,2023)\n",
    "\n",
    "* 증기압: 증기가 고체 또는 액체와 동적 평형 상태에 있을 때 증기의 압력 (증기가 되려는 힘)\n",
    "* 이슬점 온도: 불포화 상태의 공기가 냉각될 때, 포화 상태에 도달하여 수증기의 응결이 시작되는 온도\n",
    "* 일조: 일정한 물체나 땅의 겉면에 태양 광선이 비치는 시간 (1시간 중 비율)\n",
    "* 일사(량): 태양으로부터 오는 태양 복사 에너지가 지표에 닿는 양 (면적당 에너지 량)\n",
    "* 전운량: 하늘을 육안으로 관측하여 전부 구름일 때 10, 구름이 덮고 있는 하늘의 비율에 따라 0~10\n",
    "* 중하층운량: 중층과 하층에 있는 구름의 분포량(중하층 구름이 날씨에 영향 주므로 따로 표기)\n",
    "* 운형(운형약어): 구름의 종류. 약어 코드로 기재됨\n",
    "* 최저운고: 가장 낮은 구름의 높이\n",
    "* 현상번호(국내식): 비, 소낙비, 싸락눈, 눈보라 등의 기상현상을 나타낸 코드번호\n",
    "* 지면온도: 지면 0cm 온도\n",
    "* 지중온도: 땅 속 온도변수1"
   ]
  },
  {
   "cell_type": "markdown",
   "id": "f16a803d",
   "metadata": {},
   "source": [
    "## **1.환경설정**"
   ]
  },
  {
   "cell_type": "markdown",
   "id": "c7bf984b",
   "metadata": {},
   "source": [
    "* 세부 요구사항\n",
    "    - 경로 설정 : 다음의 두가지 방법 중 하나를 선택하여 폴더를 준비하고 데이터를 로딩하시오.\n",
    "        * 1) 로컬 수행(Ananconda)\n",
    "            * 제공된 압축파일을 다운받아 압축을 풀고\n",
    "            * anaconda의 root directory(보통 C:/Users/< ID > 에 project 폴더를 만들고, 복사해 넣습니다.)\n",
    "        * 2) 구글 코랩\n",
    "            * 구글 드라이브 바로 밑에 project 폴더를 만들고, \n",
    "            * 데이터 파일을 복사해 넣습니다.\n",
    "            \n",
    "    - 기본적으로 필요한 라이브러리를 import 하도록 코드가 작성되어 있습니다. \n",
    "        * 필요하다고 판단되는 라이브러리를 추가하세요."
   ]
  },
  {
   "cell_type": "markdown",
   "id": "84c19f48",
   "metadata": {},
   "source": [
    "### (1) 경로 설정\n",
    "* 로컬환경 또는 구글 코랩 중 하나를 사용하시면 됩니다."
   ]
  },
  {
   "cell_type": "markdown",
   "id": "e78c8004",
   "metadata": {},
   "source": [
    "#### 1) 로컬 수행(Anaconda)\n",
    "* project 폴더에 필요한 파일들을 넣고, 본 파일을 열었다면, 별도 경로 지정이 필요하지 않습니다."
   ]
  },
  {
   "cell_type": "code",
   "execution_count": 1,
   "id": "d8859e96",
   "metadata": {},
   "outputs": [],
   "source": [
    "path = 'C:/Users/User/project/'"
   ]
  },
  {
   "cell_type": "markdown",
   "id": "c193cedf",
   "metadata": {},
   "source": [
    "#### 2) 구글 코랩 수행"
   ]
  },
  {
   "cell_type": "markdown",
   "id": "04050c09",
   "metadata": {},
   "source": [
    "* 구글 드라이브 연결"
   ]
  },
  {
   "cell_type": "code",
   "execution_count": 2,
   "id": "3f68ae36",
   "metadata": {},
   "outputs": [],
   "source": [
    "# from google.colab import drive\n",
    "# drive.mount('/content/drive')"
   ]
  },
  {
   "cell_type": "code",
   "execution_count": 3,
   "id": "580b552e",
   "metadata": {},
   "outputs": [],
   "source": [
    "# path = '/content/drive/MyDrive/project/'"
   ]
  },
  {
   "cell_type": "markdown",
   "id": "6389e527",
   "metadata": {},
   "source": [
    "### (2) 라이브러리 설치 및 불러오기"
   ]
  },
  {
   "cell_type": "markdown",
   "id": "8c33f039",
   "metadata": {},
   "source": [
    "#### 1) 라이브러리 설치 및 로딩"
   ]
  },
  {
   "cell_type": "code",
   "execution_count": 4,
   "id": "2211da40",
   "metadata": {},
   "outputs": [],
   "source": [
    "# 필요한 라이브러리 설치 및 불러오기\n",
    "\n",
    "import pandas as pd\n",
    "import numpy as np\n",
    "import matplotlib.pyplot as plt\n",
    "import seaborn as sns\n",
    "import datetime\n",
    "\n",
    "from statsmodels.graphics.mosaicplot import mosaic\n",
    "from scipy import stats as spst\n",
    "import statsmodels.api as sm\n",
    "import joblib\n",
    "\n",
    "# 더 필요한 라이브러리를 아래에 추가합니다.\n",
    "\n"
   ]
  },
  {
   "cell_type": "code",
   "execution_count": 5,
   "id": "5c1704c8",
   "metadata": {},
   "outputs": [],
   "source": [
    "# 시각화 한글폰트 설정을 위해 아래 코드를 실행하세요.\n",
    "plt.rc('font', family='Malgun Gothic')\n",
    "sns.set(font=\"Malgun Gothic\",#\"NanumGothicCoding\", \n",
    "        rc={\"axes.unicode_minus\":False}, # 마이너스 부호 깨짐 현상 해결\n",
    "        style='darkgrid')"
   ]
  },
  {
   "cell_type": "markdown",
   "id": "5f957970",
   "metadata": {},
   "source": [
    "### (3) 데이터 불러오기\n",
    "* Pandas 라이브러리를 활용해서 'air_2022.csv'파일을 'air_22' 변수에,'air_2023.csv'파일을 'air_23' 변수에 저장하고 그 데이터를 확인하세요.\n",
    "<br> ( 구분자(sep) : ',' / encoder = 'utf-8' / index_col = 0 )\n",
    "\n",
    "* Pandas 라이브러리를 활용해서 'weather_2022.csv'파일을 'weather_22' 변수에,'weather_2023.csv'파일을 'weather_23' 변수에 저장하고 그 데이터를 확인하세요.\n",
    "<br> ( 구분자(sep) : ',' / encoder = 'cp949' )"
   ]
  },
  {
   "cell_type": "markdown",
   "id": "2e32e75c",
   "metadata": {},
   "source": [
    "#### 1) 데이터로딩"
   ]
  },
  {
   "cell_type": "code",
   "execution_count": 6,
   "id": "b6a824e4",
   "metadata": {},
   "outputs": [],
   "source": [
    "# 아래에 실습코드를 작성하고 결과를 확인합니다.\n"
   ]
  },
  {
   "cell_type": "markdown",
   "id": "bb06f1cb",
   "metadata": {},
   "source": [
    "#### 2) 기본 정보 조회\n",
    "- 데이터를 head, tail. describe, info 등을 활용하여 확인하세요."
   ]
  },
  {
   "cell_type": "code",
   "execution_count": null,
   "id": "06464273",
   "metadata": {},
   "outputs": [],
   "source": [
    "# 아래에 실습코드를 작성하고 결과를 확인합니다.\n",
    "\n"
   ]
  },
  {
   "cell_type": "code",
   "execution_count": null,
   "id": "b383d687",
   "metadata": {},
   "outputs": [],
   "source": [
    "# 아래에 실습코드를 작성하고 결과를 확인합니다.\n"
   ]
  },
  {
   "cell_type": "code",
   "execution_count": null,
   "id": "6e5d2bf2",
   "metadata": {},
   "outputs": [],
   "source": [
    "# 아래에 실습코드를 작성하고 결과를 확인합니다.\n"
   ]
  },
  {
   "cell_type": "markdown",
   "id": "3d860d6b",
   "metadata": {},
   "source": [
    "## **2.EDA 1단계 - 데이터 기본 탐색 및 분석**\n",
    "\n",
    "* 단변량 분석은 데이터분석의 매우 기초적인 분석기법으로, 독립적인 개별 변수가 가지고있는 특성들을 이해하는 과정입니다.\n",
    "\n",
    "    * <span style=\"color: green\"> 개별 변수에 대해 아래 사항들을 분석해보세요. </span>\n",
    "\n",
    "        1. 변수가 내포하고 있는 의미\n",
    "        2. 변수가 수치형인지, 범주형인지\n",
    "        3. 결측치 존재 여부 및 조치 방안\n",
    "        4. 기초 통계량 확인\n",
    "        5. 데이터 분포 확인\n",
    "        6. 위 정보로부터 파악한 내용 정리\n",
    "        7. 추가 분석사항 도출"
   ]
  },
  {
   "cell_type": "markdown",
   "id": "a7f8c42f",
   "metadata": {},
   "source": [
    "### (1) 변수별 단변량 분석\n",
    "- 4 ~ 5개 변수를 선택해서 위 1~6번을 확인해보세요 (7번은 선택)"
   ]
  },
  {
   "cell_type": "markdown",
   "id": "883c8d2d",
   "metadata": {},
   "source": [
    "#### **[예시] 1) Feature1 : 측정일시**"
   ]
  },
  {
   "cell_type": "markdown",
   "id": "ef6422db",
   "metadata": {},
   "source": [
    "**1. 변수가 내포하고 있는 의미**"
   ]
  },
  {
   "cell_type": "code",
   "execution_count": 1,
   "id": "70748961",
   "metadata": {},
   "outputs": [],
   "source": [
    "# 고민하고 확인해봅시다."
   ]
  },
  {
   "cell_type": "markdown",
   "id": "a1dd9478",
   "metadata": {},
   "source": [
    "**2. 변수가 수치형인지 범주형인지**\n",
    "  - 날짜는 범주형? 수치형?"
   ]
  },
  {
   "cell_type": "code",
   "execution_count": null,
   "id": "71c2eb29",
   "metadata": {},
   "outputs": [],
   "source": [
    "# 고민하고 확인해봅시다."
   ]
  },
  {
   "cell_type": "markdown",
   "id": "e19390d9",
   "metadata": {},
   "source": [
    "**3. 변수의 결측치 존재 여부 및 조치 방안**"
   ]
  },
  {
   "cell_type": "code",
   "execution_count": null,
   "id": "ba8ccde5",
   "metadata": {},
   "outputs": [],
   "source": [
    "# 고민하고 확인해봅시다."
   ]
  },
  {
   "cell_type": "markdown",
   "id": "c4298881",
   "metadata": {},
   "source": [
    "**4.변수의 기초 통계량 확인**"
   ]
  },
  {
   "cell_type": "code",
   "execution_count": null,
   "id": "05f34abb",
   "metadata": {},
   "outputs": [],
   "source": [
    "# 고민하고 확인해봅시다."
   ]
  },
  {
   "cell_type": "markdown",
   "id": "efa6eebc",
   "metadata": {},
   "source": [
    "**5. 변수의 분포 확인**"
   ]
  },
  {
   "cell_type": "code",
   "execution_count": null,
   "id": "0bdc6ae9",
   "metadata": {},
   "outputs": [],
   "source": [
    "# 고민하고 확인해봅시다.\n"
   ]
  },
  {
   "cell_type": "markdown",
   "id": "956b9620",
   "metadata": {},
   "source": [
    "**6. 위 정보로 부터 파악한 내용 정리**"
   ]
  },
  {
   "cell_type": "code",
   "execution_count": 2,
   "id": "33b8976f",
   "metadata": {},
   "outputs": [],
   "source": [
    "# 고민하고 확인해봅시다."
   ]
  },
  {
   "cell_type": "markdown",
   "id": "762bbeca",
   "metadata": {},
   "source": [
    "-----------**아래에 추가로 3-4개의 변수를 같은 방법으로 고민해보기!** -----------------------"
   ]
  },
  {
   "cell_type": "markdown",
   "id": "a17b3d11-215a-4de6-804f-74d792f1d8ac",
   "metadata": {},
   "source": [
    "## **3.EDA 2단계 - 데이터 전처리**\n",
    "- 진행한 개별 변수 분석에 맞추어 데이터를 전처리 하겠습니다."
   ]
  },
  {
   "cell_type": "markdown",
   "id": "480d374b",
   "metadata": {},
   "source": [
    "### (1) air_22, air_23, weather_22, weather_23 데이터 전처리\n",
    "* air_22, air_23  각각 '측정일시'를 활용하여 'time'변수 생성\n",
    "    * 참고: 미세먼지 데이터는 1시-24시, 날씨 데이터는 0시-23시로 구성되어 있습니다. 미세먼지와 날씨 데이터를 time 기준으로 합치려면 기준이 동일해야 합니다. 미세먼지 데이터에서 time 변수 생성 시 이를 미리 고려(예: air_22['측정일시'] -1)하세요.\n",
    "* time 변수를 pd.to_datetime으로 데이터 타입 변경\n",
    "    * 참고: format = '%Y%m%d%H'"
   ]
  },
  {
   "cell_type": "markdown",
   "id": "c3726f76",
   "metadata": {},
   "source": [
    "#### 1) air_22, air_23 의 '측정일시'를 활용하여 'time' 변수 생성"
   ]
  },
  {
   "cell_type": "code",
   "execution_count": null,
   "id": "81775c7e",
   "metadata": {},
   "outputs": [],
   "source": [
    "# 아래에 필요한 코드를 작성하고 결과를 확인합니다.\n"
   ]
  },
  {
   "cell_type": "code",
   "execution_count": null,
   "id": "7bf0b579",
   "metadata": {},
   "outputs": [],
   "source": [
    "# 결과확인\n"
   ]
  },
  {
   "cell_type": "markdown",
   "id": "49c9d404",
   "metadata": {},
   "source": [
    "#### 2) weather_22, weather_23 의 '일시'를 활용하여 'time' 변수 생성\n",
    "* weather_22, weather_23 의 '일시'를 활용하여 'time'변수 생성\n",
    "* time 변수를 pd.to_datetime으로 데이터 타입 변경"
   ]
  },
  {
   "cell_type": "code",
   "execution_count": null,
   "id": "cc56b617",
   "metadata": {},
   "outputs": [],
   "source": [
    "# 아래에 필요한 코드를 작성하고 결과를 확인합니다.\n",
    "\n"
   ]
  },
  {
   "cell_type": "code",
   "execution_count": null,
   "id": "1228635b",
   "metadata": {},
   "outputs": [],
   "source": [
    "# 결과확인\n"
   ]
  },
  {
   "cell_type": "markdown",
   "id": "3b4d6b43",
   "metadata": {},
   "source": [
    "#### 3) 'time' 기준으로 데이터 합치기\n",
    "* 미세먼지 데이터와 날씨 데이터를 'time' 기준으로 합쳐보세요.\n",
    "    * df_22에는 'time' 기준으로 22년도 미세먼지, 날씨 데이터를 합쳐보세요.\n",
    "    * df_23에는 'time' 기준으로 23년도 미세먼지, 날씨 데이터를 합쳐보세요."
   ]
  },
  {
   "cell_type": "code",
   "execution_count": null,
   "id": "8e77f9fa",
   "metadata": {
    "tags": []
   },
   "outputs": [],
   "source": [
    "# 아래에 필요한 코드를 작성하고 결과를 확인합니다.\n"
   ]
  },
  {
   "cell_type": "code",
   "execution_count": null,
   "id": "02361a34",
   "metadata": {},
   "outputs": [],
   "source": [
    "# 결과확인\n"
   ]
  },
  {
   "cell_type": "markdown",
   "id": "1bcfb4a7",
   "metadata": {},
   "source": [
    "#### 4) 사용하지 않을 변수 제거\n",
    "\n",
    "* 머신러닝에 사용하지 않을 변수들을 제거해줍니다.\n",
    "    * df_22, df_23에 여러분들이 사용할 변수들만 넣어보세요.\n",
    "* time 변수를 index로 세팅하고 (set_index) 데이터가 정렬되어 있지 않으므로 index 기준으로 정렬하세요. (sort_index)"
   ]
  },
  {
   "cell_type": "code",
   "execution_count": null,
   "id": "ddf39400",
   "metadata": {},
   "outputs": [],
   "source": [
    "# df_22, df_23에 사용할 변수들만 할당\n"
   ]
  },
  {
   "cell_type": "code",
   "execution_count": null,
   "id": "351bed8d",
   "metadata": {
    "tags": []
   },
   "outputs": [],
   "source": [
    "# time 변수를 index로 세팅\n"
   ]
  },
  {
   "cell_type": "markdown",
   "id": "d227338e-eb0d-44e3-b847-c2f95287dab8",
   "metadata": {
    "tags": []
   },
   "source": [
    "#### 5) 변수들의 결측치 처리"
   ]
  },
  {
   "cell_type": "code",
   "execution_count": null,
   "id": "e38d021e",
   "metadata": {},
   "outputs": [],
   "source": [
    "# df_22, df_23의 결측치 확인\n",
    "\n"
   ]
  },
  {
   "cell_type": "code",
   "execution_count": null,
   "id": "d5ceccfc",
   "metadata": {},
   "outputs": [],
   "source": [
    "# df_22, df_23의 변수 중 결측치를 처리(결측치 처리 방법은 다양!)\n",
    "# 선택해서 결측치를 처리해보세요.\n",
    "\n"
   ]
  },
  {
   "cell_type": "code",
   "execution_count": null,
   "id": "f37251a9",
   "metadata": {},
   "outputs": [],
   "source": [
    "# df_22, df_23의 결측치 처리 후 재확인 해보기\n",
    "\n"
   ]
  },
  {
   "cell_type": "markdown",
   "id": "4562852f-536a-40f3-bfb3-38c725e9fdbf",
   "metadata": {
    "tags": []
   },
   "source": [
    "#### 6) 전일 같은 시간 미세먼지 농도 변수 추가\n",
    "\n",
    "* 먼저 df_22, df_23에 month, day, hour 변수를 추가하세요.\n",
    "    * 예) dt.month, dt.day, dt.hour 사용 또는 datetimeindex에서는 df.index.month 등 사용 가능\n",
    "* 모델링에 유용한 변수로 전일 같은 시간(24시간 전) 미세먼지 농도 변수를 추가하세요.\n",
    "    * 시계열 데이터 처리를 위한 shift 연산을 참고하세요."
   ]
  },
  {
   "cell_type": "code",
   "execution_count": null,
   "id": "c095d7b0",
   "metadata": {},
   "outputs": [],
   "source": [
    "# df_22, df_23의 index(time)를 month, day, hour 로 쪼개기 (year는 필요 없음).\n"
   ]
  },
  {
   "cell_type": "code",
   "execution_count": null,
   "id": "e4f3a3c9",
   "metadata": {},
   "outputs": [],
   "source": [
    "# 확인해보기\n"
   ]
  },
  {
   "cell_type": "code",
   "execution_count": null,
   "id": "4573f5f8",
   "metadata": {},
   "outputs": [],
   "source": [
    "# df_22, df_23에 전일 같은 시간 미세먼지 농도 변수 추가\n",
    "# 전일 같은 시간은 24시간 전 입니다. (shift 함수 활용)\n"
   ]
  },
  {
   "cell_type": "code",
   "execution_count": null,
   "id": "fb22ca40",
   "metadata": {},
   "outputs": [],
   "source": [
    "#확인해보기\n"
   ]
  },
  {
   "cell_type": "markdown",
   "id": "ff52b9e7-869c-41c9-8aea-817ec00d5200",
   "metadata": {
    "tags": []
   },
   "source": [
    "#### 7) t+1 시점의 미세먼지 농도 데이터 생성\n",
    "* t+1 시점은 1시간 후 입니다.\n",
    "* t+1 시점의 미세먼지 농도 변수(PM10_1)를 생성하세요.\n",
    "* t+1 시점의 미세먼지 농도는 머신러닝 모델을 통해 예측하려는 y값(target) 입니다."
   ]
  },
  {
   "cell_type": "code",
   "execution_count": null,
   "id": "b5003c89",
   "metadata": {},
   "outputs": [],
   "source": [
    "# df_22, df_23에 t+1 시점 변수(PM10_1) 추가\n",
    "# shift 함수 활용 해보기!\n",
    "\n"
   ]
  },
  {
   "cell_type": "code",
   "execution_count": null,
   "id": "14cb2489",
   "metadata": {},
   "outputs": [],
   "source": [
    "#확인해보기!\n"
   ]
  },
  {
   "cell_type": "code",
   "execution_count": null,
   "id": "b14b9b60",
   "metadata": {},
   "outputs": [],
   "source": [
    "# 결측치가 있다면 처리하고 확인해보기!\n"
   ]
  },
  {
   "cell_type": "markdown",
   "id": "54279875-b095-4100-97b2-7fddd9488107",
   "metadata": {
    "tags": []
   },
   "source": [
    "### (2) train, test 데이터 분리 및 저장"
   ]
  },
  {
   "cell_type": "markdown",
   "id": "dependent-motion",
   "metadata": {},
   "source": [
    "* 22년도 데이터(df_22)를 train 데이터로 저장하세요. y 값을 제외하고 train_x로 저장한 후 y 값은 train_y로 저장하세요.\n",
    "* 23년도 데이터(df_23)를 test 데이터로 저장하세요. y 값을 제외하고 test_x로 저장한 후 y 값은 test_y로 저장하세요.\n",
    "* 각각의 데이터프레임을 csv 파일로 저장하세요. (train_x.csv / train_y.csv / test_x.csv / test_y.csv) (단, 인덱스 제외)\n",
    "* y값은 'PM10_1' 즉, t+1 시점의 미세먼지 농도입니다."
   ]
  },
  {
   "cell_type": "code",
   "execution_count": null,
   "id": "92652b6b",
   "metadata": {},
   "outputs": [],
   "source": [
    "# 아래에 필요한 코드를 작성하고 결과를 확인합니다.\n"
   ]
  },
  {
   "cell_type": "code",
   "execution_count": null,
   "id": "02ad0ed1",
   "metadata": {},
   "outputs": [],
   "source": [
    "# 각각의 데이터프레임을 csv 파일로 저장 (train_x.csv / train_y.csv / test_x.csv / test_y.csv)\n"
   ]
  },
  {
   "cell_type": "markdown",
   "id": "65165f4c",
   "metadata": {},
   "source": [
    "# 고생하셨습니다👍👍 "
   ]
  }
 ],
 "metadata": {
  "kernelspec": {
   "display_name": "Python 3 (ipykernel)",
   "language": "python",
   "name": "python3"
  },
  "language_info": {
   "codemirror_mode": {
    "name": "ipython",
    "version": 3
   },
   "file_extension": ".py",
   "mimetype": "text/x-python",
   "name": "python",
   "nbconvert_exporter": "python",
   "pygments_lexer": "ipython3",
   "version": "3.11.5"
  },
  "vscode": {
   "interpreter": {
    "hash": "f08154012ddadd8e950e6e9e035c7a7b32c136e7647e9b7c77e02eb723a8bedb"
   }
  }
 },
 "nbformat": 4,
 "nbformat_minor": 5
}
