{
 "cells": [
  {
   "cell_type": "markdown",
   "metadata": {},
   "source": [
    "## [미니프로젝트] 악성사이트 탐지 머신러닝 모델 개발\n",
    "\n",
    "## <b>[2단계] 데이터 분석 및 전처리\n",
    "\n",
    "## ▣ 데이터 소개\n",
    "* 학습 데이터셋 : train_dataset.csv\n",
    "<br>\n",
    "\n",
    "## ▣ 학습 데이터셋의 변수 소개\n",
    "\n",
    "* url_len : URL 길이\n",
    "* url_num_hypens_dom : URL내 '-'(하이픈) 개수\n",
    "* url_path_len : URL의 경로 길이\n",
    "* url_domain_len : URL의 도메인 길이\n",
    "* url_host_name : URL의 hostname 길이\n",
    "* url_num_dots : URL내 '.'(닷) 개수\n",
    "* url_num_underscores : URL내 '_'(언더바) 개수\n",
    "* url_query_len : URL쿼리 길이\n",
    "* url_num_query_para : URL쿼리의 파라미터 개수\n",
    "* url_ip_present : URL내 IP표시 여부\n",
    "* url_entropy : URL 복잡도\n",
    "* url_chinese_present : URL내 중국어 표기 여부\n",
    "* url_port : URL내 포트 표기 여부\n",
    "* html_num_tags('iframe') : HTML내 'iframe' 태그 개수\n",
    "* html_num_tags('script') : HTML내 'script' 태그 개수\n",
    "* html_num_tags('embed') : HTML내 'embed' 태그 개수\n",
    "* html_num_tags('object') : HTML내 'object' 태그 개수\n",
    "* html_num_tags('div') : HTML내 'div' 태그 개수\n",
    "* html_num_tags('head') : HTML내 'head' 태그 개수\n",
    "* html_num_tags('body') : HTML내 'body' 태그 개수\n",
    "* html_num_tags('form') : HTML내 'form' 태그 개수\n",
    "* html_num_tags('a') : HTML내 'a' 태그 개수\n",
    "* html_num_tags('applet') : HTML내 'applet' 태그 개수\n",
    "* Result_v1 : 악성사이트 여부 컬럼 ( 'malicious'는 악성사이트, 'benign'은 정상사이트 )\n",
    "\n",
    "<br>\n",
    "\n",
    "---\n",
    "\n",
    "### **[프로세스]**\n",
    "0. 라이브러리 import 및 데이터 불러오기\n",
    "1. 데이터 분석하기\n",
    "2. 데이터 전처리하기\n",
    "\n",
    "\n",
    "---"
   ]
  },
  {
   "cell_type": "markdown",
   "metadata": {},
   "source": [
    "# <b>Step 0. 라이브러리 import 및 데이터 불러오기\n",
    "### **가. 라이브러리 import**"
   ]
  },
  {
   "cell_type": "markdown",
   "metadata": {},
   "source": [
    "* 데이터 프레임 관련 라이브러리"
   ]
  },
  {
   "cell_type": "code",
   "execution_count": null,
   "metadata": {},
   "outputs": [],
   "source": [
    "import warnings\n",
    "warnings.filterwarnings(\"ignore\")"
   ]
  },
  {
   "cell_type": "code",
   "execution_count": null,
   "metadata": {},
   "outputs": [],
   "source": [
    "# 여기에 답안코드를 작성하세요.\n",
    "\n",
    "import pandas as pd\n",
    "import numpy as np\n",
    "import matplotlib.pyplot as plt"
   ]
  },
  {
   "cell_type": "markdown",
   "metadata": {},
   "source": [
    "### **나.  학습데이터 불러오기**"
   ]
  },
  {
   "cell_type": "code",
   "execution_count": null,
   "metadata": {},
   "outputs": [],
   "source": [
    "# 여기에 답안코드를 작성하세요.\n",
    "\n",
    "\n"
   ]
  },
  {
   "cell_type": "markdown",
   "metadata": {},
   "source": [
    "# <b>Step 1. 데이터 분석하기\n",
    "---"
   ]
  },
  {
   "cell_type": "markdown",
   "metadata": {},
   "source": [
    "단변량 분석은 데이터분석의 매우 기초적인 분석기법으로, 독립적인 개별 변수가 가지고있는 특성들을 이해하는 과정입니다.\n",
    "\n",
    "## <b>Q1. 데이터 단변량 분석하기\n",
    "\n",
    "<span style=\"color: green\"> 개별 변수에 대해 아래 사항들을 분석해보세요. </span>\n",
    "\n",
    "1. 변수가 내포하고 있는 의미\n",
    "2. 변수가 수치형인지, 범주형인지\n",
    "3. 결측치 존재 여부 및 조치 방안\n",
    "4. 기초 통계량 확인\n",
    "5. 데이터 분포 확인\n",
    "6. 위 정보로부터 파악한 내용 정리\n",
    "7. 추가 분석사항 도출"
   ]
  },
  {
   "cell_type": "markdown",
   "metadata": {},
   "source": [
    "Feature별 단변량 분석"
   ]
  },
  {
   "cell_type": "code",
   "execution_count": null,
   "metadata": {},
   "outputs": [],
   "source": [
    "# 여기에 답안코드를 작성하세요.\n",
    "\n",
    "\n"
   ]
  },
  {
   "cell_type": "code",
   "execution_count": null,
   "metadata": {},
   "outputs": [],
   "source": [
    "# 여기에 답안코드를 작성하세요.\n",
    "\n",
    "\n"
   ]
  },
  {
   "cell_type": "code",
   "execution_count": null,
   "metadata": {},
   "outputs": [],
   "source": [
    "# 여기에 답안코드를 작성하세요.\n",
    "\n",
    "\n"
   ]
  },
  {
   "cell_type": "code",
   "execution_count": null,
   "metadata": {},
   "outputs": [],
   "source": [
    "# 여기에 답안코드를 작성하세요.\n",
    "\n",
    "\n"
   ]
  },
  {
   "cell_type": "markdown",
   "metadata": {},
   "source": [
    "## <b>Q2. 중복 데이터 제거\n",
    "### 우리가 접속하는 대부분의 웹사이트는 정상 사이트입니다.\n",
    "### 또한, 특정 몇 개 사이트(ex. google, instagram, facebook 등)에 접속 빈도가 높습니다.\n",
    "### 편중된 데이터는 모델 학습에 안 좋은 영향을 주기 때문에 중복 데이터 제거를 통해 해결합니다.\n",
    "### 이 과정은 데이터 전처리 시 반드시 해야 하는 과정은 아니며, 프로젝트/데이터 성격에 맞게 결정하시면 됩니다."
   ]
  },
  {
   "cell_type": "markdown",
   "metadata": {},
   "source": [
    "### <span style=\"color:darkred\">[문제1] df info()를 통해 데이터를 확인하고 중복된 데이터는 삭제해주세요. 삭제 후 info()를 통해 이전 데이터와 비교해 보세요.<span>"
   ]
  },
  {
   "cell_type": "code",
   "execution_count": null,
   "metadata": {},
   "outputs": [],
   "source": [
    "# 여기에 답안코드를 작성하세요.\n",
    "\n",
    "# 데이터 프레임의 info를 확인합니다.(Hint : dataframe.info())\n",
    "\n"
   ]
  },
  {
   "cell_type": "code",
   "execution_count": null,
   "metadata": {},
   "outputs": [],
   "source": [
    "# 여기에 답안코드를 작성하세요.\n",
    "# 중복 데이터 제거를 제거합니다. (Hint: : dataframe.drop_duplicates())\n",
    "\n",
    "\n"
   ]
  },
  {
   "cell_type": "code",
   "execution_count": null,
   "metadata": {},
   "outputs": [],
   "source": [
    "# 여기에 답안코드를 작성하세요.\n",
    "# 데이터 프레임의 info를 확인합니다.(Hint : dataframe.info())\n",
    "\n",
    "\n"
   ]
  },
  {
   "cell_type": "markdown",
   "metadata": {},
   "source": [
    "---"
   ]
  },
  {
   "cell_type": "markdown",
   "metadata": {},
   "source": [
    "## <b>Q3. 텍스트와 범주형 특성 처리\n",
    "\n",
    "### 기계가 데이터를 인식할 수 있도록 텍스트 데이터를 수치형 데이터로 변경합니다.\n",
    " - replace() 함수를 이용한 텍스트와 범주형 특성 처리"
   ]
  },
  {
   "cell_type": "markdown",
   "metadata": {},
   "source": [
    "**<span style=\"color:green\">[참고링크] 공식 Document**</span>\n",
    "\n",
    "* replace(https://pandas.pydata.org/pandas-docs/stable/reference/api/pandas.DataFrame.replace.html)\n",
    "* unique(https://pandas.pydata.org/pandas-docs/stable/reference/api/pandas.unique.html)"
   ]
  },
  {
   "cell_type": "markdown",
   "metadata": {},
   "source": [
    "### <span style=\"color:darkred\">[문제2] replace() 함수를 활용 'benign'은 0로 'malicious'은 1로 변경해주세요.  df['label'] 삭제 후 전후 데이터를 비교해 보세요.<span>"
   ]
  },
  {
   "cell_type": "code",
   "execution_count": null,
   "metadata": {},
   "outputs": [],
   "source": [
    "# 여기에 답안코드를 작성하세요.\n",
    "# 텍스트 데이터를 수치형 데이터로 변경 전 unique() 함수를 통해 유일한 값 확인\n",
    "\n",
    "\n"
   ]
  },
  {
   "cell_type": "code",
   "execution_count": null,
   "metadata": {},
   "outputs": [],
   "source": [
    "# 여기에 답안코드를 작성하세요.\n",
    "\n",
    "\n"
   ]
  },
  {
   "cell_type": "code",
   "execution_count": null,
   "metadata": {},
   "outputs": [],
   "source": [
    "# 여기에 답안코드를 작성하세요.\n",
    "# replace() 함수를 사용 텍스트 데이터를 수치형 데이터로 변경합니다.  (Hint : replace({'CA':'California','NY':'NewYork'}, inplace=True))\n",
    "\n",
    "\n"
   ]
  },
  {
   "cell_type": "code",
   "execution_count": null,
   "metadata": {
    "scrolled": true
   },
   "outputs": [],
   "source": [
    "# 여기에 답안코드를 작성하세요.\n",
    "# 텍스트 데이터를 수치형 데이터로 후 unique() 함수를 통해 유일한 값 확인\n",
    "\n",
    "\n"
   ]
  },
  {
   "cell_type": "code",
   "execution_count": null,
   "metadata": {},
   "outputs": [],
   "source": [
    "# 여기에 답안코드를 작성하세요.\n",
    "\n",
    "\n"
   ]
  },
  {
   "cell_type": "markdown",
   "metadata": {},
   "source": [
    "---"
   ]
  },
  {
   "cell_type": "markdown",
   "metadata": {},
   "source": [
    "## <b>Q4. 결측치 처리\n",
    "\n",
    "### 데이터 수집 과정에서 발생한 오류 등으로 인해 결측치가 포함된 경우가 많습니다.\n",
    "### 모델링 전에 결측치를 확인하고 이를 정제하는 과정은 필요합니다."
   ]
  },
  {
   "cell_type": "markdown",
   "metadata": {},
   "source": [
    "### <span style=\"color:darkred\">[문제3] 결측치의 존재를 확인하고 결측치가 포함된 데이터를 처리해보세요.<span>"
   ]
  },
  {
   "cell_type": "code",
   "execution_count": null,
   "metadata": {},
   "outputs": [],
   "source": [
    "# 여기에 답안코드를 작성하세요.\n",
    "# 결측치의 존재를 확인합니다. (Hint : info(),isnull().sum())\n",
    "\n",
    "\n"
   ]
  },
  {
   "cell_type": "code",
   "execution_count": null,
   "metadata": {},
   "outputs": [],
   "source": [
    "# 여기에 답안코드를 작성하세요.\n",
    "# 결측치를 적절히 처리해줍니다.\n",
    "\n"
   ]
  },
  {
   "cell_type": "code",
   "execution_count": null,
   "metadata": {},
   "outputs": [],
   "source": [
    "# 여기에 답안코드를 작성하세요.\n",
    "# 결축치의 존재를 확인합니다. (Hint : info(),isnull().sum())\n",
    "\n"
   ]
  },
  {
   "cell_type": "markdown",
   "metadata": {},
   "source": [
    "---"
   ]
  },
  {
   "cell_type": "markdown",
   "metadata": {},
   "source": [
    "## <b>Q5. 데이터 탐색을 통해 새로운 변수 추가 혹은 불필요한 변수 제거\n",
    "\n",
    "### AI모델의 성능 향상을 위해 기존의 변수를 조합해 새로운 변수를 만들어 내기도 하고\n",
    "### 데이터 분석을 통해 필요없는 변수는 삭제하는 과정이 필요 합니다."
   ]
  },
  {
   "cell_type": "markdown",
   "metadata": {},
   "source": [
    "### <span style=\"color:darkred\">[문제4] 상관관계 함수 및 데이터 시각화 등을 활용하며 데이터셋을 분석하고 컬럼을 추가/삭제 해보세요.<span>"
   ]
  },
  {
   "cell_type": "markdown",
   "metadata": {},
   "source": [
    "* <span style=\"color:darkred\">[문제4-1] 상관관계 분석<span>"
   ]
  },
  {
   "cell_type": "code",
   "execution_count": null,
   "metadata": {},
   "outputs": [],
   "source": [
    "# 여기에 답안코드를 작성하세요.\n",
    "\n",
    "\n"
   ]
  },
  {
   "cell_type": "code",
   "execution_count": null,
   "metadata": {},
   "outputs": [],
   "source": [
    "# 여기에 답안코드를 작성하세요.\n",
    "\n",
    "\n"
   ]
  },
  {
   "cell_type": "markdown",
   "metadata": {},
   "source": [
    "* <span style=\"color:darkred\">[실습4-2] 데이터 분석을 통한 불필요한 컬럼 제거<span>"
   ]
  },
  {
   "cell_type": "code",
   "execution_count": null,
   "metadata": {},
   "outputs": [],
   "source": [
    "# 여기에 답안코드를 작성하세요.\n",
    "\n",
    "\n"
   ]
  },
  {
   "cell_type": "markdown",
   "metadata": {},
   "source": [
    "---"
   ]
  },
  {
   "cell_type": "markdown",
   "metadata": {},
   "source": [
    "## <b>Q6. train_test_split을 이용하여, train_x, test_x, train_y, test_y로 데이터 분리\n",
    "\n",
    "### 모델을 학습하는 데에는 Train 데이터만 사용해야 합니다.\n",
    "### 학습에 사용하지 않은 데이터를 통해 모델을 평가해야 합니다.\n",
    "### 그러기 위해 Train / Test 데이터로 분리합니다.\n"
   ]
  },
  {
   "cell_type": "markdown",
   "metadata": {},
   "source": [
    "#### <span style=\"color:darkred\">[실습5] train_test_split 함수를 사용하여 train 데이터와 test 데이터를 분리하고 각각의 shape를 확인하세요<span>"
   ]
  },
  {
   "cell_type": "code",
   "execution_count": null,
   "metadata": {},
   "outputs": [],
   "source": [
    "# 여기에 답안코드를 작성하세요.\n",
    "\n",
    "\n"
   ]
  },
  {
   "cell_type": "code",
   "execution_count": null,
   "metadata": {},
   "outputs": [],
   "source": [
    "# 여기에 답안코드를 작성하세요.\n",
    "\n",
    "\n"
   ]
  },
  {
   "cell_type": "code",
   "execution_count": null,
   "metadata": {},
   "outputs": [],
   "source": [
    "# 여기에 답안코드를 작성하세요.\n",
    "\n",
    "\n"
   ]
  },
  {
   "cell_type": "markdown",
   "metadata": {},
   "source": [
    "---"
   ]
  },
  {
   "cell_type": "markdown",
   "metadata": {},
   "source": [
    "## <b>[3단계] 모델링\n"
   ]
  },
  {
   "cell_type": "markdown",
   "metadata": {},
   "source": [
    "\n",
    "## <b> Q7. 다양한 분류 모델 만들기\n",
    "\n",
    "* 전처리한 데이터셋을 활용해 악성사이트 여부를 판별하는 AI 분류 모델을 <font color=\"red\">최소 3개 이상 </font>만들어보세요."
   ]
  },
  {
   "cell_type": "markdown",
   "metadata": {},
   "source": [
    "* DecisionTree란? <br>\n",
    "    * 의사결정 규칙을 나무구조로 나타내어 전체 데이터를 소집단으로 분류하거나 예측하는 모델<br>\n"
   ]
  },
  {
   "cell_type": "markdown",
   "metadata": {},
   "source": [
    "**<span style=\"color:green\">[참고링크] 공식 Document**</span>\n",
    "\n",
    "* DecisionTree(https://scikit-learn.org/stable/modules/generated/sklearn.tree.DecisionTreeClassifier.html)"
   ]
  },
  {
   "cell_type": "markdown",
   "metadata": {},
   "source": [
    "\n",
    "* 주요 하이퍼 파라미터<br>\n",
    "<table align=\"left\">\n",
    "    <tr>\n",
    "        <td align=\"center\">파라미터 명</td><td align=\"center\">설명</td>\n",
    "    </tr>\n",
    "     <tr>\n",
    "        <td align=\"center\">min_samples_split</td><td>노드를 분할하기 위한 최소한의 샘플 데이터 수,  default=2</td>\n",
    "    </tr>\n",
    "    <tr>\n",
    "        <td align=\"center\">min_samples_leaf</td><td>말단 노드가 되기 위한 최소한의 샘플 데이터</td>\n",
    "    </tr>\n",
    "    <tr>\n",
    "        <td align=\"center\">max_features</td><td>최적의 분할을 위해 고려할 최대 feature 개수, default = None(데이터 세트의 모든 피처를 사용)</td>\n",
    "    </tr>\n",
    "    <tr>\n",
    "        <td align=\"center\">max_depth</td><td>트리의 최대 깊이, default=None(완벽하게 클래스 값이 결정될 때 까지 계속)</td>\n",
    "    </tr>\n",
    "    <tr>\n",
    "        <td align=\"center\">max_leaf_nodes</td><td>말단 노드의 최대 개수</td>\n",
    "    </tr>\n",
    "</table>"
   ]
  },
  {
   "cell_type": "code",
   "execution_count": null,
   "metadata": {},
   "outputs": [],
   "source": [
    "# 여기에 답안코드를 작성하세요.\n",
    "# 1. import (Hint: from sklearn.tree import DecisionTreeClassifier)\n",
    "\n",
    "\n"
   ]
  },
  {
   "cell_type": "code",
   "execution_count": null,
   "metadata": {},
   "outputs": [],
   "source": [
    "# 여기에 답안코드를 작성하세요.\n",
    "# 2.선언 (Hint: dtc = DecisionTreeClassifier())\n",
    "\n",
    "\n"
   ]
  },
  {
   "cell_type": "code",
   "execution_count": null,
   "metadata": {},
   "outputs": [],
   "source": [
    "# 여기에 답안코드를 작성하세요.\n",
    "# 3. fit(), 학습 (Hint: dtc.fit(train_x,train_y))\n",
    "\n",
    "\n"
   ]
  },
  {
   "cell_type": "code",
   "execution_count": null,
   "metadata": {},
   "outputs": [],
   "source": [
    "# 여기에 답안코드를 작성하세요.\n",
    "# 4. predict(), 예측 (Hint: dtc_pred = dtc.predict(test_x))\n",
    "\n",
    "\n"
   ]
  },
  {
   "cell_type": "code",
   "execution_count": null,
   "metadata": {},
   "outputs": [],
   "source": [
    "# 여기에 답안코드를 작성하세요.\n",
    "# train 및 test 데이터 정확도 확인 (Hint: dtc.score(test_x, test_y))\n",
    "\n",
    "\n"
   ]
  },
  {
   "cell_type": "code",
   "execution_count": null,
   "metadata": {},
   "outputs": [],
   "source": [
    "# 여기에 답안코드를 작성하세요.\n",
    "# feature_importances_ 활용 Feature(특징)별 가중치 확인\n",
    "\n",
    "\n"
   ]
  },
  {
   "cell_type": "markdown",
   "metadata": {},
   "source": [
    "---\n",
    "### Random Forest 모델을 만들어보자\n",
    "\n",
    "* RandomForest란? <br>\n",
    "    * 여러 개의 DecisionTree(결정트리)를 활용한 배깅 방식의 대표적인 알고리즘<br>\n",
    "    * 배깅과 페이스팅은 훈련 세트에서 무작위로 샘플링하여 여러 개의 예측기를 훈련<br>\n",
    "    * 참고 사이트 : https://scikit-learn.org/stable/modules/generated/sklearn.ensemble.RandomForestClassifier.html\n"
   ]
  },
  {
   "cell_type": "markdown",
   "metadata": {},
   "source": [
    "* 주요 하이퍼 파라미터<br>\n",
    "<table align=\"left\">\n",
    "    <tr>\n",
    "        <td align=\"center\">파라미터 명</td><td align=\"center\">설명</td>\n",
    "    </tr>\n",
    "     <tr>\n",
    "        <td align=\"center\">n_estimators</td><td>생성할 의사결정 나무 개수,  default=10</td>\n",
    "    </tr>\n",
    "    <tr>\n",
    "        <td align=\"center\">min_samples_split</td><td>노드를 분할하기 위한 최소한의 샘플 데이터 수, default=2</td>\n",
    "    </tr>\n",
    "    <tr>\n",
    "        <td align=\"center\">min_samples_leaf</td><td>리프노드가 되기 위해 필요한 최소한의 샘플 데이터 수</td>\n",
    "    </tr>\n",
    "    <tr>\n",
    "        <td align=\"center\">max_features</td><td>의사결정 나무 만들시에 사용하는 최대 feature 개수, default=auto</td>\n",
    "    </tr>\n",
    "    <tr>\n",
    "        <td align=\"center\">max_depth</td><td>트리의 최대 깊이, default=None</td>\n",
    "    </tr>\n",
    "    <tr>\n",
    "        <td align=\"center\">max_leaf_nodes</td><td>리프노드의 최대 개수</td>\n",
    "    </tr>\n",
    "</table>"
   ]
  },
  {
   "cell_type": "code",
   "execution_count": null,
   "metadata": {},
   "outputs": [],
   "source": [
    "# 여기에 답안코드를 작성하세요.\n",
    "# 1. import (Hint: from sklearn.ensemble import RandomForestClassifier)\n",
    "\n",
    "\n"
   ]
  },
  {
   "cell_type": "code",
   "execution_count": null,
   "metadata": {},
   "outputs": [],
   "source": [
    "# 여기에 답안코드를 작성하세요.\n",
    "# 2.선언 (Hint: rfc = RandomForestClassifier())\n",
    "\n",
    "\n"
   ]
  },
  {
   "cell_type": "code",
   "execution_count": null,
   "metadata": {},
   "outputs": [],
   "source": [
    "# 여기에 답안코드를 작성하세요.\n",
    "# 3. fit(), 학습 (Hint: rfc.fit(train_x,train_y))\n",
    "\n",
    "\n"
   ]
  },
  {
   "cell_type": "code",
   "execution_count": null,
   "metadata": {},
   "outputs": [],
   "source": [
    "# 여기에 답안코드를 작성하세요.\n",
    "# 4. predict(), 예측 (Hint: rfc_pred = rfc.predict(test_x))\n",
    "\n",
    "\n"
   ]
  },
  {
   "cell_type": "code",
   "execution_count": null,
   "metadata": {},
   "outputs": [],
   "source": [
    "# 여기에 답안코드를 작성하세요.\n",
    "# train 및 test 데이터 정확도 확인 (Hint: rfc.score(test_x, test_y))\n",
    "\n",
    "\n"
   ]
  },
  {
   "cell_type": "code",
   "execution_count": null,
   "metadata": {},
   "outputs": [],
   "source": [
    "# 여기에 답안코드를 작성하세요.\n",
    "# feature_importances_ 활용 Feature(특징)별 가중치 확인\n",
    "\n",
    "\n",
    "\n"
   ]
  },
  {
   "cell_type": "markdown",
   "metadata": {},
   "source": [
    "---\n",
    "### <b> AdaBoost 모델을 만들어보자\n",
    "\n",
    "* AdaBoost란? <br>\n",
    "    * 약한 학습기(weak learner)의 오류 데이터에 가중치를 부여하면서 부스팅을 수행하며 학습<br>\n",
    "    * 참고 사이트 : https://scikit-learn.org/stable/modules/generated/sklearn.ensemble.AdaBoostClassifier.html<br>"
   ]
  },
  {
   "cell_type": "markdown",
   "metadata": {},
   "source": [
    "* 주요 하이퍼 파라미터<br>\n",
    "<table align=\"left\">\n",
    "    <tr>\n",
    "        <td align=\"center\">파라미터 명</td><td align=\"center\">설명</td>\n",
    "    </tr>\n",
    "     <tr>\n",
    "        <td align=\"center\">base_estimators</td><td>학습에 사용하는 알고리즘, default = None(DecisionTreeClassifier 적용)</td>\n",
    "    </tr>\n",
    "    <tr>\n",
    "        <td align=\"center\">n_estimators</td><td>생성할 약한 학습기의 개수를 지정, default = 50</td>\n",
    "    </tr>\n",
    "    <tr>\n",
    "        <td align=\"center\">learning_rate</td><td>학습을 진행할 때마다 적용하는 학습률(0~1 사이의 값), default = 1</td>\n",
    "    </tr>\n",
    "</table>"
   ]
  },
  {
   "cell_type": "code",
   "execution_count": null,
   "metadata": {},
   "outputs": [],
   "source": [
    "# 여기에 답안코드를 작성하세요.\n",
    "# 1. import (Hint: from sklearn.ensemble import AdaBoostClassifier)\n",
    "\n",
    "\n"
   ]
  },
  {
   "cell_type": "code",
   "execution_count": null,
   "metadata": {},
   "outputs": [],
   "source": [
    "# 여기에 답안코드를 작성하세요.\n",
    "# 2.선언 (Hint: abc = AdaBoostClassifier())\n",
    "\n",
    "\n"
   ]
  },
  {
   "cell_type": "code",
   "execution_count": null,
   "metadata": {},
   "outputs": [],
   "source": [
    "# 여기에 답안코드를 작성하세요.\n",
    "# 3. fit(), 학습 (Hint: abc.fit(train_x,train_y))\n",
    "\n",
    "\n"
   ]
  },
  {
   "cell_type": "code",
   "execution_count": null,
   "metadata": {},
   "outputs": [],
   "source": [
    "# 여기에 답안코드를 작성하세요.\n",
    "# 4. predict(), 예측 (Hint: abc_pred = abc.predict(test_x))\n",
    "\n",
    "\n"
   ]
  },
  {
   "cell_type": "code",
   "execution_count": null,
   "metadata": {},
   "outputs": [],
   "source": [
    "# 여기에 답안코드를 작성하세요.\n",
    "# train 및 test 데이터 정확도 확인 (Hint: abc.score(test_x, test_y))\n",
    "\n",
    "\n"
   ]
  },
  {
   "cell_type": "code",
   "execution_count": null,
   "metadata": {},
   "outputs": [],
   "source": [
    "# 여기에 답안코드를 작성하세요.\n",
    "# feature_importances_ 활용 Feature(특징)별 가중치 확인\n",
    "\n",
    "\n",
    "\n"
   ]
  },
  {
   "cell_type": "markdown",
   "metadata": {},
   "source": [
    "---\n",
    "### <b> Gradient Boost 모델을 만들어보자\n",
    "\n",
    "* GradientBoost란? <br>\n",
    "    * 이전 예측기가 만든 잔여오차에 새로운 예측기를 학습<br>\n",
    "    * Gradient Boost를 발전시킨 모델이 XGBoost, Light GBM, CatBoost<br>\n",
    "    * 참고 사이트 : https://scikit-learn.org/stable/modules/generated/sklearn.ensemble.GradientBoostingClassifier.html"
   ]
  },
  {
   "cell_type": "markdown",
   "metadata": {},
   "source": [
    "* 주요 하이퍼 파라미터<br>\n",
    "<table align=\"left\">\n",
    "    <tr>\n",
    "        <td align=\"center\">파라미터 명</td><td align=\"center\">설명</td>\n",
    "    </tr>\n",
    "     <tr>\n",
    "        <td align=\"center\">n_estimators</td><td>생성할 트리의 개수, default = 100</td>\n",
    "    </tr>\n",
    "    <tr>\n",
    "        <td align=\"center\">learning_rate</td><td>학습을 진행할 때마다 적용하는 학습률(0~1 사이의 값), default = 1</td>\n",
    "    </tr>\n",
    "    <tr>\n",
    "        <td align=\"center\">loss</td><td>경사하강법에서 사용할 손실 함수 지정</td>\n",
    "    </tr>\n",
    "</table>"
   ]
  },
  {
   "cell_type": "code",
   "execution_count": null,
   "metadata": {},
   "outputs": [],
   "source": [
    "# 여기에 답안코드를 작성하세요.\n",
    "# 1. import (Hint: from sklearn.ensemble import GradientBoostingClassifier)\n",
    "\n",
    "\n"
   ]
  },
  {
   "cell_type": "code",
   "execution_count": null,
   "metadata": {},
   "outputs": [],
   "source": [
    "# 여기에 답안코드를 작성하세요.\n",
    "# 2.선언 (Hint: gbc = GradientBoostingClassifier())\n",
    "\n",
    "\n"
   ]
  },
  {
   "cell_type": "code",
   "execution_count": null,
   "metadata": {},
   "outputs": [],
   "source": [
    "# 여기에 답안코드를 작성하세요.\n",
    "# 3. fit(), 학습 (Hint: gbc.fit(train_x,train_y))\n",
    "\n",
    "\n",
    "\n"
   ]
  },
  {
   "cell_type": "code",
   "execution_count": null,
   "metadata": {},
   "outputs": [],
   "source": [
    "# 여기에 답안코드를 작성하세요.\n",
    "# 4. predict(), 예측 (Hint: gbc_pred = gbc.predict(test_x))\n",
    "\n",
    "\n"
   ]
  },
  {
   "cell_type": "code",
   "execution_count": null,
   "metadata": {},
   "outputs": [],
   "source": [
    "# 여기에 답안코드를 작성하세요.\n",
    "# train 및 test 데이터 정확도 확인 (Hint: gbc.score(test_x,test_y))\n",
    "\n",
    "\n"
   ]
  },
  {
   "cell_type": "code",
   "execution_count": null,
   "metadata": {},
   "outputs": [],
   "source": [
    "# 여기에 답안코드를 작성하세요.\n",
    "# feature_importances_ 활용 Feature(특징)별 가중치 확인\n",
    "\n",
    "\n",
    "\n"
   ]
  },
  {
   "cell_type": "markdown",
   "metadata": {},
   "source": [
    "### 딥러닝\n"
   ]
  },
  {
   "cell_type": "code",
   "execution_count": null,
   "metadata": {},
   "outputs": [],
   "source": [
    "# 다음 문항을 풀기 전에 아래 코드를 실행하세요.\n",
    "\n",
    "\n",
    "\n"
   ]
  },
  {
   "cell_type": "markdown",
   "metadata": {},
   "source": [
    "### 딥러닝 : 아래 가이드에 따라 모델링하고 학습을 진행하세요.\n",
    "* Tensoflow framework를 사용하여 딥러닝 모델을 만드세요.\n",
    "* 히든레이어(hidden layer) 2개이상으로 모델을 구성하세요.\n",
    "* dropout 비율 0.2로 Dropout 레이어 1개를 추가해 주세요.\n",
    "* 하이퍼파라미터 epochs: 30, batch_size: 16으로 설정해주세요.\n",
    "* 각 에포크마다 loss와 metrics 평가하기 위한 데이터로 test_x, test_y 사용하세요.\n",
    "* 학습정보는 history 변수에 저장해주세요"
   ]
  },
  {
   "cell_type": "code",
   "execution_count": null,
   "metadata": {},
   "outputs": [],
   "source": [
    "# 여기에 답안코드를 작성하세요.\n",
    "\n",
    "\n",
    "\n",
    "\n",
    "\n",
    "\n",
    "\n"
   ]
  },
  {
   "cell_type": "markdown",
   "metadata": {},
   "source": [
    "<br>"
   ]
  },
  {
   "cell_type": "markdown",
   "metadata": {},
   "source": [
    "### 위 딥러닝 모델의 성능을 평가하려고 합니다.\n",
    "* Matplotlib 라이브러리 활용해서 학습 accuracy와 검증 accuracy를 그래프로 표시하세요.\n",
    "* 1개의 그래프에 학습 accuracy와 검증 accuracy 2가지를 모두 표시하세요.\n",
    "* 위 2가지 각각의 범례를 'acc', 'val_macc'로 표시하세요.\n",
    "* 그래프의 타이틀은 'Accuracy'로 표시하세요.\n",
    "* X축에는 'Epochs'라고 표시하고 Y축에는 'Acc'라고 표시하세요."
   ]
  },
  {
   "cell_type": "code",
   "execution_count": null,
   "metadata": {},
   "outputs": [],
   "source": [
    "# 여기에 답안코드를 작성하세요.\n",
    "\n",
    "\n",
    "\n"
   ]
  },
  {
   "cell_type": "markdown",
   "metadata": {},
   "source": [
    "### [선택] 모든 과정을 수행한 후에는 머신러닝, 딥러닝 모델의 성능을 향상시켜보세요."
   ]
  }
 ],
 "metadata": {
  "kernelspec": {
   "display_name": "Python 3",
   "language": "python",
   "name": "python3"
  },
  "language_info": {
   "codemirror_mode": {
    "name": "ipython",
    "version": 3
   },
   "file_extension": ".py",
   "mimetype": "text/x-python",
   "name": "python",
   "nbconvert_exporter": "python",
   "pygments_lexer": "ipython3",
   "version": "3.11.5"
  },
  "vscode": {
   "interpreter": {
    "hash": "ad2bdc8ecc057115af97d19610ffacc2b4e99fae6737bb82f5d7fb13d2f2c186"
   }
  }
 },
 "nbformat": 4,
 "nbformat_minor": 4
}
