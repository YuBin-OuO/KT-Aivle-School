{
 "cells": [
  {
   "cell_type": "markdown",
   "metadata": {},
   "source": [
    "## AIVLE School 미니프로젝트\n",
    "### 악성사이트 탐지 머신러닝 모델 개발\n"
   ]
  },
  {
   "cell_type": "markdown",
   "metadata": {},
   "source": [
    "\n",
    "# <b>[1단계] 데이터 수집</b>\n",
    "\n",
    "* 1단계에서는 크롤링으로 수집한 HTML Code를 활용해 Feature를 만드는 과정을 체험합니다."
   ]
  },
  {
   "cell_type": "markdown",
   "metadata": {},
   "source": [
    "* 웹 크롤링 데이터셋 : Feature_Website.xlsx\n",
    "\n",
    "* 변수 소개 \n",
    "* html_code : 크롤링을 활용해 수집한 HTML Code 원본\n",
    "* repu : 악성사이트 여부 (malicious : 악성사이트, benign : 정상사이트)\n",
    "<br>\n",
    "---"
   ]
  },
  {
   "cell_type": "markdown",
   "metadata": {},
   "source": [
    "#### **<span style=\"color:red\">[미션 안내]</span>**\n",
    "여러분은 기업 보안팀에서 근무중인 엔지니어로써, 웹페이지에서 추출한 Feature(특징) 기반으로 악성사이트를 탐지하는 머신러닝/딥러닝 모델 개발 미션을 부여받았습니다.\n",
    "\n",
    "#### **<span style=\"color:red\">[유의 사항]</span>**\n",
    "* 각 문항의 답안코드는 반드시 '#여기에 답안코드를 작성하세요'로 표시된 cell에 작성해야 합니다.\n",
    "* 제공된 cell을 추가/삭제하고 다른 cell에 답안코드를 작성 시 채점되지 않습니다.\n",
    "* 반드시 문제에 제시된 가이드를 읽고 답안 작성하세요.\n",
    "* 문제에 변수명이 제시된 경우 반드시 해당 변수명을 사용하세요.\n",
    "* 문제와 데이터는 제3자에게 공유하거나 개인적인 용도로 사용하는 등 외부로 유출할 수 없으며 유출로 인한 책임은 응시자 본인에게 있습니다."
   ]
  },
  {
   "cell_type": "markdown",
   "metadata": {},
   "source": [
    "## <b>Step 0. 본격적인 실습 전 packages 설치\n",
    "* Beautifulsoup 라이브러리 설치\n",
    "* openpyxl 라이브러리 설치"
   ]
  },
  {
   "cell_type": "markdown",
   "metadata": {},
   "source": [
    "### **가. BeautifulSoup 라이브러리 설치**\n",
    "#### BeautifulSoup 은 HTML 및 XML 파일에서 원하는 데이터를 쉽게 Parsing 할 수 있는 Python 라이브러리\n",
    "**<span style=\"color:green\">[참고링크] 공식 Document**</span>\n",
    "* BeautifulSoup (https://www.crummy.com/software/BeautifulSoup/bs4/doc/)"
   ]
  },
  {
   "cell_type": "code",
   "execution_count": null,
   "metadata": {},
   "outputs": [],
   "source": [
    "# 여기에 답안코드를 작성하세요.\n",
    "\n",
    "!pip install bs4"
   ]
  },
  {
   "cell_type": "markdown",
   "metadata": {},
   "source": [
    "### **나. openpyxl 라이브러리 설치**\n",
    "#### openpyxl은 엑셀형식의 파일을 읽을 수 있게 해주는 파이썬 라이브러리"
   ]
  },
  {
   "cell_type": "code",
   "execution_count": null,
   "metadata": {},
   "outputs": [],
   "source": [
    "# 여기에 답안코드를 작성하세요.\n",
    "\n",
    "!pip install openpyxl==3.1.0 "
   ]
  },
  {
   "cell_type": "markdown",
   "metadata": {},
   "source": [
    "### **다. 라이브러리 Import**"
   ]
  },
  {
   "cell_type": "markdown",
   "metadata": {},
   "source": [
    "* 데이터 프레임 관련 라이브러리"
   ]
  },
  {
   "cell_type": "code",
   "execution_count": null,
   "metadata": {},
   "outputs": [],
   "source": [
    "# 여기에 답안코드를 작성하세요.\n",
    "\n",
    "import pandas as pd\n",
    "import numpy as np\n",
    "from bs4 import BeautifulSoup\n",
    "\n",
    "# from urllib.parse import urlparse"
   ]
  },
  {
   "cell_type": "markdown",
   "metadata": {},
   "source": [
    "---\n",
    "## <b>Q1. 데이터 불러오기\n",
    "### 정상/악성 HTML Code가 저장된 엑셀파일 불러오기\n",
    "- 파일명 : Feature Website.xlsx\n"
   ]
  },
  {
   "cell_type": "markdown",
   "metadata": {},
   "source": [
    "### <span style=\"color:darkred\">[실습1] Pandas 라이브러리를 활용해서 'Feature Website.xlsx'파일을 'df' 변수에 저장하고 그 info()및 head()를 통해 데이터를 확인하세요.<span>"
   ]
  },
  {
   "cell_type": "code",
   "execution_count": null,
   "metadata": {},
   "outputs": [],
   "source": [
    "# 여기에 답안코드를 작성하세요.\n",
    "# Hint : dataframe = pandas.read_excel(\"file\", engine='openpyxl')\n",
    "\n"
   ]
  },
  {
   "cell_type": "code",
   "execution_count": null,
   "metadata": {},
   "outputs": [],
   "source": [
    "# 여기에 답안코드를 작성하세요.\n",
    "# 데이터 프레임의 info를 확인합니다.(Hint : dataframe.info())\n",
    "\n"
   ]
  },
  {
   "cell_type": "code",
   "execution_count": null,
   "metadata": {},
   "outputs": [],
   "source": [
    "# 여기에 답안코드를 작성하세요.\n",
    "# 불러온 데이터를 확인합니다.(Hint : dataframe.head())\n",
    "\n"
   ]
  },
  {
   "cell_type": "markdown",
   "metadata": {},
   "source": [
    "---\n",
    "## <b>Step 1. 데이터 수집\n",
    "\n",
    "#### 주어진 데이터로만 모델링 하는 경우는 드뭅니다.\n",
    "#### 주어진 데이터 외 추가로 데이터를 수집 또는 생성해야 하는 경우가 많습니다.\n",
    "#### 이번 과정에서는 웹 크롤러를 통해 수집된 정상/악성 사이트 HTML 데이터에서\n",
    "#### BeatifulSoup 라이브러리를 활용 필요한 Feature(특징)를 추출해 보도록 하겠습니다.\n",
    "#### 정상/악성 사이트 HTML Code는 사전에 수집하여 'Feature Website.xlsx' 파일에 저장해 두었습니다.\n"
   ]
  },
  {
   "cell_type": "markdown",
   "metadata": {},
   "source": [
    "### <span style=\"color:blue\">[예시] Beatuifulsoup 라이브러리를 활용 HTML code를 출력하고 \\<title> 태그 길이를 계산합니다.<span>"
   ]
  },
  {
   "cell_type": "code",
   "execution_count": null,
   "metadata": {},
   "outputs": [],
   "source": [
    "# 여기에 답안코드를 작성하세요.\n",
    "\n"
   ]
  },
  {
   "cell_type": "markdown",
   "metadata": {},
   "source": [
    "* <span style=\"color:blue\"> \\<title> 태그 출력 및 길이 계산<span>"
   ]
  },
  {
   "cell_type": "code",
   "execution_count": null,
   "metadata": {},
   "outputs": [],
   "source": [
    "# 여기에 답안코드를 작성하세요.\n",
    "# <title> 태그 출력\n",
    "\n",
    "\n"
   ]
  },
  {
   "cell_type": "code",
   "execution_count": null,
   "metadata": {},
   "outputs": [],
   "source": [
    "# 여기에 답안코드를 작성하세요.\n",
    "# <title> 태그 길이 출력\n",
    "\n",
    "\n"
   ]
  },
  {
   "cell_type": "markdown",
   "metadata": {},
   "source": [
    "---"
   ]
  },
  {
   "cell_type": "markdown",
   "metadata": {},
   "source": [
    "## <b>Q2. html 에서 \\<script>...\\</script> 태그 길이 계산\n",
    "- BeautifulSoup으로 html소스를 python 객체로 변환\n",
    "- 함수로 구현하기\n",
    "- float으로 return 받기"
   ]
  },
  {
   "cell_type": "markdown",
   "metadata": {},
   "source": [
    "### <span style=\"color:darkred\">[실습2] Beatuifulsoup 라이브러리를 활용 HTML code에서 \\<script> 태그 길이를 계산하는 함수를 완성하고 결과를 확인하세요.<span>"
   ]
  },
  {
   "cell_type": "code",
   "execution_count": null,
   "metadata": {},
   "outputs": [],
   "source": [
    "# 여기에 답안코드를 작성하세요.\n",
    "# Feature(특징) 데이터를 추출는 함수를 작성합니다. (Hint : soup.script)\n",
    "\n",
    "\n",
    "\n",
    "\n"
   ]
  },
  {
   "cell_type": "code",
   "execution_count": null,
   "metadata": {},
   "outputs": [],
   "source": [
    "# 여기에 답안코드를 작성하세요.\n",
    "# 데이터 프레임의 html_code 컬럼에서 Feature(특징) 데이터를 추출합니다.\n",
    "\n",
    "\n",
    "\n"
   ]
  },
  {
   "cell_type": "code",
   "execution_count": null,
   "metadata": {},
   "outputs": [],
   "source": [
    "# 여기에 답안코드를 작성하세요.\n",
    "# 추출한 Feature(특징) 데이터를 확인합니다.(Hint : dataframe)\n"
   ]
  },
  {
   "cell_type": "markdown",
   "metadata": {},
   "source": [
    "---"
   ]
  },
  {
   "cell_type": "markdown",
   "metadata": {},
   "source": [
    "## <b>Q3. html에서 공백 수 계산\n",
    "\n",
    "- BeautifulSoup으로 html소스를 python 객체로 변환\n",
    "- 함수로 구현하기\n",
    "- float으로 return 받기"
   ]
  },
  {
   "cell_type": "markdown",
   "metadata": {},
   "source": [
    "### <span style=\"color:darkred\">[실습3] Beatuifulsoup 라이브러리를 활용 HTML Code에서 \\<html> 태그 공백 수를 계산하는 함수를 완성하고 결과를 확인하세요.<span>"
   ]
  },
  {
   "cell_type": "code",
   "execution_count": null,
   "metadata": {},
   "outputs": [],
   "source": [
    "# 여기에 답안코드를 작성하세요.\n",
    "# Feature(특징) 데이터를 추출하는 함수를 작성합니다. (Hint : soup.body.text.count)\n",
    "\n",
    "\n"
   ]
  },
  {
   "cell_type": "code",
   "execution_count": null,
   "metadata": {},
   "outputs": [],
   "source": [
    "# 여기에 답안코드를 작성하세요.\n",
    "# 데이터 프레임의 html_code 컬럼에서 Feature(특징) 데이터를 추출합니다.\n",
    "\n",
    "\n",
    "\n"
   ]
  },
  {
   "cell_type": "code",
   "execution_count": null,
   "metadata": {},
   "outputs": [],
   "source": [
    "# 여기에 답안코드를 작성하세요.\n",
    "# 추출한 Feature(특징) 데이터를 확인합니다.(Hint : dataframe)\n",
    "\n"
   ]
  },
  {
   "cell_type": "markdown",
   "metadata": {},
   "source": [
    "---"
   ]
  },
  {
   "cell_type": "markdown",
   "metadata": {},
   "source": [
    "## <b>Q4. html 에서 body 길이 계산\n",
    "\n",
    "- BeautifulSoup으로 html소스를 python 객체로 변환\n",
    "- 함수로 구현하기\n",
    "- float으로 return 받기"
   ]
  },
  {
   "cell_type": "markdown",
   "metadata": {},
   "source": [
    "### <span style=\"color:darkred\">[실습4] Beatuifulsoup 라이브러리를 활용 HTML code에서 \\<body> 태그 길이를 계산하는 함수를 완성하고 결과를 확인하세요.<span>"
   ]
  },
  {
   "cell_type": "code",
   "execution_count": null,
   "metadata": {},
   "outputs": [],
   "source": [
    "# 여기에 답안코드를 작성하세요.\n",
    "# Feature(특징) 데이터를 추출하는 함수를 작성합니다.\n",
    "\n",
    "\n",
    "\n"
   ]
  },
  {
   "cell_type": "code",
   "execution_count": null,
   "metadata": {},
   "outputs": [],
   "source": [
    "# 여기에 답안코드를 작성하세요.\n",
    "# 데이터 프레임의 html_code 컬럼에서 Feature(특징) 데이터를 추출합니다.\n",
    "\n",
    "\n",
    "\n",
    "\n"
   ]
  },
  {
   "cell_type": "code",
   "execution_count": null,
   "metadata": {},
   "outputs": [],
   "source": [
    "# 여기에 답안코드를 작성하세요.\n",
    "# 추출한 Feature(특징) 데이터를 확인합니다.\n",
    "\n",
    "\n"
   ]
  },
  {
   "cell_type": "markdown",
   "metadata": {},
   "source": [
    "---"
   ]
  },
  {
   "cell_type": "markdown",
   "metadata": {},
   "source": [
    "## <b>Q5. script 에서 src, href 속성을 가진 태그수\n",
    "\n",
    "- BeautifulSoup으로 html소스를 python 객체로 변환\n",
    "- 함수로 구현하기\n",
    "- float으로 return 받기"
   ]
  },
  {
   "cell_type": "markdown",
   "metadata": {},
   "source": [
    "### <span style=\"color:darkred\">[실습5] Beatuifulsoup 라이브러리를 활용 HTML code에서 \\<script> 태그에서 src, href 속성을 가진 태그수를 계산하는 함수를 완성하고 <span>\n",
    "### <span style=\"color:darkred\">   결과를 확인하세요.<span>"
   ]
  },
  {
   "cell_type": "code",
   "execution_count": null,
   "metadata": {},
   "outputs": [],
   "source": [
    "# 여기에 답안코드를 작성하세요.\n",
    "# Feature(특징) 데이터를 추출는 함수를 작성합니다. (Hint : soup.findAll('script', {\"src\": True}))\n",
    "\n",
    "\n",
    "\n"
   ]
  },
  {
   "cell_type": "code",
   "execution_count": null,
   "metadata": {},
   "outputs": [],
   "source": [
    "# 여기에 답안코드를 작성하세요.\n",
    "# 데이터 프레임의 html_code 컬럼에서 Feature(특징) 데이터를 추출합니다\n",
    "\n",
    "\n",
    "\n"
   ]
  },
  {
   "cell_type": "code",
   "execution_count": null,
   "metadata": {},
   "outputs": [],
   "source": [
    "# 여기에 답안코드를 작성하세요.\n",
    "# 추출한 Feature(특징) 데이터를 확인합니다.(Hint : dataframe)\n",
    "\n",
    "\n"
   ]
  }
 ],
 "metadata": {
  "kernelspec": {
   "display_name": "Python 3",
   "language": "python",
   "name": "python3"
  },
  "language_info": {
   "codemirror_mode": {
    "name": "ipython",
    "version": 3
   },
   "file_extension": ".py",
   "mimetype": "text/x-python",
   "name": "python",
   "nbconvert_exporter": "python",
   "pygments_lexer": "ipython3",
   "version": "3.11.5"
  },
  "vscode": {
   "interpreter": {
    "hash": "f08154012ddadd8e950e6e9e035c7a7b32c136e7647e9b7c77e02eb723a8bedb"
   }
  }
 },
 "nbformat": 4,
 "nbformat_minor": 4
}
