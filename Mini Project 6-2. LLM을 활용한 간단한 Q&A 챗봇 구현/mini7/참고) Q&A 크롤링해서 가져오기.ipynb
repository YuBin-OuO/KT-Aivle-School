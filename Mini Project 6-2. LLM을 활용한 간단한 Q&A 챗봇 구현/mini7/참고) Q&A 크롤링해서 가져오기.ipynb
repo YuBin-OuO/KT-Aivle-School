{
 "cells": [
  {
   "cell_type": "code",
   "execution_count": 4,
   "metadata": {},
   "outputs": [],
   "source": [
    "# !pip install selenium"
   ]
  },
  {
   "cell_type": "code",
   "execution_count": 5,
   "metadata": {},
   "outputs": [],
   "source": [
    "from selenium import webdriver\n",
    "from selenium.webdriver.common.keys import Keys\n",
    "from selenium.webdriver.common.by import By\n",
    "from selenium.webdriver.support.ui import WebDriverWait\n",
    "from selenium.webdriver.support import expected_conditions as EC\n",
    "\n",
    "import time\n",
    "import pandas as pd"
   ]
  },
  {
   "cell_type": "code",
   "execution_count": 6,
   "metadata": {},
   "outputs": [],
   "source": [
    "driver = webdriver.Chrome()\n"
   ]
  },
  {
   "cell_type": "code",
   "execution_count": 7,
   "metadata": {},
   "outputs": [],
   "source": [
    "driver.get('https://aivle.kt.co.kr/home/brd/faq/main?mcd=MC00000056')"
   ]
  },
  {
   "cell_type": "code",
   "execution_count": 8,
   "metadata": {},
   "outputs": [
    {
     "ename": "KeyboardInterrupt",
     "evalue": "",
     "output_type": "error",
     "traceback": [
      "\u001b[1;31m---------------------------------------------------------------------------\u001b[0m",
      "\u001b[1;31mKeyboardInterrupt\u001b[0m                         Traceback (most recent call last)",
      "Cell \u001b[1;32mIn[8], line 6\u001b[0m\n\u001b[0;32m      4\u001b[0m \u001b[38;5;28;01mwhile\u001b[39;00m \u001b[38;5;28;01mTrue\u001b[39;00m:\n\u001b[0;32m      5\u001b[0m     \u001b[38;5;28;01mtry\u001b[39;00m:\n\u001b[1;32m----> 6\u001b[0m         gubun \u001b[38;5;241m=\u001b[39m \u001b[43mWebDriverWait\u001b[49m\u001b[43m(\u001b[49m\u001b[43mdriver\u001b[49m\u001b[43m,\u001b[49m\u001b[43m \u001b[49m\u001b[38;5;241;43m10\u001b[39;49m\u001b[43m)\u001b[49m\u001b[38;5;241;43m.\u001b[39;49m\u001b[43muntil\u001b[49m\u001b[43m(\u001b[49m\u001b[43mEC\u001b[49m\u001b[38;5;241;43m.\u001b[39;49m\u001b[43mpresence_of_element_located\u001b[49m\u001b[43m(\u001b[49m\u001b[43m(\u001b[49m\u001b[43mBy\u001b[49m\u001b[38;5;241;43m.\u001b[39;49m\u001b[43mXPATH\u001b[49m\u001b[43m,\u001b[49m\u001b[43m \u001b[49m\u001b[38;5;124;43mf\u001b[39;49m\u001b[38;5;124;43m'\u001b[39;49m\u001b[38;5;124;43m//*[@id=\u001b[39;49m\u001b[38;5;124;43m\"\u001b[39;49m\u001b[38;5;124;43mfaqList\u001b[39;49m\u001b[38;5;124;43m\"\u001b[39;49m\u001b[38;5;124;43m]/li[\u001b[39;49m\u001b[38;5;132;43;01m{\u001b[39;49;00m\u001b[43midx\u001b[49m\u001b[38;5;132;43;01m}\u001b[39;49;00m\u001b[38;5;124;43m]/div[1]/p[1]/span\u001b[39;49m\u001b[38;5;124;43m'\u001b[39;49m\u001b[43m)\u001b[49m\u001b[43m)\u001b[49m\u001b[43m)\u001b[49m\u001b[38;5;241m.\u001b[39mtext\n\u001b[0;32m      7\u001b[0m         qa \u001b[38;5;241m=\u001b[39m WebDriverWait(driver, \u001b[38;5;241m10\u001b[39m)\u001b[38;5;241m.\u001b[39muntil(EC\u001b[38;5;241m.\u001b[39mpresence_of_element_located((By\u001b[38;5;241m.\u001b[39mXPATH, \u001b[38;5;124mf\u001b[39m\u001b[38;5;124m'\u001b[39m\u001b[38;5;124m//*[@id=\u001b[39m\u001b[38;5;124m\"\u001b[39m\u001b[38;5;124mfaqList\u001b[39m\u001b[38;5;124m\"\u001b[39m\u001b[38;5;124m]/li[\u001b[39m\u001b[38;5;132;01m{\u001b[39;00midx\u001b[38;5;132;01m}\u001b[39;00m\u001b[38;5;124m]/div[1]/p[2]\u001b[39m\u001b[38;5;124m'\u001b[39m)))\n\u001b[0;32m      8\u001b[0m         qa\u001b[38;5;241m.\u001b[39mclick()\n",
      "File \u001b[1;32mc:\\Users\\User\\anaconda3\\envs\\qa_system\\Lib\\site-packages\\selenium\\webdriver\\support\\wait.py:102\u001b[0m, in \u001b[0;36mWebDriverWait.until\u001b[1;34m(self, method, message)\u001b[0m\n\u001b[0;32m    100\u001b[0m     screen \u001b[38;5;241m=\u001b[39m \u001b[38;5;28mgetattr\u001b[39m(exc, \u001b[38;5;124m\"\u001b[39m\u001b[38;5;124mscreen\u001b[39m\u001b[38;5;124m\"\u001b[39m, \u001b[38;5;28;01mNone\u001b[39;00m)\n\u001b[0;32m    101\u001b[0m     stacktrace \u001b[38;5;241m=\u001b[39m \u001b[38;5;28mgetattr\u001b[39m(exc, \u001b[38;5;124m\"\u001b[39m\u001b[38;5;124mstacktrace\u001b[39m\u001b[38;5;124m\"\u001b[39m, \u001b[38;5;28;01mNone\u001b[39;00m)\n\u001b[1;32m--> 102\u001b[0m time\u001b[38;5;241m.\u001b[39msleep(\u001b[38;5;28mself\u001b[39m\u001b[38;5;241m.\u001b[39m_poll)\n\u001b[0;32m    103\u001b[0m \u001b[38;5;28;01mif\u001b[39;00m time\u001b[38;5;241m.\u001b[39mmonotonic() \u001b[38;5;241m>\u001b[39m end_time:\n\u001b[0;32m    104\u001b[0m     \u001b[38;5;28;01mbreak\u001b[39;00m\n",
      "\u001b[1;31mKeyboardInterrupt\u001b[0m: "
     ]
    }
   ],
   "source": [
    "gubun_list = []\n",
    "qa_list = []\n",
    "idx = 1\n",
    "while True:\n",
    "    try:\n",
    "        gubun = WebDriverWait(driver, 10).until(EC.presence_of_element_located((By.XPATH, f'//*[@id=\"faqList\"]/li[{idx}]/div[1]/p[1]/span'))).text\n",
    "        qa = WebDriverWait(driver, 10).until(EC.presence_of_element_located((By.XPATH, f'//*[@id=\"faqList\"]/li[{idx}]/div[1]/p[2]')))\n",
    "        qa.click()\n",
    "        data = WebDriverWait(driver, 10).until(EC.presence_of_element_located((By.XPATH, f'//*[@id=\"faqList\"]/li[{idx}]/div[2]'))).text\n",
    "        gubun_list.append(gubun)\n",
    "        qa_list.append(qa.text + \"\\n\" + data)\n",
    "        if idx % 10 == 0:\n",
    "            qa = WebDriverWait(driver, 10).until(EC.presence_of_element_located((By.XPATH, '//*[@id=\"btn\"]/a'))).click()\n",
    "        idx += 1\n",
    "    except Exception as e:\n",
    "        print(e)\n",
    "        driver.quit()"
   ]
  },
  {
   "cell_type": "code",
   "execution_count": 9,
   "metadata": {},
   "outputs": [],
   "source": [
    "df = pd.DataFrame()\n",
    "df['gubun'] = gubun_list\n",
    "df['qa'] = qa_list\n",
    "df['qa'] = df['qa'].str[3:].str.strip()\n",
    "df.to_csv('qa.csv', encoding='utf-8-sig', index=False)\n"
   ]
  },
  {
   "cell_type": "code",
   "execution_count": 10,
   "metadata": {},
   "outputs": [
    {
     "data": {
      "text/html": [
       "<div>\n",
       "<style scoped>\n",
       "    .dataframe tbody tr th:only-of-type {\n",
       "        vertical-align: middle;\n",
       "    }\n",
       "\n",
       "    .dataframe tbody tr th {\n",
       "        vertical-align: top;\n",
       "    }\n",
       "\n",
       "    .dataframe thead th {\n",
       "        text-align: right;\n",
       "    }\n",
       "</style>\n",
       "<table border=\"1\" class=\"dataframe\">\n",
       "  <thead>\n",
       "    <tr style=\"text-align: right;\">\n",
       "      <th></th>\n",
       "      <th>gubun</th>\n",
       "      <th>qa</th>\n",
       "    </tr>\n",
       "  </thead>\n",
       "  <tbody>\n",
       "    <tr>\n",
       "      <th>0</th>\n",
       "      <td>모집/선발</td>\n",
       "      <td>최종 학력 또는 전공과 관계없이 지원할 수 있나요?\\nKT 에이블스쿨은 정규 4년제...</td>\n",
       "    </tr>\n",
       "    <tr>\n",
       "      <th>1</th>\n",
       "      <td>모집/선발</td>\n",
       "      <td>35세 이상은 지원할 수 없나요?\\n본 교육 과정은 34세 이하를 대상으로 하는 교...</td>\n",
       "    </tr>\n",
       "    <tr>\n",
       "      <th>2</th>\n",
       "      <td>모집/선발</td>\n",
       "      <td>미취업자의 기준이 뭔가요?\\n미취업자의 기준은 아래와 같습니다.\\n1) 기간의 정함...</td>\n",
       "    </tr>\n",
       "    <tr>\n",
       "      <th>3</th>\n",
       "      <td>모집/선발</td>\n",
       "      <td>직장인도 지원할 수 있나요?\\nKT 에이블스쿨은 미취업자를 대상으로 하며, 교육 시...</td>\n",
       "    </tr>\n",
       "    <tr>\n",
       "      <th>4</th>\n",
       "      <td>모집/선발</td>\n",
       "      <td>아르바이트를 하고 있는데 지원할 수 있나요?\\n고용보험에 가입이 되어 있는 경우 1...</td>\n",
       "    </tr>\n",
       "    <tr>\n",
       "      <th>...</th>\n",
       "      <td>...</td>\n",
       "      <td>...</td>\n",
       "    </tr>\n",
       "    <tr>\n",
       "      <th>63</th>\n",
       "      <td>기타</td>\n",
       "      <td>AICE (기존 AIFB) 자격증이 있어야 유리한가요?\\n네. AICE (기존 AI...</td>\n",
       "    </tr>\n",
       "    <tr>\n",
       "      <th>64</th>\n",
       "      <td>기타</td>\n",
       "      <td>AICE 시험관련 문의는 어디에 해야하나요?\\nhelp@aice.study 으로 문...</td>\n",
       "    </tr>\n",
       "    <tr>\n",
       "      <th>65</th>\n",
       "      <td>기타</td>\n",
       "      <td>국민취업지원제도를 신청하고 싶습니다.\\n국민취업지원제도 신청과 관련 사항은 거주지 ...</td>\n",
       "    </tr>\n",
       "    <tr>\n",
       "      <th>66</th>\n",
       "      <td>기타</td>\n",
       "      <td>국민취업지원제도를 안해도 교육 참여되나요?\\n국민취업제도를 신청하지 않아도 KT 에...</td>\n",
       "    </tr>\n",
       "    <tr>\n",
       "      <th>67</th>\n",
       "      <td>기타</td>\n",
       "      <td>국민취업지원제도 관련 직업훈련탐색표가 필요합니다.\\n직업훈련탐색표는 고용센터 또는 ...</td>\n",
       "    </tr>\n",
       "  </tbody>\n",
       "</table>\n",
       "<p>68 rows × 2 columns</p>\n",
       "</div>"
      ],
      "text/plain": [
       "    gubun                                                 qa\n",
       "0   모집/선발  최종 학력 또는 전공과 관계없이 지원할 수 있나요?\\nKT 에이블스쿨은 정규 4년제...\n",
       "1   모집/선발  35세 이상은 지원할 수 없나요?\\n본 교육 과정은 34세 이하를 대상으로 하는 교...\n",
       "2   모집/선발  미취업자의 기준이 뭔가요?\\n미취업자의 기준은 아래와 같습니다.\\n1) 기간의 정함...\n",
       "3   모집/선발  직장인도 지원할 수 있나요?\\nKT 에이블스쿨은 미취업자를 대상으로 하며, 교육 시...\n",
       "4   모집/선발  아르바이트를 하고 있는데 지원할 수 있나요?\\n고용보험에 가입이 되어 있는 경우 1...\n",
       "..    ...                                                ...\n",
       "63     기타  AICE (기존 AIFB) 자격증이 있어야 유리한가요?\\n네. AICE (기존 AI...\n",
       "64     기타  AICE 시험관련 문의는 어디에 해야하나요?\\nhelp@aice.study 으로 문...\n",
       "65     기타  국민취업지원제도를 신청하고 싶습니다.\\n국민취업지원제도 신청과 관련 사항은 거주지 ...\n",
       "66     기타  국민취업지원제도를 안해도 교육 참여되나요?\\n국민취업제도를 신청하지 않아도 KT 에...\n",
       "67     기타  국민취업지원제도 관련 직업훈련탐색표가 필요합니다.\\n직업훈련탐색표는 고용센터 또는 ...\n",
       "\n",
       "[68 rows x 2 columns]"
      ]
     },
     "execution_count": 10,
     "metadata": {},
     "output_type": "execute_result"
    }
   ],
   "source": [
    "df"
   ]
  },
  {
   "cell_type": "code",
   "execution_count": null,
   "metadata": {},
   "outputs": [],
   "source": []
  }
 ],
 "metadata": {
  "kernelspec": {
   "display_name": "qa_system",
   "language": "python",
   "name": "python3"
  },
  "language_info": {
   "codemirror_mode": {
    "name": "ipython",
    "version": 3
   },
   "file_extension": ".py",
   "mimetype": "text/x-python",
   "name": "python",
   "nbconvert_exporter": "python",
   "pygments_lexer": "ipython3",
   "version": "3.11.9"
  }
 },
 "nbformat": 4,
 "nbformat_minor": 2
}
